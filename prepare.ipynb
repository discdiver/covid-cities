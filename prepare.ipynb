{
 "cells": [
  {
   "cell_type": "markdown",
   "metadata": {},
   "source": [
    "## Covid data for the counties I care about\n",
    "\n",
    "The Washington Post has convenient data by state. I care about Washington DC, where I live, and how certain other locations are doing. The state-level data is not fine-grained enough for me. MSA and county level data are available online, but overwelming and not easily filterable to what I want. I'm creating this tool to provide historic data at the county level. I will use plotly for interactive visualizations and serve the website via FastAPI or put into Streamlit. I'll use GitHub actions and Prefect to fetch the data and make sure everything runs okay. I'll use Great Expectations for data quality checking and PyTest to check my code. \n",
    "\n",
    "I may use DVC to version my data.\n",
    "\n",
    "At some later date, I may make an app that allows other users to choose which counties they want to include."
   ]
  },
  {
   "cell_type": "markdown",
   "metadata": {},
   "source": [
    "Imports and config"
   ]
  },
  {
   "cell_type": "code",
   "execution_count": 20,
   "metadata": {},
   "outputs": [],
   "source": [
    "import pandas as pd\n",
    "import plotly.express as px\n",
    "\n",
    "pd.options.display.max_rows = 100\n"
   ]
  },
  {
   "cell_type": "markdown",
   "metadata": {},
   "source": [
    "Read in data"
   ]
  },
  {
   "cell_type": "code",
   "execution_count": 2,
   "metadata": {},
   "outputs": [
    {
     "data": {
      "text/html": [
       "<div>\n",
       "<style scoped>\n",
       "    .dataframe tbody tr th:only-of-type {\n",
       "        vertical-align: middle;\n",
       "    }\n",
       "\n",
       "    .dataframe tbody tr th {\n",
       "        vertical-align: top;\n",
       "    }\n",
       "\n",
       "    .dataframe thead th {\n",
       "        text-align: right;\n",
       "    }\n",
       "</style>\n",
       "<table border=\"1\" class=\"dataframe\">\n",
       "  <thead>\n",
       "    <tr style=\"text-align: right;\">\n",
       "      <th></th>\n",
       "      <th>geoid</th>\n",
       "      <th>county</th>\n",
       "      <th>state</th>\n",
       "      <th>cases</th>\n",
       "      <th>cases_avg</th>\n",
       "      <th>cases_avg_per_100k</th>\n",
       "      <th>deaths</th>\n",
       "      <th>deaths_avg</th>\n",
       "      <th>deaths_avg_per_100k</th>\n",
       "    </tr>\n",
       "    <tr>\n",
       "      <th>date</th>\n",
       "      <th></th>\n",
       "      <th></th>\n",
       "      <th></th>\n",
       "      <th></th>\n",
       "      <th></th>\n",
       "      <th></th>\n",
       "      <th></th>\n",
       "      <th></th>\n",
       "      <th></th>\n",
       "    </tr>\n",
       "  </thead>\n",
       "  <tbody>\n",
       "    <tr>\n",
       "      <th>2022-01-01</th>\n",
       "      <td>USA-72999</td>\n",
       "      <td>Unknown</td>\n",
       "      <td>Puerto Rico</td>\n",
       "      <td>0</td>\n",
       "      <td>328.14</td>\n",
       "      <td>NaN</td>\n",
       "      <td>0</td>\n",
       "      <td>0.00</td>\n",
       "      <td>NaN</td>\n",
       "    </tr>\n",
       "    <tr>\n",
       "      <th>2022-01-01</th>\n",
       "      <td>USA-72153</td>\n",
       "      <td>Yauco</td>\n",
       "      <td>Puerto Rico</td>\n",
       "      <td>0</td>\n",
       "      <td>66.50</td>\n",
       "      <td>196.40</td>\n",
       "      <td>0</td>\n",
       "      <td>0.00</td>\n",
       "      <td>0.00</td>\n",
       "    </tr>\n",
       "    <tr>\n",
       "      <th>2022-01-01</th>\n",
       "      <td>USA-72151</td>\n",
       "      <td>Yabucoa</td>\n",
       "      <td>Puerto Rico</td>\n",
       "      <td>0</td>\n",
       "      <td>63.13</td>\n",
       "      <td>196.30</td>\n",
       "      <td>0</td>\n",
       "      <td>0.00</td>\n",
       "      <td>0.00</td>\n",
       "    </tr>\n",
       "    <tr>\n",
       "      <th>2022-01-01</th>\n",
       "      <td>USA-72149</td>\n",
       "      <td>Villalba</td>\n",
       "      <td>Puerto Rico</td>\n",
       "      <td>0</td>\n",
       "      <td>47.50</td>\n",
       "      <td>221.18</td>\n",
       "      <td>0</td>\n",
       "      <td>0.00</td>\n",
       "      <td>0.00</td>\n",
       "    </tr>\n",
       "    <tr>\n",
       "      <th>2022-01-01</th>\n",
       "      <td>USA-72147</td>\n",
       "      <td>Vieques</td>\n",
       "      <td>Puerto Rico</td>\n",
       "      <td>0</td>\n",
       "      <td>7.63</td>\n",
       "      <td>91.16</td>\n",
       "      <td>0</td>\n",
       "      <td>0.00</td>\n",
       "      <td>0.00</td>\n",
       "    </tr>\n",
       "    <tr>\n",
       "      <th>...</th>\n",
       "      <td>...</td>\n",
       "      <td>...</td>\n",
       "      <td>...</td>\n",
       "      <td>...</td>\n",
       "      <td>...</td>\n",
       "      <td>...</td>\n",
       "      <td>...</td>\n",
       "      <td>...</td>\n",
       "      <td>...</td>\n",
       "    </tr>\n",
       "    <tr>\n",
       "      <th>2022-01-28</th>\n",
       "      <td>USA-69100</td>\n",
       "      <td>Rota</td>\n",
       "      <td>Northern Mariana Islands</td>\n",
       "      <td>0</td>\n",
       "      <td>0.00</td>\n",
       "      <td>0.00</td>\n",
       "      <td>0</td>\n",
       "      <td>0.00</td>\n",
       "      <td>0.00</td>\n",
       "    </tr>\n",
       "    <tr>\n",
       "      <th>2022-01-28</th>\n",
       "      <td>USA-78999</td>\n",
       "      <td>Unknown</td>\n",
       "      <td>Virgin Islands</td>\n",
       "      <td>0</td>\n",
       "      <td>0.00</td>\n",
       "      <td>NaN</td>\n",
       "      <td>1</td>\n",
       "      <td>0.22</td>\n",
       "      <td>NaN</td>\n",
       "    </tr>\n",
       "    <tr>\n",
       "      <th>2022-01-28</th>\n",
       "      <td>USA-78030</td>\n",
       "      <td>St. Thomas</td>\n",
       "      <td>Virgin Islands</td>\n",
       "      <td>6</td>\n",
       "      <td>32.75</td>\n",
       "      <td>63.43</td>\n",
       "      <td>0</td>\n",
       "      <td>0.43</td>\n",
       "      <td>0.83</td>\n",
       "    </tr>\n",
       "    <tr>\n",
       "      <th>2022-01-28</th>\n",
       "      <td>USA-78020</td>\n",
       "      <td>St. John</td>\n",
       "      <td>Virgin Islands</td>\n",
       "      <td>0</td>\n",
       "      <td>6.00</td>\n",
       "      <td>143.88</td>\n",
       "      <td>0</td>\n",
       "      <td>0.00</td>\n",
       "      <td>0.00</td>\n",
       "    </tr>\n",
       "    <tr>\n",
       "      <th>2022-01-28</th>\n",
       "      <td>USA-78010</td>\n",
       "      <td>St. Croix</td>\n",
       "      <td>Virgin Islands</td>\n",
       "      <td>40</td>\n",
       "      <td>58.75</td>\n",
       "      <td>116.10</td>\n",
       "      <td>0</td>\n",
       "      <td>0.43</td>\n",
       "      <td>0.85</td>\n",
       "    </tr>\n",
       "  </tbody>\n",
       "</table>\n",
       "<p>91102 rows × 9 columns</p>\n",
       "</div>"
      ],
      "text/plain": [
       "                geoid      county                     state  cases  cases_avg  \\\n",
       "date                                                                            \n",
       "2022-01-01  USA-72999     Unknown               Puerto Rico      0     328.14   \n",
       "2022-01-01  USA-72153       Yauco               Puerto Rico      0      66.50   \n",
       "2022-01-01  USA-72151     Yabucoa               Puerto Rico      0      63.13   \n",
       "2022-01-01  USA-72149    Villalba               Puerto Rico      0      47.50   \n",
       "2022-01-01  USA-72147     Vieques               Puerto Rico      0       7.63   \n",
       "...               ...         ...                       ...    ...        ...   \n",
       "2022-01-28  USA-69100        Rota  Northern Mariana Islands      0       0.00   \n",
       "2022-01-28  USA-78999     Unknown            Virgin Islands      0       0.00   \n",
       "2022-01-28  USA-78030  St. Thomas            Virgin Islands      6      32.75   \n",
       "2022-01-28  USA-78020    St. John            Virgin Islands      0       6.00   \n",
       "2022-01-28  USA-78010   St. Croix            Virgin Islands     40      58.75   \n",
       "\n",
       "            cases_avg_per_100k  deaths  deaths_avg  deaths_avg_per_100k  \n",
       "date                                                                     \n",
       "2022-01-01                 NaN       0        0.00                  NaN  \n",
       "2022-01-01              196.40       0        0.00                 0.00  \n",
       "2022-01-01              196.30       0        0.00                 0.00  \n",
       "2022-01-01              221.18       0        0.00                 0.00  \n",
       "2022-01-01               91.16       0        0.00                 0.00  \n",
       "...                        ...     ...         ...                  ...  \n",
       "2022-01-28                0.00       0        0.00                 0.00  \n",
       "2022-01-28                 NaN       1        0.22                  NaN  \n",
       "2022-01-28               63.43       0        0.43                 0.83  \n",
       "2022-01-28              143.88       0        0.00                 0.00  \n",
       "2022-01-28              116.10       0        0.43                 0.85  \n",
       "\n",
       "[91102 rows x 9 columns]"
      ]
     },
     "execution_count": 2,
     "metadata": {},
     "output_type": "execute_result"
    }
   ],
   "source": [
    "df_2022 = pd.read_csv(\"us-counties-2022.csv\", index_col=\"date\")\n",
    "df_2022\n"
   ]
  },
  {
   "cell_type": "code",
   "execution_count": 3,
   "metadata": {},
   "outputs": [
    {
     "name": "stdout",
     "output_type": "stream",
     "text": [
      "<class 'pandas.core.frame.DataFrame'>\n",
      "Index: 91102 entries, 2022-01-01 to 2022-01-28\n",
      "Data columns (total 9 columns):\n",
      " #   Column               Non-Null Count  Dtype  \n",
      "---  ------               --------------  -----  \n",
      " 0   geoid                91102 non-null  object \n",
      " 1   county               91102 non-null  object \n",
      " 2   state                91102 non-null  object \n",
      " 3   cases                91102 non-null  int64  \n",
      " 4   cases_avg            91102 non-null  float64\n",
      " 5   cases_avg_per_100k   90197 non-null  float64\n",
      " 6   deaths               91102 non-null  int64  \n",
      " 7   deaths_avg           91102 non-null  float64\n",
      " 8   deaths_avg_per_100k  90197 non-null  float64\n",
      "dtypes: float64(4), int64(2), object(3)\n",
      "memory usage: 7.0+ MB\n"
     ]
    }
   ],
   "source": [
    "df_2022.info()\n"
   ]
  },
  {
   "cell_type": "markdown",
   "metadata": {},
   "source": [
    "Finding counties that could be tricky to match spelling/format."
   ]
  },
  {
   "cell_type": "code",
   "execution_count": 4,
   "metadata": {},
   "outputs": [
    {
     "data": {
      "text/html": [
       "<div>\n",
       "<style scoped>\n",
       "    .dataframe tbody tr th:only-of-type {\n",
       "        vertical-align: middle;\n",
       "    }\n",
       "\n",
       "    .dataframe tbody tr th {\n",
       "        vertical-align: top;\n",
       "    }\n",
       "\n",
       "    .dataframe thead th {\n",
       "        text-align: right;\n",
       "    }\n",
       "</style>\n",
       "<table border=\"1\" class=\"dataframe\">\n",
       "  <thead>\n",
       "    <tr style=\"text-align: right;\">\n",
       "      <th></th>\n",
       "      <th>geoid</th>\n",
       "      <th>county</th>\n",
       "      <th>state</th>\n",
       "      <th>cases</th>\n",
       "      <th>cases_avg</th>\n",
       "      <th>cases_avg_per_100k</th>\n",
       "      <th>deaths</th>\n",
       "      <th>deaths_avg</th>\n",
       "      <th>deaths_avg_per_100k</th>\n",
       "    </tr>\n",
       "    <tr>\n",
       "      <th>date</th>\n",
       "      <th></th>\n",
       "      <th></th>\n",
       "      <th></th>\n",
       "      <th></th>\n",
       "      <th></th>\n",
       "      <th></th>\n",
       "      <th></th>\n",
       "      <th></th>\n",
       "      <th></th>\n",
       "    </tr>\n",
       "  </thead>\n",
       "  <tbody>\n",
       "    <tr>\n",
       "      <th>2022-01-01</th>\n",
       "      <td>USA-51510</td>\n",
       "      <td>Alexandria city</td>\n",
       "      <td>Virginia</td>\n",
       "      <td>0</td>\n",
       "      <td>281.14</td>\n",
       "      <td>176.34</td>\n",
       "      <td>0</td>\n",
       "      <td>0.38</td>\n",
       "      <td>0.24</td>\n",
       "    </tr>\n",
       "    <tr>\n",
       "      <th>2022-01-02</th>\n",
       "      <td>USA-51510</td>\n",
       "      <td>Alexandria city</td>\n",
       "      <td>Virginia</td>\n",
       "      <td>0</td>\n",
       "      <td>281.14</td>\n",
       "      <td>176.34</td>\n",
       "      <td>0</td>\n",
       "      <td>0.38</td>\n",
       "      <td>0.24</td>\n",
       "    </tr>\n",
       "  </tbody>\n",
       "</table>\n",
       "</div>"
      ],
      "text/plain": [
       "                geoid           county     state  cases  cases_avg  \\\n",
       "date                                                                 \n",
       "2022-01-01  USA-51510  Alexandria city  Virginia      0     281.14   \n",
       "2022-01-02  USA-51510  Alexandria city  Virginia      0     281.14   \n",
       "\n",
       "            cases_avg_per_100k  deaths  deaths_avg  deaths_avg_per_100k  \n",
       "date                                                                     \n",
       "2022-01-01              176.34       0        0.38                 0.24  \n",
       "2022-01-02              176.34       0        0.38                 0.24  "
      ]
     },
     "execution_count": 4,
     "metadata": {},
     "output_type": "execute_result"
    }
   ],
   "source": [
    "df_2022[df_2022[\"county\"].str.startswith(\"Alexandria\")].head(2)\n"
   ]
  },
  {
   "cell_type": "code",
   "execution_count": 5,
   "metadata": {},
   "outputs": [
    {
     "data": {
      "text/html": [
       "<div>\n",
       "<style scoped>\n",
       "    .dataframe tbody tr th:only-of-type {\n",
       "        vertical-align: middle;\n",
       "    }\n",
       "\n",
       "    .dataframe tbody tr th {\n",
       "        vertical-align: top;\n",
       "    }\n",
       "\n",
       "    .dataframe thead th {\n",
       "        text-align: right;\n",
       "    }\n",
       "</style>\n",
       "<table border=\"1\" class=\"dataframe\">\n",
       "  <thead>\n",
       "    <tr style=\"text-align: right;\">\n",
       "      <th></th>\n",
       "      <th>geoid</th>\n",
       "      <th>county</th>\n",
       "      <th>state</th>\n",
       "      <th>cases</th>\n",
       "      <th>cases_avg</th>\n",
       "      <th>cases_avg_per_100k</th>\n",
       "      <th>deaths</th>\n",
       "      <th>deaths_avg</th>\n",
       "      <th>deaths_avg_per_100k</th>\n",
       "    </tr>\n",
       "    <tr>\n",
       "      <th>date</th>\n",
       "      <th></th>\n",
       "      <th></th>\n",
       "      <th></th>\n",
       "      <th></th>\n",
       "      <th></th>\n",
       "      <th></th>\n",
       "      <th></th>\n",
       "      <th></th>\n",
       "      <th></th>\n",
       "    </tr>\n",
       "  </thead>\n",
       "  <tbody>\n",
       "    <tr>\n",
       "      <th>2022-01-01</th>\n",
       "      <td>USA-11001</td>\n",
       "      <td>District of Columbia</td>\n",
       "      <td>District of Columbia</td>\n",
       "      <td>0</td>\n",
       "      <td>2103.0</td>\n",
       "      <td>297.98</td>\n",
       "      <td>0</td>\n",
       "      <td>0.4</td>\n",
       "      <td>0.06</td>\n",
       "    </tr>\n",
       "    <tr>\n",
       "      <th>2022-01-02</th>\n",
       "      <td>USA-11001</td>\n",
       "      <td>District of Columbia</td>\n",
       "      <td>District of Columbia</td>\n",
       "      <td>0</td>\n",
       "      <td>2103.0</td>\n",
       "      <td>297.98</td>\n",
       "      <td>0</td>\n",
       "      <td>0.4</td>\n",
       "      <td>0.06</td>\n",
       "    </tr>\n",
       "  </tbody>\n",
       "</table>\n",
       "</div>"
      ],
      "text/plain": [
       "                geoid                county                 state  cases  \\\n",
       "date                                                                       \n",
       "2022-01-01  USA-11001  District of Columbia  District of Columbia      0   \n",
       "2022-01-02  USA-11001  District of Columbia  District of Columbia      0   \n",
       "\n",
       "            cases_avg  cases_avg_per_100k  deaths  deaths_avg  \\\n",
       "date                                                            \n",
       "2022-01-01     2103.0              297.98       0         0.4   \n",
       "2022-01-02     2103.0              297.98       0         0.4   \n",
       "\n",
       "            deaths_avg_per_100k  \n",
       "date                             \n",
       "2022-01-01                 0.06  \n",
       "2022-01-02                 0.06  "
      ]
     },
     "execution_count": 5,
     "metadata": {},
     "output_type": "execute_result"
    }
   ],
   "source": [
    "df_2022[df_2022[\"state\"].str.startswith(\"District\")].head(2)\n"
   ]
  },
  {
   "cell_type": "code",
   "execution_count": 6,
   "metadata": {},
   "outputs": [
    {
     "data": {
      "text/html": [
       "<div>\n",
       "<style scoped>\n",
       "    .dataframe tbody tr th:only-of-type {\n",
       "        vertical-align: middle;\n",
       "    }\n",
       "\n",
       "    .dataframe tbody tr th {\n",
       "        vertical-align: top;\n",
       "    }\n",
       "\n",
       "    .dataframe thead th {\n",
       "        text-align: right;\n",
       "    }\n",
       "</style>\n",
       "<table border=\"1\" class=\"dataframe\">\n",
       "  <thead>\n",
       "    <tr style=\"text-align: right;\">\n",
       "      <th></th>\n",
       "      <th>geoid</th>\n",
       "      <th>county</th>\n",
       "      <th>state</th>\n",
       "      <th>cases</th>\n",
       "      <th>cases_avg</th>\n",
       "      <th>cases_avg_per_100k</th>\n",
       "      <th>deaths</th>\n",
       "      <th>deaths_avg</th>\n",
       "      <th>deaths_avg_per_100k</th>\n",
       "    </tr>\n",
       "    <tr>\n",
       "      <th>date</th>\n",
       "      <th></th>\n",
       "      <th></th>\n",
       "      <th></th>\n",
       "      <th></th>\n",
       "      <th></th>\n",
       "      <th></th>\n",
       "      <th></th>\n",
       "      <th></th>\n",
       "      <th></th>\n",
       "    </tr>\n",
       "  </thead>\n",
       "  <tbody>\n",
       "    <tr>\n",
       "      <th>2022-01-01</th>\n",
       "      <td>USA-36998</td>\n",
       "      <td>New York City</td>\n",
       "      <td>New York</td>\n",
       "      <td>45341</td>\n",
       "      <td>34646.38</td>\n",
       "      <td>415.58</td>\n",
       "      <td>20</td>\n",
       "      <td>27.89</td>\n",
       "      <td>0.33</td>\n",
       "    </tr>\n",
       "    <tr>\n",
       "      <th>2022-01-01</th>\n",
       "      <td>USA-36123</td>\n",
       "      <td>Yates</td>\n",
       "      <td>New York</td>\n",
       "      <td>28</td>\n",
       "      <td>13.25</td>\n",
       "      <td>53.19</td>\n",
       "      <td>0</td>\n",
       "      <td>0.14</td>\n",
       "      <td>0.57</td>\n",
       "    </tr>\n",
       "  </tbody>\n",
       "</table>\n",
       "</div>"
      ],
      "text/plain": [
       "                geoid         county     state  cases  cases_avg  \\\n",
       "date                                                               \n",
       "2022-01-01  USA-36998  New York City  New York  45341   34646.38   \n",
       "2022-01-01  USA-36123          Yates  New York     28      13.25   \n",
       "\n",
       "            cases_avg_per_100k  deaths  deaths_avg  deaths_avg_per_100k  \n",
       "date                                                                     \n",
       "2022-01-01              415.58      20       27.89                 0.33  \n",
       "2022-01-01               53.19       0        0.14                 0.57  "
      ]
     },
     "execution_count": 6,
     "metadata": {},
     "output_type": "execute_result"
    }
   ],
   "source": [
    "df_2022[df_2022[\"state\"].str.contains(\"York\")].head(2)\n"
   ]
  },
  {
   "cell_type": "markdown",
   "metadata": {},
   "source": [
    "Filter to counties of interest"
   ]
  },
  {
   "cell_type": "code",
   "execution_count": 7,
   "metadata": {},
   "outputs": [],
   "source": [
    "counties = [\n",
    "    \"District of Columbia\",\n",
    "    \"Wood\",\n",
    "    \"Putnam\",\n",
    "    \"Montgomery\",\n",
    "    \"Prince George's\",\n",
    "    \"Arlington\",\n",
    "    \"Alexandria city\",\n",
    "    \"New York City\",  # README at NYT mentions some NE are city, not county\n",
    "    \"Allegheny\",\n",
    "    \"Cook\",\n",
    "    \"Baltimore\",\n",
    "    \"Franklin\",\n",
    "    \"Clermont\",\n",
    "    \"Somerset\",\n",
    "    \"Philadelphia\",\n",
    "    \"Denver\",\n",
    "    \"Boulder\",\n",
    "    \"San Francisco\",\n",
    "    \"Los Angeles\",\n",
    "    \"Pima\",\n",
    "    \"Manatee\",\n",
    "]\n"
   ]
  },
  {
   "cell_type": "code",
   "execution_count": 8,
   "metadata": {},
   "outputs": [
    {
     "data": {
      "text/html": [
       "<div>\n",
       "<style scoped>\n",
       "    .dataframe tbody tr th:only-of-type {\n",
       "        vertical-align: middle;\n",
       "    }\n",
       "\n",
       "    .dataframe tbody tr th {\n",
       "        vertical-align: top;\n",
       "    }\n",
       "\n",
       "    .dataframe thead th {\n",
       "        text-align: right;\n",
       "    }\n",
       "</style>\n",
       "<table border=\"1\" class=\"dataframe\">\n",
       "  <thead>\n",
       "    <tr style=\"text-align: right;\">\n",
       "      <th></th>\n",
       "      <th>county</th>\n",
       "      <th>state</th>\n",
       "      <th>geoid</th>\n",
       "      <th>cases_avg_per_100k</th>\n",
       "    </tr>\n",
       "    <tr>\n",
       "      <th>date</th>\n",
       "      <th></th>\n",
       "      <th></th>\n",
       "      <th></th>\n",
       "      <th></th>\n",
       "    </tr>\n",
       "  </thead>\n",
       "  <tbody>\n",
       "    <tr>\n",
       "      <th>2022-01-01</th>\n",
       "      <td>Wood</td>\n",
       "      <td>Wisconsin</td>\n",
       "      <td>USA-55141</td>\n",
       "      <td>82.19</td>\n",
       "    </tr>\n",
       "    <tr>\n",
       "      <th>2022-01-01</th>\n",
       "      <td>Wood</td>\n",
       "      <td>West Virginia</td>\n",
       "      <td>USA-54107</td>\n",
       "      <td>55.42</td>\n",
       "    </tr>\n",
       "    <tr>\n",
       "      <th>2022-01-01</th>\n",
       "      <td>Putnam</td>\n",
       "      <td>West Virginia</td>\n",
       "      <td>USA-54079</td>\n",
       "      <td>73.14</td>\n",
       "    </tr>\n",
       "    <tr>\n",
       "      <th>2022-01-01</th>\n",
       "      <td>Franklin</td>\n",
       "      <td>Washington</td>\n",
       "      <td>USA-53021</td>\n",
       "      <td>32.26</td>\n",
       "    </tr>\n",
       "    <tr>\n",
       "      <th>2022-01-01</th>\n",
       "      <td>Montgomery</td>\n",
       "      <td>Virginia</td>\n",
       "      <td>USA-51121</td>\n",
       "      <td>46.25</td>\n",
       "    </tr>\n",
       "    <tr>\n",
       "      <th>...</th>\n",
       "      <td>...</td>\n",
       "      <td>...</td>\n",
       "      <td>...</td>\n",
       "      <td>...</td>\n",
       "    </tr>\n",
       "    <tr>\n",
       "      <th>2022-01-28</th>\n",
       "      <td>Montgomery</td>\n",
       "      <td>Arkansas</td>\n",
       "      <td>USA-05097</td>\n",
       "      <td>104.93</td>\n",
       "    </tr>\n",
       "    <tr>\n",
       "      <th>2022-01-28</th>\n",
       "      <td>Franklin</td>\n",
       "      <td>Arkansas</td>\n",
       "      <td>USA-05047</td>\n",
       "      <td>152.41</td>\n",
       "    </tr>\n",
       "    <tr>\n",
       "      <th>2022-01-28</th>\n",
       "      <td>Pima</td>\n",
       "      <td>Arizona</td>\n",
       "      <td>USA-04019</td>\n",
       "      <td>222.82</td>\n",
       "    </tr>\n",
       "    <tr>\n",
       "      <th>2022-01-28</th>\n",
       "      <td>Montgomery</td>\n",
       "      <td>Alabama</td>\n",
       "      <td>USA-01101</td>\n",
       "      <td>134.48</td>\n",
       "    </tr>\n",
       "    <tr>\n",
       "      <th>2022-01-28</th>\n",
       "      <td>Franklin</td>\n",
       "      <td>Alabama</td>\n",
       "      <td>USA-01059</td>\n",
       "      <td>443.21</td>\n",
       "    </tr>\n",
       "  </tbody>\n",
       "</table>\n",
       "<p>2184 rows × 4 columns</p>\n",
       "</div>"
      ],
      "text/plain": [
       "                county          state      geoid  cases_avg_per_100k\n",
       "date                                                                \n",
       "2022-01-01        Wood      Wisconsin  USA-55141               82.19\n",
       "2022-01-01        Wood  West Virginia  USA-54107               55.42\n",
       "2022-01-01      Putnam  West Virginia  USA-54079               73.14\n",
       "2022-01-01    Franklin     Washington  USA-53021               32.26\n",
       "2022-01-01  Montgomery       Virginia  USA-51121               46.25\n",
       "...                ...            ...        ...                 ...\n",
       "2022-01-28  Montgomery       Arkansas  USA-05097              104.93\n",
       "2022-01-28    Franklin       Arkansas  USA-05047              152.41\n",
       "2022-01-28        Pima        Arizona  USA-04019              222.82\n",
       "2022-01-28  Montgomery        Alabama  USA-01101              134.48\n",
       "2022-01-28    Franklin        Alabama  USA-01059              443.21\n",
       "\n",
       "[2184 rows x 4 columns]"
      ]
     },
     "execution_count": 8,
     "metadata": {},
     "output_type": "execute_result"
    }
   ],
   "source": [
    "cols = [\"county\", \"state\", \"geoid\", \"cases_avg_per_100k\"]\n",
    "\n",
    "df_2022_smaller = df_2022.loc[df_2022[\"county\"].isin(counties), cols]\n",
    "df_2022_smaller\n"
   ]
  },
  {
   "cell_type": "markdown",
   "metadata": {},
   "source": [
    "See each state/county once."
   ]
  },
  {
   "cell_type": "code",
   "execution_count": 9,
   "metadata": {},
   "outputs": [
    {
     "data": {
      "text/html": [
       "<div>\n",
       "<style scoped>\n",
       "    .dataframe tbody tr th:only-of-type {\n",
       "        vertical-align: middle;\n",
       "    }\n",
       "\n",
       "    .dataframe tbody tr th {\n",
       "        vertical-align: top;\n",
       "    }\n",
       "\n",
       "    .dataframe thead th {\n",
       "        text-align: right;\n",
       "    }\n",
       "</style>\n",
       "<table border=\"1\" class=\"dataframe\">\n",
       "  <thead>\n",
       "    <tr style=\"text-align: right;\">\n",
       "      <th></th>\n",
       "      <th>county</th>\n",
       "      <th>state</th>\n",
       "      <th>geoid</th>\n",
       "      <th>cases_avg_per_100k</th>\n",
       "    </tr>\n",
       "    <tr>\n",
       "      <th>date</th>\n",
       "      <th></th>\n",
       "      <th></th>\n",
       "      <th></th>\n",
       "      <th></th>\n",
       "    </tr>\n",
       "  </thead>\n",
       "  <tbody>\n",
       "    <tr>\n",
       "      <th>2022-01-01</th>\n",
       "      <td>Wood</td>\n",
       "      <td>Wisconsin</td>\n",
       "      <td>USA-55141</td>\n",
       "      <td>82.19</td>\n",
       "    </tr>\n",
       "    <tr>\n",
       "      <th>2022-01-01</th>\n",
       "      <td>Wood</td>\n",
       "      <td>West Virginia</td>\n",
       "      <td>USA-54107</td>\n",
       "      <td>55.42</td>\n",
       "    </tr>\n",
       "    <tr>\n",
       "      <th>2022-01-01</th>\n",
       "      <td>Putnam</td>\n",
       "      <td>West Virginia</td>\n",
       "      <td>USA-54079</td>\n",
       "      <td>73.14</td>\n",
       "    </tr>\n",
       "    <tr>\n",
       "      <th>2022-01-01</th>\n",
       "      <td>Franklin</td>\n",
       "      <td>Washington</td>\n",
       "      <td>USA-53021</td>\n",
       "      <td>32.26</td>\n",
       "    </tr>\n",
       "    <tr>\n",
       "      <th>2022-01-01</th>\n",
       "      <td>Montgomery</td>\n",
       "      <td>Virginia</td>\n",
       "      <td>USA-51121</td>\n",
       "      <td>46.25</td>\n",
       "    </tr>\n",
       "    <tr>\n",
       "      <th>2022-01-01</th>\n",
       "      <td>Franklin</td>\n",
       "      <td>Virginia</td>\n",
       "      <td>USA-51067</td>\n",
       "      <td>68.83</td>\n",
       "    </tr>\n",
       "    <tr>\n",
       "      <th>2022-01-01</th>\n",
       "      <td>Arlington</td>\n",
       "      <td>Virginia</td>\n",
       "      <td>USA-51013</td>\n",
       "      <td>190.42</td>\n",
       "    </tr>\n",
       "    <tr>\n",
       "      <th>2022-01-01</th>\n",
       "      <td>Alexandria city</td>\n",
       "      <td>Virginia</td>\n",
       "      <td>USA-51510</td>\n",
       "      <td>176.34</td>\n",
       "    </tr>\n",
       "    <tr>\n",
       "      <th>2022-01-01</th>\n",
       "      <td>Franklin</td>\n",
       "      <td>Vermont</td>\n",
       "      <td>USA-50011</td>\n",
       "      <td>96.87</td>\n",
       "    </tr>\n",
       "    <tr>\n",
       "      <th>2022-01-01</th>\n",
       "      <td>Wood</td>\n",
       "      <td>Texas</td>\n",
       "      <td>USA-48499</td>\n",
       "      <td>10.67</td>\n",
       "    </tr>\n",
       "    <tr>\n",
       "      <th>2022-01-01</th>\n",
       "      <td>Montgomery</td>\n",
       "      <td>Texas</td>\n",
       "      <td>USA-48339</td>\n",
       "      <td>66.54</td>\n",
       "    </tr>\n",
       "    <tr>\n",
       "      <th>2022-01-01</th>\n",
       "      <td>Franklin</td>\n",
       "      <td>Texas</td>\n",
       "      <td>USA-48159</td>\n",
       "      <td>22.64</td>\n",
       "    </tr>\n",
       "    <tr>\n",
       "      <th>2022-01-01</th>\n",
       "      <td>Putnam</td>\n",
       "      <td>Tennessee</td>\n",
       "      <td>USA-47141</td>\n",
       "      <td>45.57</td>\n",
       "    </tr>\n",
       "    <tr>\n",
       "      <th>2022-01-01</th>\n",
       "      <td>Montgomery</td>\n",
       "      <td>Tennessee</td>\n",
       "      <td>USA-47125</td>\n",
       "      <td>80.39</td>\n",
       "    </tr>\n",
       "    <tr>\n",
       "      <th>2022-01-01</th>\n",
       "      <td>Franklin</td>\n",
       "      <td>Tennessee</td>\n",
       "      <td>USA-47051</td>\n",
       "      <td>65.32</td>\n",
       "    </tr>\n",
       "    <tr>\n",
       "      <th>2022-01-01</th>\n",
       "      <td>Somerset</td>\n",
       "      <td>Pennsylvania</td>\n",
       "      <td>USA-42111</td>\n",
       "      <td>76.83</td>\n",
       "    </tr>\n",
       "    <tr>\n",
       "      <th>2022-01-01</th>\n",
       "      <td>Philadelphia</td>\n",
       "      <td>Pennsylvania</td>\n",
       "      <td>USA-42101</td>\n",
       "      <td>160.40</td>\n",
       "    </tr>\n",
       "    <tr>\n",
       "      <th>2022-01-01</th>\n",
       "      <td>Montgomery</td>\n",
       "      <td>Pennsylvania</td>\n",
       "      <td>USA-42091</td>\n",
       "      <td>137.54</td>\n",
       "    </tr>\n",
       "    <tr>\n",
       "      <th>2022-01-01</th>\n",
       "      <td>Franklin</td>\n",
       "      <td>Pennsylvania</td>\n",
       "      <td>USA-42055</td>\n",
       "      <td>107.91</td>\n",
       "    </tr>\n",
       "    <tr>\n",
       "      <th>2022-01-01</th>\n",
       "      <td>Allegheny</td>\n",
       "      <td>Pennsylvania</td>\n",
       "      <td>USA-42003</td>\n",
       "      <td>132.63</td>\n",
       "    </tr>\n",
       "    <tr>\n",
       "      <th>2022-01-01</th>\n",
       "      <td>Wood</td>\n",
       "      <td>Ohio</td>\n",
       "      <td>USA-39173</td>\n",
       "      <td>109.09</td>\n",
       "    </tr>\n",
       "    <tr>\n",
       "      <th>2022-01-01</th>\n",
       "      <td>Putnam</td>\n",
       "      <td>Ohio</td>\n",
       "      <td>USA-39137</td>\n",
       "      <td>54.00</td>\n",
       "    </tr>\n",
       "    <tr>\n",
       "      <th>2022-01-01</th>\n",
       "      <td>Montgomery</td>\n",
       "      <td>Ohio</td>\n",
       "      <td>USA-39113</td>\n",
       "      <td>90.12</td>\n",
       "    </tr>\n",
       "    <tr>\n",
       "      <th>2022-01-01</th>\n",
       "      <td>Franklin</td>\n",
       "      <td>Ohio</td>\n",
       "      <td>USA-39049</td>\n",
       "      <td>146.41</td>\n",
       "    </tr>\n",
       "    <tr>\n",
       "      <th>2022-01-01</th>\n",
       "      <td>Clermont</td>\n",
       "      <td>Ohio</td>\n",
       "      <td>USA-39025</td>\n",
       "      <td>91.63</td>\n",
       "    </tr>\n",
       "    <tr>\n",
       "      <th>2022-01-01</th>\n",
       "      <td>Montgomery</td>\n",
       "      <td>North Carolina</td>\n",
       "      <td>USA-37123</td>\n",
       "      <td>39.25</td>\n",
       "    </tr>\n",
       "    <tr>\n",
       "      <th>2022-01-01</th>\n",
       "      <td>Franklin</td>\n",
       "      <td>North Carolina</td>\n",
       "      <td>USA-37069</td>\n",
       "      <td>110.34</td>\n",
       "    </tr>\n",
       "    <tr>\n",
       "      <th>2022-01-01</th>\n",
       "      <td>New York City</td>\n",
       "      <td>New York</td>\n",
       "      <td>USA-36998</td>\n",
       "      <td>415.58</td>\n",
       "    </tr>\n",
       "    <tr>\n",
       "      <th>2022-01-01</th>\n",
       "      <td>Putnam</td>\n",
       "      <td>New York</td>\n",
       "      <td>USA-36079</td>\n",
       "      <td>284.78</td>\n",
       "    </tr>\n",
       "    <tr>\n",
       "      <th>2022-01-01</th>\n",
       "      <td>Montgomery</td>\n",
       "      <td>New York</td>\n",
       "      <td>USA-36057</td>\n",
       "      <td>87.62</td>\n",
       "    </tr>\n",
       "    <tr>\n",
       "      <th>2022-01-01</th>\n",
       "      <td>Franklin</td>\n",
       "      <td>New York</td>\n",
       "      <td>USA-36033</td>\n",
       "      <td>66.22</td>\n",
       "    </tr>\n",
       "    <tr>\n",
       "      <th>2022-01-01</th>\n",
       "      <td>Somerset</td>\n",
       "      <td>New Jersey</td>\n",
       "      <td>USA-34035</td>\n",
       "      <td>271.01</td>\n",
       "    </tr>\n",
       "    <tr>\n",
       "      <th>2022-01-01</th>\n",
       "      <td>Franklin</td>\n",
       "      <td>Nebraska</td>\n",
       "      <td>USA-31061</td>\n",
       "      <td>14.39</td>\n",
       "    </tr>\n",
       "    <tr>\n",
       "      <th>2022-01-01</th>\n",
       "      <td>Putnam</td>\n",
       "      <td>Missouri</td>\n",
       "      <td>USA-29171</td>\n",
       "      <td>42.59</td>\n",
       "    </tr>\n",
       "    <tr>\n",
       "      <th>2022-01-01</th>\n",
       "      <td>Montgomery</td>\n",
       "      <td>Missouri</td>\n",
       "      <td>USA-29139</td>\n",
       "      <td>54.42</td>\n",
       "    </tr>\n",
       "    <tr>\n",
       "      <th>2022-01-01</th>\n",
       "      <td>Franklin</td>\n",
       "      <td>Missouri</td>\n",
       "      <td>USA-29071</td>\n",
       "      <td>63.07</td>\n",
       "    </tr>\n",
       "    <tr>\n",
       "      <th>2022-01-01</th>\n",
       "      <td>Montgomery</td>\n",
       "      <td>Mississippi</td>\n",
       "      <td>USA-28097</td>\n",
       "      <td>98.47</td>\n",
       "    </tr>\n",
       "    <tr>\n",
       "      <th>2022-01-01</th>\n",
       "      <td>Franklin</td>\n",
       "      <td>Mississippi</td>\n",
       "      <td>USA-28037</td>\n",
       "      <td>43.76</td>\n",
       "    </tr>\n",
       "    <tr>\n",
       "      <th>2022-01-01</th>\n",
       "      <td>Cook</td>\n",
       "      <td>Minnesota</td>\n",
       "      <td>USA-27031</td>\n",
       "      <td>33.99</td>\n",
       "    </tr>\n",
       "    <tr>\n",
       "      <th>2022-01-01</th>\n",
       "      <td>Franklin</td>\n",
       "      <td>Massachusetts</td>\n",
       "      <td>USA-25011</td>\n",
       "      <td>104.83</td>\n",
       "    </tr>\n",
       "    <tr>\n",
       "      <th>2022-01-01</th>\n",
       "      <td>Somerset</td>\n",
       "      <td>Maryland</td>\n",
       "      <td>USA-24039</td>\n",
       "      <td>130.50</td>\n",
       "    </tr>\n",
       "    <tr>\n",
       "      <th>2022-01-01</th>\n",
       "      <td>Prince George's</td>\n",
       "      <td>Maryland</td>\n",
       "      <td>USA-24033</td>\n",
       "      <td>342.75</td>\n",
       "    </tr>\n",
       "    <tr>\n",
       "      <th>2022-01-01</th>\n",
       "      <td>Montgomery</td>\n",
       "      <td>Maryland</td>\n",
       "      <td>USA-24031</td>\n",
       "      <td>234.47</td>\n",
       "    </tr>\n",
       "    <tr>\n",
       "      <th>2022-01-01</th>\n",
       "      <td>Baltimore</td>\n",
       "      <td>Maryland</td>\n",
       "      <td>USA-24005</td>\n",
       "      <td>248.15</td>\n",
       "    </tr>\n",
       "    <tr>\n",
       "      <th>2022-01-01</th>\n",
       "      <td>Somerset</td>\n",
       "      <td>Maine</td>\n",
       "      <td>USA-23025</td>\n",
       "      <td>58.58</td>\n",
       "    </tr>\n",
       "    <tr>\n",
       "      <th>2022-01-01</th>\n",
       "      <td>Franklin</td>\n",
       "      <td>Maine</td>\n",
       "      <td>USA-23007</td>\n",
       "      <td>75.22</td>\n",
       "    </tr>\n",
       "    <tr>\n",
       "      <th>2022-01-01</th>\n",
       "      <td>Franklin</td>\n",
       "      <td>Louisiana</td>\n",
       "      <td>USA-22041</td>\n",
       "      <td>67.81</td>\n",
       "    </tr>\n",
       "    <tr>\n",
       "      <th>2022-01-01</th>\n",
       "      <td>Montgomery</td>\n",
       "      <td>Kentucky</td>\n",
       "      <td>USA-21173</td>\n",
       "      <td>27.40</td>\n",
       "    </tr>\n",
       "    <tr>\n",
       "      <th>2022-01-01</th>\n",
       "      <td>Franklin</td>\n",
       "      <td>Kentucky</td>\n",
       "      <td>USA-21073</td>\n",
       "      <td>53.79</td>\n",
       "    </tr>\n",
       "    <tr>\n",
       "      <th>2022-01-01</th>\n",
       "      <td>Montgomery</td>\n",
       "      <td>Kansas</td>\n",
       "      <td>USA-20125</td>\n",
       "      <td>55.65</td>\n",
       "    </tr>\n",
       "    <tr>\n",
       "      <th>2022-01-01</th>\n",
       "      <td>Franklin</td>\n",
       "      <td>Kansas</td>\n",
       "      <td>USA-20059</td>\n",
       "      <td>130.87</td>\n",
       "    </tr>\n",
       "    <tr>\n",
       "      <th>2022-01-01</th>\n",
       "      <td>Montgomery</td>\n",
       "      <td>Iowa</td>\n",
       "      <td>USA-19137</td>\n",
       "      <td>33.13</td>\n",
       "    </tr>\n",
       "    <tr>\n",
       "      <th>2022-01-01</th>\n",
       "      <td>Franklin</td>\n",
       "      <td>Iowa</td>\n",
       "      <td>USA-19069</td>\n",
       "      <td>41.14</td>\n",
       "    </tr>\n",
       "    <tr>\n",
       "      <th>2022-01-01</th>\n",
       "      <td>Putnam</td>\n",
       "      <td>Indiana</td>\n",
       "      <td>USA-18133</td>\n",
       "      <td>64.54</td>\n",
       "    </tr>\n",
       "    <tr>\n",
       "      <th>2022-01-01</th>\n",
       "      <td>Montgomery</td>\n",
       "      <td>Indiana</td>\n",
       "      <td>USA-18107</td>\n",
       "      <td>56.08</td>\n",
       "    </tr>\n",
       "    <tr>\n",
       "      <th>2022-01-01</th>\n",
       "      <td>Franklin</td>\n",
       "      <td>Indiana</td>\n",
       "      <td>USA-18047</td>\n",
       "      <td>47.79</td>\n",
       "    </tr>\n",
       "    <tr>\n",
       "      <th>2022-01-01</th>\n",
       "      <td>Putnam</td>\n",
       "      <td>Illinois</td>\n",
       "      <td>USA-17155</td>\n",
       "      <td>94.59</td>\n",
       "    </tr>\n",
       "    <tr>\n",
       "      <th>2022-01-01</th>\n",
       "      <td>Montgomery</td>\n",
       "      <td>Illinois</td>\n",
       "      <td>USA-17135</td>\n",
       "      <td>131.22</td>\n",
       "    </tr>\n",
       "    <tr>\n",
       "      <th>2022-01-01</th>\n",
       "      <td>Franklin</td>\n",
       "      <td>Illinois</td>\n",
       "      <td>USA-17055</td>\n",
       "      <td>76.87</td>\n",
       "    </tr>\n",
       "    <tr>\n",
       "      <th>2022-01-01</th>\n",
       "      <td>Cook</td>\n",
       "      <td>Illinois</td>\n",
       "      <td>USA-17031</td>\n",
       "      <td>171.58</td>\n",
       "    </tr>\n",
       "    <tr>\n",
       "      <th>2022-01-01</th>\n",
       "      <td>Franklin</td>\n",
       "      <td>Idaho</td>\n",
       "      <td>USA-16041</td>\n",
       "      <td>14.41</td>\n",
       "    </tr>\n",
       "    <tr>\n",
       "      <th>2022-01-01</th>\n",
       "      <td>Putnam</td>\n",
       "      <td>Georgia</td>\n",
       "      <td>USA-13237</td>\n",
       "      <td>105.27</td>\n",
       "    </tr>\n",
       "    <tr>\n",
       "      <th>2022-01-01</th>\n",
       "      <td>Montgomery</td>\n",
       "      <td>Georgia</td>\n",
       "      <td>USA-13209</td>\n",
       "      <td>21.81</td>\n",
       "    </tr>\n",
       "    <tr>\n",
       "      <th>2022-01-01</th>\n",
       "      <td>Franklin</td>\n",
       "      <td>Georgia</td>\n",
       "      <td>USA-13119</td>\n",
       "      <td>29.98</td>\n",
       "    </tr>\n",
       "    <tr>\n",
       "      <th>2022-01-01</th>\n",
       "      <td>Cook</td>\n",
       "      <td>Georgia</td>\n",
       "      <td>USA-13075</td>\n",
       "      <td>58.73</td>\n",
       "    </tr>\n",
       "    <tr>\n",
       "      <th>2022-01-01</th>\n",
       "      <td>Putnam</td>\n",
       "      <td>Florida</td>\n",
       "      <td>USA-12107</td>\n",
       "      <td>29.71</td>\n",
       "    </tr>\n",
       "    <tr>\n",
       "      <th>2022-01-01</th>\n",
       "      <td>Manatee</td>\n",
       "      <td>Florida</td>\n",
       "      <td>USA-12081</td>\n",
       "      <td>100.75</td>\n",
       "    </tr>\n",
       "    <tr>\n",
       "      <th>2022-01-01</th>\n",
       "      <td>Franklin</td>\n",
       "      <td>Florida</td>\n",
       "      <td>USA-12037</td>\n",
       "      <td>25.92</td>\n",
       "    </tr>\n",
       "    <tr>\n",
       "      <th>2022-01-01</th>\n",
       "      <td>District of Columbia</td>\n",
       "      <td>District of Columbia</td>\n",
       "      <td>USA-11001</td>\n",
       "      <td>297.98</td>\n",
       "    </tr>\n",
       "    <tr>\n",
       "      <th>2022-01-01</th>\n",
       "      <td>Denver</td>\n",
       "      <td>Colorado</td>\n",
       "      <td>USA-08031</td>\n",
       "      <td>149.38</td>\n",
       "    </tr>\n",
       "    <tr>\n",
       "      <th>2022-01-01</th>\n",
       "      <td>Boulder</td>\n",
       "      <td>Colorado</td>\n",
       "      <td>USA-08013</td>\n",
       "      <td>99.48</td>\n",
       "    </tr>\n",
       "    <tr>\n",
       "      <th>2022-01-01</th>\n",
       "      <td>San Francisco</td>\n",
       "      <td>California</td>\n",
       "      <td>USA-06075</td>\n",
       "      <td>107.10</td>\n",
       "    </tr>\n",
       "    <tr>\n",
       "      <th>2022-01-01</th>\n",
       "      <td>Los Angeles</td>\n",
       "      <td>California</td>\n",
       "      <td>USA-06037</td>\n",
       "      <td>144.21</td>\n",
       "    </tr>\n",
       "    <tr>\n",
       "      <th>2022-01-01</th>\n",
       "      <td>Montgomery</td>\n",
       "      <td>Arkansas</td>\n",
       "      <td>USA-05097</td>\n",
       "      <td>19.08</td>\n",
       "    </tr>\n",
       "    <tr>\n",
       "      <th>2022-01-01</th>\n",
       "      <td>Franklin</td>\n",
       "      <td>Arkansas</td>\n",
       "      <td>USA-05047</td>\n",
       "      <td>20.97</td>\n",
       "    </tr>\n",
       "    <tr>\n",
       "      <th>2022-01-01</th>\n",
       "      <td>Pima</td>\n",
       "      <td>Arizona</td>\n",
       "      <td>USA-04019</td>\n",
       "      <td>55.85</td>\n",
       "    </tr>\n",
       "    <tr>\n",
       "      <th>2022-01-01</th>\n",
       "      <td>Montgomery</td>\n",
       "      <td>Alabama</td>\n",
       "      <td>USA-01101</td>\n",
       "      <td>148.42</td>\n",
       "    </tr>\n",
       "    <tr>\n",
       "      <th>2022-01-01</th>\n",
       "      <td>Franklin</td>\n",
       "      <td>Alabama</td>\n",
       "      <td>USA-01059</td>\n",
       "      <td>35.99</td>\n",
       "    </tr>\n",
       "  </tbody>\n",
       "</table>\n",
       "</div>"
      ],
      "text/plain": [
       "                          county                 state      geoid  \\\n",
       "date                                                                \n",
       "2022-01-01                  Wood             Wisconsin  USA-55141   \n",
       "2022-01-01                  Wood         West Virginia  USA-54107   \n",
       "2022-01-01                Putnam         West Virginia  USA-54079   \n",
       "2022-01-01              Franklin            Washington  USA-53021   \n",
       "2022-01-01            Montgomery              Virginia  USA-51121   \n",
       "2022-01-01              Franklin              Virginia  USA-51067   \n",
       "2022-01-01             Arlington              Virginia  USA-51013   \n",
       "2022-01-01       Alexandria city              Virginia  USA-51510   \n",
       "2022-01-01              Franklin               Vermont  USA-50011   \n",
       "2022-01-01                  Wood                 Texas  USA-48499   \n",
       "2022-01-01            Montgomery                 Texas  USA-48339   \n",
       "2022-01-01              Franklin                 Texas  USA-48159   \n",
       "2022-01-01                Putnam             Tennessee  USA-47141   \n",
       "2022-01-01            Montgomery             Tennessee  USA-47125   \n",
       "2022-01-01              Franklin             Tennessee  USA-47051   \n",
       "2022-01-01              Somerset          Pennsylvania  USA-42111   \n",
       "2022-01-01          Philadelphia          Pennsylvania  USA-42101   \n",
       "2022-01-01            Montgomery          Pennsylvania  USA-42091   \n",
       "2022-01-01              Franklin          Pennsylvania  USA-42055   \n",
       "2022-01-01             Allegheny          Pennsylvania  USA-42003   \n",
       "2022-01-01                  Wood                  Ohio  USA-39173   \n",
       "2022-01-01                Putnam                  Ohio  USA-39137   \n",
       "2022-01-01            Montgomery                  Ohio  USA-39113   \n",
       "2022-01-01              Franklin                  Ohio  USA-39049   \n",
       "2022-01-01              Clermont                  Ohio  USA-39025   \n",
       "2022-01-01            Montgomery        North Carolina  USA-37123   \n",
       "2022-01-01              Franklin        North Carolina  USA-37069   \n",
       "2022-01-01         New York City              New York  USA-36998   \n",
       "2022-01-01                Putnam              New York  USA-36079   \n",
       "2022-01-01            Montgomery              New York  USA-36057   \n",
       "2022-01-01              Franklin              New York  USA-36033   \n",
       "2022-01-01              Somerset            New Jersey  USA-34035   \n",
       "2022-01-01              Franklin              Nebraska  USA-31061   \n",
       "2022-01-01                Putnam              Missouri  USA-29171   \n",
       "2022-01-01            Montgomery              Missouri  USA-29139   \n",
       "2022-01-01              Franklin              Missouri  USA-29071   \n",
       "2022-01-01            Montgomery           Mississippi  USA-28097   \n",
       "2022-01-01              Franklin           Mississippi  USA-28037   \n",
       "2022-01-01                  Cook             Minnesota  USA-27031   \n",
       "2022-01-01              Franklin         Massachusetts  USA-25011   \n",
       "2022-01-01              Somerset              Maryland  USA-24039   \n",
       "2022-01-01       Prince George's              Maryland  USA-24033   \n",
       "2022-01-01            Montgomery              Maryland  USA-24031   \n",
       "2022-01-01             Baltimore              Maryland  USA-24005   \n",
       "2022-01-01              Somerset                 Maine  USA-23025   \n",
       "2022-01-01              Franklin                 Maine  USA-23007   \n",
       "2022-01-01              Franklin             Louisiana  USA-22041   \n",
       "2022-01-01            Montgomery              Kentucky  USA-21173   \n",
       "2022-01-01              Franklin              Kentucky  USA-21073   \n",
       "2022-01-01            Montgomery                Kansas  USA-20125   \n",
       "2022-01-01              Franklin                Kansas  USA-20059   \n",
       "2022-01-01            Montgomery                  Iowa  USA-19137   \n",
       "2022-01-01              Franklin                  Iowa  USA-19069   \n",
       "2022-01-01                Putnam               Indiana  USA-18133   \n",
       "2022-01-01            Montgomery               Indiana  USA-18107   \n",
       "2022-01-01              Franklin               Indiana  USA-18047   \n",
       "2022-01-01                Putnam              Illinois  USA-17155   \n",
       "2022-01-01            Montgomery              Illinois  USA-17135   \n",
       "2022-01-01              Franklin              Illinois  USA-17055   \n",
       "2022-01-01                  Cook              Illinois  USA-17031   \n",
       "2022-01-01              Franklin                 Idaho  USA-16041   \n",
       "2022-01-01                Putnam               Georgia  USA-13237   \n",
       "2022-01-01            Montgomery               Georgia  USA-13209   \n",
       "2022-01-01              Franklin               Georgia  USA-13119   \n",
       "2022-01-01                  Cook               Georgia  USA-13075   \n",
       "2022-01-01                Putnam               Florida  USA-12107   \n",
       "2022-01-01               Manatee               Florida  USA-12081   \n",
       "2022-01-01              Franklin               Florida  USA-12037   \n",
       "2022-01-01  District of Columbia  District of Columbia  USA-11001   \n",
       "2022-01-01                Denver              Colorado  USA-08031   \n",
       "2022-01-01               Boulder              Colorado  USA-08013   \n",
       "2022-01-01         San Francisco            California  USA-06075   \n",
       "2022-01-01           Los Angeles            California  USA-06037   \n",
       "2022-01-01            Montgomery              Arkansas  USA-05097   \n",
       "2022-01-01              Franklin              Arkansas  USA-05047   \n",
       "2022-01-01                  Pima               Arizona  USA-04019   \n",
       "2022-01-01            Montgomery               Alabama  USA-01101   \n",
       "2022-01-01              Franklin               Alabama  USA-01059   \n",
       "\n",
       "            cases_avg_per_100k  \n",
       "date                            \n",
       "2022-01-01               82.19  \n",
       "2022-01-01               55.42  \n",
       "2022-01-01               73.14  \n",
       "2022-01-01               32.26  \n",
       "2022-01-01               46.25  \n",
       "2022-01-01               68.83  \n",
       "2022-01-01              190.42  \n",
       "2022-01-01              176.34  \n",
       "2022-01-01               96.87  \n",
       "2022-01-01               10.67  \n",
       "2022-01-01               66.54  \n",
       "2022-01-01               22.64  \n",
       "2022-01-01               45.57  \n",
       "2022-01-01               80.39  \n",
       "2022-01-01               65.32  \n",
       "2022-01-01               76.83  \n",
       "2022-01-01              160.40  \n",
       "2022-01-01              137.54  \n",
       "2022-01-01              107.91  \n",
       "2022-01-01              132.63  \n",
       "2022-01-01              109.09  \n",
       "2022-01-01               54.00  \n",
       "2022-01-01               90.12  \n",
       "2022-01-01              146.41  \n",
       "2022-01-01               91.63  \n",
       "2022-01-01               39.25  \n",
       "2022-01-01              110.34  \n",
       "2022-01-01              415.58  \n",
       "2022-01-01              284.78  \n",
       "2022-01-01               87.62  \n",
       "2022-01-01               66.22  \n",
       "2022-01-01              271.01  \n",
       "2022-01-01               14.39  \n",
       "2022-01-01               42.59  \n",
       "2022-01-01               54.42  \n",
       "2022-01-01               63.07  \n",
       "2022-01-01               98.47  \n",
       "2022-01-01               43.76  \n",
       "2022-01-01               33.99  \n",
       "2022-01-01              104.83  \n",
       "2022-01-01              130.50  \n",
       "2022-01-01              342.75  \n",
       "2022-01-01              234.47  \n",
       "2022-01-01              248.15  \n",
       "2022-01-01               58.58  \n",
       "2022-01-01               75.22  \n",
       "2022-01-01               67.81  \n",
       "2022-01-01               27.40  \n",
       "2022-01-01               53.79  \n",
       "2022-01-01               55.65  \n",
       "2022-01-01              130.87  \n",
       "2022-01-01               33.13  \n",
       "2022-01-01               41.14  \n",
       "2022-01-01               64.54  \n",
       "2022-01-01               56.08  \n",
       "2022-01-01               47.79  \n",
       "2022-01-01               94.59  \n",
       "2022-01-01              131.22  \n",
       "2022-01-01               76.87  \n",
       "2022-01-01              171.58  \n",
       "2022-01-01               14.41  \n",
       "2022-01-01              105.27  \n",
       "2022-01-01               21.81  \n",
       "2022-01-01               29.98  \n",
       "2022-01-01               58.73  \n",
       "2022-01-01               29.71  \n",
       "2022-01-01              100.75  \n",
       "2022-01-01               25.92  \n",
       "2022-01-01              297.98  \n",
       "2022-01-01              149.38  \n",
       "2022-01-01               99.48  \n",
       "2022-01-01              107.10  \n",
       "2022-01-01              144.21  \n",
       "2022-01-01               19.08  \n",
       "2022-01-01               20.97  \n",
       "2022-01-01               55.85  \n",
       "2022-01-01              148.42  \n",
       "2022-01-01               35.99  "
      ]
     },
     "execution_count": 9,
     "metadata": {},
     "output_type": "execute_result"
    }
   ],
   "source": [
    "df_2022_smaller.drop_duplicates(subset=[\"county\", \"state\"])\n"
   ]
  },
  {
   "cell_type": "markdown",
   "metadata": {},
   "source": [
    "Convert geoid to FIPS code for plotting"
   ]
  },
  {
   "cell_type": "code",
   "execution_count": 10,
   "metadata": {},
   "outputs": [
    {
     "data": {
      "text/html": [
       "<div>\n",
       "<style scoped>\n",
       "    .dataframe tbody tr th:only-of-type {\n",
       "        vertical-align: middle;\n",
       "    }\n",
       "\n",
       "    .dataframe tbody tr th {\n",
       "        vertical-align: top;\n",
       "    }\n",
       "\n",
       "    .dataframe thead th {\n",
       "        text-align: right;\n",
       "    }\n",
       "</style>\n",
       "<table border=\"1\" class=\"dataframe\">\n",
       "  <thead>\n",
       "    <tr style=\"text-align: right;\">\n",
       "      <th></th>\n",
       "      <th>geoid</th>\n",
       "      <th>county</th>\n",
       "      <th>state</th>\n",
       "      <th>cases</th>\n",
       "      <th>cases_avg</th>\n",
       "      <th>cases_avg_per_100k</th>\n",
       "      <th>deaths</th>\n",
       "      <th>deaths_avg</th>\n",
       "      <th>deaths_avg_per_100k</th>\n",
       "      <th>fips</th>\n",
       "    </tr>\n",
       "    <tr>\n",
       "      <th>date</th>\n",
       "      <th></th>\n",
       "      <th></th>\n",
       "      <th></th>\n",
       "      <th></th>\n",
       "      <th></th>\n",
       "      <th></th>\n",
       "      <th></th>\n",
       "      <th></th>\n",
       "      <th></th>\n",
       "      <th></th>\n",
       "    </tr>\n",
       "  </thead>\n",
       "  <tbody>\n",
       "    <tr>\n",
       "      <th>2022-01-01</th>\n",
       "      <td>USA-72999</td>\n",
       "      <td>Unknown</td>\n",
       "      <td>Puerto Rico</td>\n",
       "      <td>0</td>\n",
       "      <td>328.14</td>\n",
       "      <td>NaN</td>\n",
       "      <td>0</td>\n",
       "      <td>0.00</td>\n",
       "      <td>NaN</td>\n",
       "      <td>72999</td>\n",
       "    </tr>\n",
       "    <tr>\n",
       "      <th>2022-01-01</th>\n",
       "      <td>USA-72153</td>\n",
       "      <td>Yauco</td>\n",
       "      <td>Puerto Rico</td>\n",
       "      <td>0</td>\n",
       "      <td>66.50</td>\n",
       "      <td>196.40</td>\n",
       "      <td>0</td>\n",
       "      <td>0.00</td>\n",
       "      <td>0.00</td>\n",
       "      <td>72153</td>\n",
       "    </tr>\n",
       "    <tr>\n",
       "      <th>2022-01-01</th>\n",
       "      <td>USA-72151</td>\n",
       "      <td>Yabucoa</td>\n",
       "      <td>Puerto Rico</td>\n",
       "      <td>0</td>\n",
       "      <td>63.13</td>\n",
       "      <td>196.30</td>\n",
       "      <td>0</td>\n",
       "      <td>0.00</td>\n",
       "      <td>0.00</td>\n",
       "      <td>72151</td>\n",
       "    </tr>\n",
       "    <tr>\n",
       "      <th>2022-01-01</th>\n",
       "      <td>USA-72149</td>\n",
       "      <td>Villalba</td>\n",
       "      <td>Puerto Rico</td>\n",
       "      <td>0</td>\n",
       "      <td>47.50</td>\n",
       "      <td>221.18</td>\n",
       "      <td>0</td>\n",
       "      <td>0.00</td>\n",
       "      <td>0.00</td>\n",
       "      <td>72149</td>\n",
       "    </tr>\n",
       "    <tr>\n",
       "      <th>2022-01-01</th>\n",
       "      <td>USA-72147</td>\n",
       "      <td>Vieques</td>\n",
       "      <td>Puerto Rico</td>\n",
       "      <td>0</td>\n",
       "      <td>7.63</td>\n",
       "      <td>91.16</td>\n",
       "      <td>0</td>\n",
       "      <td>0.00</td>\n",
       "      <td>0.00</td>\n",
       "      <td>72147</td>\n",
       "    </tr>\n",
       "    <tr>\n",
       "      <th>...</th>\n",
       "      <td>...</td>\n",
       "      <td>...</td>\n",
       "      <td>...</td>\n",
       "      <td>...</td>\n",
       "      <td>...</td>\n",
       "      <td>...</td>\n",
       "      <td>...</td>\n",
       "      <td>...</td>\n",
       "      <td>...</td>\n",
       "      <td>...</td>\n",
       "    </tr>\n",
       "    <tr>\n",
       "      <th>2022-01-28</th>\n",
       "      <td>USA-69100</td>\n",
       "      <td>Rota</td>\n",
       "      <td>Northern Mariana Islands</td>\n",
       "      <td>0</td>\n",
       "      <td>0.00</td>\n",
       "      <td>0.00</td>\n",
       "      <td>0</td>\n",
       "      <td>0.00</td>\n",
       "      <td>0.00</td>\n",
       "      <td>69100</td>\n",
       "    </tr>\n",
       "    <tr>\n",
       "      <th>2022-01-28</th>\n",
       "      <td>USA-78999</td>\n",
       "      <td>Unknown</td>\n",
       "      <td>Virgin Islands</td>\n",
       "      <td>0</td>\n",
       "      <td>0.00</td>\n",
       "      <td>NaN</td>\n",
       "      <td>1</td>\n",
       "      <td>0.22</td>\n",
       "      <td>NaN</td>\n",
       "      <td>78999</td>\n",
       "    </tr>\n",
       "    <tr>\n",
       "      <th>2022-01-28</th>\n",
       "      <td>USA-78030</td>\n",
       "      <td>St. Thomas</td>\n",
       "      <td>Virgin Islands</td>\n",
       "      <td>6</td>\n",
       "      <td>32.75</td>\n",
       "      <td>63.43</td>\n",
       "      <td>0</td>\n",
       "      <td>0.43</td>\n",
       "      <td>0.83</td>\n",
       "      <td>78030</td>\n",
       "    </tr>\n",
       "    <tr>\n",
       "      <th>2022-01-28</th>\n",
       "      <td>USA-78020</td>\n",
       "      <td>St. John</td>\n",
       "      <td>Virgin Islands</td>\n",
       "      <td>0</td>\n",
       "      <td>6.00</td>\n",
       "      <td>143.88</td>\n",
       "      <td>0</td>\n",
       "      <td>0.00</td>\n",
       "      <td>0.00</td>\n",
       "      <td>78020</td>\n",
       "    </tr>\n",
       "    <tr>\n",
       "      <th>2022-01-28</th>\n",
       "      <td>USA-78010</td>\n",
       "      <td>St. Croix</td>\n",
       "      <td>Virgin Islands</td>\n",
       "      <td>40</td>\n",
       "      <td>58.75</td>\n",
       "      <td>116.10</td>\n",
       "      <td>0</td>\n",
       "      <td>0.43</td>\n",
       "      <td>0.85</td>\n",
       "      <td>78010</td>\n",
       "    </tr>\n",
       "  </tbody>\n",
       "</table>\n",
       "<p>91102 rows × 10 columns</p>\n",
       "</div>"
      ],
      "text/plain": [
       "                geoid      county                     state  cases  cases_avg  \\\n",
       "date                                                                            \n",
       "2022-01-01  USA-72999     Unknown               Puerto Rico      0     328.14   \n",
       "2022-01-01  USA-72153       Yauco               Puerto Rico      0      66.50   \n",
       "2022-01-01  USA-72151     Yabucoa               Puerto Rico      0      63.13   \n",
       "2022-01-01  USA-72149    Villalba               Puerto Rico      0      47.50   \n",
       "2022-01-01  USA-72147     Vieques               Puerto Rico      0       7.63   \n",
       "...               ...         ...                       ...    ...        ...   \n",
       "2022-01-28  USA-69100        Rota  Northern Mariana Islands      0       0.00   \n",
       "2022-01-28  USA-78999     Unknown            Virgin Islands      0       0.00   \n",
       "2022-01-28  USA-78030  St. Thomas            Virgin Islands      6      32.75   \n",
       "2022-01-28  USA-78020    St. John            Virgin Islands      0       6.00   \n",
       "2022-01-28  USA-78010   St. Croix            Virgin Islands     40      58.75   \n",
       "\n",
       "            cases_avg_per_100k  deaths  deaths_avg  deaths_avg_per_100k   fips  \n",
       "date                                                                            \n",
       "2022-01-01                 NaN       0        0.00                  NaN  72999  \n",
       "2022-01-01              196.40       0        0.00                 0.00  72153  \n",
       "2022-01-01              196.30       0        0.00                 0.00  72151  \n",
       "2022-01-01              221.18       0        0.00                 0.00  72149  \n",
       "2022-01-01               91.16       0        0.00                 0.00  72147  \n",
       "...                        ...     ...         ...                  ...    ...  \n",
       "2022-01-28                0.00       0        0.00                 0.00  69100  \n",
       "2022-01-28                 NaN       1        0.22                  NaN  78999  \n",
       "2022-01-28               63.43       0        0.43                 0.83  78030  \n",
       "2022-01-28              143.88       0        0.00                 0.00  78020  \n",
       "2022-01-28              116.10       0        0.43                 0.85  78010  \n",
       "\n",
       "[91102 rows x 10 columns]"
      ]
     },
     "execution_count": 10,
     "metadata": {},
     "output_type": "execute_result"
    }
   ],
   "source": [
    "df_2022[\"fips\"] = df_2022[\"geoid\"].str[-5:]\n",
    "df_2022\n"
   ]
  },
  {
   "cell_type": "code",
   "execution_count": 11,
   "metadata": {},
   "outputs": [
    {
     "name": "stdout",
     "output_type": "stream",
     "text": [
      "<class 'pandas.core.frame.DataFrame'>\n",
      "Index: 91102 entries, 2022-01-01 to 2022-01-28\n",
      "Data columns (total 10 columns):\n",
      " #   Column               Non-Null Count  Dtype  \n",
      "---  ------               --------------  -----  \n",
      " 0   geoid                91102 non-null  object \n",
      " 1   county               91102 non-null  object \n",
      " 2   state                91102 non-null  object \n",
      " 3   cases                91102 non-null  int64  \n",
      " 4   cases_avg            91102 non-null  float64\n",
      " 5   cases_avg_per_100k   90197 non-null  float64\n",
      " 6   deaths               91102 non-null  int64  \n",
      " 7   deaths_avg           91102 non-null  float64\n",
      " 8   deaths_avg_per_100k  90197 non-null  float64\n",
      " 9   fips                 91102 non-null  object \n",
      "dtypes: float64(4), int64(2), object(4)\n",
      "memory usage: 7.6+ MB\n"
     ]
    }
   ],
   "source": [
    "df_2022.info()"
   ]
  },
  {
   "cell_type": "markdown",
   "metadata": {},
   "source": [
    "Filter to fips codes of counties I want. \n",
    "\n",
    "If ever make into an app, will change to have folks choose State and then County from drop downs.\n"
   ]
  },
  {
   "cell_type": "code",
   "execution_count": 42,
   "metadata": {},
   "outputs": [
    {
     "data": {
      "text/html": [
       "<div>\n",
       "<style scoped>\n",
       "    .dataframe tbody tr th:only-of-type {\n",
       "        vertical-align: middle;\n",
       "    }\n",
       "\n",
       "    .dataframe tbody tr th {\n",
       "        vertical-align: top;\n",
       "    }\n",
       "\n",
       "    .dataframe thead th {\n",
       "        text-align: right;\n",
       "    }\n",
       "</style>\n",
       "<table border=\"1\" class=\"dataframe\">\n",
       "  <thead>\n",
       "    <tr style=\"text-align: right;\">\n",
       "      <th></th>\n",
       "      <th>county</th>\n",
       "      <th>state</th>\n",
       "      <th>fips</th>\n",
       "      <th>cases_avg_per_100k</th>\n",
       "    </tr>\n",
       "    <tr>\n",
       "      <th>date</th>\n",
       "      <th></th>\n",
       "      <th></th>\n",
       "      <th></th>\n",
       "      <th></th>\n",
       "    </tr>\n",
       "  </thead>\n",
       "  <tbody>\n",
       "    <tr>\n",
       "      <th>2022-01-01</th>\n",
       "      <td>Arlington</td>\n",
       "      <td>Virginia</td>\n",
       "      <td>51013</td>\n",
       "      <td>190.42</td>\n",
       "    </tr>\n",
       "    <tr>\n",
       "      <th>2022-01-01</th>\n",
       "      <td>Somerset</td>\n",
       "      <td>Pennsylvania</td>\n",
       "      <td>42111</td>\n",
       "      <td>76.83</td>\n",
       "    </tr>\n",
       "    <tr>\n",
       "      <th>2022-01-01</th>\n",
       "      <td>Allegheny</td>\n",
       "      <td>Pennsylvania</td>\n",
       "      <td>42003</td>\n",
       "      <td>132.63</td>\n",
       "    </tr>\n",
       "    <tr>\n",
       "      <th>2022-01-01</th>\n",
       "      <td>Wood</td>\n",
       "      <td>Ohio</td>\n",
       "      <td>39173</td>\n",
       "      <td>109.09</td>\n",
       "    </tr>\n",
       "    <tr>\n",
       "      <th>2022-01-01</th>\n",
       "      <td>Putnam</td>\n",
       "      <td>Ohio</td>\n",
       "      <td>39137</td>\n",
       "      <td>54.00</td>\n",
       "    </tr>\n",
       "    <tr>\n",
       "      <th>...</th>\n",
       "      <td>...</td>\n",
       "      <td>...</td>\n",
       "      <td>...</td>\n",
       "      <td>...</td>\n",
       "    </tr>\n",
       "    <tr>\n",
       "      <th>2022-01-28</th>\n",
       "      <td>District of Columbia</td>\n",
       "      <td>District of Columbia</td>\n",
       "      <td>11001</td>\n",
       "      <td>52.97</td>\n",
       "    </tr>\n",
       "    <tr>\n",
       "      <th>2022-01-28</th>\n",
       "      <td>Denver</td>\n",
       "      <td>Colorado</td>\n",
       "      <td>08031</td>\n",
       "      <td>128.22</td>\n",
       "    </tr>\n",
       "    <tr>\n",
       "      <th>2022-01-28</th>\n",
       "      <td>Boulder</td>\n",
       "      <td>Colorado</td>\n",
       "      <td>08013</td>\n",
       "      <td>129.72</td>\n",
       "    </tr>\n",
       "    <tr>\n",
       "      <th>2022-01-28</th>\n",
       "      <td>San Francisco</td>\n",
       "      <td>California</td>\n",
       "      <td>06075</td>\n",
       "      <td>156.79</td>\n",
       "    </tr>\n",
       "    <tr>\n",
       "      <th>2022-01-28</th>\n",
       "      <td>Los Angeles</td>\n",
       "      <td>California</td>\n",
       "      <td>06037</td>\n",
       "      <td>258.48</td>\n",
       "    </tr>\n",
       "  </tbody>\n",
       "</table>\n",
       "<p>504 rows × 4 columns</p>\n",
       "</div>"
      ],
      "text/plain": [
       "                          county                 state   fips  \\\n",
       "date                                                            \n",
       "2022-01-01             Arlington              Virginia  51013   \n",
       "2022-01-01              Somerset          Pennsylvania  42111   \n",
       "2022-01-01             Allegheny          Pennsylvania  42003   \n",
       "2022-01-01                  Wood                  Ohio  39173   \n",
       "2022-01-01                Putnam                  Ohio  39137   \n",
       "...                          ...                   ...    ...   \n",
       "2022-01-28  District of Columbia  District of Columbia  11001   \n",
       "2022-01-28                Denver              Colorado  08031   \n",
       "2022-01-28               Boulder              Colorado  08013   \n",
       "2022-01-28         San Francisco            California  06075   \n",
       "2022-01-28           Los Angeles            California  06037   \n",
       "\n",
       "            cases_avg_per_100k  \n",
       "date                            \n",
       "2022-01-01              190.42  \n",
       "2022-01-01               76.83  \n",
       "2022-01-01              132.63  \n",
       "2022-01-01              109.09  \n",
       "2022-01-01               54.00  \n",
       "...                        ...  \n",
       "2022-01-28               52.97  \n",
       "2022-01-28              128.22  \n",
       "2022-01-28              129.72  \n",
       "2022-01-28              156.79  \n",
       "2022-01-28              258.48  \n",
       "\n",
       "[504 rows x 4 columns]"
      ]
     },
     "execution_count": 42,
     "metadata": {},
     "output_type": "execute_result"
    }
   ],
   "source": [
    "fips_counties = [\n",
    "    \"11001\",\n",
    "    \"24033\",\n",
    "    \"24031\",\n",
    "    \"17031\",\n",
    "    \"39173\",\n",
    "    \"39137\",\n",
    "    \"39113\",\n",
    "    \"39049\",\n",
    "    \"51013\",\n",
    "    \"42111\",\n",
    "    \"42003\",\n",
    "    \"39025\",\n",
    "    \"08031\",\n",
    "    \"08013\",\n",
    "    \"04019\",\n",
    "    \"24005\",\n",
    "    \"06037\",\n",
    "    \"06075\",\n",
    "    \"36061\",\n",
    "    \"12081\",\n",
    "]\n",
    "\n",
    "cols = [\"county\", \"state\", \"fips\", \"cases_avg_per_100k\"]\n",
    "\n",
    "df_2022_counties = df_2022.loc[df_2022[\"fips\"].isin(fips_counties), cols]\n",
    "df_2022_counties\n"
   ]
  },
  {
   "cell_type": "code",
   "execution_count": 43,
   "metadata": {},
   "outputs": [
    {
     "data": {
      "application/vnd.plotly.v1+json": {
       "config": {
        "plotlyServerURL": "https://plot.ly"
       },
       "data": [
        {
         "hovertemplate": "county=Arlington<br>date=%{x}<br>cases_avg_per_100k=%{y}<extra></extra>",
         "legendgroup": "Arlington",
         "line": {
          "color": "#636efa",
          "dash": "solid"
         },
         "mode": "lines",
         "name": "Arlington",
         "orientation": "v",
         "showlegend": true,
         "type": "scatter",
         "x": [
          "2022-01-01",
          "2022-01-02",
          "2022-01-03",
          "2022-01-04",
          "2022-01-05",
          "2022-01-06",
          "2022-01-07",
          "2022-01-08",
          "2022-01-09",
          "2022-01-10",
          "2022-01-11",
          "2022-01-12",
          "2022-01-13",
          "2022-01-14",
          "2022-01-15",
          "2022-01-16",
          "2022-01-17",
          "2022-01-18",
          "2022-01-19",
          "2022-01-20",
          "2022-01-21",
          "2022-01-22",
          "2022-01-23",
          "2022-01-24",
          "2022-01-25",
          "2022-01-26",
          "2022-01-27",
          "2022-01-28"
         ],
         "xaxis": "x",
         "y": [
          190.42,
          190.42,
          207.07,
          200.98,
          195.55,
          198.75,
          178.6,
          178.6,
          178.6,
          231.26,
          241.09,
          272.82,
          264.73,
          258.88,
          258.88,
          258.88,
          211.71,
          205.92,
          178.6,
          167.2,
          168.35,
          168.35,
          168.35,
          119.67,
          109.42,
          104.47,
          93.13,
          84.14
         ],
         "yaxis": "y"
        },
        {
         "hovertemplate": "county=Somerset<br>date=%{x}<br>cases_avg_per_100k=%{y}<extra></extra>",
         "legendgroup": "Somerset",
         "line": {
          "color": "#EF553B",
          "dash": "solid"
         },
         "mode": "lines",
         "name": "Somerset",
         "orientation": "v",
         "showlegend": true,
         "type": "scatter",
         "x": [
          "2022-01-01",
          "2022-01-02",
          "2022-01-03",
          "2022-01-04",
          "2022-01-05",
          "2022-01-06",
          "2022-01-07",
          "2022-01-08",
          "2022-01-09",
          "2022-01-10",
          "2022-01-11",
          "2022-01-12",
          "2022-01-13",
          "2022-01-14",
          "2022-01-15",
          "2022-01-16",
          "2022-01-17",
          "2022-01-18",
          "2022-01-19",
          "2022-01-20",
          "2022-01-21",
          "2022-01-22",
          "2022-01-23",
          "2022-01-24",
          "2022-01-25",
          "2022-01-26",
          "2022-01-27",
          "2022-01-28"
         ],
         "xaxis": "x",
         "y": [
          76.83,
          82.28,
          85.39,
          94.33,
          109.12,
          107.56,
          119.23,
          117.67,
          132.65,
          140.24,
          140.24,
          152.49,
          166.11,
          173.5,
          180.69,
          199.17,
          221.73,
          238.07,
          220.96,
          217.46,
          226.4,
          236.13,
          212.98,
          195.09,
          191.98,
          185.17,
          186.53,
          172.72
         ],
         "yaxis": "y"
        },
        {
         "hovertemplate": "county=Allegheny<br>date=%{x}<br>cases_avg_per_100k=%{y}<extra></extra>",
         "legendgroup": "Allegheny",
         "line": {
          "color": "#00cc96",
          "dash": "solid"
         },
         "mode": "lines",
         "name": "Allegheny",
         "orientation": "v",
         "showlegend": true,
         "type": "scatter",
         "x": [
          "2022-01-01",
          "2022-01-02",
          "2022-01-03",
          "2022-01-04",
          "2022-01-05",
          "2022-01-06",
          "2022-01-07",
          "2022-01-08",
          "2022-01-09",
          "2022-01-10",
          "2022-01-11",
          "2022-01-12",
          "2022-01-13",
          "2022-01-14",
          "2022-01-15",
          "2022-01-16",
          "2022-01-17",
          "2022-01-18",
          "2022-01-19",
          "2022-01-20",
          "2022-01-21",
          "2022-01-22",
          "2022-01-23",
          "2022-01-24",
          "2022-01-25",
          "2022-01-26",
          "2022-01-27",
          "2022-01-28"
         ],
         "xaxis": "x",
         "y": [
          132.63,
          146.87,
          173.77,
          191.78,
          211.65,
          242.86,
          263.32,
          266.84,
          279.85,
          282.3,
          280.36,
          290.58,
          274.05,
          264.58,
          257.22,
          266.27,
          252.63,
          248.87,
          217.71,
          200.51,
          188.68,
          174.22,
          139.77,
          135.25,
          126.23,
          118.93,
          117.81,
          108.56
         ],
         "yaxis": "y"
        },
        {
         "hovertemplate": "county=Wood<br>date=%{x}<br>cases_avg_per_100k=%{y}<extra></extra>",
         "legendgroup": "Wood",
         "line": {
          "color": "#ab63fa",
          "dash": "solid"
         },
         "mode": "lines",
         "name": "Wood",
         "orientation": "v",
         "showlegend": true,
         "type": "scatter",
         "x": [
          "2022-01-01",
          "2022-01-02",
          "2022-01-03",
          "2022-01-04",
          "2022-01-05",
          "2022-01-06",
          "2022-01-07",
          "2022-01-08",
          "2022-01-09",
          "2022-01-10",
          "2022-01-11",
          "2022-01-12",
          "2022-01-13",
          "2022-01-14",
          "2022-01-15",
          "2022-01-16",
          "2022-01-17",
          "2022-01-18",
          "2022-01-19",
          "2022-01-20",
          "2022-01-21",
          "2022-01-22",
          "2022-01-23",
          "2022-01-24",
          "2022-01-25",
          "2022-01-26",
          "2022-01-27",
          "2022-01-28"
         ],
         "xaxis": "x",
         "y": [
          109.09,
          129.73,
          144.04,
          146.77,
          148.74,
          157.69,
          156.05,
          163.78,
          172.87,
          165.55,
          186.19,
          194.27,
          194.93,
          238.5,
          276.94,
          287.1,
          303.91,
          284.91,
          288.08,
          300.42,
          265.8,
          227.58,
          205.3,
          187.72,
          171.78,
          165.99,
          145.35,
          127.22
         ],
         "yaxis": "y"
        },
        {
         "hovertemplate": "county=Putnam<br>date=%{x}<br>cases_avg_per_100k=%{y}<extra></extra>",
         "legendgroup": "Putnam",
         "line": {
          "color": "#FFA15A",
          "dash": "solid"
         },
         "mode": "lines",
         "name": "Putnam",
         "orientation": "v",
         "showlegend": true,
         "type": "scatter",
         "x": [
          "2022-01-01",
          "2022-01-02",
          "2022-01-03",
          "2022-01-04",
          "2022-01-05",
          "2022-01-06",
          "2022-01-07",
          "2022-01-08",
          "2022-01-09",
          "2022-01-10",
          "2022-01-11",
          "2022-01-12",
          "2022-01-13",
          "2022-01-14",
          "2022-01-15",
          "2022-01-16",
          "2022-01-17",
          "2022-01-18",
          "2022-01-19",
          "2022-01-20",
          "2022-01-21",
          "2022-01-22",
          "2022-01-23",
          "2022-01-24",
          "2022-01-25",
          "2022-01-26",
          "2022-01-27",
          "2022-01-28"
         ],
         "xaxis": "x",
         "y": [
          54,
          64.13,
          72.57,
          83.96,
          91.13,
          103.79,
          110.11,
          122.56,
          146.82,
          151.04,
          159.05,
          156.52,
          164.54,
          203.35,
          241.74,
          240.06,
          245.96,
          237.53,
          254.82,
          248.92,
          218.12,
          164.96,
          153.15,
          142.6,
          127.41,
          118.55,
          106.74,
          87.33
         ],
         "yaxis": "y"
        },
        {
         "hovertemplate": "county=Montgomery<br>date=%{x}<br>cases_avg_per_100k=%{y}<extra></extra>",
         "legendgroup": "Montgomery",
         "line": {
          "color": "#19d3f3",
          "dash": "solid"
         },
         "mode": "lines",
         "name": "Montgomery",
         "orientation": "v",
         "showlegend": true,
         "type": "scatter",
         "x": [
          "2022-01-01",
          "2022-01-01",
          "2022-01-02",
          "2022-01-02",
          "2022-01-03",
          "2022-01-03",
          "2022-01-04",
          "2022-01-04",
          "2022-01-05",
          "2022-01-05",
          "2022-01-06",
          "2022-01-06",
          "2022-01-07",
          "2022-01-07",
          "2022-01-08",
          "2022-01-08",
          "2022-01-09",
          "2022-01-09",
          "2022-01-10",
          "2022-01-10",
          "2022-01-11",
          "2022-01-11",
          "2022-01-12",
          "2022-01-12",
          "2022-01-13",
          "2022-01-13",
          "2022-01-14",
          "2022-01-14",
          "2022-01-15",
          "2022-01-15",
          "2022-01-16",
          "2022-01-16",
          "2022-01-17",
          "2022-01-17",
          "2022-01-18",
          "2022-01-18",
          "2022-01-19",
          "2022-01-19",
          "2022-01-20",
          "2022-01-20",
          "2022-01-21",
          "2022-01-21",
          "2022-01-22",
          "2022-01-22",
          "2022-01-23",
          "2022-01-23",
          "2022-01-24",
          "2022-01-24",
          "2022-01-25",
          "2022-01-25",
          "2022-01-26",
          "2022-01-26",
          "2022-01-27",
          "2022-01-27",
          "2022-01-28",
          "2022-01-28"
         ],
         "xaxis": "x",
         "y": [
          90.12,
          234.47,
          118.25,
          304.89,
          132.54,
          325.32,
          144.88,
          257.19,
          152.78,
          249.48,
          153.55,
          250.16,
          154.84,
          248.35,
          153.85,
          252.06,
          151.81,
          305.38,
          156.11,
          276.12,
          158.34,
          270.29,
          164.97,
          283.53,
          172.25,
          274.64,
          219.73,
          265.93,
          283.38,
          258.57,
          315.22,
          220.62,
          330.86,
          202.29,
          332.37,
          170.57,
          334.73,
          150,
          350.34,
          146.08,
          313.4,
          131,
          251.11,
          110.21,
          216.4,
          95.57,
          197.81,
          82.5,
          171.66,
          82.84,
          176.85,
          79.13,
          155.6,
          56.19,
          136.87,
          52.37
         ],
         "yaxis": "y"
        },
        {
         "hovertemplate": "county=Franklin<br>date=%{x}<br>cases_avg_per_100k=%{y}<extra></extra>",
         "legendgroup": "Franklin",
         "line": {
          "color": "#FF6692",
          "dash": "solid"
         },
         "mode": "lines",
         "name": "Franklin",
         "orientation": "v",
         "showlegend": true,
         "type": "scatter",
         "x": [
          "2022-01-01",
          "2022-01-02",
          "2022-01-03",
          "2022-01-04",
          "2022-01-05",
          "2022-01-06",
          "2022-01-07",
          "2022-01-08",
          "2022-01-09",
          "2022-01-10",
          "2022-01-11",
          "2022-01-12",
          "2022-01-13",
          "2022-01-14",
          "2022-01-15",
          "2022-01-16",
          "2022-01-17",
          "2022-01-18",
          "2022-01-19",
          "2022-01-20",
          "2022-01-21",
          "2022-01-22",
          "2022-01-23",
          "2022-01-24",
          "2022-01-25",
          "2022-01-26",
          "2022-01-27",
          "2022-01-28"
         ],
         "xaxis": "x",
         "y": [
          146.41,
          174.15,
          187.68,
          201.78,
          198.9,
          197.68,
          202.91,
          200.58,
          204.83,
          210.06,
          200.56,
          197.23,
          193.66,
          220.56,
          259.6,
          265.87,
          263.32,
          256.25,
          257.02,
          258.88,
          219.86,
          172.95,
          150.83,
          132.89,
          116.78,
          115.78,
          103.67,
          93.89
         ],
         "yaxis": "y"
        },
        {
         "hovertemplate": "county=Clermont<br>date=%{x}<br>cases_avg_per_100k=%{y}<extra></extra>",
         "legendgroup": "Clermont",
         "line": {
          "color": "#B6E880",
          "dash": "solid"
         },
         "mode": "lines",
         "name": "Clermont",
         "orientation": "v",
         "showlegend": true,
         "type": "scatter",
         "x": [
          "2022-01-01",
          "2022-01-02",
          "2022-01-03",
          "2022-01-04",
          "2022-01-05",
          "2022-01-06",
          "2022-01-07",
          "2022-01-08",
          "2022-01-09",
          "2022-01-10",
          "2022-01-11",
          "2022-01-12",
          "2022-01-13",
          "2022-01-14",
          "2022-01-15",
          "2022-01-16",
          "2022-01-17",
          "2022-01-18",
          "2022-01-19",
          "2022-01-20",
          "2022-01-21",
          "2022-01-22",
          "2022-01-23",
          "2022-01-24",
          "2022-01-25",
          "2022-01-26",
          "2022-01-27",
          "2022-01-28"
         ],
         "xaxis": "x",
         "y": [
          91.63,
          117.79,
          125.4,
          124.84,
          130.45,
          130.87,
          139.38,
          142.73,
          154.6,
          156.47,
          170.38,
          178.13,
          184.98,
          248.86,
          309,
          325.33,
          333.5,
          338.89,
          348.31,
          361.94,
          314.26,
          265.61,
          240,
          234.4,
          205.19,
          216.89,
          198.69,
          179.93
         ],
         "yaxis": "y"
        },
        {
         "hovertemplate": "county=Prince George's<br>date=%{x}<br>cases_avg_per_100k=%{y}<extra></extra>",
         "legendgroup": "Prince George's",
         "line": {
          "color": "#FF97FF",
          "dash": "solid"
         },
         "mode": "lines",
         "name": "Prince George's",
         "orientation": "v",
         "showlegend": true,
         "type": "scatter",
         "x": [
          "2022-01-01",
          "2022-01-02",
          "2022-01-03",
          "2022-01-04",
          "2022-01-05",
          "2022-01-06",
          "2022-01-07",
          "2022-01-08",
          "2022-01-09",
          "2022-01-10",
          "2022-01-11",
          "2022-01-12",
          "2022-01-13",
          "2022-01-14",
          "2022-01-15",
          "2022-01-16",
          "2022-01-17",
          "2022-01-18",
          "2022-01-19",
          "2022-01-20",
          "2022-01-21",
          "2022-01-22",
          "2022-01-23",
          "2022-01-24",
          "2022-01-25",
          "2022-01-26",
          "2022-01-27",
          "2022-01-28"
         ],
         "xaxis": "x",
         "y": [
          342.75,
          440.48,
          409.51,
          250,
          246.32,
          237.38,
          230.12,
          231.27,
          232.56,
          226.59,
          206.29,
          204.11,
          196.99,
          193.24,
          175.77,
          151.38,
          142.66,
          121.75,
          104.5,
          104.11,
          91.54,
          82.31,
          72.22,
          63.45,
          62.57,
          60.81,
          42.34,
          38.05
         ],
         "yaxis": "y"
        },
        {
         "hovertemplate": "county=Baltimore<br>date=%{x}<br>cases_avg_per_100k=%{y}<extra></extra>",
         "legendgroup": "Baltimore",
         "line": {
          "color": "#FECB52",
          "dash": "solid"
         },
         "mode": "lines",
         "name": "Baltimore",
         "orientation": "v",
         "showlegend": true,
         "type": "scatter",
         "x": [
          "2022-01-01",
          "2022-01-02",
          "2022-01-03",
          "2022-01-04",
          "2022-01-05",
          "2022-01-06",
          "2022-01-07",
          "2022-01-08",
          "2022-01-09",
          "2022-01-10",
          "2022-01-11",
          "2022-01-12",
          "2022-01-13",
          "2022-01-14",
          "2022-01-15",
          "2022-01-16",
          "2022-01-17",
          "2022-01-18",
          "2022-01-19",
          "2022-01-20",
          "2022-01-21",
          "2022-01-22",
          "2022-01-23",
          "2022-01-24",
          "2022-01-25",
          "2022-01-26",
          "2022-01-27",
          "2022-01-28"
         ],
         "xaxis": "x",
         "y": [
          248.15,
          324.13,
          306.59,
          207.75,
          208.42,
          208.04,
          208.28,
          206.13,
          209.39,
          201.57,
          184.03,
          175.94,
          166.07,
          154.79,
          143.88,
          123.52,
          117,
          106.08,
          91.89,
          88.51,
          79.39,
          71.28,
          67.22,
          60.04,
          57.34,
          53.84,
          42.18,
          37.85
         ],
         "yaxis": "y"
        },
        {
         "hovertemplate": "county=Cook<br>date=%{x}<br>cases_avg_per_100k=%{y}<extra></extra>",
         "legendgroup": "Cook",
         "line": {
          "color": "#636efa",
          "dash": "solid"
         },
         "mode": "lines",
         "name": "Cook",
         "orientation": "v",
         "showlegend": true,
         "type": "scatter",
         "x": [
          "2022-01-01",
          "2022-01-02",
          "2022-01-03",
          "2022-01-04",
          "2022-01-05",
          "2022-01-06",
          "2022-01-07",
          "2022-01-08",
          "2022-01-09",
          "2022-01-10",
          "2022-01-11",
          "2022-01-12",
          "2022-01-13",
          "2022-01-14",
          "2022-01-15",
          "2022-01-16",
          "2022-01-17",
          "2022-01-18",
          "2022-01-19",
          "2022-01-20",
          "2022-01-21",
          "2022-01-22",
          "2022-01-23",
          "2022-01-24",
          "2022-01-25",
          "2022-01-26",
          "2022-01-27",
          "2022-01-28"
         ],
         "xaxis": "x",
         "y": [
          171.58,
          171.58,
          203.68,
          201.61,
          207.03,
          220.58,
          232.77,
          232.77,
          232.77,
          234.15,
          232.52,
          230.09,
          212.38,
          192.72,
          192.72,
          192.72,
          192.72,
          167.44,
          154.06,
          139.61,
          157.14,
          157.14,
          157.14,
          148.64,
          138.86,
          130.87,
          122.3,
          88.31
         ],
         "yaxis": "y"
        },
        {
         "hovertemplate": "county=Manatee<br>date=%{x}<br>cases_avg_per_100k=%{y}<extra></extra>",
         "legendgroup": "Manatee",
         "line": {
          "color": "#EF553B",
          "dash": "solid"
         },
         "mode": "lines",
         "name": "Manatee",
         "orientation": "v",
         "showlegend": true,
         "type": "scatter",
         "x": [
          "2022-01-01",
          "2022-01-02",
          "2022-01-03",
          "2022-01-04",
          "2022-01-05",
          "2022-01-06",
          "2022-01-07",
          "2022-01-08",
          "2022-01-09",
          "2022-01-10",
          "2022-01-11",
          "2022-01-12",
          "2022-01-13",
          "2022-01-14",
          "2022-01-15",
          "2022-01-16",
          "2022-01-17",
          "2022-01-18",
          "2022-01-19",
          "2022-01-20",
          "2022-01-21",
          "2022-01-22",
          "2022-01-23",
          "2022-01-24",
          "2022-01-25",
          "2022-01-26",
          "2022-01-27",
          "2022-01-28"
         ],
         "xaxis": "x",
         "y": [
          100.75,
          100.75,
          100.75,
          100.75,
          100.75,
          100.75,
          161.58,
          161.58,
          161.58,
          161.58,
          161.58,
          161.58,
          161.58,
          191.87,
          191.87,
          191.87,
          191.87,
          191.87,
          191.87,
          191.87,
          159.38,
          159.38,
          159.38,
          159.38,
          159.38,
          159.38,
          159.38,
          133.24
         ],
         "yaxis": "y"
        },
        {
         "hovertemplate": "county=District of Columbia<br>date=%{x}<br>cases_avg_per_100k=%{y}<extra></extra>",
         "legendgroup": "District of Columbia",
         "line": {
          "color": "#00cc96",
          "dash": "solid"
         },
         "mode": "lines",
         "name": "District of Columbia",
         "orientation": "v",
         "showlegend": true,
         "type": "scatter",
         "x": [
          "2022-01-01",
          "2022-01-02",
          "2022-01-03",
          "2022-01-04",
          "2022-01-05",
          "2022-01-06",
          "2022-01-07",
          "2022-01-08",
          "2022-01-09",
          "2022-01-10",
          "2022-01-11",
          "2022-01-12",
          "2022-01-13",
          "2022-01-14",
          "2022-01-15",
          "2022-01-16",
          "2022-01-17",
          "2022-01-18",
          "2022-01-19",
          "2022-01-20",
          "2022-01-21",
          "2022-01-22",
          "2022-01-23",
          "2022-01-24",
          "2022-01-25",
          "2022-01-26",
          "2022-01-27",
          "2022-01-28"
         ],
         "xaxis": "x",
         "y": [
          297.98,
          297.98,
          298,
          300.79,
          299.05,
          279.86,
          279.03,
          279.03,
          279.03,
          258.91,
          244.79,
          242.56,
          247.26,
          239.48,
          239.48,
          239.48,
          239.48,
          164.38,
          149.49,
          128.5,
          107.87,
          107.87,
          107.87,
          94.64,
          61.37,
          59.13,
          56.76,
          52.97
         ],
         "yaxis": "y"
        },
        {
         "hovertemplate": "county=Denver<br>date=%{x}<br>cases_avg_per_100k=%{y}<extra></extra>",
         "legendgroup": "Denver",
         "line": {
          "color": "#ab63fa",
          "dash": "solid"
         },
         "mode": "lines",
         "name": "Denver",
         "orientation": "v",
         "showlegend": true,
         "type": "scatter",
         "x": [
          "2022-01-01",
          "2022-01-02",
          "2022-01-03",
          "2022-01-04",
          "2022-01-05",
          "2022-01-06",
          "2022-01-07",
          "2022-01-08",
          "2022-01-09",
          "2022-01-10",
          "2022-01-11",
          "2022-01-12",
          "2022-01-13",
          "2022-01-14",
          "2022-01-15",
          "2022-01-16",
          "2022-01-17",
          "2022-01-18",
          "2022-01-19",
          "2022-01-20",
          "2022-01-21",
          "2022-01-22",
          "2022-01-23",
          "2022-01-24",
          "2022-01-25",
          "2022-01-26",
          "2022-01-27",
          "2022-01-28"
         ],
         "xaxis": "x",
         "y": [
          149.38,
          149.38,
          193.48,
          189.12,
          191.59,
          194.91,
          179.71,
          179.71,
          179.71,
          256.32,
          289.7,
          295.12,
          299.68,
          314.17,
          314.17,
          314.17,
          226.07,
          198.1,
          186.58,
          186.49,
          179.43,
          179.43,
          179.43,
          153.54,
          140.42,
          138.32,
          128.22,
          128.22
         ],
         "yaxis": "y"
        },
        {
         "hovertemplate": "county=Boulder<br>date=%{x}<br>cases_avg_per_100k=%{y}<extra></extra>",
         "legendgroup": "Boulder",
         "line": {
          "color": "#FFA15A",
          "dash": "solid"
         },
         "mode": "lines",
         "name": "Boulder",
         "orientation": "v",
         "showlegend": true,
         "type": "scatter",
         "x": [
          "2022-01-01",
          "2022-01-02",
          "2022-01-03",
          "2022-01-04",
          "2022-01-05",
          "2022-01-06",
          "2022-01-07",
          "2022-01-08",
          "2022-01-09",
          "2022-01-10",
          "2022-01-11",
          "2022-01-12",
          "2022-01-13",
          "2022-01-14",
          "2022-01-15",
          "2022-01-16",
          "2022-01-17",
          "2022-01-18",
          "2022-01-19",
          "2022-01-20",
          "2022-01-21",
          "2022-01-22",
          "2022-01-23",
          "2022-01-24",
          "2022-01-25",
          "2022-01-26",
          "2022-01-27",
          "2022-01-28"
         ],
         "xaxis": "x",
         "y": [
          99.48,
          99.48,
          135.94,
          127.75,
          119.56,
          118.16,
          133.01,
          133.01,
          133.01,
          182.54,
          236.32,
          251.12,
          267.67,
          267.72,
          267.72,
          267.72,
          217.79,
          210.78,
          201.94,
          194.89,
          212.1,
          212.1,
          212.1,
          211.44,
          173.73,
          164.67,
          162.35,
          129.72
         ],
         "yaxis": "y"
        },
        {
         "hovertemplate": "county=San Francisco<br>date=%{x}<br>cases_avg_per_100k=%{y}<extra></extra>",
         "legendgroup": "San Francisco",
         "line": {
          "color": "#19d3f3",
          "dash": "solid"
         },
         "mode": "lines",
         "name": "San Francisco",
         "orientation": "v",
         "showlegend": true,
         "type": "scatter",
         "x": [
          "2022-01-01",
          "2022-01-02",
          "2022-01-03",
          "2022-01-04",
          "2022-01-05",
          "2022-01-06",
          "2022-01-07",
          "2022-01-08",
          "2022-01-09",
          "2022-01-10",
          "2022-01-11",
          "2022-01-12",
          "2022-01-13",
          "2022-01-14",
          "2022-01-15",
          "2022-01-16",
          "2022-01-17",
          "2022-01-18",
          "2022-01-19",
          "2022-01-20",
          "2022-01-21",
          "2022-01-22",
          "2022-01-23",
          "2022-01-24",
          "2022-01-25",
          "2022-01-26",
          "2022-01-27",
          "2022-01-28"
         ],
         "xaxis": "x",
         "y": [
          107.1,
          107.1,
          107.1,
          141.55,
          150.08,
          151.55,
          165.71,
          165.71,
          165.71,
          193.17,
          226.19,
          228.1,
          270.21,
          271,
          271,
          271,
          260.18,
          250.57,
          246.42,
          254.5,
          242.87,
          242.87,
          242.87,
          212.27,
          208.71,
          202.6,
          164.81,
          156.79
         ],
         "yaxis": "y"
        },
        {
         "hovertemplate": "county=Los Angeles<br>date=%{x}<br>cases_avg_per_100k=%{y}<extra></extra>",
         "legendgroup": "Los Angeles",
         "line": {
          "color": "#FF6692",
          "dash": "solid"
         },
         "mode": "lines",
         "name": "Los Angeles",
         "orientation": "v",
         "showlegend": true,
         "type": "scatter",
         "x": [
          "2022-01-01",
          "2022-01-02",
          "2022-01-03",
          "2022-01-04",
          "2022-01-05",
          "2022-01-06",
          "2022-01-07",
          "2022-01-08",
          "2022-01-09",
          "2022-01-10",
          "2022-01-11",
          "2022-01-12",
          "2022-01-13",
          "2022-01-14",
          "2022-01-15",
          "2022-01-16",
          "2022-01-17",
          "2022-01-18",
          "2022-01-19",
          "2022-01-20",
          "2022-01-21",
          "2022-01-22",
          "2022-01-23",
          "2022-01-24",
          "2022-01-25",
          "2022-01-26",
          "2022-01-27",
          "2022-01-28"
         ],
         "xaxis": "x",
         "y": [
          144.21,
          178.24,
          190.8,
          209.55,
          224.06,
          248.14,
          271.71,
          280.54,
          321.81,
          360.65,
          378.6,
          398.09,
          409.26,
          404.82,
          415.2,
          412.76,
          395.71,
          377.61,
          366.05,
          361.73,
          365.34,
          361.63,
          336.68,
          328.33,
          325.17,
          308.72,
          286.05,
          258.48
         ],
         "yaxis": "y"
        }
       ],
       "layout": {
        "legend": {
         "title": {
          "text": "county"
         },
         "tracegroupgap": 0
        },
        "margin": {
         "t": 60
        },
        "template": {
         "data": {
          "bar": [
           {
            "error_x": {
             "color": "#2a3f5f"
            },
            "error_y": {
             "color": "#2a3f5f"
            },
            "marker": {
             "line": {
              "color": "#E5ECF6",
              "width": 0.5
             },
             "pattern": {
              "fillmode": "overlay",
              "size": 10,
              "solidity": 0.2
             }
            },
            "type": "bar"
           }
          ],
          "barpolar": [
           {
            "marker": {
             "line": {
              "color": "#E5ECF6",
              "width": 0.5
             },
             "pattern": {
              "fillmode": "overlay",
              "size": 10,
              "solidity": 0.2
             }
            },
            "type": "barpolar"
           }
          ],
          "carpet": [
           {
            "aaxis": {
             "endlinecolor": "#2a3f5f",
             "gridcolor": "white",
             "linecolor": "white",
             "minorgridcolor": "white",
             "startlinecolor": "#2a3f5f"
            },
            "baxis": {
             "endlinecolor": "#2a3f5f",
             "gridcolor": "white",
             "linecolor": "white",
             "minorgridcolor": "white",
             "startlinecolor": "#2a3f5f"
            },
            "type": "carpet"
           }
          ],
          "choropleth": [
           {
            "colorbar": {
             "outlinewidth": 0,
             "ticks": ""
            },
            "type": "choropleth"
           }
          ],
          "contour": [
           {
            "colorbar": {
             "outlinewidth": 0,
             "ticks": ""
            },
            "colorscale": [
             [
              0,
              "#0d0887"
             ],
             [
              0.1111111111111111,
              "#46039f"
             ],
             [
              0.2222222222222222,
              "#7201a8"
             ],
             [
              0.3333333333333333,
              "#9c179e"
             ],
             [
              0.4444444444444444,
              "#bd3786"
             ],
             [
              0.5555555555555556,
              "#d8576b"
             ],
             [
              0.6666666666666666,
              "#ed7953"
             ],
             [
              0.7777777777777778,
              "#fb9f3a"
             ],
             [
              0.8888888888888888,
              "#fdca26"
             ],
             [
              1,
              "#f0f921"
             ]
            ],
            "type": "contour"
           }
          ],
          "contourcarpet": [
           {
            "colorbar": {
             "outlinewidth": 0,
             "ticks": ""
            },
            "type": "contourcarpet"
           }
          ],
          "heatmap": [
           {
            "colorbar": {
             "outlinewidth": 0,
             "ticks": ""
            },
            "colorscale": [
             [
              0,
              "#0d0887"
             ],
             [
              0.1111111111111111,
              "#46039f"
             ],
             [
              0.2222222222222222,
              "#7201a8"
             ],
             [
              0.3333333333333333,
              "#9c179e"
             ],
             [
              0.4444444444444444,
              "#bd3786"
             ],
             [
              0.5555555555555556,
              "#d8576b"
             ],
             [
              0.6666666666666666,
              "#ed7953"
             ],
             [
              0.7777777777777778,
              "#fb9f3a"
             ],
             [
              0.8888888888888888,
              "#fdca26"
             ],
             [
              1,
              "#f0f921"
             ]
            ],
            "type": "heatmap"
           }
          ],
          "heatmapgl": [
           {
            "colorbar": {
             "outlinewidth": 0,
             "ticks": ""
            },
            "colorscale": [
             [
              0,
              "#0d0887"
             ],
             [
              0.1111111111111111,
              "#46039f"
             ],
             [
              0.2222222222222222,
              "#7201a8"
             ],
             [
              0.3333333333333333,
              "#9c179e"
             ],
             [
              0.4444444444444444,
              "#bd3786"
             ],
             [
              0.5555555555555556,
              "#d8576b"
             ],
             [
              0.6666666666666666,
              "#ed7953"
             ],
             [
              0.7777777777777778,
              "#fb9f3a"
             ],
             [
              0.8888888888888888,
              "#fdca26"
             ],
             [
              1,
              "#f0f921"
             ]
            ],
            "type": "heatmapgl"
           }
          ],
          "histogram": [
           {
            "marker": {
             "pattern": {
              "fillmode": "overlay",
              "size": 10,
              "solidity": 0.2
             }
            },
            "type": "histogram"
           }
          ],
          "histogram2d": [
           {
            "colorbar": {
             "outlinewidth": 0,
             "ticks": ""
            },
            "colorscale": [
             [
              0,
              "#0d0887"
             ],
             [
              0.1111111111111111,
              "#46039f"
             ],
             [
              0.2222222222222222,
              "#7201a8"
             ],
             [
              0.3333333333333333,
              "#9c179e"
             ],
             [
              0.4444444444444444,
              "#bd3786"
             ],
             [
              0.5555555555555556,
              "#d8576b"
             ],
             [
              0.6666666666666666,
              "#ed7953"
             ],
             [
              0.7777777777777778,
              "#fb9f3a"
             ],
             [
              0.8888888888888888,
              "#fdca26"
             ],
             [
              1,
              "#f0f921"
             ]
            ],
            "type": "histogram2d"
           }
          ],
          "histogram2dcontour": [
           {
            "colorbar": {
             "outlinewidth": 0,
             "ticks": ""
            },
            "colorscale": [
             [
              0,
              "#0d0887"
             ],
             [
              0.1111111111111111,
              "#46039f"
             ],
             [
              0.2222222222222222,
              "#7201a8"
             ],
             [
              0.3333333333333333,
              "#9c179e"
             ],
             [
              0.4444444444444444,
              "#bd3786"
             ],
             [
              0.5555555555555556,
              "#d8576b"
             ],
             [
              0.6666666666666666,
              "#ed7953"
             ],
             [
              0.7777777777777778,
              "#fb9f3a"
             ],
             [
              0.8888888888888888,
              "#fdca26"
             ],
             [
              1,
              "#f0f921"
             ]
            ],
            "type": "histogram2dcontour"
           }
          ],
          "mesh3d": [
           {
            "colorbar": {
             "outlinewidth": 0,
             "ticks": ""
            },
            "type": "mesh3d"
           }
          ],
          "parcoords": [
           {
            "line": {
             "colorbar": {
              "outlinewidth": 0,
              "ticks": ""
             }
            },
            "type": "parcoords"
           }
          ],
          "pie": [
           {
            "automargin": true,
            "type": "pie"
           }
          ],
          "scatter": [
           {
            "marker": {
             "colorbar": {
              "outlinewidth": 0,
              "ticks": ""
             }
            },
            "type": "scatter"
           }
          ],
          "scatter3d": [
           {
            "line": {
             "colorbar": {
              "outlinewidth": 0,
              "ticks": ""
             }
            },
            "marker": {
             "colorbar": {
              "outlinewidth": 0,
              "ticks": ""
             }
            },
            "type": "scatter3d"
           }
          ],
          "scattercarpet": [
           {
            "marker": {
             "colorbar": {
              "outlinewidth": 0,
              "ticks": ""
             }
            },
            "type": "scattercarpet"
           }
          ],
          "scattergeo": [
           {
            "marker": {
             "colorbar": {
              "outlinewidth": 0,
              "ticks": ""
             }
            },
            "type": "scattergeo"
           }
          ],
          "scattergl": [
           {
            "marker": {
             "colorbar": {
              "outlinewidth": 0,
              "ticks": ""
             }
            },
            "type": "scattergl"
           }
          ],
          "scattermapbox": [
           {
            "marker": {
             "colorbar": {
              "outlinewidth": 0,
              "ticks": ""
             }
            },
            "type": "scattermapbox"
           }
          ],
          "scatterpolar": [
           {
            "marker": {
             "colorbar": {
              "outlinewidth": 0,
              "ticks": ""
             }
            },
            "type": "scatterpolar"
           }
          ],
          "scatterpolargl": [
           {
            "marker": {
             "colorbar": {
              "outlinewidth": 0,
              "ticks": ""
             }
            },
            "type": "scatterpolargl"
           }
          ],
          "scatterternary": [
           {
            "marker": {
             "colorbar": {
              "outlinewidth": 0,
              "ticks": ""
             }
            },
            "type": "scatterternary"
           }
          ],
          "surface": [
           {
            "colorbar": {
             "outlinewidth": 0,
             "ticks": ""
            },
            "colorscale": [
             [
              0,
              "#0d0887"
             ],
             [
              0.1111111111111111,
              "#46039f"
             ],
             [
              0.2222222222222222,
              "#7201a8"
             ],
             [
              0.3333333333333333,
              "#9c179e"
             ],
             [
              0.4444444444444444,
              "#bd3786"
             ],
             [
              0.5555555555555556,
              "#d8576b"
             ],
             [
              0.6666666666666666,
              "#ed7953"
             ],
             [
              0.7777777777777778,
              "#fb9f3a"
             ],
             [
              0.8888888888888888,
              "#fdca26"
             ],
             [
              1,
              "#f0f921"
             ]
            ],
            "type": "surface"
           }
          ],
          "table": [
           {
            "cells": {
             "fill": {
              "color": "#EBF0F8"
             },
             "line": {
              "color": "white"
             }
            },
            "header": {
             "fill": {
              "color": "#C8D4E3"
             },
             "line": {
              "color": "white"
             }
            },
            "type": "table"
           }
          ]
         },
         "layout": {
          "annotationdefaults": {
           "arrowcolor": "#2a3f5f",
           "arrowhead": 0,
           "arrowwidth": 1
          },
          "autotypenumbers": "strict",
          "coloraxis": {
           "colorbar": {
            "outlinewidth": 0,
            "ticks": ""
           }
          },
          "colorscale": {
           "diverging": [
            [
             0,
             "#8e0152"
            ],
            [
             0.1,
             "#c51b7d"
            ],
            [
             0.2,
             "#de77ae"
            ],
            [
             0.3,
             "#f1b6da"
            ],
            [
             0.4,
             "#fde0ef"
            ],
            [
             0.5,
             "#f7f7f7"
            ],
            [
             0.6,
             "#e6f5d0"
            ],
            [
             0.7,
             "#b8e186"
            ],
            [
             0.8,
             "#7fbc41"
            ],
            [
             0.9,
             "#4d9221"
            ],
            [
             1,
             "#276419"
            ]
           ],
           "sequential": [
            [
             0,
             "#0d0887"
            ],
            [
             0.1111111111111111,
             "#46039f"
            ],
            [
             0.2222222222222222,
             "#7201a8"
            ],
            [
             0.3333333333333333,
             "#9c179e"
            ],
            [
             0.4444444444444444,
             "#bd3786"
            ],
            [
             0.5555555555555556,
             "#d8576b"
            ],
            [
             0.6666666666666666,
             "#ed7953"
            ],
            [
             0.7777777777777778,
             "#fb9f3a"
            ],
            [
             0.8888888888888888,
             "#fdca26"
            ],
            [
             1,
             "#f0f921"
            ]
           ],
           "sequentialminus": [
            [
             0,
             "#0d0887"
            ],
            [
             0.1111111111111111,
             "#46039f"
            ],
            [
             0.2222222222222222,
             "#7201a8"
            ],
            [
             0.3333333333333333,
             "#9c179e"
            ],
            [
             0.4444444444444444,
             "#bd3786"
            ],
            [
             0.5555555555555556,
             "#d8576b"
            ],
            [
             0.6666666666666666,
             "#ed7953"
            ],
            [
             0.7777777777777778,
             "#fb9f3a"
            ],
            [
             0.8888888888888888,
             "#fdca26"
            ],
            [
             1,
             "#f0f921"
            ]
           ]
          },
          "colorway": [
           "#636efa",
           "#EF553B",
           "#00cc96",
           "#ab63fa",
           "#FFA15A",
           "#19d3f3",
           "#FF6692",
           "#B6E880",
           "#FF97FF",
           "#FECB52"
          ],
          "font": {
           "color": "#2a3f5f"
          },
          "geo": {
           "bgcolor": "white",
           "lakecolor": "white",
           "landcolor": "#E5ECF6",
           "showlakes": true,
           "showland": true,
           "subunitcolor": "white"
          },
          "hoverlabel": {
           "align": "left"
          },
          "hovermode": "closest",
          "mapbox": {
           "style": "light"
          },
          "paper_bgcolor": "white",
          "plot_bgcolor": "#E5ECF6",
          "polar": {
           "angularaxis": {
            "gridcolor": "white",
            "linecolor": "white",
            "ticks": ""
           },
           "bgcolor": "#E5ECF6",
           "radialaxis": {
            "gridcolor": "white",
            "linecolor": "white",
            "ticks": ""
           }
          },
          "scene": {
           "xaxis": {
            "backgroundcolor": "#E5ECF6",
            "gridcolor": "white",
            "gridwidth": 2,
            "linecolor": "white",
            "showbackground": true,
            "ticks": "",
            "zerolinecolor": "white"
           },
           "yaxis": {
            "backgroundcolor": "#E5ECF6",
            "gridcolor": "white",
            "gridwidth": 2,
            "linecolor": "white",
            "showbackground": true,
            "ticks": "",
            "zerolinecolor": "white"
           },
           "zaxis": {
            "backgroundcolor": "#E5ECF6",
            "gridcolor": "white",
            "gridwidth": 2,
            "linecolor": "white",
            "showbackground": true,
            "ticks": "",
            "zerolinecolor": "white"
           }
          },
          "shapedefaults": {
           "line": {
            "color": "#2a3f5f"
           }
          },
          "ternary": {
           "aaxis": {
            "gridcolor": "white",
            "linecolor": "white",
            "ticks": ""
           },
           "baxis": {
            "gridcolor": "white",
            "linecolor": "white",
            "ticks": ""
           },
           "bgcolor": "#E5ECF6",
           "caxis": {
            "gridcolor": "white",
            "linecolor": "white",
            "ticks": ""
           }
          },
          "title": {
           "x": 0.05
          },
          "xaxis": {
           "automargin": true,
           "gridcolor": "white",
           "linecolor": "white",
           "ticks": "",
           "title": {
            "standoff": 15
           },
           "zerolinecolor": "white",
           "zerolinewidth": 2
          },
          "yaxis": {
           "automargin": true,
           "gridcolor": "white",
           "linecolor": "white",
           "ticks": "",
           "title": {
            "standoff": 15
           },
           "zerolinecolor": "white",
           "zerolinewidth": 2
          }
         }
        },
        "xaxis": {
         "anchor": "y",
         "domain": [
          0,
          1
         ],
         "title": {
          "text": "date"
         }
        },
        "yaxis": {
         "anchor": "x",
         "domain": [
          0,
          1
         ],
         "title": {
          "text": "cases_avg_per_100k"
         }
        }
       }
      }
     },
     "metadata": {},
     "output_type": "display_data"
    }
   ],
   "source": [
    "px.line(\n",
    "    df_2022_counties, x=df_2022_counties.index, y=\"cases_avg_per_100k\", color=\"county\"\n",
    ")"
   ]
  },
  {
   "cell_type": "markdown",
   "metadata": {},
   "source": [
    "Montgomery is kind of a mess"
   ]
  },
  {
   "cell_type": "markdown",
   "metadata": {},
   "source": [
    "7-day rolling average of cases as of yesterday's data"
   ]
  },
  {
   "cell_type": "code",
   "execution_count": 64,
   "metadata": {},
   "outputs": [
    {
     "data": {
      "application/vnd.plotly.v1+json": {
       "config": {
        "plotlyServerURL": "https://plot.ly"
       },
       "data": [
        {
         "hovertemplate": "county=Arlington<br>date=%{x}<br>cases_avg_per_100k=%{y}<extra></extra>",
         "legendgroup": "Arlington",
         "line": {
          "color": "#636efa",
          "dash": "solid"
         },
         "mode": "lines",
         "name": "Arlington",
         "orientation": "v",
         "showlegend": true,
         "type": "scatter",
         "x": [
          "2022-01-01",
          "2022-01-02",
          "2022-01-03",
          "2022-01-04",
          "2022-01-05",
          "2022-01-06",
          "2022-01-07",
          "2022-01-08",
          "2022-01-09",
          "2022-01-10",
          "2022-01-11",
          "2022-01-12",
          "2022-01-13",
          "2022-01-14",
          "2022-01-15",
          "2022-01-16",
          "2022-01-17",
          "2022-01-18",
          "2022-01-19",
          "2022-01-20",
          "2022-01-21",
          "2022-01-22",
          "2022-01-23",
          "2022-01-24",
          "2022-01-25",
          "2022-01-26",
          "2022-01-27",
          "2022-01-28"
         ],
         "xaxis": "x",
         "y": [
          190.42,
          190.42,
          207.07,
          200.98,
          195.55,
          198.75,
          178.6,
          178.6,
          178.6,
          231.26,
          241.09,
          272.82,
          264.73,
          258.88,
          258.88,
          258.88,
          211.71,
          205.92,
          178.6,
          167.2,
          168.35,
          168.35,
          168.35,
          119.67,
          109.42,
          104.47,
          93.13,
          84.14
         ],
         "yaxis": "y"
        },
        {
         "hovertemplate": "county=Somerset<br>date=%{x}<br>cases_avg_per_100k=%{y}<extra></extra>",
         "legendgroup": "Somerset",
         "line": {
          "color": "#EF553B",
          "dash": "solid"
         },
         "mode": "lines",
         "name": "Somerset",
         "orientation": "v",
         "showlegend": true,
         "type": "scatter",
         "x": [
          "2022-01-01",
          "2022-01-02",
          "2022-01-03",
          "2022-01-04",
          "2022-01-05",
          "2022-01-06",
          "2022-01-07",
          "2022-01-08",
          "2022-01-09",
          "2022-01-10",
          "2022-01-11",
          "2022-01-12",
          "2022-01-13",
          "2022-01-14",
          "2022-01-15",
          "2022-01-16",
          "2022-01-17",
          "2022-01-18",
          "2022-01-19",
          "2022-01-20",
          "2022-01-21",
          "2022-01-22",
          "2022-01-23",
          "2022-01-24",
          "2022-01-25",
          "2022-01-26",
          "2022-01-27",
          "2022-01-28"
         ],
         "xaxis": "x",
         "y": [
          76.83,
          82.28,
          85.39,
          94.33,
          109.12,
          107.56,
          119.23,
          117.67,
          132.65,
          140.24,
          140.24,
          152.49,
          166.11,
          173.5,
          180.69,
          199.17,
          221.73,
          238.07,
          220.96,
          217.46,
          226.4,
          236.13,
          212.98,
          195.09,
          191.98,
          185.17,
          186.53,
          172.72
         ],
         "yaxis": "y"
        },
        {
         "hovertemplate": "county=Allegheny<br>date=%{x}<br>cases_avg_per_100k=%{y}<extra></extra>",
         "legendgroup": "Allegheny",
         "line": {
          "color": "#00cc96",
          "dash": "solid"
         },
         "mode": "lines",
         "name": "Allegheny",
         "orientation": "v",
         "showlegend": true,
         "type": "scatter",
         "x": [
          "2022-01-01",
          "2022-01-02",
          "2022-01-03",
          "2022-01-04",
          "2022-01-05",
          "2022-01-06",
          "2022-01-07",
          "2022-01-08",
          "2022-01-09",
          "2022-01-10",
          "2022-01-11",
          "2022-01-12",
          "2022-01-13",
          "2022-01-14",
          "2022-01-15",
          "2022-01-16",
          "2022-01-17",
          "2022-01-18",
          "2022-01-19",
          "2022-01-20",
          "2022-01-21",
          "2022-01-22",
          "2022-01-23",
          "2022-01-24",
          "2022-01-25",
          "2022-01-26",
          "2022-01-27",
          "2022-01-28"
         ],
         "xaxis": "x",
         "y": [
          132.63,
          146.87,
          173.77,
          191.78,
          211.65,
          242.86,
          263.32,
          266.84,
          279.85,
          282.3,
          280.36,
          290.58,
          274.05,
          264.58,
          257.22,
          266.27,
          252.63,
          248.87,
          217.71,
          200.51,
          188.68,
          174.22,
          139.77,
          135.25,
          126.23,
          118.93,
          117.81,
          108.56
         ],
         "yaxis": "y"
        },
        {
         "hovertemplate": "county=Wood<br>date=%{x}<br>cases_avg_per_100k=%{y}<extra></extra>",
         "legendgroup": "Wood",
         "line": {
          "color": "#ab63fa",
          "dash": "solid"
         },
         "mode": "lines",
         "name": "Wood",
         "orientation": "v",
         "showlegend": true,
         "type": "scatter",
         "x": [
          "2022-01-01",
          "2022-01-02",
          "2022-01-03",
          "2022-01-04",
          "2022-01-05",
          "2022-01-06",
          "2022-01-07",
          "2022-01-08",
          "2022-01-09",
          "2022-01-10",
          "2022-01-11",
          "2022-01-12",
          "2022-01-13",
          "2022-01-14",
          "2022-01-15",
          "2022-01-16",
          "2022-01-17",
          "2022-01-18",
          "2022-01-19",
          "2022-01-20",
          "2022-01-21",
          "2022-01-22",
          "2022-01-23",
          "2022-01-24",
          "2022-01-25",
          "2022-01-26",
          "2022-01-27",
          "2022-01-28"
         ],
         "xaxis": "x",
         "y": [
          109.09,
          129.73,
          144.04,
          146.77,
          148.74,
          157.69,
          156.05,
          163.78,
          172.87,
          165.55,
          186.19,
          194.27,
          194.93,
          238.5,
          276.94,
          287.1,
          303.91,
          284.91,
          288.08,
          300.42,
          265.8,
          227.58,
          205.3,
          187.72,
          171.78,
          165.99,
          145.35,
          127.22
         ],
         "yaxis": "y"
        },
        {
         "hovertemplate": "county=Putnam<br>date=%{x}<br>cases_avg_per_100k=%{y}<extra></extra>",
         "legendgroup": "Putnam",
         "line": {
          "color": "#FFA15A",
          "dash": "solid"
         },
         "mode": "lines",
         "name": "Putnam",
         "orientation": "v",
         "showlegend": true,
         "type": "scatter",
         "x": [
          "2022-01-01",
          "2022-01-02",
          "2022-01-03",
          "2022-01-04",
          "2022-01-05",
          "2022-01-06",
          "2022-01-07",
          "2022-01-08",
          "2022-01-09",
          "2022-01-10",
          "2022-01-11",
          "2022-01-12",
          "2022-01-13",
          "2022-01-14",
          "2022-01-15",
          "2022-01-16",
          "2022-01-17",
          "2022-01-18",
          "2022-01-19",
          "2022-01-20",
          "2022-01-21",
          "2022-01-22",
          "2022-01-23",
          "2022-01-24",
          "2022-01-25",
          "2022-01-26",
          "2022-01-27",
          "2022-01-28"
         ],
         "xaxis": "x",
         "y": [
          54,
          64.13,
          72.57,
          83.96,
          91.13,
          103.79,
          110.11,
          122.56,
          146.82,
          151.04,
          159.05,
          156.52,
          164.54,
          203.35,
          241.74,
          240.06,
          245.96,
          237.53,
          254.82,
          248.92,
          218.12,
          164.96,
          153.15,
          142.6,
          127.41,
          118.55,
          106.74,
          87.33
         ],
         "yaxis": "y"
        },
        {
         "hovertemplate": "county=Montgomery<br>date=%{x}<br>cases_avg_per_100k=%{y}<extra></extra>",
         "legendgroup": "Montgomery",
         "line": {
          "color": "#19d3f3",
          "dash": "solid"
         },
         "mode": "lines",
         "name": "Montgomery",
         "orientation": "v",
         "showlegend": true,
         "type": "scatter",
         "x": [
          "2022-01-01",
          "2022-01-01",
          "2022-01-02",
          "2022-01-02",
          "2022-01-03",
          "2022-01-03",
          "2022-01-04",
          "2022-01-04",
          "2022-01-05",
          "2022-01-05",
          "2022-01-06",
          "2022-01-06",
          "2022-01-07",
          "2022-01-07",
          "2022-01-08",
          "2022-01-08",
          "2022-01-09",
          "2022-01-09",
          "2022-01-10",
          "2022-01-10",
          "2022-01-11",
          "2022-01-11",
          "2022-01-12",
          "2022-01-12",
          "2022-01-13",
          "2022-01-13",
          "2022-01-14",
          "2022-01-14",
          "2022-01-15",
          "2022-01-15",
          "2022-01-16",
          "2022-01-16",
          "2022-01-17",
          "2022-01-17",
          "2022-01-18",
          "2022-01-18",
          "2022-01-19",
          "2022-01-19",
          "2022-01-20",
          "2022-01-20",
          "2022-01-21",
          "2022-01-21",
          "2022-01-22",
          "2022-01-22",
          "2022-01-23",
          "2022-01-23",
          "2022-01-24",
          "2022-01-24",
          "2022-01-25",
          "2022-01-25",
          "2022-01-26",
          "2022-01-26",
          "2022-01-27",
          "2022-01-27",
          "2022-01-28",
          "2022-01-28"
         ],
         "xaxis": "x",
         "y": [
          90.12,
          234.47,
          118.25,
          304.89,
          132.54,
          325.32,
          144.88,
          257.19,
          152.78,
          249.48,
          153.55,
          250.16,
          154.84,
          248.35,
          153.85,
          252.06,
          151.81,
          305.38,
          156.11,
          276.12,
          158.34,
          270.29,
          164.97,
          283.53,
          172.25,
          274.64,
          219.73,
          265.93,
          283.38,
          258.57,
          315.22,
          220.62,
          330.86,
          202.29,
          332.37,
          170.57,
          334.73,
          150,
          350.34,
          146.08,
          313.4,
          131,
          251.11,
          110.21,
          216.4,
          95.57,
          197.81,
          82.5,
          171.66,
          82.84,
          176.85,
          79.13,
          155.6,
          56.19,
          136.87,
          52.37
         ],
         "yaxis": "y"
        },
        {
         "hovertemplate": "county=Franklin<br>date=%{x}<br>cases_avg_per_100k=%{y}<extra></extra>",
         "legendgroup": "Franklin",
         "line": {
          "color": "#FF6692",
          "dash": "solid"
         },
         "mode": "lines",
         "name": "Franklin",
         "orientation": "v",
         "showlegend": true,
         "type": "scatter",
         "x": [
          "2022-01-01",
          "2022-01-02",
          "2022-01-03",
          "2022-01-04",
          "2022-01-05",
          "2022-01-06",
          "2022-01-07",
          "2022-01-08",
          "2022-01-09",
          "2022-01-10",
          "2022-01-11",
          "2022-01-12",
          "2022-01-13",
          "2022-01-14",
          "2022-01-15",
          "2022-01-16",
          "2022-01-17",
          "2022-01-18",
          "2022-01-19",
          "2022-01-20",
          "2022-01-21",
          "2022-01-22",
          "2022-01-23",
          "2022-01-24",
          "2022-01-25",
          "2022-01-26",
          "2022-01-27",
          "2022-01-28"
         ],
         "xaxis": "x",
         "y": [
          146.41,
          174.15,
          187.68,
          201.78,
          198.9,
          197.68,
          202.91,
          200.58,
          204.83,
          210.06,
          200.56,
          197.23,
          193.66,
          220.56,
          259.6,
          265.87,
          263.32,
          256.25,
          257.02,
          258.88,
          219.86,
          172.95,
          150.83,
          132.89,
          116.78,
          115.78,
          103.67,
          93.89
         ],
         "yaxis": "y"
        },
        {
         "hovertemplate": "county=Clermont<br>date=%{x}<br>cases_avg_per_100k=%{y}<extra></extra>",
         "legendgroup": "Clermont",
         "line": {
          "color": "#B6E880",
          "dash": "solid"
         },
         "mode": "lines",
         "name": "Clermont",
         "orientation": "v",
         "showlegend": true,
         "type": "scatter",
         "x": [
          "2022-01-01",
          "2022-01-02",
          "2022-01-03",
          "2022-01-04",
          "2022-01-05",
          "2022-01-06",
          "2022-01-07",
          "2022-01-08",
          "2022-01-09",
          "2022-01-10",
          "2022-01-11",
          "2022-01-12",
          "2022-01-13",
          "2022-01-14",
          "2022-01-15",
          "2022-01-16",
          "2022-01-17",
          "2022-01-18",
          "2022-01-19",
          "2022-01-20",
          "2022-01-21",
          "2022-01-22",
          "2022-01-23",
          "2022-01-24",
          "2022-01-25",
          "2022-01-26",
          "2022-01-27",
          "2022-01-28"
         ],
         "xaxis": "x",
         "y": [
          91.63,
          117.79,
          125.4,
          124.84,
          130.45,
          130.87,
          139.38,
          142.73,
          154.6,
          156.47,
          170.38,
          178.13,
          184.98,
          248.86,
          309,
          325.33,
          333.5,
          338.89,
          348.31,
          361.94,
          314.26,
          265.61,
          240,
          234.4,
          205.19,
          216.89,
          198.69,
          179.93
         ],
         "yaxis": "y"
        },
        {
         "hovertemplate": "county=Prince George's<br>date=%{x}<br>cases_avg_per_100k=%{y}<extra></extra>",
         "legendgroup": "Prince George's",
         "line": {
          "color": "#FF97FF",
          "dash": "solid"
         },
         "mode": "lines",
         "name": "Prince George's",
         "orientation": "v",
         "showlegend": true,
         "type": "scatter",
         "x": [
          "2022-01-01",
          "2022-01-02",
          "2022-01-03",
          "2022-01-04",
          "2022-01-05",
          "2022-01-06",
          "2022-01-07",
          "2022-01-08",
          "2022-01-09",
          "2022-01-10",
          "2022-01-11",
          "2022-01-12",
          "2022-01-13",
          "2022-01-14",
          "2022-01-15",
          "2022-01-16",
          "2022-01-17",
          "2022-01-18",
          "2022-01-19",
          "2022-01-20",
          "2022-01-21",
          "2022-01-22",
          "2022-01-23",
          "2022-01-24",
          "2022-01-25",
          "2022-01-26",
          "2022-01-27",
          "2022-01-28"
         ],
         "xaxis": "x",
         "y": [
          342.75,
          440.48,
          409.51,
          250,
          246.32,
          237.38,
          230.12,
          231.27,
          232.56,
          226.59,
          206.29,
          204.11,
          196.99,
          193.24,
          175.77,
          151.38,
          142.66,
          121.75,
          104.5,
          104.11,
          91.54,
          82.31,
          72.22,
          63.45,
          62.57,
          60.81,
          42.34,
          38.05
         ],
         "yaxis": "y"
        },
        {
         "hovertemplate": "county=Baltimore<br>date=%{x}<br>cases_avg_per_100k=%{y}<extra></extra>",
         "legendgroup": "Baltimore",
         "line": {
          "color": "#FECB52",
          "dash": "solid"
         },
         "mode": "lines",
         "name": "Baltimore",
         "orientation": "v",
         "showlegend": true,
         "type": "scatter",
         "x": [
          "2022-01-01",
          "2022-01-02",
          "2022-01-03",
          "2022-01-04",
          "2022-01-05",
          "2022-01-06",
          "2022-01-07",
          "2022-01-08",
          "2022-01-09",
          "2022-01-10",
          "2022-01-11",
          "2022-01-12",
          "2022-01-13",
          "2022-01-14",
          "2022-01-15",
          "2022-01-16",
          "2022-01-17",
          "2022-01-18",
          "2022-01-19",
          "2022-01-20",
          "2022-01-21",
          "2022-01-22",
          "2022-01-23",
          "2022-01-24",
          "2022-01-25",
          "2022-01-26",
          "2022-01-27",
          "2022-01-28"
         ],
         "xaxis": "x",
         "y": [
          248.15,
          324.13,
          306.59,
          207.75,
          208.42,
          208.04,
          208.28,
          206.13,
          209.39,
          201.57,
          184.03,
          175.94,
          166.07,
          154.79,
          143.88,
          123.52,
          117,
          106.08,
          91.89,
          88.51,
          79.39,
          71.28,
          67.22,
          60.04,
          57.34,
          53.84,
          42.18,
          37.85
         ],
         "yaxis": "y"
        },
        {
         "hovertemplate": "county=Cook<br>date=%{x}<br>cases_avg_per_100k=%{y}<extra></extra>",
         "legendgroup": "Cook",
         "line": {
          "color": "#636efa",
          "dash": "solid"
         },
         "mode": "lines",
         "name": "Cook",
         "orientation": "v",
         "showlegend": true,
         "type": "scatter",
         "x": [
          "2022-01-01",
          "2022-01-02",
          "2022-01-03",
          "2022-01-04",
          "2022-01-05",
          "2022-01-06",
          "2022-01-07",
          "2022-01-08",
          "2022-01-09",
          "2022-01-10",
          "2022-01-11",
          "2022-01-12",
          "2022-01-13",
          "2022-01-14",
          "2022-01-15",
          "2022-01-16",
          "2022-01-17",
          "2022-01-18",
          "2022-01-19",
          "2022-01-20",
          "2022-01-21",
          "2022-01-22",
          "2022-01-23",
          "2022-01-24",
          "2022-01-25",
          "2022-01-26",
          "2022-01-27",
          "2022-01-28"
         ],
         "xaxis": "x",
         "y": [
          171.58,
          171.58,
          203.68,
          201.61,
          207.03,
          220.58,
          232.77,
          232.77,
          232.77,
          234.15,
          232.52,
          230.09,
          212.38,
          192.72,
          192.72,
          192.72,
          192.72,
          167.44,
          154.06,
          139.61,
          157.14,
          157.14,
          157.14,
          148.64,
          138.86,
          130.87,
          122.3,
          88.31
         ],
         "yaxis": "y"
        },
        {
         "hovertemplate": "county=Manatee<br>date=%{x}<br>cases_avg_per_100k=%{y}<extra></extra>",
         "legendgroup": "Manatee",
         "line": {
          "color": "#EF553B",
          "dash": "solid"
         },
         "mode": "lines",
         "name": "Manatee",
         "orientation": "v",
         "showlegend": true,
         "type": "scatter",
         "x": [
          "2022-01-01",
          "2022-01-02",
          "2022-01-03",
          "2022-01-04",
          "2022-01-05",
          "2022-01-06",
          "2022-01-07",
          "2022-01-08",
          "2022-01-09",
          "2022-01-10",
          "2022-01-11",
          "2022-01-12",
          "2022-01-13",
          "2022-01-14",
          "2022-01-15",
          "2022-01-16",
          "2022-01-17",
          "2022-01-18",
          "2022-01-19",
          "2022-01-20",
          "2022-01-21",
          "2022-01-22",
          "2022-01-23",
          "2022-01-24",
          "2022-01-25",
          "2022-01-26",
          "2022-01-27",
          "2022-01-28"
         ],
         "xaxis": "x",
         "y": [
          100.75,
          100.75,
          100.75,
          100.75,
          100.75,
          100.75,
          161.58,
          161.58,
          161.58,
          161.58,
          161.58,
          161.58,
          161.58,
          191.87,
          191.87,
          191.87,
          191.87,
          191.87,
          191.87,
          191.87,
          159.38,
          159.38,
          159.38,
          159.38,
          159.38,
          159.38,
          159.38,
          133.24
         ],
         "yaxis": "y"
        },
        {
         "hovertemplate": "county=District of Columbia<br>date=%{x}<br>cases_avg_per_100k=%{y}<extra></extra>",
         "legendgroup": "District of Columbia",
         "line": {
          "color": "#00cc96",
          "dash": "solid"
         },
         "mode": "lines",
         "name": "District of Columbia",
         "orientation": "v",
         "showlegend": true,
         "type": "scatter",
         "x": [
          "2022-01-01",
          "2022-01-02",
          "2022-01-03",
          "2022-01-04",
          "2022-01-05",
          "2022-01-06",
          "2022-01-07",
          "2022-01-08",
          "2022-01-09",
          "2022-01-10",
          "2022-01-11",
          "2022-01-12",
          "2022-01-13",
          "2022-01-14",
          "2022-01-15",
          "2022-01-16",
          "2022-01-17",
          "2022-01-18",
          "2022-01-19",
          "2022-01-20",
          "2022-01-21",
          "2022-01-22",
          "2022-01-23",
          "2022-01-24",
          "2022-01-25",
          "2022-01-26",
          "2022-01-27",
          "2022-01-28"
         ],
         "xaxis": "x",
         "y": [
          297.98,
          297.98,
          298,
          300.79,
          299.05,
          279.86,
          279.03,
          279.03,
          279.03,
          258.91,
          244.79,
          242.56,
          247.26,
          239.48,
          239.48,
          239.48,
          239.48,
          164.38,
          149.49,
          128.5,
          107.87,
          107.87,
          107.87,
          94.64,
          61.37,
          59.13,
          56.76,
          52.97
         ],
         "yaxis": "y"
        },
        {
         "hovertemplate": "county=Denver<br>date=%{x}<br>cases_avg_per_100k=%{y}<extra></extra>",
         "legendgroup": "Denver",
         "line": {
          "color": "#ab63fa",
          "dash": "solid"
         },
         "mode": "lines",
         "name": "Denver",
         "orientation": "v",
         "showlegend": true,
         "type": "scatter",
         "x": [
          "2022-01-01",
          "2022-01-02",
          "2022-01-03",
          "2022-01-04",
          "2022-01-05",
          "2022-01-06",
          "2022-01-07",
          "2022-01-08",
          "2022-01-09",
          "2022-01-10",
          "2022-01-11",
          "2022-01-12",
          "2022-01-13",
          "2022-01-14",
          "2022-01-15",
          "2022-01-16",
          "2022-01-17",
          "2022-01-18",
          "2022-01-19",
          "2022-01-20",
          "2022-01-21",
          "2022-01-22",
          "2022-01-23",
          "2022-01-24",
          "2022-01-25",
          "2022-01-26",
          "2022-01-27",
          "2022-01-28"
         ],
         "xaxis": "x",
         "y": [
          149.38,
          149.38,
          193.48,
          189.12,
          191.59,
          194.91,
          179.71,
          179.71,
          179.71,
          256.32,
          289.7,
          295.12,
          299.68,
          314.17,
          314.17,
          314.17,
          226.07,
          198.1,
          186.58,
          186.49,
          179.43,
          179.43,
          179.43,
          153.54,
          140.42,
          138.32,
          128.22,
          128.22
         ],
         "yaxis": "y"
        },
        {
         "hovertemplate": "county=Boulder<br>date=%{x}<br>cases_avg_per_100k=%{y}<extra></extra>",
         "legendgroup": "Boulder",
         "line": {
          "color": "#FFA15A",
          "dash": "solid"
         },
         "mode": "lines",
         "name": "Boulder",
         "orientation": "v",
         "showlegend": true,
         "type": "scatter",
         "x": [
          "2022-01-01",
          "2022-01-02",
          "2022-01-03",
          "2022-01-04",
          "2022-01-05",
          "2022-01-06",
          "2022-01-07",
          "2022-01-08",
          "2022-01-09",
          "2022-01-10",
          "2022-01-11",
          "2022-01-12",
          "2022-01-13",
          "2022-01-14",
          "2022-01-15",
          "2022-01-16",
          "2022-01-17",
          "2022-01-18",
          "2022-01-19",
          "2022-01-20",
          "2022-01-21",
          "2022-01-22",
          "2022-01-23",
          "2022-01-24",
          "2022-01-25",
          "2022-01-26",
          "2022-01-27",
          "2022-01-28"
         ],
         "xaxis": "x",
         "y": [
          99.48,
          99.48,
          135.94,
          127.75,
          119.56,
          118.16,
          133.01,
          133.01,
          133.01,
          182.54,
          236.32,
          251.12,
          267.67,
          267.72,
          267.72,
          267.72,
          217.79,
          210.78,
          201.94,
          194.89,
          212.1,
          212.1,
          212.1,
          211.44,
          173.73,
          164.67,
          162.35,
          129.72
         ],
         "yaxis": "y"
        },
        {
         "hovertemplate": "county=San Francisco<br>date=%{x}<br>cases_avg_per_100k=%{y}<extra></extra>",
         "legendgroup": "San Francisco",
         "line": {
          "color": "#19d3f3",
          "dash": "solid"
         },
         "mode": "lines",
         "name": "San Francisco",
         "orientation": "v",
         "showlegend": true,
         "type": "scatter",
         "x": [
          "2022-01-01",
          "2022-01-02",
          "2022-01-03",
          "2022-01-04",
          "2022-01-05",
          "2022-01-06",
          "2022-01-07",
          "2022-01-08",
          "2022-01-09",
          "2022-01-10",
          "2022-01-11",
          "2022-01-12",
          "2022-01-13",
          "2022-01-14",
          "2022-01-15",
          "2022-01-16",
          "2022-01-17",
          "2022-01-18",
          "2022-01-19",
          "2022-01-20",
          "2022-01-21",
          "2022-01-22",
          "2022-01-23",
          "2022-01-24",
          "2022-01-25",
          "2022-01-26",
          "2022-01-27",
          "2022-01-28"
         ],
         "xaxis": "x",
         "y": [
          107.1,
          107.1,
          107.1,
          141.55,
          150.08,
          151.55,
          165.71,
          165.71,
          165.71,
          193.17,
          226.19,
          228.1,
          270.21,
          271,
          271,
          271,
          260.18,
          250.57,
          246.42,
          254.5,
          242.87,
          242.87,
          242.87,
          212.27,
          208.71,
          202.6,
          164.81,
          156.79
         ],
         "yaxis": "y"
        },
        {
         "hovertemplate": "county=Los Angeles<br>date=%{x}<br>cases_avg_per_100k=%{y}<extra></extra>",
         "legendgroup": "Los Angeles",
         "line": {
          "color": "#FF6692",
          "dash": "solid"
         },
         "mode": "lines",
         "name": "Los Angeles",
         "orientation": "v",
         "showlegend": true,
         "type": "scatter",
         "x": [
          "2022-01-01",
          "2022-01-02",
          "2022-01-03",
          "2022-01-04",
          "2022-01-05",
          "2022-01-06",
          "2022-01-07",
          "2022-01-08",
          "2022-01-09",
          "2022-01-10",
          "2022-01-11",
          "2022-01-12",
          "2022-01-13",
          "2022-01-14",
          "2022-01-15",
          "2022-01-16",
          "2022-01-17",
          "2022-01-18",
          "2022-01-19",
          "2022-01-20",
          "2022-01-21",
          "2022-01-22",
          "2022-01-23",
          "2022-01-24",
          "2022-01-25",
          "2022-01-26",
          "2022-01-27",
          "2022-01-28"
         ],
         "xaxis": "x",
         "y": [
          144.21,
          178.24,
          190.8,
          209.55,
          224.06,
          248.14,
          271.71,
          280.54,
          321.81,
          360.65,
          378.6,
          398.09,
          409.26,
          404.82,
          415.2,
          412.76,
          395.71,
          377.61,
          366.05,
          361.73,
          365.34,
          361.63,
          336.68,
          328.33,
          325.17,
          308.72,
          286.05,
          258.48
         ],
         "yaxis": "y"
        }
       ],
       "layout": {
        "legend": {
         "title": {
          "text": "county"
         },
         "tracegroupgap": 0
        },
        "margin": {
         "t": 60
        },
        "template": {
         "data": {
          "bar": [
           {
            "error_x": {
             "color": "#2a3f5f"
            },
            "error_y": {
             "color": "#2a3f5f"
            },
            "marker": {
             "line": {
              "color": "#E5ECF6",
              "width": 0.5
             },
             "pattern": {
              "fillmode": "overlay",
              "size": 10,
              "solidity": 0.2
             }
            },
            "type": "bar"
           }
          ],
          "barpolar": [
           {
            "marker": {
             "line": {
              "color": "#E5ECF6",
              "width": 0.5
             },
             "pattern": {
              "fillmode": "overlay",
              "size": 10,
              "solidity": 0.2
             }
            },
            "type": "barpolar"
           }
          ],
          "carpet": [
           {
            "aaxis": {
             "endlinecolor": "#2a3f5f",
             "gridcolor": "white",
             "linecolor": "white",
             "minorgridcolor": "white",
             "startlinecolor": "#2a3f5f"
            },
            "baxis": {
             "endlinecolor": "#2a3f5f",
             "gridcolor": "white",
             "linecolor": "white",
             "minorgridcolor": "white",
             "startlinecolor": "#2a3f5f"
            },
            "type": "carpet"
           }
          ],
          "choropleth": [
           {
            "colorbar": {
             "outlinewidth": 0,
             "ticks": ""
            },
            "type": "choropleth"
           }
          ],
          "contour": [
           {
            "colorbar": {
             "outlinewidth": 0,
             "ticks": ""
            },
            "colorscale": [
             [
              0,
              "#0d0887"
             ],
             [
              0.1111111111111111,
              "#46039f"
             ],
             [
              0.2222222222222222,
              "#7201a8"
             ],
             [
              0.3333333333333333,
              "#9c179e"
             ],
             [
              0.4444444444444444,
              "#bd3786"
             ],
             [
              0.5555555555555556,
              "#d8576b"
             ],
             [
              0.6666666666666666,
              "#ed7953"
             ],
             [
              0.7777777777777778,
              "#fb9f3a"
             ],
             [
              0.8888888888888888,
              "#fdca26"
             ],
             [
              1,
              "#f0f921"
             ]
            ],
            "type": "contour"
           }
          ],
          "contourcarpet": [
           {
            "colorbar": {
             "outlinewidth": 0,
             "ticks": ""
            },
            "type": "contourcarpet"
           }
          ],
          "heatmap": [
           {
            "colorbar": {
             "outlinewidth": 0,
             "ticks": ""
            },
            "colorscale": [
             [
              0,
              "#0d0887"
             ],
             [
              0.1111111111111111,
              "#46039f"
             ],
             [
              0.2222222222222222,
              "#7201a8"
             ],
             [
              0.3333333333333333,
              "#9c179e"
             ],
             [
              0.4444444444444444,
              "#bd3786"
             ],
             [
              0.5555555555555556,
              "#d8576b"
             ],
             [
              0.6666666666666666,
              "#ed7953"
             ],
             [
              0.7777777777777778,
              "#fb9f3a"
             ],
             [
              0.8888888888888888,
              "#fdca26"
             ],
             [
              1,
              "#f0f921"
             ]
            ],
            "type": "heatmap"
           }
          ],
          "heatmapgl": [
           {
            "colorbar": {
             "outlinewidth": 0,
             "ticks": ""
            },
            "colorscale": [
             [
              0,
              "#0d0887"
             ],
             [
              0.1111111111111111,
              "#46039f"
             ],
             [
              0.2222222222222222,
              "#7201a8"
             ],
             [
              0.3333333333333333,
              "#9c179e"
             ],
             [
              0.4444444444444444,
              "#bd3786"
             ],
             [
              0.5555555555555556,
              "#d8576b"
             ],
             [
              0.6666666666666666,
              "#ed7953"
             ],
             [
              0.7777777777777778,
              "#fb9f3a"
             ],
             [
              0.8888888888888888,
              "#fdca26"
             ],
             [
              1,
              "#f0f921"
             ]
            ],
            "type": "heatmapgl"
           }
          ],
          "histogram": [
           {
            "marker": {
             "pattern": {
              "fillmode": "overlay",
              "size": 10,
              "solidity": 0.2
             }
            },
            "type": "histogram"
           }
          ],
          "histogram2d": [
           {
            "colorbar": {
             "outlinewidth": 0,
             "ticks": ""
            },
            "colorscale": [
             [
              0,
              "#0d0887"
             ],
             [
              0.1111111111111111,
              "#46039f"
             ],
             [
              0.2222222222222222,
              "#7201a8"
             ],
             [
              0.3333333333333333,
              "#9c179e"
             ],
             [
              0.4444444444444444,
              "#bd3786"
             ],
             [
              0.5555555555555556,
              "#d8576b"
             ],
             [
              0.6666666666666666,
              "#ed7953"
             ],
             [
              0.7777777777777778,
              "#fb9f3a"
             ],
             [
              0.8888888888888888,
              "#fdca26"
             ],
             [
              1,
              "#f0f921"
             ]
            ],
            "type": "histogram2d"
           }
          ],
          "histogram2dcontour": [
           {
            "colorbar": {
             "outlinewidth": 0,
             "ticks": ""
            },
            "colorscale": [
             [
              0,
              "#0d0887"
             ],
             [
              0.1111111111111111,
              "#46039f"
             ],
             [
              0.2222222222222222,
              "#7201a8"
             ],
             [
              0.3333333333333333,
              "#9c179e"
             ],
             [
              0.4444444444444444,
              "#bd3786"
             ],
             [
              0.5555555555555556,
              "#d8576b"
             ],
             [
              0.6666666666666666,
              "#ed7953"
             ],
             [
              0.7777777777777778,
              "#fb9f3a"
             ],
             [
              0.8888888888888888,
              "#fdca26"
             ],
             [
              1,
              "#f0f921"
             ]
            ],
            "type": "histogram2dcontour"
           }
          ],
          "mesh3d": [
           {
            "colorbar": {
             "outlinewidth": 0,
             "ticks": ""
            },
            "type": "mesh3d"
           }
          ],
          "parcoords": [
           {
            "line": {
             "colorbar": {
              "outlinewidth": 0,
              "ticks": ""
             }
            },
            "type": "parcoords"
           }
          ],
          "pie": [
           {
            "automargin": true,
            "type": "pie"
           }
          ],
          "scatter": [
           {
            "marker": {
             "colorbar": {
              "outlinewidth": 0,
              "ticks": ""
             }
            },
            "type": "scatter"
           }
          ],
          "scatter3d": [
           {
            "line": {
             "colorbar": {
              "outlinewidth": 0,
              "ticks": ""
             }
            },
            "marker": {
             "colorbar": {
              "outlinewidth": 0,
              "ticks": ""
             }
            },
            "type": "scatter3d"
           }
          ],
          "scattercarpet": [
           {
            "marker": {
             "colorbar": {
              "outlinewidth": 0,
              "ticks": ""
             }
            },
            "type": "scattercarpet"
           }
          ],
          "scattergeo": [
           {
            "marker": {
             "colorbar": {
              "outlinewidth": 0,
              "ticks": ""
             }
            },
            "type": "scattergeo"
           }
          ],
          "scattergl": [
           {
            "marker": {
             "colorbar": {
              "outlinewidth": 0,
              "ticks": ""
             }
            },
            "type": "scattergl"
           }
          ],
          "scattermapbox": [
           {
            "marker": {
             "colorbar": {
              "outlinewidth": 0,
              "ticks": ""
             }
            },
            "type": "scattermapbox"
           }
          ],
          "scatterpolar": [
           {
            "marker": {
             "colorbar": {
              "outlinewidth": 0,
              "ticks": ""
             }
            },
            "type": "scatterpolar"
           }
          ],
          "scatterpolargl": [
           {
            "marker": {
             "colorbar": {
              "outlinewidth": 0,
              "ticks": ""
             }
            },
            "type": "scatterpolargl"
           }
          ],
          "scatterternary": [
           {
            "marker": {
             "colorbar": {
              "outlinewidth": 0,
              "ticks": ""
             }
            },
            "type": "scatterternary"
           }
          ],
          "surface": [
           {
            "colorbar": {
             "outlinewidth": 0,
             "ticks": ""
            },
            "colorscale": [
             [
              0,
              "#0d0887"
             ],
             [
              0.1111111111111111,
              "#46039f"
             ],
             [
              0.2222222222222222,
              "#7201a8"
             ],
             [
              0.3333333333333333,
              "#9c179e"
             ],
             [
              0.4444444444444444,
              "#bd3786"
             ],
             [
              0.5555555555555556,
              "#d8576b"
             ],
             [
              0.6666666666666666,
              "#ed7953"
             ],
             [
              0.7777777777777778,
              "#fb9f3a"
             ],
             [
              0.8888888888888888,
              "#fdca26"
             ],
             [
              1,
              "#f0f921"
             ]
            ],
            "type": "surface"
           }
          ],
          "table": [
           {
            "cells": {
             "fill": {
              "color": "#EBF0F8"
             },
             "line": {
              "color": "white"
             }
            },
            "header": {
             "fill": {
              "color": "#C8D4E3"
             },
             "line": {
              "color": "white"
             }
            },
            "type": "table"
           }
          ]
         },
         "layout": {
          "annotationdefaults": {
           "arrowcolor": "#2a3f5f",
           "arrowhead": 0,
           "arrowwidth": 1
          },
          "autotypenumbers": "strict",
          "coloraxis": {
           "colorbar": {
            "outlinewidth": 0,
            "ticks": ""
           }
          },
          "colorscale": {
           "diverging": [
            [
             0,
             "#8e0152"
            ],
            [
             0.1,
             "#c51b7d"
            ],
            [
             0.2,
             "#de77ae"
            ],
            [
             0.3,
             "#f1b6da"
            ],
            [
             0.4,
             "#fde0ef"
            ],
            [
             0.5,
             "#f7f7f7"
            ],
            [
             0.6,
             "#e6f5d0"
            ],
            [
             0.7,
             "#b8e186"
            ],
            [
             0.8,
             "#7fbc41"
            ],
            [
             0.9,
             "#4d9221"
            ],
            [
             1,
             "#276419"
            ]
           ],
           "sequential": [
            [
             0,
             "#0d0887"
            ],
            [
             0.1111111111111111,
             "#46039f"
            ],
            [
             0.2222222222222222,
             "#7201a8"
            ],
            [
             0.3333333333333333,
             "#9c179e"
            ],
            [
             0.4444444444444444,
             "#bd3786"
            ],
            [
             0.5555555555555556,
             "#d8576b"
            ],
            [
             0.6666666666666666,
             "#ed7953"
            ],
            [
             0.7777777777777778,
             "#fb9f3a"
            ],
            [
             0.8888888888888888,
             "#fdca26"
            ],
            [
             1,
             "#f0f921"
            ]
           ],
           "sequentialminus": [
            [
             0,
             "#0d0887"
            ],
            [
             0.1111111111111111,
             "#46039f"
            ],
            [
             0.2222222222222222,
             "#7201a8"
            ],
            [
             0.3333333333333333,
             "#9c179e"
            ],
            [
             0.4444444444444444,
             "#bd3786"
            ],
            [
             0.5555555555555556,
             "#d8576b"
            ],
            [
             0.6666666666666666,
             "#ed7953"
            ],
            [
             0.7777777777777778,
             "#fb9f3a"
            ],
            [
             0.8888888888888888,
             "#fdca26"
            ],
            [
             1,
             "#f0f921"
            ]
           ]
          },
          "colorway": [
           "#636efa",
           "#EF553B",
           "#00cc96",
           "#ab63fa",
           "#FFA15A",
           "#19d3f3",
           "#FF6692",
           "#B6E880",
           "#FF97FF",
           "#FECB52"
          ],
          "font": {
           "color": "#2a3f5f"
          },
          "geo": {
           "bgcolor": "white",
           "lakecolor": "white",
           "landcolor": "#E5ECF6",
           "showlakes": true,
           "showland": true,
           "subunitcolor": "white"
          },
          "hoverlabel": {
           "align": "left"
          },
          "hovermode": "closest",
          "mapbox": {
           "style": "light"
          },
          "paper_bgcolor": "white",
          "plot_bgcolor": "#E5ECF6",
          "polar": {
           "angularaxis": {
            "gridcolor": "white",
            "linecolor": "white",
            "ticks": ""
           },
           "bgcolor": "#E5ECF6",
           "radialaxis": {
            "gridcolor": "white",
            "linecolor": "white",
            "ticks": ""
           }
          },
          "scene": {
           "xaxis": {
            "backgroundcolor": "#E5ECF6",
            "gridcolor": "white",
            "gridwidth": 2,
            "linecolor": "white",
            "showbackground": true,
            "ticks": "",
            "zerolinecolor": "white"
           },
           "yaxis": {
            "backgroundcolor": "#E5ECF6",
            "gridcolor": "white",
            "gridwidth": 2,
            "linecolor": "white",
            "showbackground": true,
            "ticks": "",
            "zerolinecolor": "white"
           },
           "zaxis": {
            "backgroundcolor": "#E5ECF6",
            "gridcolor": "white",
            "gridwidth": 2,
            "linecolor": "white",
            "showbackground": true,
            "ticks": "",
            "zerolinecolor": "white"
           }
          },
          "shapedefaults": {
           "line": {
            "color": "#2a3f5f"
           }
          },
          "ternary": {
           "aaxis": {
            "gridcolor": "white",
            "linecolor": "white",
            "ticks": ""
           },
           "baxis": {
            "gridcolor": "white",
            "linecolor": "white",
            "ticks": ""
           },
           "bgcolor": "#E5ECF6",
           "caxis": {
            "gridcolor": "white",
            "linecolor": "white",
            "ticks": ""
           }
          },
          "title": {
           "x": 0.05
          },
          "xaxis": {
           "automargin": true,
           "gridcolor": "white",
           "linecolor": "white",
           "ticks": "",
           "title": {
            "standoff": 15
           },
           "zerolinecolor": "white",
           "zerolinewidth": 2
          },
          "yaxis": {
           "automargin": true,
           "gridcolor": "white",
           "linecolor": "white",
           "ticks": "",
           "title": {
            "standoff": 15
           },
           "zerolinecolor": "white",
           "zerolinewidth": 2
          }
         }
        },
        "xaxis": {
         "anchor": "y",
         "domain": [
          0,
          1
         ],
         "title": {
          "text": "date"
         }
        },
        "yaxis": {
         "anchor": "x",
         "domain": [
          0,
          1
         ],
         "title": {
          "text": "cases_avg_per_100k"
         }
        }
       }
      }
     },
     "metadata": {},
     "output_type": "display_data"
    }
   ],
   "source": [
    "px.line(\n",
    "    df_2022_counties, x=df_2022_counties.index, y=\"cases_avg_per_100k\", color=\"county\"\n",
    ")"
   ]
  },
  {
   "cell_type": "markdown",
   "metadata": {},
   "source": [
    "TODO: Include older date.\n",
    "\n",
    "Read historic data and concatenate DataFrames."
   ]
  },
  {
   "cell_type": "markdown",
   "metadata": {},
   "source": [
    "## Map\n",
    "\n",
    "Most recent 7 day moving average.\n",
    "\n",
    "Scatter geo. \n",
    "\n",
    "Future direction: could make an animation over time. Could do choropleth too. Could show the DataFrame for just the most recent day in an app, too."
   ]
  },
  {
   "cell_type": "code",
   "execution_count": 45,
   "metadata": {},
   "outputs": [],
   "source": [
    "most_recent_date = df_2022_counties.index.max()"
   ]
  },
  {
   "cell_type": "code",
   "execution_count": 46,
   "metadata": {},
   "outputs": [
    {
     "data": {
      "text/html": [
       "<div>\n",
       "<style scoped>\n",
       "    .dataframe tbody tr th:only-of-type {\n",
       "        vertical-align: middle;\n",
       "    }\n",
       "\n",
       "    .dataframe tbody tr th {\n",
       "        vertical-align: top;\n",
       "    }\n",
       "\n",
       "    .dataframe thead th {\n",
       "        text-align: right;\n",
       "    }\n",
       "</style>\n",
       "<table border=\"1\" class=\"dataframe\">\n",
       "  <thead>\n",
       "    <tr style=\"text-align: right;\">\n",
       "      <th></th>\n",
       "      <th>county</th>\n",
       "      <th>state</th>\n",
       "      <th>fips</th>\n",
       "      <th>cases_avg_per_100k</th>\n",
       "    </tr>\n",
       "    <tr>\n",
       "      <th>date</th>\n",
       "      <th></th>\n",
       "      <th></th>\n",
       "      <th></th>\n",
       "      <th></th>\n",
       "    </tr>\n",
       "  </thead>\n",
       "  <tbody>\n",
       "    <tr>\n",
       "      <th>2022-01-28</th>\n",
       "      <td>Baltimore</td>\n",
       "      <td>Maryland</td>\n",
       "      <td>24005</td>\n",
       "      <td>37.85</td>\n",
       "    </tr>\n",
       "    <tr>\n",
       "      <th>2022-01-28</th>\n",
       "      <td>Prince George's</td>\n",
       "      <td>Maryland</td>\n",
       "      <td>24033</td>\n",
       "      <td>38.05</td>\n",
       "    </tr>\n",
       "    <tr>\n",
       "      <th>2022-01-28</th>\n",
       "      <td>Montgomery</td>\n",
       "      <td>Maryland</td>\n",
       "      <td>24031</td>\n",
       "      <td>52.37</td>\n",
       "    </tr>\n",
       "    <tr>\n",
       "      <th>2022-01-28</th>\n",
       "      <td>District of Columbia</td>\n",
       "      <td>District of Columbia</td>\n",
       "      <td>11001</td>\n",
       "      <td>52.97</td>\n",
       "    </tr>\n",
       "    <tr>\n",
       "      <th>2022-01-28</th>\n",
       "      <td>Arlington</td>\n",
       "      <td>Virginia</td>\n",
       "      <td>51013</td>\n",
       "      <td>84.14</td>\n",
       "    </tr>\n",
       "    <tr>\n",
       "      <th>2022-01-28</th>\n",
       "      <td>Putnam</td>\n",
       "      <td>Ohio</td>\n",
       "      <td>39137</td>\n",
       "      <td>87.33</td>\n",
       "    </tr>\n",
       "    <tr>\n",
       "      <th>2022-01-28</th>\n",
       "      <td>Cook</td>\n",
       "      <td>Illinois</td>\n",
       "      <td>17031</td>\n",
       "      <td>88.31</td>\n",
       "    </tr>\n",
       "    <tr>\n",
       "      <th>2022-01-28</th>\n",
       "      <td>Franklin</td>\n",
       "      <td>Ohio</td>\n",
       "      <td>39049</td>\n",
       "      <td>93.89</td>\n",
       "    </tr>\n",
       "    <tr>\n",
       "      <th>2022-01-28</th>\n",
       "      <td>Allegheny</td>\n",
       "      <td>Pennsylvania</td>\n",
       "      <td>42003</td>\n",
       "      <td>108.56</td>\n",
       "    </tr>\n",
       "    <tr>\n",
       "      <th>2022-01-28</th>\n",
       "      <td>Wood</td>\n",
       "      <td>Ohio</td>\n",
       "      <td>39173</td>\n",
       "      <td>127.22</td>\n",
       "    </tr>\n",
       "    <tr>\n",
       "      <th>2022-01-28</th>\n",
       "      <td>Denver</td>\n",
       "      <td>Colorado</td>\n",
       "      <td>08031</td>\n",
       "      <td>128.22</td>\n",
       "    </tr>\n",
       "    <tr>\n",
       "      <th>2022-01-28</th>\n",
       "      <td>Boulder</td>\n",
       "      <td>Colorado</td>\n",
       "      <td>08013</td>\n",
       "      <td>129.72</td>\n",
       "    </tr>\n",
       "    <tr>\n",
       "      <th>2022-01-28</th>\n",
       "      <td>Manatee</td>\n",
       "      <td>Florida</td>\n",
       "      <td>12081</td>\n",
       "      <td>133.24</td>\n",
       "    </tr>\n",
       "    <tr>\n",
       "      <th>2022-01-28</th>\n",
       "      <td>Montgomery</td>\n",
       "      <td>Ohio</td>\n",
       "      <td>39113</td>\n",
       "      <td>136.87</td>\n",
       "    </tr>\n",
       "    <tr>\n",
       "      <th>2022-01-28</th>\n",
       "      <td>San Francisco</td>\n",
       "      <td>California</td>\n",
       "      <td>06075</td>\n",
       "      <td>156.79</td>\n",
       "    </tr>\n",
       "    <tr>\n",
       "      <th>2022-01-28</th>\n",
       "      <td>Somerset</td>\n",
       "      <td>Pennsylvania</td>\n",
       "      <td>42111</td>\n",
       "      <td>172.72</td>\n",
       "    </tr>\n",
       "    <tr>\n",
       "      <th>2022-01-28</th>\n",
       "      <td>Clermont</td>\n",
       "      <td>Ohio</td>\n",
       "      <td>39025</td>\n",
       "      <td>179.93</td>\n",
       "    </tr>\n",
       "    <tr>\n",
       "      <th>2022-01-28</th>\n",
       "      <td>Los Angeles</td>\n",
       "      <td>California</td>\n",
       "      <td>06037</td>\n",
       "      <td>258.48</td>\n",
       "    </tr>\n",
       "  </tbody>\n",
       "</table>\n",
       "</div>"
      ],
      "text/plain": [
       "                          county                 state   fips  \\\n",
       "date                                                            \n",
       "2022-01-28             Baltimore              Maryland  24005   \n",
       "2022-01-28       Prince George's              Maryland  24033   \n",
       "2022-01-28            Montgomery              Maryland  24031   \n",
       "2022-01-28  District of Columbia  District of Columbia  11001   \n",
       "2022-01-28             Arlington              Virginia  51013   \n",
       "2022-01-28                Putnam                  Ohio  39137   \n",
       "2022-01-28                  Cook              Illinois  17031   \n",
       "2022-01-28              Franklin                  Ohio  39049   \n",
       "2022-01-28             Allegheny          Pennsylvania  42003   \n",
       "2022-01-28                  Wood                  Ohio  39173   \n",
       "2022-01-28                Denver              Colorado  08031   \n",
       "2022-01-28               Boulder              Colorado  08013   \n",
       "2022-01-28               Manatee               Florida  12081   \n",
       "2022-01-28            Montgomery                  Ohio  39113   \n",
       "2022-01-28         San Francisco            California  06075   \n",
       "2022-01-28              Somerset          Pennsylvania  42111   \n",
       "2022-01-28              Clermont                  Ohio  39025   \n",
       "2022-01-28           Los Angeles            California  06037   \n",
       "\n",
       "            cases_avg_per_100k  \n",
       "date                            \n",
       "2022-01-28               37.85  \n",
       "2022-01-28               38.05  \n",
       "2022-01-28               52.37  \n",
       "2022-01-28               52.97  \n",
       "2022-01-28               84.14  \n",
       "2022-01-28               87.33  \n",
       "2022-01-28               88.31  \n",
       "2022-01-28               93.89  \n",
       "2022-01-28              108.56  \n",
       "2022-01-28              127.22  \n",
       "2022-01-28              128.22  \n",
       "2022-01-28              129.72  \n",
       "2022-01-28              133.24  \n",
       "2022-01-28              136.87  \n",
       "2022-01-28              156.79  \n",
       "2022-01-28              172.72  \n",
       "2022-01-28              179.93  \n",
       "2022-01-28              258.48  "
      ]
     },
     "execution_count": 46,
     "metadata": {},
     "output_type": "execute_result"
    }
   ],
   "source": [
    "df_newest = df_2022_counties[df_2022_counties.index == most_recent_date].sort_values(\n",
    "    by=\"cases_avg_per_100k\"\n",
    ")\n",
    "df_newest\n"
   ]
  },
  {
   "cell_type": "code",
   "execution_count": 47,
   "metadata": {},
   "outputs": [],
   "source": [
    "# Need a shape file or to  get lat lon for each of the counties\n",
    "# harder to find then expected. Found a mapping here: https://simplemaps.com/data/us-counties.\n"
   ]
  },
  {
   "cell_type": "code",
   "execution_count": 48,
   "metadata": {},
   "outputs": [
    {
     "data": {
      "text/html": [
       "<div>\n",
       "<style scoped>\n",
       "    .dataframe tbody tr th:only-of-type {\n",
       "        vertical-align: middle;\n",
       "    }\n",
       "\n",
       "    .dataframe tbody tr th {\n",
       "        vertical-align: top;\n",
       "    }\n",
       "\n",
       "    .dataframe thead th {\n",
       "        text-align: right;\n",
       "    }\n",
       "</style>\n",
       "<table border=\"1\" class=\"dataframe\">\n",
       "  <thead>\n",
       "    <tr style=\"text-align: right;\">\n",
       "      <th></th>\n",
       "      <th>county</th>\n",
       "      <th>county_ascii</th>\n",
       "      <th>county_full</th>\n",
       "      <th>county_fips</th>\n",
       "      <th>state_id</th>\n",
       "      <th>state_name</th>\n",
       "      <th>lat</th>\n",
       "      <th>lng</th>\n",
       "      <th>population</th>\n",
       "    </tr>\n",
       "  </thead>\n",
       "  <tbody>\n",
       "    <tr>\n",
       "      <th>0</th>\n",
       "      <td>Los Angeles</td>\n",
       "      <td>Los Angeles</td>\n",
       "      <td>Los Angeles County</td>\n",
       "      <td>6037</td>\n",
       "      <td>CA</td>\n",
       "      <td>California</td>\n",
       "      <td>34.3207</td>\n",
       "      <td>-118.2248</td>\n",
       "      <td>10081570</td>\n",
       "    </tr>\n",
       "    <tr>\n",
       "      <th>1</th>\n",
       "      <td>Cook</td>\n",
       "      <td>Cook</td>\n",
       "      <td>Cook County</td>\n",
       "      <td>17031</td>\n",
       "      <td>IL</td>\n",
       "      <td>Illinois</td>\n",
       "      <td>41.8401</td>\n",
       "      <td>-87.8168</td>\n",
       "      <td>5198275</td>\n",
       "    </tr>\n",
       "    <tr>\n",
       "      <th>2</th>\n",
       "      <td>Harris</td>\n",
       "      <td>Harris</td>\n",
       "      <td>Harris County</td>\n",
       "      <td>48201</td>\n",
       "      <td>TX</td>\n",
       "      <td>Texas</td>\n",
       "      <td>29.8577</td>\n",
       "      <td>-95.3936</td>\n",
       "      <td>4646630</td>\n",
       "    </tr>\n",
       "    <tr>\n",
       "      <th>3</th>\n",
       "      <td>Maricopa</td>\n",
       "      <td>Maricopa</td>\n",
       "      <td>Maricopa County</td>\n",
       "      <td>4013</td>\n",
       "      <td>AZ</td>\n",
       "      <td>Arizona</td>\n",
       "      <td>33.3490</td>\n",
       "      <td>-112.4915</td>\n",
       "      <td>4328810</td>\n",
       "    </tr>\n",
       "    <tr>\n",
       "      <th>4</th>\n",
       "      <td>San Diego</td>\n",
       "      <td>San Diego</td>\n",
       "      <td>San Diego County</td>\n",
       "      <td>6073</td>\n",
       "      <td>CA</td>\n",
       "      <td>California</td>\n",
       "      <td>33.0341</td>\n",
       "      <td>-116.7353</td>\n",
       "      <td>3316073</td>\n",
       "    </tr>\n",
       "    <tr>\n",
       "      <th>...</th>\n",
       "      <td>...</td>\n",
       "      <td>...</td>\n",
       "      <td>...</td>\n",
       "      <td>...</td>\n",
       "      <td>...</td>\n",
       "      <td>...</td>\n",
       "      <td>...</td>\n",
       "      <td>...</td>\n",
       "      <td>...</td>\n",
       "    </tr>\n",
       "    <tr>\n",
       "      <th>3137</th>\n",
       "      <td>Arthur</td>\n",
       "      <td>Arthur</td>\n",
       "      <td>Arthur County</td>\n",
       "      <td>31005</td>\n",
       "      <td>NE</td>\n",
       "      <td>Nebraska</td>\n",
       "      <td>41.5689</td>\n",
       "      <td>-101.6958</td>\n",
       "      <td>427</td>\n",
       "    </tr>\n",
       "    <tr>\n",
       "      <th>3138</th>\n",
       "      <td>McPherson</td>\n",
       "      <td>McPherson</td>\n",
       "      <td>McPherson County</td>\n",
       "      <td>31117</td>\n",
       "      <td>NE</td>\n",
       "      <td>Nebraska</td>\n",
       "      <td>41.5682</td>\n",
       "      <td>-101.0605</td>\n",
       "      <td>395</td>\n",
       "    </tr>\n",
       "    <tr>\n",
       "      <th>3139</th>\n",
       "      <td>King</td>\n",
       "      <td>King</td>\n",
       "      <td>King County</td>\n",
       "      <td>48269</td>\n",
       "      <td>TX</td>\n",
       "      <td>Texas</td>\n",
       "      <td>33.6166</td>\n",
       "      <td>-100.2558</td>\n",
       "      <td>237</td>\n",
       "    </tr>\n",
       "    <tr>\n",
       "      <th>3140</th>\n",
       "      <td>Loving</td>\n",
       "      <td>Loving</td>\n",
       "      <td>Loving County</td>\n",
       "      <td>48301</td>\n",
       "      <td>TX</td>\n",
       "      <td>Texas</td>\n",
       "      <td>31.8493</td>\n",
       "      <td>-103.5799</td>\n",
       "      <td>98</td>\n",
       "    </tr>\n",
       "    <tr>\n",
       "      <th>3141</th>\n",
       "      <td>Kalawao</td>\n",
       "      <td>Kalawao</td>\n",
       "      <td>Kalawao County</td>\n",
       "      <td>15005</td>\n",
       "      <td>HI</td>\n",
       "      <td>Hawaii</td>\n",
       "      <td>21.1709</td>\n",
       "      <td>-156.9475</td>\n",
       "      <td>66</td>\n",
       "    </tr>\n",
       "  </tbody>\n",
       "</table>\n",
       "<p>3142 rows × 9 columns</p>\n",
       "</div>"
      ],
      "text/plain": [
       "           county county_ascii         county_full  county_fips state_id  \\\n",
       "0     Los Angeles  Los Angeles  Los Angeles County         6037       CA   \n",
       "1            Cook         Cook         Cook County        17031       IL   \n",
       "2          Harris       Harris       Harris County        48201       TX   \n",
       "3        Maricopa     Maricopa     Maricopa County         4013       AZ   \n",
       "4       San Diego    San Diego    San Diego County         6073       CA   \n",
       "...           ...          ...                 ...          ...      ...   \n",
       "3137       Arthur       Arthur       Arthur County        31005       NE   \n",
       "3138    McPherson    McPherson    McPherson County        31117       NE   \n",
       "3139         King         King         King County        48269       TX   \n",
       "3140       Loving       Loving       Loving County        48301       TX   \n",
       "3141      Kalawao      Kalawao      Kalawao County        15005       HI   \n",
       "\n",
       "      state_name      lat       lng  population  \n",
       "0     California  34.3207 -118.2248    10081570  \n",
       "1       Illinois  41.8401  -87.8168     5198275  \n",
       "2          Texas  29.8577  -95.3936     4646630  \n",
       "3        Arizona  33.3490 -112.4915     4328810  \n",
       "4     California  33.0341 -116.7353     3316073  \n",
       "...          ...      ...       ...         ...  \n",
       "3137    Nebraska  41.5689 -101.6958         427  \n",
       "3138    Nebraska  41.5682 -101.0605         395  \n",
       "3139       Texas  33.6166 -100.2558         237  \n",
       "3140       Texas  31.8493 -103.5799          98  \n",
       "3141      Hawaii  21.1709 -156.9475          66  \n",
       "\n",
       "[3142 rows x 9 columns]"
      ]
     },
     "execution_count": 48,
     "metadata": {},
     "output_type": "execute_result"
    }
   ],
   "source": [
    "df_mapping = pd.read_csv('uscounties.csv')\n",
    "df_mapping"
   ]
  },
  {
   "cell_type": "markdown",
   "metadata": {},
   "source": [
    "Need to add a 0 in front for the mapping county fips."
   ]
  },
  {
   "cell_type": "code",
   "execution_count": 50,
   "metadata": {},
   "outputs": [],
   "source": [
    "df_mapping['county_fips_str'] = df_mapping['county_fips'].astype(str).str.zfill(5)"
   ]
  },
  {
   "cell_type": "code",
   "execution_count": 55,
   "metadata": {},
   "outputs": [
    {
     "data": {
      "text/html": [
       "<div>\n",
       "<style scoped>\n",
       "    .dataframe tbody tr th:only-of-type {\n",
       "        vertical-align: middle;\n",
       "    }\n",
       "\n",
       "    .dataframe tbody tr th {\n",
       "        vertical-align: top;\n",
       "    }\n",
       "\n",
       "    .dataframe thead th {\n",
       "        text-align: right;\n",
       "    }\n",
       "</style>\n",
       "<table border=\"1\" class=\"dataframe\">\n",
       "  <thead>\n",
       "    <tr style=\"text-align: right;\">\n",
       "      <th></th>\n",
       "      <th>county_x</th>\n",
       "      <th>state</th>\n",
       "      <th>fips</th>\n",
       "      <th>cases_avg_per_100k</th>\n",
       "      <th>county_y</th>\n",
       "      <th>county_ascii</th>\n",
       "      <th>county_full</th>\n",
       "      <th>county_fips</th>\n",
       "      <th>state_id</th>\n",
       "      <th>state_name</th>\n",
       "      <th>lat</th>\n",
       "      <th>lng</th>\n",
       "      <th>population</th>\n",
       "      <th>county_fips_str</th>\n",
       "    </tr>\n",
       "  </thead>\n",
       "  <tbody>\n",
       "    <tr>\n",
       "      <th>0</th>\n",
       "      <td>Baltimore</td>\n",
       "      <td>Maryland</td>\n",
       "      <td>24005</td>\n",
       "      <td>37.85</td>\n",
       "      <td>Baltimore</td>\n",
       "      <td>Baltimore</td>\n",
       "      <td>Baltimore County</td>\n",
       "      <td>24005</td>\n",
       "      <td>MD</td>\n",
       "      <td>Maryland</td>\n",
       "      <td>39.4627</td>\n",
       "      <td>-76.6393</td>\n",
       "      <td>828018</td>\n",
       "      <td>24005</td>\n",
       "    </tr>\n",
       "    <tr>\n",
       "      <th>1</th>\n",
       "      <td>Prince George's</td>\n",
       "      <td>Maryland</td>\n",
       "      <td>24033</td>\n",
       "      <td>38.05</td>\n",
       "      <td>Prince George's</td>\n",
       "      <td>Prince George's</td>\n",
       "      <td>Prince George's County</td>\n",
       "      <td>24033</td>\n",
       "      <td>MD</td>\n",
       "      <td>Maryland</td>\n",
       "      <td>38.8295</td>\n",
       "      <td>-76.8473</td>\n",
       "      <td>908670</td>\n",
       "      <td>24033</td>\n",
       "    </tr>\n",
       "    <tr>\n",
       "      <th>2</th>\n",
       "      <td>Montgomery</td>\n",
       "      <td>Maryland</td>\n",
       "      <td>24031</td>\n",
       "      <td>52.37</td>\n",
       "      <td>Montgomery</td>\n",
       "      <td>Montgomery</td>\n",
       "      <td>Montgomery County</td>\n",
       "      <td>24031</td>\n",
       "      <td>MD</td>\n",
       "      <td>Maryland</td>\n",
       "      <td>39.1363</td>\n",
       "      <td>-77.2042</td>\n",
       "      <td>1043530</td>\n",
       "      <td>24031</td>\n",
       "    </tr>\n",
       "    <tr>\n",
       "      <th>3</th>\n",
       "      <td>District of Columbia</td>\n",
       "      <td>District of Columbia</td>\n",
       "      <td>11001</td>\n",
       "      <td>52.97</td>\n",
       "      <td>District of Columbia</td>\n",
       "      <td>District of Columbia</td>\n",
       "      <td>District of Columbia</td>\n",
       "      <td>11001</td>\n",
       "      <td>DC</td>\n",
       "      <td>District of Columbia</td>\n",
       "      <td>38.9047</td>\n",
       "      <td>-77.0163</td>\n",
       "      <td>692683</td>\n",
       "      <td>11001</td>\n",
       "    </tr>\n",
       "    <tr>\n",
       "      <th>4</th>\n",
       "      <td>Arlington</td>\n",
       "      <td>Virginia</td>\n",
       "      <td>51013</td>\n",
       "      <td>84.14</td>\n",
       "      <td>Arlington</td>\n",
       "      <td>Arlington</td>\n",
       "      <td>Arlington County</td>\n",
       "      <td>51013</td>\n",
       "      <td>VA</td>\n",
       "      <td>Virginia</td>\n",
       "      <td>38.8786</td>\n",
       "      <td>-77.1011</td>\n",
       "      <td>233464</td>\n",
       "      <td>51013</td>\n",
       "    </tr>\n",
       "    <tr>\n",
       "      <th>5</th>\n",
       "      <td>Putnam</td>\n",
       "      <td>Ohio</td>\n",
       "      <td>39137</td>\n",
       "      <td>87.33</td>\n",
       "      <td>Putnam</td>\n",
       "      <td>Putnam</td>\n",
       "      <td>Putnam County</td>\n",
       "      <td>39137</td>\n",
       "      <td>OH</td>\n",
       "      <td>Ohio</td>\n",
       "      <td>41.0221</td>\n",
       "      <td>-84.1317</td>\n",
       "      <td>33911</td>\n",
       "      <td>39137</td>\n",
       "    </tr>\n",
       "    <tr>\n",
       "      <th>6</th>\n",
       "      <td>Cook</td>\n",
       "      <td>Illinois</td>\n",
       "      <td>17031</td>\n",
       "      <td>88.31</td>\n",
       "      <td>Cook</td>\n",
       "      <td>Cook</td>\n",
       "      <td>Cook County</td>\n",
       "      <td>17031</td>\n",
       "      <td>IL</td>\n",
       "      <td>Illinois</td>\n",
       "      <td>41.8401</td>\n",
       "      <td>-87.8168</td>\n",
       "      <td>5198275</td>\n",
       "      <td>17031</td>\n",
       "    </tr>\n",
       "    <tr>\n",
       "      <th>7</th>\n",
       "      <td>Franklin</td>\n",
       "      <td>Ohio</td>\n",
       "      <td>39049</td>\n",
       "      <td>93.89</td>\n",
       "      <td>Franklin</td>\n",
       "      <td>Franklin</td>\n",
       "      <td>Franklin County</td>\n",
       "      <td>39049</td>\n",
       "      <td>OH</td>\n",
       "      <td>Ohio</td>\n",
       "      <td>39.9695</td>\n",
       "      <td>-83.0093</td>\n",
       "      <td>1290360</td>\n",
       "      <td>39049</td>\n",
       "    </tr>\n",
       "    <tr>\n",
       "      <th>8</th>\n",
       "      <td>Allegheny</td>\n",
       "      <td>Pennsylvania</td>\n",
       "      <td>42003</td>\n",
       "      <td>108.56</td>\n",
       "      <td>Allegheny</td>\n",
       "      <td>Allegheny</td>\n",
       "      <td>Allegheny County</td>\n",
       "      <td>42003</td>\n",
       "      <td>PA</td>\n",
       "      <td>Pennsylvania</td>\n",
       "      <td>40.4688</td>\n",
       "      <td>-79.9812</td>\n",
       "      <td>1221744</td>\n",
       "      <td>42003</td>\n",
       "    </tr>\n",
       "    <tr>\n",
       "      <th>9</th>\n",
       "      <td>Wood</td>\n",
       "      <td>Ohio</td>\n",
       "      <td>39173</td>\n",
       "      <td>127.22</td>\n",
       "      <td>Wood</td>\n",
       "      <td>Wood</td>\n",
       "      <td>Wood County</td>\n",
       "      <td>39173</td>\n",
       "      <td>OH</td>\n",
       "      <td>Ohio</td>\n",
       "      <td>41.3617</td>\n",
       "      <td>-83.6230</td>\n",
       "      <td>130150</td>\n",
       "      <td>39173</td>\n",
       "    </tr>\n",
       "    <tr>\n",
       "      <th>10</th>\n",
       "      <td>Denver</td>\n",
       "      <td>Colorado</td>\n",
       "      <td>08031</td>\n",
       "      <td>128.22</td>\n",
       "      <td>Denver</td>\n",
       "      <td>Denver</td>\n",
       "      <td>Denver County</td>\n",
       "      <td>8031</td>\n",
       "      <td>CO</td>\n",
       "      <td>Colorado</td>\n",
       "      <td>39.7621</td>\n",
       "      <td>-104.8759</td>\n",
       "      <td>705576</td>\n",
       "      <td>08031</td>\n",
       "    </tr>\n",
       "    <tr>\n",
       "      <th>11</th>\n",
       "      <td>Boulder</td>\n",
       "      <td>Colorado</td>\n",
       "      <td>08013</td>\n",
       "      <td>129.72</td>\n",
       "      <td>Boulder</td>\n",
       "      <td>Boulder</td>\n",
       "      <td>Boulder County</td>\n",
       "      <td>8013</td>\n",
       "      <td>CO</td>\n",
       "      <td>Colorado</td>\n",
       "      <td>40.0925</td>\n",
       "      <td>-105.3577</td>\n",
       "      <td>322510</td>\n",
       "      <td>08013</td>\n",
       "    </tr>\n",
       "    <tr>\n",
       "      <th>12</th>\n",
       "      <td>Manatee</td>\n",
       "      <td>Florida</td>\n",
       "      <td>12081</td>\n",
       "      <td>133.24</td>\n",
       "      <td>Manatee</td>\n",
       "      <td>Manatee</td>\n",
       "      <td>Manatee County</td>\n",
       "      <td>12081</td>\n",
       "      <td>FL</td>\n",
       "      <td>Florida</td>\n",
       "      <td>27.4719</td>\n",
       "      <td>-82.3153</td>\n",
       "      <td>384213</td>\n",
       "      <td>12081</td>\n",
       "    </tr>\n",
       "    <tr>\n",
       "      <th>13</th>\n",
       "      <td>Montgomery</td>\n",
       "      <td>Ohio</td>\n",
       "      <td>39113</td>\n",
       "      <td>136.87</td>\n",
       "      <td>Montgomery</td>\n",
       "      <td>Montgomery</td>\n",
       "      <td>Montgomery County</td>\n",
       "      <td>39113</td>\n",
       "      <td>OH</td>\n",
       "      <td>Ohio</td>\n",
       "      <td>39.7546</td>\n",
       "      <td>-84.2906</td>\n",
       "      <td>531670</td>\n",
       "      <td>39113</td>\n",
       "    </tr>\n",
       "    <tr>\n",
       "      <th>14</th>\n",
       "      <td>San Francisco</td>\n",
       "      <td>California</td>\n",
       "      <td>06075</td>\n",
       "      <td>156.79</td>\n",
       "      <td>San Francisco</td>\n",
       "      <td>San Francisco</td>\n",
       "      <td>San Francisco County</td>\n",
       "      <td>6075</td>\n",
       "      <td>CA</td>\n",
       "      <td>California</td>\n",
       "      <td>37.7562</td>\n",
       "      <td>-122.4430</td>\n",
       "      <td>874961</td>\n",
       "      <td>06075</td>\n",
       "    </tr>\n",
       "    <tr>\n",
       "      <th>15</th>\n",
       "      <td>Somerset</td>\n",
       "      <td>Pennsylvania</td>\n",
       "      <td>42111</td>\n",
       "      <td>172.72</td>\n",
       "      <td>Somerset</td>\n",
       "      <td>Somerset</td>\n",
       "      <td>Somerset County</td>\n",
       "      <td>42111</td>\n",
       "      <td>PA</td>\n",
       "      <td>Pennsylvania</td>\n",
       "      <td>39.9725</td>\n",
       "      <td>-79.0283</td>\n",
       "      <td>74361</td>\n",
       "      <td>42111</td>\n",
       "    </tr>\n",
       "    <tr>\n",
       "      <th>16</th>\n",
       "      <td>Clermont</td>\n",
       "      <td>Ohio</td>\n",
       "      <td>39025</td>\n",
       "      <td>179.93</td>\n",
       "      <td>Clermont</td>\n",
       "      <td>Clermont</td>\n",
       "      <td>Clermont County</td>\n",
       "      <td>39025</td>\n",
       "      <td>OH</td>\n",
       "      <td>Ohio</td>\n",
       "      <td>39.0475</td>\n",
       "      <td>-84.1519</td>\n",
       "      <td>204275</td>\n",
       "      <td>39025</td>\n",
       "    </tr>\n",
       "    <tr>\n",
       "      <th>17</th>\n",
       "      <td>Los Angeles</td>\n",
       "      <td>California</td>\n",
       "      <td>06037</td>\n",
       "      <td>258.48</td>\n",
       "      <td>Los Angeles</td>\n",
       "      <td>Los Angeles</td>\n",
       "      <td>Los Angeles County</td>\n",
       "      <td>6037</td>\n",
       "      <td>CA</td>\n",
       "      <td>California</td>\n",
       "      <td>34.3207</td>\n",
       "      <td>-118.2248</td>\n",
       "      <td>10081570</td>\n",
       "      <td>06037</td>\n",
       "    </tr>\n",
       "  </tbody>\n",
       "</table>\n",
       "</div>"
      ],
      "text/plain": [
       "                county_x                 state   fips  cases_avg_per_100k  \\\n",
       "0              Baltimore              Maryland  24005               37.85   \n",
       "1        Prince George's              Maryland  24033               38.05   \n",
       "2             Montgomery              Maryland  24031               52.37   \n",
       "3   District of Columbia  District of Columbia  11001               52.97   \n",
       "4              Arlington              Virginia  51013               84.14   \n",
       "5                 Putnam                  Ohio  39137               87.33   \n",
       "6                   Cook              Illinois  17031               88.31   \n",
       "7               Franklin                  Ohio  39049               93.89   \n",
       "8              Allegheny          Pennsylvania  42003              108.56   \n",
       "9                   Wood                  Ohio  39173              127.22   \n",
       "10                Denver              Colorado  08031              128.22   \n",
       "11               Boulder              Colorado  08013              129.72   \n",
       "12               Manatee               Florida  12081              133.24   \n",
       "13            Montgomery                  Ohio  39113              136.87   \n",
       "14         San Francisco            California  06075              156.79   \n",
       "15              Somerset          Pennsylvania  42111              172.72   \n",
       "16              Clermont                  Ohio  39025              179.93   \n",
       "17           Los Angeles            California  06037              258.48   \n",
       "\n",
       "                county_y          county_ascii             county_full  \\\n",
       "0              Baltimore             Baltimore        Baltimore County   \n",
       "1        Prince George's       Prince George's  Prince George's County   \n",
       "2             Montgomery            Montgomery       Montgomery County   \n",
       "3   District of Columbia  District of Columbia    District of Columbia   \n",
       "4              Arlington             Arlington        Arlington County   \n",
       "5                 Putnam                Putnam           Putnam County   \n",
       "6                   Cook                  Cook             Cook County   \n",
       "7               Franklin              Franklin         Franklin County   \n",
       "8              Allegheny             Allegheny        Allegheny County   \n",
       "9                   Wood                  Wood             Wood County   \n",
       "10                Denver                Denver           Denver County   \n",
       "11               Boulder               Boulder          Boulder County   \n",
       "12               Manatee               Manatee          Manatee County   \n",
       "13            Montgomery            Montgomery       Montgomery County   \n",
       "14         San Francisco         San Francisco    San Francisco County   \n",
       "15              Somerset              Somerset         Somerset County   \n",
       "16              Clermont              Clermont         Clermont County   \n",
       "17           Los Angeles           Los Angeles      Los Angeles County   \n",
       "\n",
       "    county_fips state_id            state_name      lat       lng  population  \\\n",
       "0         24005       MD              Maryland  39.4627  -76.6393      828018   \n",
       "1         24033       MD              Maryland  38.8295  -76.8473      908670   \n",
       "2         24031       MD              Maryland  39.1363  -77.2042     1043530   \n",
       "3         11001       DC  District of Columbia  38.9047  -77.0163      692683   \n",
       "4         51013       VA              Virginia  38.8786  -77.1011      233464   \n",
       "5         39137       OH                  Ohio  41.0221  -84.1317       33911   \n",
       "6         17031       IL              Illinois  41.8401  -87.8168     5198275   \n",
       "7         39049       OH                  Ohio  39.9695  -83.0093     1290360   \n",
       "8         42003       PA          Pennsylvania  40.4688  -79.9812     1221744   \n",
       "9         39173       OH                  Ohio  41.3617  -83.6230      130150   \n",
       "10         8031       CO              Colorado  39.7621 -104.8759      705576   \n",
       "11         8013       CO              Colorado  40.0925 -105.3577      322510   \n",
       "12        12081       FL               Florida  27.4719  -82.3153      384213   \n",
       "13        39113       OH                  Ohio  39.7546  -84.2906      531670   \n",
       "14         6075       CA            California  37.7562 -122.4430      874961   \n",
       "15        42111       PA          Pennsylvania  39.9725  -79.0283       74361   \n",
       "16        39025       OH                  Ohio  39.0475  -84.1519      204275   \n",
       "17         6037       CA            California  34.3207 -118.2248    10081570   \n",
       "\n",
       "   county_fips_str  \n",
       "0            24005  \n",
       "1            24033  \n",
       "2            24031  \n",
       "3            11001  \n",
       "4            51013  \n",
       "5            39137  \n",
       "6            17031  \n",
       "7            39049  \n",
       "8            42003  \n",
       "9            39173  \n",
       "10           08031  \n",
       "11           08013  \n",
       "12           12081  \n",
       "13           39113  \n",
       "14           06075  \n",
       "15           42111  \n",
       "16           39025  \n",
       "17           06037  "
      ]
     },
     "execution_count": 55,
     "metadata": {},
     "output_type": "execute_result"
    }
   ],
   "source": [
    "df_ll = pd.merge(left=df_newest, right=df_mapping, how='left', left_on='fips', right_on='county_fips_str')\n",
    "df_ll\n"
   ]
  },
  {
   "cell_type": "code",
   "execution_count": 60,
   "metadata": {},
   "outputs": [
    {
     "data": {
      "application/vnd.plotly.v1+json": {
       "config": {
        "plotlyServerURL": "https://plot.ly"
       },
       "data": [
        {
         "geo": "geo",
         "hovertemplate": "cases_avg_per_100k=%{marker.color}<br>lat=%{lat}<br>lng=%{lon}<extra></extra>",
         "lat": [
          39.4627,
          38.8295,
          39.1363,
          38.9047,
          38.8786,
          41.0221,
          41.8401,
          39.9695,
          40.4688,
          41.3617,
          39.7621,
          40.0925,
          27.4719,
          39.7546,
          37.7562,
          39.9725,
          39.0475,
          34.3207
         ],
         "legendgroup": "",
         "lon": [
          -76.6393,
          -76.8473,
          -77.2042,
          -77.0163,
          -77.1011,
          -84.1317,
          -87.8168,
          -83.0093,
          -79.9812,
          -83.623,
          -104.8759,
          -105.3577,
          -82.3153,
          -84.2906,
          -122.443,
          -79.0283,
          -84.1519,
          -118.2248
         ],
         "marker": {
          "color": [
           37.85,
           38.05,
           52.37,
           52.97,
           84.14,
           87.33,
           88.31,
           93.89,
           108.56,
           127.22,
           128.22,
           129.72,
           133.24,
           136.87,
           156.79,
           172.72,
           179.93,
           258.48
          ],
          "coloraxis": "coloraxis",
          "size": [
           37.85,
           38.05,
           52.37,
           52.97,
           84.14,
           87.33,
           88.31,
           93.89,
           108.56,
           127.22,
           128.22,
           129.72,
           133.24,
           136.87,
           156.79,
           172.72,
           179.93,
           258.48
          ],
          "sizemode": "area",
          "sizeref": 0.6462,
          "symbol": "circle"
         },
         "mode": "markers",
         "name": "",
         "showlegend": false,
         "type": "scattergeo"
        }
       ],
       "layout": {
        "coloraxis": {
         "colorbar": {
          "title": {
           "text": "cases_avg_per_100k"
          }
         },
         "colorscale": [
          [
           0,
           "#0d0887"
          ],
          [
           0.1111111111111111,
           "#46039f"
          ],
          [
           0.2222222222222222,
           "#7201a8"
          ],
          [
           0.3333333333333333,
           "#9c179e"
          ],
          [
           0.4444444444444444,
           "#bd3786"
          ],
          [
           0.5555555555555556,
           "#d8576b"
          ],
          [
           0.6666666666666666,
           "#ed7953"
          ],
          [
           0.7777777777777778,
           "#fb9f3a"
          ],
          [
           0.8888888888888888,
           "#fdca26"
          ],
          [
           1,
           "#f0f921"
          ]
         ]
        },
        "geo": {
         "center": {},
         "domain": {
          "x": [
           0,
           1
          ],
          "y": [
           0,
           1
          ]
         },
         "scope": "usa"
        },
        "legend": {
         "itemsizing": "constant",
         "tracegroupgap": 0
        },
        "margin": {
         "t": 60
        },
        "template": {
         "data": {
          "bar": [
           {
            "error_x": {
             "color": "#2a3f5f"
            },
            "error_y": {
             "color": "#2a3f5f"
            },
            "marker": {
             "line": {
              "color": "#E5ECF6",
              "width": 0.5
             },
             "pattern": {
              "fillmode": "overlay",
              "size": 10,
              "solidity": 0.2
             }
            },
            "type": "bar"
           }
          ],
          "barpolar": [
           {
            "marker": {
             "line": {
              "color": "#E5ECF6",
              "width": 0.5
             },
             "pattern": {
              "fillmode": "overlay",
              "size": 10,
              "solidity": 0.2
             }
            },
            "type": "barpolar"
           }
          ],
          "carpet": [
           {
            "aaxis": {
             "endlinecolor": "#2a3f5f",
             "gridcolor": "white",
             "linecolor": "white",
             "minorgridcolor": "white",
             "startlinecolor": "#2a3f5f"
            },
            "baxis": {
             "endlinecolor": "#2a3f5f",
             "gridcolor": "white",
             "linecolor": "white",
             "minorgridcolor": "white",
             "startlinecolor": "#2a3f5f"
            },
            "type": "carpet"
           }
          ],
          "choropleth": [
           {
            "colorbar": {
             "outlinewidth": 0,
             "ticks": ""
            },
            "type": "choropleth"
           }
          ],
          "contour": [
           {
            "colorbar": {
             "outlinewidth": 0,
             "ticks": ""
            },
            "colorscale": [
             [
              0,
              "#0d0887"
             ],
             [
              0.1111111111111111,
              "#46039f"
             ],
             [
              0.2222222222222222,
              "#7201a8"
             ],
             [
              0.3333333333333333,
              "#9c179e"
             ],
             [
              0.4444444444444444,
              "#bd3786"
             ],
             [
              0.5555555555555556,
              "#d8576b"
             ],
             [
              0.6666666666666666,
              "#ed7953"
             ],
             [
              0.7777777777777778,
              "#fb9f3a"
             ],
             [
              0.8888888888888888,
              "#fdca26"
             ],
             [
              1,
              "#f0f921"
             ]
            ],
            "type": "contour"
           }
          ],
          "contourcarpet": [
           {
            "colorbar": {
             "outlinewidth": 0,
             "ticks": ""
            },
            "type": "contourcarpet"
           }
          ],
          "heatmap": [
           {
            "colorbar": {
             "outlinewidth": 0,
             "ticks": ""
            },
            "colorscale": [
             [
              0,
              "#0d0887"
             ],
             [
              0.1111111111111111,
              "#46039f"
             ],
             [
              0.2222222222222222,
              "#7201a8"
             ],
             [
              0.3333333333333333,
              "#9c179e"
             ],
             [
              0.4444444444444444,
              "#bd3786"
             ],
             [
              0.5555555555555556,
              "#d8576b"
             ],
             [
              0.6666666666666666,
              "#ed7953"
             ],
             [
              0.7777777777777778,
              "#fb9f3a"
             ],
             [
              0.8888888888888888,
              "#fdca26"
             ],
             [
              1,
              "#f0f921"
             ]
            ],
            "type": "heatmap"
           }
          ],
          "heatmapgl": [
           {
            "colorbar": {
             "outlinewidth": 0,
             "ticks": ""
            },
            "colorscale": [
             [
              0,
              "#0d0887"
             ],
             [
              0.1111111111111111,
              "#46039f"
             ],
             [
              0.2222222222222222,
              "#7201a8"
             ],
             [
              0.3333333333333333,
              "#9c179e"
             ],
             [
              0.4444444444444444,
              "#bd3786"
             ],
             [
              0.5555555555555556,
              "#d8576b"
             ],
             [
              0.6666666666666666,
              "#ed7953"
             ],
             [
              0.7777777777777778,
              "#fb9f3a"
             ],
             [
              0.8888888888888888,
              "#fdca26"
             ],
             [
              1,
              "#f0f921"
             ]
            ],
            "type": "heatmapgl"
           }
          ],
          "histogram": [
           {
            "marker": {
             "pattern": {
              "fillmode": "overlay",
              "size": 10,
              "solidity": 0.2
             }
            },
            "type": "histogram"
           }
          ],
          "histogram2d": [
           {
            "colorbar": {
             "outlinewidth": 0,
             "ticks": ""
            },
            "colorscale": [
             [
              0,
              "#0d0887"
             ],
             [
              0.1111111111111111,
              "#46039f"
             ],
             [
              0.2222222222222222,
              "#7201a8"
             ],
             [
              0.3333333333333333,
              "#9c179e"
             ],
             [
              0.4444444444444444,
              "#bd3786"
             ],
             [
              0.5555555555555556,
              "#d8576b"
             ],
             [
              0.6666666666666666,
              "#ed7953"
             ],
             [
              0.7777777777777778,
              "#fb9f3a"
             ],
             [
              0.8888888888888888,
              "#fdca26"
             ],
             [
              1,
              "#f0f921"
             ]
            ],
            "type": "histogram2d"
           }
          ],
          "histogram2dcontour": [
           {
            "colorbar": {
             "outlinewidth": 0,
             "ticks": ""
            },
            "colorscale": [
             [
              0,
              "#0d0887"
             ],
             [
              0.1111111111111111,
              "#46039f"
             ],
             [
              0.2222222222222222,
              "#7201a8"
             ],
             [
              0.3333333333333333,
              "#9c179e"
             ],
             [
              0.4444444444444444,
              "#bd3786"
             ],
             [
              0.5555555555555556,
              "#d8576b"
             ],
             [
              0.6666666666666666,
              "#ed7953"
             ],
             [
              0.7777777777777778,
              "#fb9f3a"
             ],
             [
              0.8888888888888888,
              "#fdca26"
             ],
             [
              1,
              "#f0f921"
             ]
            ],
            "type": "histogram2dcontour"
           }
          ],
          "mesh3d": [
           {
            "colorbar": {
             "outlinewidth": 0,
             "ticks": ""
            },
            "type": "mesh3d"
           }
          ],
          "parcoords": [
           {
            "line": {
             "colorbar": {
              "outlinewidth": 0,
              "ticks": ""
             }
            },
            "type": "parcoords"
           }
          ],
          "pie": [
           {
            "automargin": true,
            "type": "pie"
           }
          ],
          "scatter": [
           {
            "marker": {
             "colorbar": {
              "outlinewidth": 0,
              "ticks": ""
             }
            },
            "type": "scatter"
           }
          ],
          "scatter3d": [
           {
            "line": {
             "colorbar": {
              "outlinewidth": 0,
              "ticks": ""
             }
            },
            "marker": {
             "colorbar": {
              "outlinewidth": 0,
              "ticks": ""
             }
            },
            "type": "scatter3d"
           }
          ],
          "scattercarpet": [
           {
            "marker": {
             "colorbar": {
              "outlinewidth": 0,
              "ticks": ""
             }
            },
            "type": "scattercarpet"
           }
          ],
          "scattergeo": [
           {
            "marker": {
             "colorbar": {
              "outlinewidth": 0,
              "ticks": ""
             }
            },
            "type": "scattergeo"
           }
          ],
          "scattergl": [
           {
            "marker": {
             "colorbar": {
              "outlinewidth": 0,
              "ticks": ""
             }
            },
            "type": "scattergl"
           }
          ],
          "scattermapbox": [
           {
            "marker": {
             "colorbar": {
              "outlinewidth": 0,
              "ticks": ""
             }
            },
            "type": "scattermapbox"
           }
          ],
          "scatterpolar": [
           {
            "marker": {
             "colorbar": {
              "outlinewidth": 0,
              "ticks": ""
             }
            },
            "type": "scatterpolar"
           }
          ],
          "scatterpolargl": [
           {
            "marker": {
             "colorbar": {
              "outlinewidth": 0,
              "ticks": ""
             }
            },
            "type": "scatterpolargl"
           }
          ],
          "scatterternary": [
           {
            "marker": {
             "colorbar": {
              "outlinewidth": 0,
              "ticks": ""
             }
            },
            "type": "scatterternary"
           }
          ],
          "surface": [
           {
            "colorbar": {
             "outlinewidth": 0,
             "ticks": ""
            },
            "colorscale": [
             [
              0,
              "#0d0887"
             ],
             [
              0.1111111111111111,
              "#46039f"
             ],
             [
              0.2222222222222222,
              "#7201a8"
             ],
             [
              0.3333333333333333,
              "#9c179e"
             ],
             [
              0.4444444444444444,
              "#bd3786"
             ],
             [
              0.5555555555555556,
              "#d8576b"
             ],
             [
              0.6666666666666666,
              "#ed7953"
             ],
             [
              0.7777777777777778,
              "#fb9f3a"
             ],
             [
              0.8888888888888888,
              "#fdca26"
             ],
             [
              1,
              "#f0f921"
             ]
            ],
            "type": "surface"
           }
          ],
          "table": [
           {
            "cells": {
             "fill": {
              "color": "#EBF0F8"
             },
             "line": {
              "color": "white"
             }
            },
            "header": {
             "fill": {
              "color": "#C8D4E3"
             },
             "line": {
              "color": "white"
             }
            },
            "type": "table"
           }
          ]
         },
         "layout": {
          "annotationdefaults": {
           "arrowcolor": "#2a3f5f",
           "arrowhead": 0,
           "arrowwidth": 1
          },
          "autotypenumbers": "strict",
          "coloraxis": {
           "colorbar": {
            "outlinewidth": 0,
            "ticks": ""
           }
          },
          "colorscale": {
           "diverging": [
            [
             0,
             "#8e0152"
            ],
            [
             0.1,
             "#c51b7d"
            ],
            [
             0.2,
             "#de77ae"
            ],
            [
             0.3,
             "#f1b6da"
            ],
            [
             0.4,
             "#fde0ef"
            ],
            [
             0.5,
             "#f7f7f7"
            ],
            [
             0.6,
             "#e6f5d0"
            ],
            [
             0.7,
             "#b8e186"
            ],
            [
             0.8,
             "#7fbc41"
            ],
            [
             0.9,
             "#4d9221"
            ],
            [
             1,
             "#276419"
            ]
           ],
           "sequential": [
            [
             0,
             "#0d0887"
            ],
            [
             0.1111111111111111,
             "#46039f"
            ],
            [
             0.2222222222222222,
             "#7201a8"
            ],
            [
             0.3333333333333333,
             "#9c179e"
            ],
            [
             0.4444444444444444,
             "#bd3786"
            ],
            [
             0.5555555555555556,
             "#d8576b"
            ],
            [
             0.6666666666666666,
             "#ed7953"
            ],
            [
             0.7777777777777778,
             "#fb9f3a"
            ],
            [
             0.8888888888888888,
             "#fdca26"
            ],
            [
             1,
             "#f0f921"
            ]
           ],
           "sequentialminus": [
            [
             0,
             "#0d0887"
            ],
            [
             0.1111111111111111,
             "#46039f"
            ],
            [
             0.2222222222222222,
             "#7201a8"
            ],
            [
             0.3333333333333333,
             "#9c179e"
            ],
            [
             0.4444444444444444,
             "#bd3786"
            ],
            [
             0.5555555555555556,
             "#d8576b"
            ],
            [
             0.6666666666666666,
             "#ed7953"
            ],
            [
             0.7777777777777778,
             "#fb9f3a"
            ],
            [
             0.8888888888888888,
             "#fdca26"
            ],
            [
             1,
             "#f0f921"
            ]
           ]
          },
          "colorway": [
           "#636efa",
           "#EF553B",
           "#00cc96",
           "#ab63fa",
           "#FFA15A",
           "#19d3f3",
           "#FF6692",
           "#B6E880",
           "#FF97FF",
           "#FECB52"
          ],
          "font": {
           "color": "#2a3f5f"
          },
          "geo": {
           "bgcolor": "white",
           "lakecolor": "white",
           "landcolor": "#E5ECF6",
           "showlakes": true,
           "showland": true,
           "subunitcolor": "white"
          },
          "hoverlabel": {
           "align": "left"
          },
          "hovermode": "closest",
          "mapbox": {
           "style": "light"
          },
          "paper_bgcolor": "white",
          "plot_bgcolor": "#E5ECF6",
          "polar": {
           "angularaxis": {
            "gridcolor": "white",
            "linecolor": "white",
            "ticks": ""
           },
           "bgcolor": "#E5ECF6",
           "radialaxis": {
            "gridcolor": "white",
            "linecolor": "white",
            "ticks": ""
           }
          },
          "scene": {
           "xaxis": {
            "backgroundcolor": "#E5ECF6",
            "gridcolor": "white",
            "gridwidth": 2,
            "linecolor": "white",
            "showbackground": true,
            "ticks": "",
            "zerolinecolor": "white"
           },
           "yaxis": {
            "backgroundcolor": "#E5ECF6",
            "gridcolor": "white",
            "gridwidth": 2,
            "linecolor": "white",
            "showbackground": true,
            "ticks": "",
            "zerolinecolor": "white"
           },
           "zaxis": {
            "backgroundcolor": "#E5ECF6",
            "gridcolor": "white",
            "gridwidth": 2,
            "linecolor": "white",
            "showbackground": true,
            "ticks": "",
            "zerolinecolor": "white"
           }
          },
          "shapedefaults": {
           "line": {
            "color": "#2a3f5f"
           }
          },
          "ternary": {
           "aaxis": {
            "gridcolor": "white",
            "linecolor": "white",
            "ticks": ""
           },
           "baxis": {
            "gridcolor": "white",
            "linecolor": "white",
            "ticks": ""
           },
           "bgcolor": "#E5ECF6",
           "caxis": {
            "gridcolor": "white",
            "linecolor": "white",
            "ticks": ""
           }
          },
          "title": {
           "x": 0.05
          },
          "xaxis": {
           "automargin": true,
           "gridcolor": "white",
           "linecolor": "white",
           "ticks": "",
           "title": {
            "standoff": 15
           },
           "zerolinecolor": "white",
           "zerolinewidth": 2
          },
          "yaxis": {
           "automargin": true,
           "gridcolor": "white",
           "linecolor": "white",
           "ticks": "",
           "title": {
            "standoff": 15
           },
           "zerolinecolor": "white",
           "zerolinewidth": 2
          }
         }
        }
       }
      }
     },
     "metadata": {},
     "output_type": "display_data"
    }
   ],
   "source": [
    "px.scatter_geo(\n",
    "    df_ll,\n",
    "    lat=\"lat\",\n",
    "    lon=\"lng\",\n",
    "    size=\"cases_avg_per_100k\",\n",
    "    scope=\"usa\",\n",
    "    color=\"cases_avg_per_100k\",\n",
    "    color\n",
    ")\n"
   ]
  },
  {
   "cell_type": "code",
   "execution_count": 53,
   "metadata": {},
   "outputs": [],
   "source": [
    "# px.choropleth(df_newest,  locations='fips', color='cases_avg_per_100k', scope='usa'  )\n",
    "# %pip install plotly-geo pyshp\n",
    "# %pip install shapely\n"
   ]
  },
  {
   "cell_type": "code",
   "execution_count": 21,
   "metadata": {},
   "outputs": [
    {
     "ename": "ImportError",
     "evalue": "geopandas, pyshp and shapely must be installed for this figure factory.\n\nRun the following commands to install the correct versions of the following modules:\n\n```\n$ pip install geopandas==0.3.0\n$ pip install pyshp==1.2.10\n$ pip install shapely==1.6.3\n```\nIf you are using Windows, follow this post to properly install geopandas and dependencies:http://geoffboeing.com/2014/09/using-geopandas-windows/\n\nIf you are using Anaconda, do not use PIP to install the packages above. Instead use conda to install them:\n\n```\n$ conda install plotly\n$ conda install geopandas\n```",
     "output_type": "error",
     "traceback": [
      "\u001b[0;31m---------------------------------------------------------------------------\u001b[0m",
      "\u001b[0;31mImportError\u001b[0m                               Traceback (most recent call last)",
      "\u001b[0;32m/var/folders/jt/19kddqbx06s0kvc4vjhc94qc0000gn/T/ipykernel_81054/4245300103.py\u001b[0m in \u001b[0;36m<module>\u001b[0;34m\u001b[0m\n\u001b[1;32m      1\u001b[0m \u001b[0;32mimport\u001b[0m \u001b[0mplotly\u001b[0m\u001b[0;34m.\u001b[0m\u001b[0mfigure_factory\u001b[0m \u001b[0;32mas\u001b[0m \u001b[0mff\u001b[0m\u001b[0;34m\u001b[0m\u001b[0;34m\u001b[0m\u001b[0m\n\u001b[1;32m      2\u001b[0m \u001b[0;34m\u001b[0m\u001b[0m\n\u001b[0;32m----> 3\u001b[0;31m \u001b[0mff\u001b[0m\u001b[0;34m.\u001b[0m\u001b[0mcreate_choropleth\u001b[0m\u001b[0;34m(\u001b[0m\u001b[0mfips\u001b[0m\u001b[0;34m=\u001b[0m\u001b[0mdf_newest\u001b[0m\u001b[0;34m[\u001b[0m\u001b[0;34m'fips'\u001b[0m\u001b[0;34m]\u001b[0m\u001b[0;34m,\u001b[0m \u001b[0mvalues\u001b[0m\u001b[0;34m=\u001b[0m\u001b[0mdf_newest\u001b[0m\u001b[0;34m[\u001b[0m\u001b[0;34m'cases_avg_per_100k'\u001b[0m\u001b[0;34m]\u001b[0m\u001b[0;34m)\u001b[0m\u001b[0;34m\u001b[0m\u001b[0;34m\u001b[0m\u001b[0m\n\u001b[0m",
      "\u001b[0;32m~/opt/miniconda3/lib/python3.9/site-packages/plotly/figure_factory/_county_choropleth.py\u001b[0m in \u001b[0;36mcreate_choropleth\u001b[0;34m(fips, values, scope, binning_endpoints, colorscale, order, simplify_county, simplify_state, asp, show_hover, show_state_data, state_outline, county_outline, centroid_marker, round_legend_values, exponent_format, legend_title, **layout_options)\u001b[0m\n\u001b[1;32m    617\u001b[0m \u001b[0;34m\u001b[0m\u001b[0m\n\u001b[1;32m    618\u001b[0m     \u001b[0;32mif\u001b[0m \u001b[0;32mnot\u001b[0m \u001b[0mgp\u001b[0m \u001b[0;32mor\u001b[0m \u001b[0;32mnot\u001b[0m \u001b[0mshapefile\u001b[0m \u001b[0;32mor\u001b[0m \u001b[0;32mnot\u001b[0m \u001b[0mshapely\u001b[0m\u001b[0;34m:\u001b[0m\u001b[0;34m\u001b[0m\u001b[0;34m\u001b[0m\u001b[0m\n\u001b[0;32m--> 619\u001b[0;31m         raise ImportError(\n\u001b[0m\u001b[1;32m    620\u001b[0m             \u001b[0;34m\"geopandas, pyshp and shapely must be installed for this figure \"\u001b[0m\u001b[0;34m\u001b[0m\u001b[0;34m\u001b[0m\u001b[0m\n\u001b[1;32m    621\u001b[0m             \u001b[0;34m\"factory.\\n\\nRun the following commands to install the correct \"\u001b[0m\u001b[0;34m\u001b[0m\u001b[0;34m\u001b[0m\u001b[0m\n",
      "\u001b[0;31mImportError\u001b[0m: geopandas, pyshp and shapely must be installed for this figure factory.\n\nRun the following commands to install the correct versions of the following modules:\n\n```\n$ pip install geopandas==0.3.0\n$ pip install pyshp==1.2.10\n$ pip install shapely==1.6.3\n```\nIf you are using Windows, follow this post to properly install geopandas and dependencies:http://geoffboeing.com/2014/09/using-geopandas-windows/\n\nIf you are using Anaconda, do not use PIP to install the packages above. Instead use conda to install them:\n\n```\n$ conda install plotly\n$ conda install geopandas\n```"
     ]
    }
   ],
   "source": [
    "import plotly.figure_factory as ff\n",
    "\n",
    "# ff.create_choropleth(fips=df_newest['fips'], values=df_newest['cases_avg_per_100k'])"
   ]
  },
  {
   "cell_type": "code",
   "execution_count": null,
   "metadata": {},
   "outputs": [],
   "source": [
    "# %conda install plotly -c conda-forge\n",
    "# %conda install -c plotly plotly-geo"
   ]
  },
  {
   "cell_type": "code",
   "execution_count": null,
   "metadata": {},
   "outputs": [],
   "source": [
    "# %conda install geopandas -c conda-forge "
   ]
  },
  {
   "cell_type": "markdown",
   "metadata": {},
   "source": [
    "Convert geoid to FIPS code for plotting"
   ]
  },
  {
   "cell_type": "code",
   "execution_count": null,
   "metadata": {},
   "outputs": [
    {
     "data": {
      "text/html": [
       "<div>\n",
       "<style scoped>\n",
       "    .dataframe tbody tr th:only-of-type {\n",
       "        vertical-align: middle;\n",
       "    }\n",
       "\n",
       "    .dataframe tbody tr th {\n",
       "        vertical-align: top;\n",
       "    }\n",
       "\n",
       "    .dataframe thead th {\n",
       "        text-align: right;\n",
       "    }\n",
       "</style>\n",
       "<table border=\"1\" class=\"dataframe\">\n",
       "  <thead>\n",
       "    <tr style=\"text-align: right;\">\n",
       "      <th></th>\n",
       "      <th>geoid</th>\n",
       "      <th>county</th>\n",
       "      <th>state</th>\n",
       "      <th>cases</th>\n",
       "      <th>cases_avg</th>\n",
       "      <th>cases_avg_per_100k</th>\n",
       "      <th>deaths</th>\n",
       "      <th>deaths_avg</th>\n",
       "      <th>deaths_avg_per_100k</th>\n",
       "      <th>fips</th>\n",
       "    </tr>\n",
       "    <tr>\n",
       "      <th>date</th>\n",
       "      <th></th>\n",
       "      <th></th>\n",
       "      <th></th>\n",
       "      <th></th>\n",
       "      <th></th>\n",
       "      <th></th>\n",
       "      <th></th>\n",
       "      <th></th>\n",
       "      <th></th>\n",
       "      <th></th>\n",
       "    </tr>\n",
       "  </thead>\n",
       "  <tbody>\n",
       "    <tr>\n",
       "      <th>2022-01-01</th>\n",
       "      <td>USA-72999</td>\n",
       "      <td>Unknown</td>\n",
       "      <td>Puerto Rico</td>\n",
       "      <td>0</td>\n",
       "      <td>328.14</td>\n",
       "      <td>NaN</td>\n",
       "      <td>0</td>\n",
       "      <td>0.00</td>\n",
       "      <td>NaN</td>\n",
       "      <td>72999</td>\n",
       "    </tr>\n",
       "    <tr>\n",
       "      <th>2022-01-01</th>\n",
       "      <td>USA-72153</td>\n",
       "      <td>Yauco</td>\n",
       "      <td>Puerto Rico</td>\n",
       "      <td>0</td>\n",
       "      <td>66.50</td>\n",
       "      <td>196.40</td>\n",
       "      <td>0</td>\n",
       "      <td>0.00</td>\n",
       "      <td>0.00</td>\n",
       "      <td>72153</td>\n",
       "    </tr>\n",
       "    <tr>\n",
       "      <th>2022-01-01</th>\n",
       "      <td>USA-72151</td>\n",
       "      <td>Yabucoa</td>\n",
       "      <td>Puerto Rico</td>\n",
       "      <td>0</td>\n",
       "      <td>63.13</td>\n",
       "      <td>196.30</td>\n",
       "      <td>0</td>\n",
       "      <td>0.00</td>\n",
       "      <td>0.00</td>\n",
       "      <td>72151</td>\n",
       "    </tr>\n",
       "    <tr>\n",
       "      <th>2022-01-01</th>\n",
       "      <td>USA-72149</td>\n",
       "      <td>Villalba</td>\n",
       "      <td>Puerto Rico</td>\n",
       "      <td>0</td>\n",
       "      <td>47.50</td>\n",
       "      <td>221.18</td>\n",
       "      <td>0</td>\n",
       "      <td>0.00</td>\n",
       "      <td>0.00</td>\n",
       "      <td>72149</td>\n",
       "    </tr>\n",
       "    <tr>\n",
       "      <th>2022-01-01</th>\n",
       "      <td>USA-72147</td>\n",
       "      <td>Vieques</td>\n",
       "      <td>Puerto Rico</td>\n",
       "      <td>0</td>\n",
       "      <td>7.63</td>\n",
       "      <td>91.16</td>\n",
       "      <td>0</td>\n",
       "      <td>0.00</td>\n",
       "      <td>0.00</td>\n",
       "      <td>72147</td>\n",
       "    </tr>\n",
       "    <tr>\n",
       "      <th>...</th>\n",
       "      <td>...</td>\n",
       "      <td>...</td>\n",
       "      <td>...</td>\n",
       "      <td>...</td>\n",
       "      <td>...</td>\n",
       "      <td>...</td>\n",
       "      <td>...</td>\n",
       "      <td>...</td>\n",
       "      <td>...</td>\n",
       "      <td>...</td>\n",
       "    </tr>\n",
       "    <tr>\n",
       "      <th>2022-01-28</th>\n",
       "      <td>USA-69100</td>\n",
       "      <td>Rota</td>\n",
       "      <td>Northern Mariana Islands</td>\n",
       "      <td>0</td>\n",
       "      <td>0.00</td>\n",
       "      <td>0.00</td>\n",
       "      <td>0</td>\n",
       "      <td>0.00</td>\n",
       "      <td>0.00</td>\n",
       "      <td>69100</td>\n",
       "    </tr>\n",
       "    <tr>\n",
       "      <th>2022-01-28</th>\n",
       "      <td>USA-78999</td>\n",
       "      <td>Unknown</td>\n",
       "      <td>Virgin Islands</td>\n",
       "      <td>0</td>\n",
       "      <td>0.00</td>\n",
       "      <td>NaN</td>\n",
       "      <td>1</td>\n",
       "      <td>0.22</td>\n",
       "      <td>NaN</td>\n",
       "      <td>78999</td>\n",
       "    </tr>\n",
       "    <tr>\n",
       "      <th>2022-01-28</th>\n",
       "      <td>USA-78030</td>\n",
       "      <td>St. Thomas</td>\n",
       "      <td>Virgin Islands</td>\n",
       "      <td>6</td>\n",
       "      <td>32.75</td>\n",
       "      <td>63.43</td>\n",
       "      <td>0</td>\n",
       "      <td>0.43</td>\n",
       "      <td>0.83</td>\n",
       "      <td>78030</td>\n",
       "    </tr>\n",
       "    <tr>\n",
       "      <th>2022-01-28</th>\n",
       "      <td>USA-78020</td>\n",
       "      <td>St. John</td>\n",
       "      <td>Virgin Islands</td>\n",
       "      <td>0</td>\n",
       "      <td>6.00</td>\n",
       "      <td>143.88</td>\n",
       "      <td>0</td>\n",
       "      <td>0.00</td>\n",
       "      <td>0.00</td>\n",
       "      <td>78020</td>\n",
       "    </tr>\n",
       "    <tr>\n",
       "      <th>2022-01-28</th>\n",
       "      <td>USA-78010</td>\n",
       "      <td>St. Croix</td>\n",
       "      <td>Virgin Islands</td>\n",
       "      <td>40</td>\n",
       "      <td>58.75</td>\n",
       "      <td>116.10</td>\n",
       "      <td>0</td>\n",
       "      <td>0.43</td>\n",
       "      <td>0.85</td>\n",
       "      <td>78010</td>\n",
       "    </tr>\n",
       "  </tbody>\n",
       "</table>\n",
       "<p>91102 rows × 10 columns</p>\n",
       "</div>"
      ],
      "text/plain": [
       "                geoid      county                     state  cases  cases_avg  \\\n",
       "date                                                                            \n",
       "2022-01-01  USA-72999     Unknown               Puerto Rico      0     328.14   \n",
       "2022-01-01  USA-72153       Yauco               Puerto Rico      0      66.50   \n",
       "2022-01-01  USA-72151     Yabucoa               Puerto Rico      0      63.13   \n",
       "2022-01-01  USA-72149    Villalba               Puerto Rico      0      47.50   \n",
       "2022-01-01  USA-72147     Vieques               Puerto Rico      0       7.63   \n",
       "...               ...         ...                       ...    ...        ...   \n",
       "2022-01-28  USA-69100        Rota  Northern Mariana Islands      0       0.00   \n",
       "2022-01-28  USA-78999     Unknown            Virgin Islands      0       0.00   \n",
       "2022-01-28  USA-78030  St. Thomas            Virgin Islands      6      32.75   \n",
       "2022-01-28  USA-78020    St. John            Virgin Islands      0       6.00   \n",
       "2022-01-28  USA-78010   St. Croix            Virgin Islands     40      58.75   \n",
       "\n",
       "            cases_avg_per_100k  deaths  deaths_avg  deaths_avg_per_100k   fips  \n",
       "date                                                                            \n",
       "2022-01-01                 NaN       0        0.00                  NaN  72999  \n",
       "2022-01-01              196.40       0        0.00                 0.00  72153  \n",
       "2022-01-01              196.30       0        0.00                 0.00  72151  \n",
       "2022-01-01              221.18       0        0.00                 0.00  72149  \n",
       "2022-01-01               91.16       0        0.00                 0.00  72147  \n",
       "...                        ...     ...         ...                  ...    ...  \n",
       "2022-01-28                0.00       0        0.00                 0.00  69100  \n",
       "2022-01-28                 NaN       1        0.22                  NaN  78999  \n",
       "2022-01-28               63.43       0        0.43                 0.83  78030  \n",
       "2022-01-28              143.88       0        0.00                 0.00  78020  \n",
       "2022-01-28              116.10       0        0.43                 0.85  78010  \n",
       "\n",
       "[91102 rows x 10 columns]"
      ]
     },
     "metadata": {},
     "output_type": "display_data"
    }
   ],
   "source": [
    "df_2022['fips'] = df_2022['geoid'].str[-5:]\n",
    "df_2022"
   ]
  }
 ],
 "metadata": {
  "interpreter": {
   "hash": "997322c55b62044d17d68324b2353aa24fa87c7ec57cd3dff801aafb36bfa8a9"
  },
  "kernelspec": {
   "display_name": "Python 3.9.7 64-bit ('base': conda)",
   "language": "python",
   "name": "python3"
  },
  "language_info": {
   "codemirror_mode": {
    "name": "ipython",
    "version": 3
   },
   "file_extension": ".py",
   "mimetype": "text/x-python",
   "name": "python",
   "nbconvert_exporter": "python",
   "pygments_lexer": "ipython3",
   "version": "3.9.7"
  },
  "orig_nbformat": 4
 },
 "nbformat": 4,
 "nbformat_minor": 2
}
