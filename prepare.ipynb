{
 "cells": [
  {
   "cell_type": "markdown",
   "metadata": {},
   "source": [
    "## Covid data for the counties I care about\n",
    "\n",
    "The Washington Post has convenient data by state. I care about Washington DC, where I live, and how certain other locations are doing. The state-level data is not fine-grained enough for me. MSA and county level data are available online, but overwelming and not easily filterable to what I want. I'm creating this tool to provide historic data at the county level. I will use plotly for interactive visualizations and serve the website via FastAPI or put into Streamlit. I'll use GitHub actions and Prefect to fetch the data and make sure everything runs okay. I'll use Great Expectations for data quality checking and PyTest to check my code. \n",
    "\n",
    "I may use DVC to version my data.\n",
    "\n",
    "At some later date, I may make an app that allows other users to choose which counties they want to include."
   ]
  },
  {
   "cell_type": "markdown",
   "metadata": {},
   "source": [
    "Imports and config"
   ]
  },
  {
   "cell_type": "code",
   "execution_count": 36,
   "metadata": {},
   "outputs": [],
   "source": [
    "import pandas as pd\n",
    "import plotly.express as px\n",
    "\n",
    "pd.options.display.max_rows = 100\n"
   ]
  },
  {
   "cell_type": "markdown",
   "metadata": {},
   "source": [
    "Read in data"
   ]
  },
  {
   "cell_type": "code",
   "execution_count": 8,
   "metadata": {},
   "outputs": [
    {
     "data": {
      "text/html": [
       "<div>\n",
       "<style scoped>\n",
       "    .dataframe tbody tr th:only-of-type {\n",
       "        vertical-align: middle;\n",
       "    }\n",
       "\n",
       "    .dataframe tbody tr th {\n",
       "        vertical-align: top;\n",
       "    }\n",
       "\n",
       "    .dataframe thead th {\n",
       "        text-align: right;\n",
       "    }\n",
       "</style>\n",
       "<table border=\"1\" class=\"dataframe\">\n",
       "  <thead>\n",
       "    <tr style=\"text-align: right;\">\n",
       "      <th></th>\n",
       "      <th>geoid</th>\n",
       "      <th>county</th>\n",
       "      <th>state</th>\n",
       "      <th>cases</th>\n",
       "      <th>cases_avg</th>\n",
       "      <th>cases_avg_per_100k</th>\n",
       "      <th>deaths</th>\n",
       "      <th>deaths_avg</th>\n",
       "      <th>deaths_avg_per_100k</th>\n",
       "    </tr>\n",
       "    <tr>\n",
       "      <th>date</th>\n",
       "      <th></th>\n",
       "      <th></th>\n",
       "      <th></th>\n",
       "      <th></th>\n",
       "      <th></th>\n",
       "      <th></th>\n",
       "      <th></th>\n",
       "      <th></th>\n",
       "      <th></th>\n",
       "    </tr>\n",
       "  </thead>\n",
       "  <tbody>\n",
       "    <tr>\n",
       "      <th>2022-01-01</th>\n",
       "      <td>USA-72999</td>\n",
       "      <td>Unknown</td>\n",
       "      <td>Puerto Rico</td>\n",
       "      <td>0</td>\n",
       "      <td>328.14</td>\n",
       "      <td>NaN</td>\n",
       "      <td>0</td>\n",
       "      <td>0.00</td>\n",
       "      <td>NaN</td>\n",
       "    </tr>\n",
       "    <tr>\n",
       "      <th>2022-01-01</th>\n",
       "      <td>USA-72153</td>\n",
       "      <td>Yauco</td>\n",
       "      <td>Puerto Rico</td>\n",
       "      <td>0</td>\n",
       "      <td>66.50</td>\n",
       "      <td>196.40</td>\n",
       "      <td>0</td>\n",
       "      <td>0.00</td>\n",
       "      <td>0.00</td>\n",
       "    </tr>\n",
       "    <tr>\n",
       "      <th>2022-01-01</th>\n",
       "      <td>USA-72151</td>\n",
       "      <td>Yabucoa</td>\n",
       "      <td>Puerto Rico</td>\n",
       "      <td>0</td>\n",
       "      <td>63.13</td>\n",
       "      <td>196.30</td>\n",
       "      <td>0</td>\n",
       "      <td>0.00</td>\n",
       "      <td>0.00</td>\n",
       "    </tr>\n",
       "    <tr>\n",
       "      <th>2022-01-01</th>\n",
       "      <td>USA-72149</td>\n",
       "      <td>Villalba</td>\n",
       "      <td>Puerto Rico</td>\n",
       "      <td>0</td>\n",
       "      <td>47.50</td>\n",
       "      <td>221.18</td>\n",
       "      <td>0</td>\n",
       "      <td>0.00</td>\n",
       "      <td>0.00</td>\n",
       "    </tr>\n",
       "    <tr>\n",
       "      <th>2022-01-01</th>\n",
       "      <td>USA-72147</td>\n",
       "      <td>Vieques</td>\n",
       "      <td>Puerto Rico</td>\n",
       "      <td>0</td>\n",
       "      <td>7.63</td>\n",
       "      <td>91.16</td>\n",
       "      <td>0</td>\n",
       "      <td>0.00</td>\n",
       "      <td>0.00</td>\n",
       "    </tr>\n",
       "    <tr>\n",
       "      <th>...</th>\n",
       "      <td>...</td>\n",
       "      <td>...</td>\n",
       "      <td>...</td>\n",
       "      <td>...</td>\n",
       "      <td>...</td>\n",
       "      <td>...</td>\n",
       "      <td>...</td>\n",
       "      <td>...</td>\n",
       "      <td>...</td>\n",
       "    </tr>\n",
       "    <tr>\n",
       "      <th>2022-01-28</th>\n",
       "      <td>USA-69100</td>\n",
       "      <td>Rota</td>\n",
       "      <td>Northern Mariana Islands</td>\n",
       "      <td>0</td>\n",
       "      <td>0.00</td>\n",
       "      <td>0.00</td>\n",
       "      <td>0</td>\n",
       "      <td>0.00</td>\n",
       "      <td>0.00</td>\n",
       "    </tr>\n",
       "    <tr>\n",
       "      <th>2022-01-28</th>\n",
       "      <td>USA-78999</td>\n",
       "      <td>Unknown</td>\n",
       "      <td>Virgin Islands</td>\n",
       "      <td>0</td>\n",
       "      <td>0.00</td>\n",
       "      <td>NaN</td>\n",
       "      <td>1</td>\n",
       "      <td>0.22</td>\n",
       "      <td>NaN</td>\n",
       "    </tr>\n",
       "    <tr>\n",
       "      <th>2022-01-28</th>\n",
       "      <td>USA-78030</td>\n",
       "      <td>St. Thomas</td>\n",
       "      <td>Virgin Islands</td>\n",
       "      <td>6</td>\n",
       "      <td>32.75</td>\n",
       "      <td>63.43</td>\n",
       "      <td>0</td>\n",
       "      <td>0.43</td>\n",
       "      <td>0.83</td>\n",
       "    </tr>\n",
       "    <tr>\n",
       "      <th>2022-01-28</th>\n",
       "      <td>USA-78020</td>\n",
       "      <td>St. John</td>\n",
       "      <td>Virgin Islands</td>\n",
       "      <td>0</td>\n",
       "      <td>6.00</td>\n",
       "      <td>143.88</td>\n",
       "      <td>0</td>\n",
       "      <td>0.00</td>\n",
       "      <td>0.00</td>\n",
       "    </tr>\n",
       "    <tr>\n",
       "      <th>2022-01-28</th>\n",
       "      <td>USA-78010</td>\n",
       "      <td>St. Croix</td>\n",
       "      <td>Virgin Islands</td>\n",
       "      <td>40</td>\n",
       "      <td>58.75</td>\n",
       "      <td>116.10</td>\n",
       "      <td>0</td>\n",
       "      <td>0.43</td>\n",
       "      <td>0.85</td>\n",
       "    </tr>\n",
       "  </tbody>\n",
       "</table>\n",
       "<p>91102 rows × 9 columns</p>\n",
       "</div>"
      ],
      "text/plain": [
       "                geoid      county                     state  cases  cases_avg  \\\n",
       "date                                                                            \n",
       "2022-01-01  USA-72999     Unknown               Puerto Rico      0     328.14   \n",
       "2022-01-01  USA-72153       Yauco               Puerto Rico      0      66.50   \n",
       "2022-01-01  USA-72151     Yabucoa               Puerto Rico      0      63.13   \n",
       "2022-01-01  USA-72149    Villalba               Puerto Rico      0      47.50   \n",
       "2022-01-01  USA-72147     Vieques               Puerto Rico      0       7.63   \n",
       "...               ...         ...                       ...    ...        ...   \n",
       "2022-01-28  USA-69100        Rota  Northern Mariana Islands      0       0.00   \n",
       "2022-01-28  USA-78999     Unknown            Virgin Islands      0       0.00   \n",
       "2022-01-28  USA-78030  St. Thomas            Virgin Islands      6      32.75   \n",
       "2022-01-28  USA-78020    St. John            Virgin Islands      0       6.00   \n",
       "2022-01-28  USA-78010   St. Croix            Virgin Islands     40      58.75   \n",
       "\n",
       "            cases_avg_per_100k  deaths  deaths_avg  deaths_avg_per_100k  \n",
       "date                                                                     \n",
       "2022-01-01                 NaN       0        0.00                  NaN  \n",
       "2022-01-01              196.40       0        0.00                 0.00  \n",
       "2022-01-01              196.30       0        0.00                 0.00  \n",
       "2022-01-01              221.18       0        0.00                 0.00  \n",
       "2022-01-01               91.16       0        0.00                 0.00  \n",
       "...                        ...     ...         ...                  ...  \n",
       "2022-01-28                0.00       0        0.00                 0.00  \n",
       "2022-01-28                 NaN       1        0.22                  NaN  \n",
       "2022-01-28               63.43       0        0.43                 0.83  \n",
       "2022-01-28              143.88       0        0.00                 0.00  \n",
       "2022-01-28              116.10       0        0.43                 0.85  \n",
       "\n",
       "[91102 rows x 9 columns]"
      ]
     },
     "execution_count": 8,
     "metadata": {},
     "output_type": "execute_result"
    }
   ],
   "source": [
    "df_2022 = pd.read_csv(\"us-counties-2022.csv\", index_col=\"date\")\n",
    "df_2022\n"
   ]
  },
  {
   "cell_type": "code",
   "execution_count": 9,
   "metadata": {},
   "outputs": [
    {
     "name": "stdout",
     "output_type": "stream",
     "text": [
      "<class 'pandas.core.frame.DataFrame'>\n",
      "Index: 91102 entries, 2022-01-01 to 2022-01-28\n",
      "Data columns (total 9 columns):\n",
      " #   Column               Non-Null Count  Dtype  \n",
      "---  ------               --------------  -----  \n",
      " 0   geoid                91102 non-null  object \n",
      " 1   county               91102 non-null  object \n",
      " 2   state                91102 non-null  object \n",
      " 3   cases                91102 non-null  int64  \n",
      " 4   cases_avg            91102 non-null  float64\n",
      " 5   cases_avg_per_100k   90197 non-null  float64\n",
      " 6   deaths               91102 non-null  int64  \n",
      " 7   deaths_avg           91102 non-null  float64\n",
      " 8   deaths_avg_per_100k  90197 non-null  float64\n",
      "dtypes: float64(4), int64(2), object(3)\n",
      "memory usage: 7.0+ MB\n"
     ]
    }
   ],
   "source": [
    "df_2022.info()\n"
   ]
  },
  {
   "cell_type": "markdown",
   "metadata": {},
   "source": [
    "Finding counties that could be tricky to match spelling/format."
   ]
  },
  {
   "cell_type": "code",
   "execution_count": 96,
   "metadata": {},
   "outputs": [
    {
     "data": {
      "text/html": [
       "<div>\n",
       "<style scoped>\n",
       "    .dataframe tbody tr th:only-of-type {\n",
       "        vertical-align: middle;\n",
       "    }\n",
       "\n",
       "    .dataframe tbody tr th {\n",
       "        vertical-align: top;\n",
       "    }\n",
       "\n",
       "    .dataframe thead th {\n",
       "        text-align: right;\n",
       "    }\n",
       "</style>\n",
       "<table border=\"1\" class=\"dataframe\">\n",
       "  <thead>\n",
       "    <tr style=\"text-align: right;\">\n",
       "      <th></th>\n",
       "      <th>geoid</th>\n",
       "      <th>county</th>\n",
       "      <th>state</th>\n",
       "      <th>cases</th>\n",
       "      <th>cases_avg</th>\n",
       "      <th>cases_avg_per_100k</th>\n",
       "      <th>deaths</th>\n",
       "      <th>deaths_avg</th>\n",
       "      <th>deaths_avg_per_100k</th>\n",
       "      <th>fips</th>\n",
       "    </tr>\n",
       "    <tr>\n",
       "      <th>date</th>\n",
       "      <th></th>\n",
       "      <th></th>\n",
       "      <th></th>\n",
       "      <th></th>\n",
       "      <th></th>\n",
       "      <th></th>\n",
       "      <th></th>\n",
       "      <th></th>\n",
       "      <th></th>\n",
       "      <th></th>\n",
       "    </tr>\n",
       "  </thead>\n",
       "  <tbody>\n",
       "    <tr>\n",
       "      <th>2022-01-01</th>\n",
       "      <td>USA-51510</td>\n",
       "      <td>Alexandria city</td>\n",
       "      <td>Virginia</td>\n",
       "      <td>0</td>\n",
       "      <td>281.14</td>\n",
       "      <td>176.34</td>\n",
       "      <td>0</td>\n",
       "      <td>0.38</td>\n",
       "      <td>0.24</td>\n",
       "      <td>51510</td>\n",
       "    </tr>\n",
       "    <tr>\n",
       "      <th>2022-01-02</th>\n",
       "      <td>USA-51510</td>\n",
       "      <td>Alexandria city</td>\n",
       "      <td>Virginia</td>\n",
       "      <td>0</td>\n",
       "      <td>281.14</td>\n",
       "      <td>176.34</td>\n",
       "      <td>0</td>\n",
       "      <td>0.38</td>\n",
       "      <td>0.24</td>\n",
       "      <td>51510</td>\n",
       "    </tr>\n",
       "  </tbody>\n",
       "</table>\n",
       "</div>"
      ],
      "text/plain": [
       "                geoid           county     state  cases  cases_avg  \\\n",
       "date                                                                 \n",
       "2022-01-01  USA-51510  Alexandria city  Virginia      0     281.14   \n",
       "2022-01-02  USA-51510  Alexandria city  Virginia      0     281.14   \n",
       "\n",
       "            cases_avg_per_100k  deaths  deaths_avg  deaths_avg_per_100k   fips  \n",
       "date                                                                            \n",
       "2022-01-01              176.34       0        0.38                 0.24  51510  \n",
       "2022-01-02              176.34       0        0.38                 0.24  51510  "
      ]
     },
     "execution_count": 96,
     "metadata": {},
     "output_type": "execute_result"
    }
   ],
   "source": [
    "df_2022[df_2022['county'].str.startswith('Alexandria')].head(2)"
   ]
  },
  {
   "cell_type": "code",
   "execution_count": 97,
   "metadata": {},
   "outputs": [
    {
     "data": {
      "text/html": [
       "<div>\n",
       "<style scoped>\n",
       "    .dataframe tbody tr th:only-of-type {\n",
       "        vertical-align: middle;\n",
       "    }\n",
       "\n",
       "    .dataframe tbody tr th {\n",
       "        vertical-align: top;\n",
       "    }\n",
       "\n",
       "    .dataframe thead th {\n",
       "        text-align: right;\n",
       "    }\n",
       "</style>\n",
       "<table border=\"1\" class=\"dataframe\">\n",
       "  <thead>\n",
       "    <tr style=\"text-align: right;\">\n",
       "      <th></th>\n",
       "      <th>geoid</th>\n",
       "      <th>county</th>\n",
       "      <th>state</th>\n",
       "      <th>cases</th>\n",
       "      <th>cases_avg</th>\n",
       "      <th>cases_avg_per_100k</th>\n",
       "      <th>deaths</th>\n",
       "      <th>deaths_avg</th>\n",
       "      <th>deaths_avg_per_100k</th>\n",
       "      <th>fips</th>\n",
       "    </tr>\n",
       "    <tr>\n",
       "      <th>date</th>\n",
       "      <th></th>\n",
       "      <th></th>\n",
       "      <th></th>\n",
       "      <th></th>\n",
       "      <th></th>\n",
       "      <th></th>\n",
       "      <th></th>\n",
       "      <th></th>\n",
       "      <th></th>\n",
       "      <th></th>\n",
       "    </tr>\n",
       "  </thead>\n",
       "  <tbody>\n",
       "    <tr>\n",
       "      <th>2022-01-01</th>\n",
       "      <td>USA-11001</td>\n",
       "      <td>District of Columbia</td>\n",
       "      <td>District of Columbia</td>\n",
       "      <td>0</td>\n",
       "      <td>2103.0</td>\n",
       "      <td>297.98</td>\n",
       "      <td>0</td>\n",
       "      <td>0.4</td>\n",
       "      <td>0.06</td>\n",
       "      <td>11001</td>\n",
       "    </tr>\n",
       "    <tr>\n",
       "      <th>2022-01-02</th>\n",
       "      <td>USA-11001</td>\n",
       "      <td>District of Columbia</td>\n",
       "      <td>District of Columbia</td>\n",
       "      <td>0</td>\n",
       "      <td>2103.0</td>\n",
       "      <td>297.98</td>\n",
       "      <td>0</td>\n",
       "      <td>0.4</td>\n",
       "      <td>0.06</td>\n",
       "      <td>11001</td>\n",
       "    </tr>\n",
       "  </tbody>\n",
       "</table>\n",
       "</div>"
      ],
      "text/plain": [
       "                geoid                county                 state  cases  \\\n",
       "date                                                                       \n",
       "2022-01-01  USA-11001  District of Columbia  District of Columbia      0   \n",
       "2022-01-02  USA-11001  District of Columbia  District of Columbia      0   \n",
       "\n",
       "            cases_avg  cases_avg_per_100k  deaths  deaths_avg  \\\n",
       "date                                                            \n",
       "2022-01-01     2103.0              297.98       0         0.4   \n",
       "2022-01-02     2103.0              297.98       0         0.4   \n",
       "\n",
       "            deaths_avg_per_100k   fips  \n",
       "date                                    \n",
       "2022-01-01                 0.06  11001  \n",
       "2022-01-02                 0.06  11001  "
      ]
     },
     "execution_count": 97,
     "metadata": {},
     "output_type": "execute_result"
    }
   ],
   "source": [
    "df_2022[df_2022[\"state\"].str.startswith(\"District\")].head(2)\n"
   ]
  },
  {
   "cell_type": "code",
   "execution_count": 98,
   "metadata": {},
   "outputs": [
    {
     "data": {
      "text/html": [
       "<div>\n",
       "<style scoped>\n",
       "    .dataframe tbody tr th:only-of-type {\n",
       "        vertical-align: middle;\n",
       "    }\n",
       "\n",
       "    .dataframe tbody tr th {\n",
       "        vertical-align: top;\n",
       "    }\n",
       "\n",
       "    .dataframe thead th {\n",
       "        text-align: right;\n",
       "    }\n",
       "</style>\n",
       "<table border=\"1\" class=\"dataframe\">\n",
       "  <thead>\n",
       "    <tr style=\"text-align: right;\">\n",
       "      <th></th>\n",
       "      <th>geoid</th>\n",
       "      <th>county</th>\n",
       "      <th>state</th>\n",
       "      <th>cases</th>\n",
       "      <th>cases_avg</th>\n",
       "      <th>cases_avg_per_100k</th>\n",
       "      <th>deaths</th>\n",
       "      <th>deaths_avg</th>\n",
       "      <th>deaths_avg_per_100k</th>\n",
       "      <th>fips</th>\n",
       "    </tr>\n",
       "    <tr>\n",
       "      <th>date</th>\n",
       "      <th></th>\n",
       "      <th></th>\n",
       "      <th></th>\n",
       "      <th></th>\n",
       "      <th></th>\n",
       "      <th></th>\n",
       "      <th></th>\n",
       "      <th></th>\n",
       "      <th></th>\n",
       "      <th></th>\n",
       "    </tr>\n",
       "  </thead>\n",
       "  <tbody>\n",
       "    <tr>\n",
       "      <th>2022-01-01</th>\n",
       "      <td>USA-36998</td>\n",
       "      <td>New York City</td>\n",
       "      <td>New York</td>\n",
       "      <td>45341</td>\n",
       "      <td>34646.38</td>\n",
       "      <td>415.58</td>\n",
       "      <td>20</td>\n",
       "      <td>27.89</td>\n",
       "      <td>0.33</td>\n",
       "      <td>36998</td>\n",
       "    </tr>\n",
       "    <tr>\n",
       "      <th>2022-01-01</th>\n",
       "      <td>USA-36123</td>\n",
       "      <td>Yates</td>\n",
       "      <td>New York</td>\n",
       "      <td>28</td>\n",
       "      <td>13.25</td>\n",
       "      <td>53.19</td>\n",
       "      <td>0</td>\n",
       "      <td>0.14</td>\n",
       "      <td>0.57</td>\n",
       "      <td>36123</td>\n",
       "    </tr>\n",
       "  </tbody>\n",
       "</table>\n",
       "</div>"
      ],
      "text/plain": [
       "                geoid         county     state  cases  cases_avg  \\\n",
       "date                                                               \n",
       "2022-01-01  USA-36998  New York City  New York  45341   34646.38   \n",
       "2022-01-01  USA-36123          Yates  New York     28      13.25   \n",
       "\n",
       "            cases_avg_per_100k  deaths  deaths_avg  deaths_avg_per_100k   fips  \n",
       "date                                                                            \n",
       "2022-01-01              415.58      20       27.89                 0.33  36998  \n",
       "2022-01-01               53.19       0        0.14                 0.57  36123  "
      ]
     },
     "execution_count": 98,
     "metadata": {},
     "output_type": "execute_result"
    }
   ],
   "source": [
    "df_2022[df_2022[\"state\"].str.contains(\"York\")].head(2)"
   ]
  },
  {
   "cell_type": "markdown",
   "metadata": {},
   "source": [
    "Filter to counties of interest"
   ]
  },
  {
   "cell_type": "code",
   "execution_count": 105,
   "metadata": {},
   "outputs": [],
   "source": [
    "counties = [\n",
    "    \"District of Columbia\",\n",
    "    \"Wood\",\n",
    "    \"Putnam\",\n",
    "    \"Montgomery\",\n",
    "    \"Prince George's\",\n",
    "    \"Arlington\",\n",
    "    \"Alexandria city\",\n",
    "    \"New York City\",          # README at NYT mentions some NE are city, not county\n",
    "    \"Allegheny\",\n",
    "    \"Cook\",\n",
    "    \"Baltimore\",\n",
    "    \"Franklin\",\n",
    "    \"Clermont\",\n",
    "    \"Somerset\",\n",
    "    \"Philadelphia\",\n",
    "    \"Denver\",\n",
    "    \"Boulder\",\n",
    "    \"San Francisco\",\n",
    "    \"Los Angeles\",\n",
    "    \"Pima\",\n",
    "    \"Manatee\"\n",
    "]\n"
   ]
  },
  {
   "cell_type": "code",
   "execution_count": 106,
   "metadata": {},
   "outputs": [
    {
     "data": {
      "text/html": [
       "<div>\n",
       "<style scoped>\n",
       "    .dataframe tbody tr th:only-of-type {\n",
       "        vertical-align: middle;\n",
       "    }\n",
       "\n",
       "    .dataframe tbody tr th {\n",
       "        vertical-align: top;\n",
       "    }\n",
       "\n",
       "    .dataframe thead th {\n",
       "        text-align: right;\n",
       "    }\n",
       "</style>\n",
       "<table border=\"1\" class=\"dataframe\">\n",
       "  <thead>\n",
       "    <tr style=\"text-align: right;\">\n",
       "      <th></th>\n",
       "      <th>county</th>\n",
       "      <th>state</th>\n",
       "      <th>fips</th>\n",
       "      <th>cases_avg_per_100k</th>\n",
       "    </tr>\n",
       "    <tr>\n",
       "      <th>date</th>\n",
       "      <th></th>\n",
       "      <th></th>\n",
       "      <th></th>\n",
       "      <th></th>\n",
       "    </tr>\n",
       "  </thead>\n",
       "  <tbody>\n",
       "    <tr>\n",
       "      <th>2022-01-01</th>\n",
       "      <td>Wood</td>\n",
       "      <td>Wisconsin</td>\n",
       "      <td>55141</td>\n",
       "      <td>82.19</td>\n",
       "    </tr>\n",
       "    <tr>\n",
       "      <th>2022-01-01</th>\n",
       "      <td>Wood</td>\n",
       "      <td>West Virginia</td>\n",
       "      <td>54107</td>\n",
       "      <td>55.42</td>\n",
       "    </tr>\n",
       "    <tr>\n",
       "      <th>2022-01-01</th>\n",
       "      <td>Putnam</td>\n",
       "      <td>West Virginia</td>\n",
       "      <td>54079</td>\n",
       "      <td>73.14</td>\n",
       "    </tr>\n",
       "    <tr>\n",
       "      <th>2022-01-01</th>\n",
       "      <td>Franklin</td>\n",
       "      <td>Washington</td>\n",
       "      <td>53021</td>\n",
       "      <td>32.26</td>\n",
       "    </tr>\n",
       "    <tr>\n",
       "      <th>2022-01-01</th>\n",
       "      <td>Montgomery</td>\n",
       "      <td>Virginia</td>\n",
       "      <td>51121</td>\n",
       "      <td>46.25</td>\n",
       "    </tr>\n",
       "    <tr>\n",
       "      <th>...</th>\n",
       "      <td>...</td>\n",
       "      <td>...</td>\n",
       "      <td>...</td>\n",
       "      <td>...</td>\n",
       "    </tr>\n",
       "    <tr>\n",
       "      <th>2022-01-28</th>\n",
       "      <td>Montgomery</td>\n",
       "      <td>Arkansas</td>\n",
       "      <td>5097</td>\n",
       "      <td>104.93</td>\n",
       "    </tr>\n",
       "    <tr>\n",
       "      <th>2022-01-28</th>\n",
       "      <td>Franklin</td>\n",
       "      <td>Arkansas</td>\n",
       "      <td>5047</td>\n",
       "      <td>152.41</td>\n",
       "    </tr>\n",
       "    <tr>\n",
       "      <th>2022-01-28</th>\n",
       "      <td>Pima</td>\n",
       "      <td>Arizona</td>\n",
       "      <td>4019</td>\n",
       "      <td>222.82</td>\n",
       "    </tr>\n",
       "    <tr>\n",
       "      <th>2022-01-28</th>\n",
       "      <td>Montgomery</td>\n",
       "      <td>Alabama</td>\n",
       "      <td>1101</td>\n",
       "      <td>134.48</td>\n",
       "    </tr>\n",
       "    <tr>\n",
       "      <th>2022-01-28</th>\n",
       "      <td>Franklin</td>\n",
       "      <td>Alabama</td>\n",
       "      <td>1059</td>\n",
       "      <td>443.21</td>\n",
       "    </tr>\n",
       "  </tbody>\n",
       "</table>\n",
       "<p>2184 rows × 4 columns</p>\n",
       "</div>"
      ],
      "text/plain": [
       "                county          state   fips  cases_avg_per_100k\n",
       "date                                                            \n",
       "2022-01-01        Wood      Wisconsin  55141               82.19\n",
       "2022-01-01        Wood  West Virginia  54107               55.42\n",
       "2022-01-01      Putnam  West Virginia  54079               73.14\n",
       "2022-01-01    Franklin     Washington  53021               32.26\n",
       "2022-01-01  Montgomery       Virginia  51121               46.25\n",
       "...                ...            ...    ...                 ...\n",
       "2022-01-28  Montgomery       Arkansas   5097              104.93\n",
       "2022-01-28    Franklin       Arkansas   5047              152.41\n",
       "2022-01-28        Pima        Arizona   4019              222.82\n",
       "2022-01-28  Montgomery        Alabama   1101              134.48\n",
       "2022-01-28    Franklin        Alabama   1059              443.21\n",
       "\n",
       "[2184 rows x 4 columns]"
      ]
     },
     "execution_count": 106,
     "metadata": {},
     "output_type": "execute_result"
    }
   ],
   "source": [
    "cols = [\"county\", \"state\", \"fips\", \"cases_avg_per_100k\"]\n",
    "\n",
    "df_2022_smaller = df_2022.loc[df_2022[\"county\"].isin(counties), cols]\n",
    "df_2022_smaller\n"
   ]
  },
  {
   "cell_type": "markdown",
   "metadata": {},
   "source": [
    "See each state/county once."
   ]
  },
  {
   "cell_type": "code",
   "execution_count": 107,
   "metadata": {},
   "outputs": [
    {
     "data": {
      "text/html": [
       "<div>\n",
       "<style scoped>\n",
       "    .dataframe tbody tr th:only-of-type {\n",
       "        vertical-align: middle;\n",
       "    }\n",
       "\n",
       "    .dataframe tbody tr th {\n",
       "        vertical-align: top;\n",
       "    }\n",
       "\n",
       "    .dataframe thead th {\n",
       "        text-align: right;\n",
       "    }\n",
       "</style>\n",
       "<table border=\"1\" class=\"dataframe\">\n",
       "  <thead>\n",
       "    <tr style=\"text-align: right;\">\n",
       "      <th></th>\n",
       "      <th>county</th>\n",
       "      <th>state</th>\n",
       "      <th>fips</th>\n",
       "      <th>cases_avg_per_100k</th>\n",
       "    </tr>\n",
       "    <tr>\n",
       "      <th>date</th>\n",
       "      <th></th>\n",
       "      <th></th>\n",
       "      <th></th>\n",
       "      <th></th>\n",
       "    </tr>\n",
       "  </thead>\n",
       "  <tbody>\n",
       "    <tr>\n",
       "      <th>2022-01-01</th>\n",
       "      <td>Wood</td>\n",
       "      <td>Wisconsin</td>\n",
       "      <td>55141</td>\n",
       "      <td>82.19</td>\n",
       "    </tr>\n",
       "    <tr>\n",
       "      <th>2022-01-01</th>\n",
       "      <td>Wood</td>\n",
       "      <td>West Virginia</td>\n",
       "      <td>54107</td>\n",
       "      <td>55.42</td>\n",
       "    </tr>\n",
       "    <tr>\n",
       "      <th>2022-01-01</th>\n",
       "      <td>Putnam</td>\n",
       "      <td>West Virginia</td>\n",
       "      <td>54079</td>\n",
       "      <td>73.14</td>\n",
       "    </tr>\n",
       "    <tr>\n",
       "      <th>2022-01-01</th>\n",
       "      <td>Franklin</td>\n",
       "      <td>Washington</td>\n",
       "      <td>53021</td>\n",
       "      <td>32.26</td>\n",
       "    </tr>\n",
       "    <tr>\n",
       "      <th>2022-01-01</th>\n",
       "      <td>Montgomery</td>\n",
       "      <td>Virginia</td>\n",
       "      <td>51121</td>\n",
       "      <td>46.25</td>\n",
       "    </tr>\n",
       "    <tr>\n",
       "      <th>2022-01-01</th>\n",
       "      <td>Franklin</td>\n",
       "      <td>Virginia</td>\n",
       "      <td>51067</td>\n",
       "      <td>68.83</td>\n",
       "    </tr>\n",
       "    <tr>\n",
       "      <th>2022-01-01</th>\n",
       "      <td>Arlington</td>\n",
       "      <td>Virginia</td>\n",
       "      <td>51013</td>\n",
       "      <td>190.42</td>\n",
       "    </tr>\n",
       "    <tr>\n",
       "      <th>2022-01-01</th>\n",
       "      <td>Alexandria city</td>\n",
       "      <td>Virginia</td>\n",
       "      <td>51510</td>\n",
       "      <td>176.34</td>\n",
       "    </tr>\n",
       "    <tr>\n",
       "      <th>2022-01-01</th>\n",
       "      <td>Franklin</td>\n",
       "      <td>Vermont</td>\n",
       "      <td>50011</td>\n",
       "      <td>96.87</td>\n",
       "    </tr>\n",
       "    <tr>\n",
       "      <th>2022-01-01</th>\n",
       "      <td>Wood</td>\n",
       "      <td>Texas</td>\n",
       "      <td>48499</td>\n",
       "      <td>10.67</td>\n",
       "    </tr>\n",
       "    <tr>\n",
       "      <th>2022-01-01</th>\n",
       "      <td>Montgomery</td>\n",
       "      <td>Texas</td>\n",
       "      <td>48339</td>\n",
       "      <td>66.54</td>\n",
       "    </tr>\n",
       "    <tr>\n",
       "      <th>2022-01-01</th>\n",
       "      <td>Franklin</td>\n",
       "      <td>Texas</td>\n",
       "      <td>48159</td>\n",
       "      <td>22.64</td>\n",
       "    </tr>\n",
       "    <tr>\n",
       "      <th>2022-01-01</th>\n",
       "      <td>Putnam</td>\n",
       "      <td>Tennessee</td>\n",
       "      <td>47141</td>\n",
       "      <td>45.57</td>\n",
       "    </tr>\n",
       "    <tr>\n",
       "      <th>2022-01-01</th>\n",
       "      <td>Montgomery</td>\n",
       "      <td>Tennessee</td>\n",
       "      <td>47125</td>\n",
       "      <td>80.39</td>\n",
       "    </tr>\n",
       "    <tr>\n",
       "      <th>2022-01-01</th>\n",
       "      <td>Franklin</td>\n",
       "      <td>Tennessee</td>\n",
       "      <td>47051</td>\n",
       "      <td>65.32</td>\n",
       "    </tr>\n",
       "    <tr>\n",
       "      <th>2022-01-01</th>\n",
       "      <td>Somerset</td>\n",
       "      <td>Pennsylvania</td>\n",
       "      <td>42111</td>\n",
       "      <td>76.83</td>\n",
       "    </tr>\n",
       "    <tr>\n",
       "      <th>2022-01-01</th>\n",
       "      <td>Philadelphia</td>\n",
       "      <td>Pennsylvania</td>\n",
       "      <td>42101</td>\n",
       "      <td>160.40</td>\n",
       "    </tr>\n",
       "    <tr>\n",
       "      <th>2022-01-01</th>\n",
       "      <td>Montgomery</td>\n",
       "      <td>Pennsylvania</td>\n",
       "      <td>42091</td>\n",
       "      <td>137.54</td>\n",
       "    </tr>\n",
       "    <tr>\n",
       "      <th>2022-01-01</th>\n",
       "      <td>Franklin</td>\n",
       "      <td>Pennsylvania</td>\n",
       "      <td>42055</td>\n",
       "      <td>107.91</td>\n",
       "    </tr>\n",
       "    <tr>\n",
       "      <th>2022-01-01</th>\n",
       "      <td>Allegheny</td>\n",
       "      <td>Pennsylvania</td>\n",
       "      <td>42003</td>\n",
       "      <td>132.63</td>\n",
       "    </tr>\n",
       "    <tr>\n",
       "      <th>2022-01-01</th>\n",
       "      <td>Wood</td>\n",
       "      <td>Ohio</td>\n",
       "      <td>39173</td>\n",
       "      <td>109.09</td>\n",
       "    </tr>\n",
       "    <tr>\n",
       "      <th>2022-01-01</th>\n",
       "      <td>Putnam</td>\n",
       "      <td>Ohio</td>\n",
       "      <td>39137</td>\n",
       "      <td>54.00</td>\n",
       "    </tr>\n",
       "    <tr>\n",
       "      <th>2022-01-01</th>\n",
       "      <td>Montgomery</td>\n",
       "      <td>Ohio</td>\n",
       "      <td>39113</td>\n",
       "      <td>90.12</td>\n",
       "    </tr>\n",
       "    <tr>\n",
       "      <th>2022-01-01</th>\n",
       "      <td>Franklin</td>\n",
       "      <td>Ohio</td>\n",
       "      <td>39049</td>\n",
       "      <td>146.41</td>\n",
       "    </tr>\n",
       "    <tr>\n",
       "      <th>2022-01-01</th>\n",
       "      <td>Clermont</td>\n",
       "      <td>Ohio</td>\n",
       "      <td>39025</td>\n",
       "      <td>91.63</td>\n",
       "    </tr>\n",
       "    <tr>\n",
       "      <th>2022-01-01</th>\n",
       "      <td>Montgomery</td>\n",
       "      <td>North Carolina</td>\n",
       "      <td>37123</td>\n",
       "      <td>39.25</td>\n",
       "    </tr>\n",
       "    <tr>\n",
       "      <th>2022-01-01</th>\n",
       "      <td>Franklin</td>\n",
       "      <td>North Carolina</td>\n",
       "      <td>37069</td>\n",
       "      <td>110.34</td>\n",
       "    </tr>\n",
       "    <tr>\n",
       "      <th>2022-01-01</th>\n",
       "      <td>New York City</td>\n",
       "      <td>New York</td>\n",
       "      <td>36998</td>\n",
       "      <td>415.58</td>\n",
       "    </tr>\n",
       "    <tr>\n",
       "      <th>2022-01-01</th>\n",
       "      <td>Putnam</td>\n",
       "      <td>New York</td>\n",
       "      <td>36079</td>\n",
       "      <td>284.78</td>\n",
       "    </tr>\n",
       "    <tr>\n",
       "      <th>2022-01-01</th>\n",
       "      <td>Montgomery</td>\n",
       "      <td>New York</td>\n",
       "      <td>36057</td>\n",
       "      <td>87.62</td>\n",
       "    </tr>\n",
       "    <tr>\n",
       "      <th>2022-01-01</th>\n",
       "      <td>Franklin</td>\n",
       "      <td>New York</td>\n",
       "      <td>36033</td>\n",
       "      <td>66.22</td>\n",
       "    </tr>\n",
       "    <tr>\n",
       "      <th>2022-01-01</th>\n",
       "      <td>Somerset</td>\n",
       "      <td>New Jersey</td>\n",
       "      <td>34035</td>\n",
       "      <td>271.01</td>\n",
       "    </tr>\n",
       "    <tr>\n",
       "      <th>2022-01-01</th>\n",
       "      <td>Franklin</td>\n",
       "      <td>Nebraska</td>\n",
       "      <td>31061</td>\n",
       "      <td>14.39</td>\n",
       "    </tr>\n",
       "    <tr>\n",
       "      <th>2022-01-01</th>\n",
       "      <td>Putnam</td>\n",
       "      <td>Missouri</td>\n",
       "      <td>29171</td>\n",
       "      <td>42.59</td>\n",
       "    </tr>\n",
       "    <tr>\n",
       "      <th>2022-01-01</th>\n",
       "      <td>Montgomery</td>\n",
       "      <td>Missouri</td>\n",
       "      <td>29139</td>\n",
       "      <td>54.42</td>\n",
       "    </tr>\n",
       "    <tr>\n",
       "      <th>2022-01-01</th>\n",
       "      <td>Franklin</td>\n",
       "      <td>Missouri</td>\n",
       "      <td>29071</td>\n",
       "      <td>63.07</td>\n",
       "    </tr>\n",
       "    <tr>\n",
       "      <th>2022-01-01</th>\n",
       "      <td>Montgomery</td>\n",
       "      <td>Mississippi</td>\n",
       "      <td>28097</td>\n",
       "      <td>98.47</td>\n",
       "    </tr>\n",
       "    <tr>\n",
       "      <th>2022-01-01</th>\n",
       "      <td>Franklin</td>\n",
       "      <td>Mississippi</td>\n",
       "      <td>28037</td>\n",
       "      <td>43.76</td>\n",
       "    </tr>\n",
       "    <tr>\n",
       "      <th>2022-01-01</th>\n",
       "      <td>Cook</td>\n",
       "      <td>Minnesota</td>\n",
       "      <td>27031</td>\n",
       "      <td>33.99</td>\n",
       "    </tr>\n",
       "    <tr>\n",
       "      <th>2022-01-01</th>\n",
       "      <td>Franklin</td>\n",
       "      <td>Massachusetts</td>\n",
       "      <td>25011</td>\n",
       "      <td>104.83</td>\n",
       "    </tr>\n",
       "    <tr>\n",
       "      <th>2022-01-01</th>\n",
       "      <td>Somerset</td>\n",
       "      <td>Maryland</td>\n",
       "      <td>24039</td>\n",
       "      <td>130.50</td>\n",
       "    </tr>\n",
       "    <tr>\n",
       "      <th>2022-01-01</th>\n",
       "      <td>Prince George's</td>\n",
       "      <td>Maryland</td>\n",
       "      <td>24033</td>\n",
       "      <td>342.75</td>\n",
       "    </tr>\n",
       "    <tr>\n",
       "      <th>2022-01-01</th>\n",
       "      <td>Montgomery</td>\n",
       "      <td>Maryland</td>\n",
       "      <td>24031</td>\n",
       "      <td>234.47</td>\n",
       "    </tr>\n",
       "    <tr>\n",
       "      <th>2022-01-01</th>\n",
       "      <td>Baltimore</td>\n",
       "      <td>Maryland</td>\n",
       "      <td>24005</td>\n",
       "      <td>248.15</td>\n",
       "    </tr>\n",
       "    <tr>\n",
       "      <th>2022-01-01</th>\n",
       "      <td>Somerset</td>\n",
       "      <td>Maine</td>\n",
       "      <td>23025</td>\n",
       "      <td>58.58</td>\n",
       "    </tr>\n",
       "    <tr>\n",
       "      <th>2022-01-01</th>\n",
       "      <td>Franklin</td>\n",
       "      <td>Maine</td>\n",
       "      <td>23007</td>\n",
       "      <td>75.22</td>\n",
       "    </tr>\n",
       "    <tr>\n",
       "      <th>2022-01-01</th>\n",
       "      <td>Franklin</td>\n",
       "      <td>Louisiana</td>\n",
       "      <td>22041</td>\n",
       "      <td>67.81</td>\n",
       "    </tr>\n",
       "    <tr>\n",
       "      <th>2022-01-01</th>\n",
       "      <td>Montgomery</td>\n",
       "      <td>Kentucky</td>\n",
       "      <td>21173</td>\n",
       "      <td>27.40</td>\n",
       "    </tr>\n",
       "    <tr>\n",
       "      <th>2022-01-01</th>\n",
       "      <td>Franklin</td>\n",
       "      <td>Kentucky</td>\n",
       "      <td>21073</td>\n",
       "      <td>53.79</td>\n",
       "    </tr>\n",
       "    <tr>\n",
       "      <th>2022-01-01</th>\n",
       "      <td>Montgomery</td>\n",
       "      <td>Kansas</td>\n",
       "      <td>20125</td>\n",
       "      <td>55.65</td>\n",
       "    </tr>\n",
       "    <tr>\n",
       "      <th>2022-01-01</th>\n",
       "      <td>Franklin</td>\n",
       "      <td>Kansas</td>\n",
       "      <td>20059</td>\n",
       "      <td>130.87</td>\n",
       "    </tr>\n",
       "    <tr>\n",
       "      <th>2022-01-01</th>\n",
       "      <td>Montgomery</td>\n",
       "      <td>Iowa</td>\n",
       "      <td>19137</td>\n",
       "      <td>33.13</td>\n",
       "    </tr>\n",
       "    <tr>\n",
       "      <th>2022-01-01</th>\n",
       "      <td>Franklin</td>\n",
       "      <td>Iowa</td>\n",
       "      <td>19069</td>\n",
       "      <td>41.14</td>\n",
       "    </tr>\n",
       "    <tr>\n",
       "      <th>2022-01-01</th>\n",
       "      <td>Putnam</td>\n",
       "      <td>Indiana</td>\n",
       "      <td>18133</td>\n",
       "      <td>64.54</td>\n",
       "    </tr>\n",
       "    <tr>\n",
       "      <th>2022-01-01</th>\n",
       "      <td>Montgomery</td>\n",
       "      <td>Indiana</td>\n",
       "      <td>18107</td>\n",
       "      <td>56.08</td>\n",
       "    </tr>\n",
       "    <tr>\n",
       "      <th>2022-01-01</th>\n",
       "      <td>Franklin</td>\n",
       "      <td>Indiana</td>\n",
       "      <td>18047</td>\n",
       "      <td>47.79</td>\n",
       "    </tr>\n",
       "    <tr>\n",
       "      <th>2022-01-01</th>\n",
       "      <td>Putnam</td>\n",
       "      <td>Illinois</td>\n",
       "      <td>17155</td>\n",
       "      <td>94.59</td>\n",
       "    </tr>\n",
       "    <tr>\n",
       "      <th>2022-01-01</th>\n",
       "      <td>Montgomery</td>\n",
       "      <td>Illinois</td>\n",
       "      <td>17135</td>\n",
       "      <td>131.22</td>\n",
       "    </tr>\n",
       "    <tr>\n",
       "      <th>2022-01-01</th>\n",
       "      <td>Franklin</td>\n",
       "      <td>Illinois</td>\n",
       "      <td>17055</td>\n",
       "      <td>76.87</td>\n",
       "    </tr>\n",
       "    <tr>\n",
       "      <th>2022-01-01</th>\n",
       "      <td>Cook</td>\n",
       "      <td>Illinois</td>\n",
       "      <td>17031</td>\n",
       "      <td>171.58</td>\n",
       "    </tr>\n",
       "    <tr>\n",
       "      <th>2022-01-01</th>\n",
       "      <td>Franklin</td>\n",
       "      <td>Idaho</td>\n",
       "      <td>16041</td>\n",
       "      <td>14.41</td>\n",
       "    </tr>\n",
       "    <tr>\n",
       "      <th>2022-01-01</th>\n",
       "      <td>Putnam</td>\n",
       "      <td>Georgia</td>\n",
       "      <td>13237</td>\n",
       "      <td>105.27</td>\n",
       "    </tr>\n",
       "    <tr>\n",
       "      <th>2022-01-01</th>\n",
       "      <td>Montgomery</td>\n",
       "      <td>Georgia</td>\n",
       "      <td>13209</td>\n",
       "      <td>21.81</td>\n",
       "    </tr>\n",
       "    <tr>\n",
       "      <th>2022-01-01</th>\n",
       "      <td>Franklin</td>\n",
       "      <td>Georgia</td>\n",
       "      <td>13119</td>\n",
       "      <td>29.98</td>\n",
       "    </tr>\n",
       "    <tr>\n",
       "      <th>2022-01-01</th>\n",
       "      <td>Cook</td>\n",
       "      <td>Georgia</td>\n",
       "      <td>13075</td>\n",
       "      <td>58.73</td>\n",
       "    </tr>\n",
       "    <tr>\n",
       "      <th>2022-01-01</th>\n",
       "      <td>Putnam</td>\n",
       "      <td>Florida</td>\n",
       "      <td>12107</td>\n",
       "      <td>29.71</td>\n",
       "    </tr>\n",
       "    <tr>\n",
       "      <th>2022-01-01</th>\n",
       "      <td>Manatee</td>\n",
       "      <td>Florida</td>\n",
       "      <td>12081</td>\n",
       "      <td>100.75</td>\n",
       "    </tr>\n",
       "    <tr>\n",
       "      <th>2022-01-01</th>\n",
       "      <td>Franklin</td>\n",
       "      <td>Florida</td>\n",
       "      <td>12037</td>\n",
       "      <td>25.92</td>\n",
       "    </tr>\n",
       "    <tr>\n",
       "      <th>2022-01-01</th>\n",
       "      <td>District of Columbia</td>\n",
       "      <td>District of Columbia</td>\n",
       "      <td>11001</td>\n",
       "      <td>297.98</td>\n",
       "    </tr>\n",
       "    <tr>\n",
       "      <th>2022-01-01</th>\n",
       "      <td>Denver</td>\n",
       "      <td>Colorado</td>\n",
       "      <td>8031</td>\n",
       "      <td>149.38</td>\n",
       "    </tr>\n",
       "    <tr>\n",
       "      <th>2022-01-01</th>\n",
       "      <td>Boulder</td>\n",
       "      <td>Colorado</td>\n",
       "      <td>8013</td>\n",
       "      <td>99.48</td>\n",
       "    </tr>\n",
       "    <tr>\n",
       "      <th>2022-01-01</th>\n",
       "      <td>San Francisco</td>\n",
       "      <td>California</td>\n",
       "      <td>6075</td>\n",
       "      <td>107.10</td>\n",
       "    </tr>\n",
       "    <tr>\n",
       "      <th>2022-01-01</th>\n",
       "      <td>Los Angeles</td>\n",
       "      <td>California</td>\n",
       "      <td>6037</td>\n",
       "      <td>144.21</td>\n",
       "    </tr>\n",
       "    <tr>\n",
       "      <th>2022-01-01</th>\n",
       "      <td>Montgomery</td>\n",
       "      <td>Arkansas</td>\n",
       "      <td>5097</td>\n",
       "      <td>19.08</td>\n",
       "    </tr>\n",
       "    <tr>\n",
       "      <th>2022-01-01</th>\n",
       "      <td>Franklin</td>\n",
       "      <td>Arkansas</td>\n",
       "      <td>5047</td>\n",
       "      <td>20.97</td>\n",
       "    </tr>\n",
       "    <tr>\n",
       "      <th>2022-01-01</th>\n",
       "      <td>Pima</td>\n",
       "      <td>Arizona</td>\n",
       "      <td>4019</td>\n",
       "      <td>55.85</td>\n",
       "    </tr>\n",
       "    <tr>\n",
       "      <th>2022-01-01</th>\n",
       "      <td>Montgomery</td>\n",
       "      <td>Alabama</td>\n",
       "      <td>1101</td>\n",
       "      <td>148.42</td>\n",
       "    </tr>\n",
       "    <tr>\n",
       "      <th>2022-01-01</th>\n",
       "      <td>Franklin</td>\n",
       "      <td>Alabama</td>\n",
       "      <td>1059</td>\n",
       "      <td>35.99</td>\n",
       "    </tr>\n",
       "  </tbody>\n",
       "</table>\n",
       "</div>"
      ],
      "text/plain": [
       "                          county                 state   fips  \\\n",
       "date                                                            \n",
       "2022-01-01                  Wood             Wisconsin  55141   \n",
       "2022-01-01                  Wood         West Virginia  54107   \n",
       "2022-01-01                Putnam         West Virginia  54079   \n",
       "2022-01-01              Franklin            Washington  53021   \n",
       "2022-01-01            Montgomery              Virginia  51121   \n",
       "2022-01-01              Franklin              Virginia  51067   \n",
       "2022-01-01             Arlington              Virginia  51013   \n",
       "2022-01-01       Alexandria city              Virginia  51510   \n",
       "2022-01-01              Franklin               Vermont  50011   \n",
       "2022-01-01                  Wood                 Texas  48499   \n",
       "2022-01-01            Montgomery                 Texas  48339   \n",
       "2022-01-01              Franklin                 Texas  48159   \n",
       "2022-01-01                Putnam             Tennessee  47141   \n",
       "2022-01-01            Montgomery             Tennessee  47125   \n",
       "2022-01-01              Franklin             Tennessee  47051   \n",
       "2022-01-01              Somerset          Pennsylvania  42111   \n",
       "2022-01-01          Philadelphia          Pennsylvania  42101   \n",
       "2022-01-01            Montgomery          Pennsylvania  42091   \n",
       "2022-01-01              Franklin          Pennsylvania  42055   \n",
       "2022-01-01             Allegheny          Pennsylvania  42003   \n",
       "2022-01-01                  Wood                  Ohio  39173   \n",
       "2022-01-01                Putnam                  Ohio  39137   \n",
       "2022-01-01            Montgomery                  Ohio  39113   \n",
       "2022-01-01              Franklin                  Ohio  39049   \n",
       "2022-01-01              Clermont                  Ohio  39025   \n",
       "2022-01-01            Montgomery        North Carolina  37123   \n",
       "2022-01-01              Franklin        North Carolina  37069   \n",
       "2022-01-01         New York City              New York  36998   \n",
       "2022-01-01                Putnam              New York  36079   \n",
       "2022-01-01            Montgomery              New York  36057   \n",
       "2022-01-01              Franklin              New York  36033   \n",
       "2022-01-01              Somerset            New Jersey  34035   \n",
       "2022-01-01              Franklin              Nebraska  31061   \n",
       "2022-01-01                Putnam              Missouri  29171   \n",
       "2022-01-01            Montgomery              Missouri  29139   \n",
       "2022-01-01              Franklin              Missouri  29071   \n",
       "2022-01-01            Montgomery           Mississippi  28097   \n",
       "2022-01-01              Franklin           Mississippi  28037   \n",
       "2022-01-01                  Cook             Minnesota  27031   \n",
       "2022-01-01              Franklin         Massachusetts  25011   \n",
       "2022-01-01              Somerset              Maryland  24039   \n",
       "2022-01-01       Prince George's              Maryland  24033   \n",
       "2022-01-01            Montgomery              Maryland  24031   \n",
       "2022-01-01             Baltimore              Maryland  24005   \n",
       "2022-01-01              Somerset                 Maine  23025   \n",
       "2022-01-01              Franklin                 Maine  23007   \n",
       "2022-01-01              Franklin             Louisiana  22041   \n",
       "2022-01-01            Montgomery              Kentucky  21173   \n",
       "2022-01-01              Franklin              Kentucky  21073   \n",
       "2022-01-01            Montgomery                Kansas  20125   \n",
       "2022-01-01              Franklin                Kansas  20059   \n",
       "2022-01-01            Montgomery                  Iowa  19137   \n",
       "2022-01-01              Franklin                  Iowa  19069   \n",
       "2022-01-01                Putnam               Indiana  18133   \n",
       "2022-01-01            Montgomery               Indiana  18107   \n",
       "2022-01-01              Franklin               Indiana  18047   \n",
       "2022-01-01                Putnam              Illinois  17155   \n",
       "2022-01-01            Montgomery              Illinois  17135   \n",
       "2022-01-01              Franklin              Illinois  17055   \n",
       "2022-01-01                  Cook              Illinois  17031   \n",
       "2022-01-01              Franklin                 Idaho  16041   \n",
       "2022-01-01                Putnam               Georgia  13237   \n",
       "2022-01-01            Montgomery               Georgia  13209   \n",
       "2022-01-01              Franklin               Georgia  13119   \n",
       "2022-01-01                  Cook               Georgia  13075   \n",
       "2022-01-01                Putnam               Florida  12107   \n",
       "2022-01-01               Manatee               Florida  12081   \n",
       "2022-01-01              Franklin               Florida  12037   \n",
       "2022-01-01  District of Columbia  District of Columbia  11001   \n",
       "2022-01-01                Denver              Colorado   8031   \n",
       "2022-01-01               Boulder              Colorado   8013   \n",
       "2022-01-01         San Francisco            California   6075   \n",
       "2022-01-01           Los Angeles            California   6037   \n",
       "2022-01-01            Montgomery              Arkansas   5097   \n",
       "2022-01-01              Franklin              Arkansas   5047   \n",
       "2022-01-01                  Pima               Arizona   4019   \n",
       "2022-01-01            Montgomery               Alabama   1101   \n",
       "2022-01-01              Franklin               Alabama   1059   \n",
       "\n",
       "            cases_avg_per_100k  \n",
       "date                            \n",
       "2022-01-01               82.19  \n",
       "2022-01-01               55.42  \n",
       "2022-01-01               73.14  \n",
       "2022-01-01               32.26  \n",
       "2022-01-01               46.25  \n",
       "2022-01-01               68.83  \n",
       "2022-01-01              190.42  \n",
       "2022-01-01              176.34  \n",
       "2022-01-01               96.87  \n",
       "2022-01-01               10.67  \n",
       "2022-01-01               66.54  \n",
       "2022-01-01               22.64  \n",
       "2022-01-01               45.57  \n",
       "2022-01-01               80.39  \n",
       "2022-01-01               65.32  \n",
       "2022-01-01               76.83  \n",
       "2022-01-01              160.40  \n",
       "2022-01-01              137.54  \n",
       "2022-01-01              107.91  \n",
       "2022-01-01              132.63  \n",
       "2022-01-01              109.09  \n",
       "2022-01-01               54.00  \n",
       "2022-01-01               90.12  \n",
       "2022-01-01              146.41  \n",
       "2022-01-01               91.63  \n",
       "2022-01-01               39.25  \n",
       "2022-01-01              110.34  \n",
       "2022-01-01              415.58  \n",
       "2022-01-01              284.78  \n",
       "2022-01-01               87.62  \n",
       "2022-01-01               66.22  \n",
       "2022-01-01              271.01  \n",
       "2022-01-01               14.39  \n",
       "2022-01-01               42.59  \n",
       "2022-01-01               54.42  \n",
       "2022-01-01               63.07  \n",
       "2022-01-01               98.47  \n",
       "2022-01-01               43.76  \n",
       "2022-01-01               33.99  \n",
       "2022-01-01              104.83  \n",
       "2022-01-01              130.50  \n",
       "2022-01-01              342.75  \n",
       "2022-01-01              234.47  \n",
       "2022-01-01              248.15  \n",
       "2022-01-01               58.58  \n",
       "2022-01-01               75.22  \n",
       "2022-01-01               67.81  \n",
       "2022-01-01               27.40  \n",
       "2022-01-01               53.79  \n",
       "2022-01-01               55.65  \n",
       "2022-01-01              130.87  \n",
       "2022-01-01               33.13  \n",
       "2022-01-01               41.14  \n",
       "2022-01-01               64.54  \n",
       "2022-01-01               56.08  \n",
       "2022-01-01               47.79  \n",
       "2022-01-01               94.59  \n",
       "2022-01-01              131.22  \n",
       "2022-01-01               76.87  \n",
       "2022-01-01              171.58  \n",
       "2022-01-01               14.41  \n",
       "2022-01-01              105.27  \n",
       "2022-01-01               21.81  \n",
       "2022-01-01               29.98  \n",
       "2022-01-01               58.73  \n",
       "2022-01-01               29.71  \n",
       "2022-01-01              100.75  \n",
       "2022-01-01               25.92  \n",
       "2022-01-01              297.98  \n",
       "2022-01-01              149.38  \n",
       "2022-01-01               99.48  \n",
       "2022-01-01              107.10  \n",
       "2022-01-01              144.21  \n",
       "2022-01-01               19.08  \n",
       "2022-01-01               20.97  \n",
       "2022-01-01               55.85  \n",
       "2022-01-01              148.42  \n",
       "2022-01-01               35.99  "
      ]
     },
     "execution_count": 107,
     "metadata": {},
     "output_type": "execute_result"
    }
   ],
   "source": [
    "df_2022_smaller.drop_duplicates(subset=[\"county\", \"state\"])"
   ]
  },
  {
   "cell_type": "markdown",
   "metadata": {},
   "source": [
    "Convert geoid to FIPS code for plotting"
   ]
  },
  {
   "cell_type": "code",
   "execution_count": null,
   "metadata": {},
   "outputs": [],
   "source": [
    "df_2022[\"fips\"] = pd.to_numeric(df_2022[\"geoid\"].str[-5:], downcast=\"integer\")\n",
    "df_2022\n"
   ]
  },
  {
   "cell_type": "code",
   "execution_count": null,
   "metadata": {},
   "outputs": [],
   "source": [
    "df_2022.info()\n"
   ]
  },
  {
   "cell_type": "markdown",
   "metadata": {},
   "source": [
    "Filter to fips codes of counties I want. \n",
    "\n",
    "If ever make into an app, will change to have folks choose State and then County from drop downs.\n"
   ]
  },
  {
   "cell_type": "code",
   "execution_count": 108,
   "metadata": {},
   "outputs": [
    {
     "data": {
      "text/html": [
       "<div>\n",
       "<style scoped>\n",
       "    .dataframe tbody tr th:only-of-type {\n",
       "        vertical-align: middle;\n",
       "    }\n",
       "\n",
       "    .dataframe tbody tr th {\n",
       "        vertical-align: top;\n",
       "    }\n",
       "\n",
       "    .dataframe thead th {\n",
       "        text-align: right;\n",
       "    }\n",
       "</style>\n",
       "<table border=\"1\" class=\"dataframe\">\n",
       "  <thead>\n",
       "    <tr style=\"text-align: right;\">\n",
       "      <th></th>\n",
       "      <th>county</th>\n",
       "      <th>state</th>\n",
       "      <th>fips</th>\n",
       "      <th>cases_avg_per_100k</th>\n",
       "    </tr>\n",
       "    <tr>\n",
       "      <th>date</th>\n",
       "      <th></th>\n",
       "      <th></th>\n",
       "      <th></th>\n",
       "      <th></th>\n",
       "    </tr>\n",
       "  </thead>\n",
       "  <tbody>\n",
       "    <tr>\n",
       "      <th>2022-01-01</th>\n",
       "      <td>Arlington</td>\n",
       "      <td>Virginia</td>\n",
       "      <td>51013</td>\n",
       "      <td>190.42</td>\n",
       "    </tr>\n",
       "    <tr>\n",
       "      <th>2022-01-01</th>\n",
       "      <td>Somerset</td>\n",
       "      <td>Pennsylvania</td>\n",
       "      <td>42111</td>\n",
       "      <td>76.83</td>\n",
       "    </tr>\n",
       "    <tr>\n",
       "      <th>2022-01-01</th>\n",
       "      <td>Allegheny</td>\n",
       "      <td>Pennsylvania</td>\n",
       "      <td>42003</td>\n",
       "      <td>132.63</td>\n",
       "    </tr>\n",
       "    <tr>\n",
       "      <th>2022-01-01</th>\n",
       "      <td>Wood</td>\n",
       "      <td>Ohio</td>\n",
       "      <td>39173</td>\n",
       "      <td>109.09</td>\n",
       "    </tr>\n",
       "    <tr>\n",
       "      <th>2022-01-01</th>\n",
       "      <td>Putnam</td>\n",
       "      <td>Ohio</td>\n",
       "      <td>39137</td>\n",
       "      <td>54.00</td>\n",
       "    </tr>\n",
       "    <tr>\n",
       "      <th>...</th>\n",
       "      <td>...</td>\n",
       "      <td>...</td>\n",
       "      <td>...</td>\n",
       "      <td>...</td>\n",
       "    </tr>\n",
       "    <tr>\n",
       "      <th>2022-01-28</th>\n",
       "      <td>Denver</td>\n",
       "      <td>Colorado</td>\n",
       "      <td>8031</td>\n",
       "      <td>128.22</td>\n",
       "    </tr>\n",
       "    <tr>\n",
       "      <th>2022-01-28</th>\n",
       "      <td>Boulder</td>\n",
       "      <td>Colorado</td>\n",
       "      <td>8013</td>\n",
       "      <td>129.72</td>\n",
       "    </tr>\n",
       "    <tr>\n",
       "      <th>2022-01-28</th>\n",
       "      <td>San Francisco</td>\n",
       "      <td>California</td>\n",
       "      <td>6075</td>\n",
       "      <td>156.79</td>\n",
       "    </tr>\n",
       "    <tr>\n",
       "      <th>2022-01-28</th>\n",
       "      <td>Los Angeles</td>\n",
       "      <td>California</td>\n",
       "      <td>6037</td>\n",
       "      <td>258.48</td>\n",
       "    </tr>\n",
       "    <tr>\n",
       "      <th>2022-01-28</th>\n",
       "      <td>Pima</td>\n",
       "      <td>Arizona</td>\n",
       "      <td>4019</td>\n",
       "      <td>222.82</td>\n",
       "    </tr>\n",
       "  </tbody>\n",
       "</table>\n",
       "<p>560 rows × 4 columns</p>\n",
       "</div>"
      ],
      "text/plain": [
       "                   county         state   fips  cases_avg_per_100k\n",
       "date                                                              \n",
       "2022-01-01      Arlington      Virginia  51013              190.42\n",
       "2022-01-01       Somerset  Pennsylvania  42111               76.83\n",
       "2022-01-01      Allegheny  Pennsylvania  42003              132.63\n",
       "2022-01-01           Wood          Ohio  39173              109.09\n",
       "2022-01-01         Putnam          Ohio  39137               54.00\n",
       "...                   ...           ...    ...                 ...\n",
       "2022-01-28         Denver      Colorado   8031              128.22\n",
       "2022-01-28        Boulder      Colorado   8013              129.72\n",
       "2022-01-28  San Francisco    California   6075              156.79\n",
       "2022-01-28    Los Angeles    California   6037              258.48\n",
       "2022-01-28           Pima       Arizona   4019              222.82\n",
       "\n",
       "[560 rows x 4 columns]"
      ]
     },
     "execution_count": 108,
     "metadata": {},
     "output_type": "execute_result"
    }
   ],
   "source": [
    "fips_counties = [\n",
    "    11001,\n",
    "    24033,\n",
    "    24031,\n",
    "    17031,\n",
    "    39173,\n",
    "    39137,\n",
    "    39113,\n",
    "    39049,\n",
    "    51013,\n",
    "    42111,\n",
    "    42003,\n",
    "    39025,\n",
    "    8031,\n",
    "    8013,\n",
    "    4019,\n",
    "    24005,\n",
    "    6037,\n",
    "    6075,\n",
    "    36998,\n",
    "    12081\n",
    "]\n",
    "\n",
    "cols = [\"county\", \"state\", \"fips\", \"cases_avg_per_100k\"]\n",
    "\n",
    "df_2022_counties = df_2022.loc[df_2022[\"fips\"].isin(fips_counties), cols]\n",
    "df_2022_counties\n"
   ]
  },
  {
   "cell_type": "code",
   "execution_count": 109,
   "metadata": {},
   "outputs": [
    {
     "data": {
      "application/vnd.plotly.v1+json": {
       "config": {
        "plotlyServerURL": "https://plot.ly"
       },
       "data": [
        {
         "hovertemplate": "county=Arlington<br>date=%{x}<br>cases_avg_per_100k=%{y}<extra></extra>",
         "legendgroup": "Arlington",
         "line": {
          "color": "#636efa",
          "dash": "solid"
         },
         "marker": {
          "symbol": "circle"
         },
         "mode": "lines",
         "name": "Arlington",
         "orientation": "v",
         "showlegend": true,
         "type": "scatter",
         "x": [
          "2022-01-01",
          "2022-01-02",
          "2022-01-03",
          "2022-01-04",
          "2022-01-05",
          "2022-01-06",
          "2022-01-07",
          "2022-01-08",
          "2022-01-09",
          "2022-01-10",
          "2022-01-11",
          "2022-01-12",
          "2022-01-13",
          "2022-01-14",
          "2022-01-15",
          "2022-01-16",
          "2022-01-17",
          "2022-01-18",
          "2022-01-19",
          "2022-01-20",
          "2022-01-21",
          "2022-01-22",
          "2022-01-23",
          "2022-01-24",
          "2022-01-25",
          "2022-01-26",
          "2022-01-27",
          "2022-01-28"
         ],
         "xaxis": "x",
         "y": [
          190.42,
          190.42,
          207.07,
          200.98,
          195.55,
          198.75,
          178.6,
          178.6,
          178.6,
          231.26,
          241.09,
          272.82,
          264.73,
          258.88,
          258.88,
          258.88,
          211.71,
          205.92,
          178.6,
          167.2,
          168.35,
          168.35,
          168.35,
          119.67,
          109.42,
          104.47,
          93.13,
          84.14
         ],
         "yaxis": "y"
        },
        {
         "hovertemplate": "county=Somerset<br>date=%{x}<br>cases_avg_per_100k=%{y}<extra></extra>",
         "legendgroup": "Somerset",
         "line": {
          "color": "#EF553B",
          "dash": "solid"
         },
         "marker": {
          "symbol": "circle"
         },
         "mode": "lines",
         "name": "Somerset",
         "orientation": "v",
         "showlegend": true,
         "type": "scatter",
         "x": [
          "2022-01-01",
          "2022-01-02",
          "2022-01-03",
          "2022-01-04",
          "2022-01-05",
          "2022-01-06",
          "2022-01-07",
          "2022-01-08",
          "2022-01-09",
          "2022-01-10",
          "2022-01-11",
          "2022-01-12",
          "2022-01-13",
          "2022-01-14",
          "2022-01-15",
          "2022-01-16",
          "2022-01-17",
          "2022-01-18",
          "2022-01-19",
          "2022-01-20",
          "2022-01-21",
          "2022-01-22",
          "2022-01-23",
          "2022-01-24",
          "2022-01-25",
          "2022-01-26",
          "2022-01-27",
          "2022-01-28"
         ],
         "xaxis": "x",
         "y": [
          76.83,
          82.28,
          85.39,
          94.33,
          109.12,
          107.56,
          119.23,
          117.67,
          132.65,
          140.24,
          140.24,
          152.49,
          166.11,
          173.5,
          180.69,
          199.17,
          221.73,
          238.07,
          220.96,
          217.46,
          226.4,
          236.13,
          212.98,
          195.09,
          191.98,
          185.17,
          186.53,
          172.72
         ],
         "yaxis": "y"
        },
        {
         "hovertemplate": "county=Allegheny<br>date=%{x}<br>cases_avg_per_100k=%{y}<extra></extra>",
         "legendgroup": "Allegheny",
         "line": {
          "color": "#00cc96",
          "dash": "solid"
         },
         "marker": {
          "symbol": "circle"
         },
         "mode": "lines",
         "name": "Allegheny",
         "orientation": "v",
         "showlegend": true,
         "type": "scatter",
         "x": [
          "2022-01-01",
          "2022-01-02",
          "2022-01-03",
          "2022-01-04",
          "2022-01-05",
          "2022-01-06",
          "2022-01-07",
          "2022-01-08",
          "2022-01-09",
          "2022-01-10",
          "2022-01-11",
          "2022-01-12",
          "2022-01-13",
          "2022-01-14",
          "2022-01-15",
          "2022-01-16",
          "2022-01-17",
          "2022-01-18",
          "2022-01-19",
          "2022-01-20",
          "2022-01-21",
          "2022-01-22",
          "2022-01-23",
          "2022-01-24",
          "2022-01-25",
          "2022-01-26",
          "2022-01-27",
          "2022-01-28"
         ],
         "xaxis": "x",
         "y": [
          132.63,
          146.87,
          173.77,
          191.78,
          211.65,
          242.86,
          263.32,
          266.84,
          279.85,
          282.3,
          280.36,
          290.58,
          274.05,
          264.58,
          257.22,
          266.27,
          252.63,
          248.87,
          217.71,
          200.51,
          188.68,
          174.22,
          139.77,
          135.25,
          126.23,
          118.93,
          117.81,
          108.56
         ],
         "yaxis": "y"
        },
        {
         "hovertemplate": "county=Wood<br>date=%{x}<br>cases_avg_per_100k=%{y}<extra></extra>",
         "legendgroup": "Wood",
         "line": {
          "color": "#ab63fa",
          "dash": "solid"
         },
         "marker": {
          "symbol": "circle"
         },
         "mode": "lines",
         "name": "Wood",
         "orientation": "v",
         "showlegend": true,
         "type": "scatter",
         "x": [
          "2022-01-01",
          "2022-01-02",
          "2022-01-03",
          "2022-01-04",
          "2022-01-05",
          "2022-01-06",
          "2022-01-07",
          "2022-01-08",
          "2022-01-09",
          "2022-01-10",
          "2022-01-11",
          "2022-01-12",
          "2022-01-13",
          "2022-01-14",
          "2022-01-15",
          "2022-01-16",
          "2022-01-17",
          "2022-01-18",
          "2022-01-19",
          "2022-01-20",
          "2022-01-21",
          "2022-01-22",
          "2022-01-23",
          "2022-01-24",
          "2022-01-25",
          "2022-01-26",
          "2022-01-27",
          "2022-01-28"
         ],
         "xaxis": "x",
         "y": [
          109.09,
          129.73,
          144.04,
          146.77,
          148.74,
          157.69,
          156.05,
          163.78,
          172.87,
          165.55,
          186.19,
          194.27,
          194.93,
          238.5,
          276.94,
          287.1,
          303.91,
          284.91,
          288.08,
          300.42,
          265.8,
          227.58,
          205.3,
          187.72,
          171.78,
          165.99,
          145.35,
          127.22
         ],
         "yaxis": "y"
        },
        {
         "hovertemplate": "county=Putnam<br>date=%{x}<br>cases_avg_per_100k=%{y}<extra></extra>",
         "legendgroup": "Putnam",
         "line": {
          "color": "#FFA15A",
          "dash": "solid"
         },
         "marker": {
          "symbol": "circle"
         },
         "mode": "lines",
         "name": "Putnam",
         "orientation": "v",
         "showlegend": true,
         "type": "scatter",
         "x": [
          "2022-01-01",
          "2022-01-02",
          "2022-01-03",
          "2022-01-04",
          "2022-01-05",
          "2022-01-06",
          "2022-01-07",
          "2022-01-08",
          "2022-01-09",
          "2022-01-10",
          "2022-01-11",
          "2022-01-12",
          "2022-01-13",
          "2022-01-14",
          "2022-01-15",
          "2022-01-16",
          "2022-01-17",
          "2022-01-18",
          "2022-01-19",
          "2022-01-20",
          "2022-01-21",
          "2022-01-22",
          "2022-01-23",
          "2022-01-24",
          "2022-01-25",
          "2022-01-26",
          "2022-01-27",
          "2022-01-28"
         ],
         "xaxis": "x",
         "y": [
          54,
          64.13,
          72.57,
          83.96,
          91.13,
          103.79,
          110.11,
          122.56,
          146.82,
          151.04,
          159.05,
          156.52,
          164.54,
          203.35,
          241.74,
          240.06,
          245.96,
          237.53,
          254.82,
          248.92,
          218.12,
          164.96,
          153.15,
          142.6,
          127.41,
          118.55,
          106.74,
          87.33
         ],
         "yaxis": "y"
        },
        {
         "hovertemplate": "county=Montgomery<br>date=%{x}<br>cases_avg_per_100k=%{y}<extra></extra>",
         "legendgroup": "Montgomery",
         "line": {
          "color": "#19d3f3",
          "dash": "solid"
         },
         "marker": {
          "symbol": "circle"
         },
         "mode": "lines",
         "name": "Montgomery",
         "orientation": "v",
         "showlegend": true,
         "type": "scatter",
         "x": [
          "2022-01-01",
          "2022-01-01",
          "2022-01-02",
          "2022-01-02",
          "2022-01-03",
          "2022-01-03",
          "2022-01-04",
          "2022-01-04",
          "2022-01-05",
          "2022-01-05",
          "2022-01-06",
          "2022-01-06",
          "2022-01-07",
          "2022-01-07",
          "2022-01-08",
          "2022-01-08",
          "2022-01-09",
          "2022-01-09",
          "2022-01-10",
          "2022-01-10",
          "2022-01-11",
          "2022-01-11",
          "2022-01-12",
          "2022-01-12",
          "2022-01-13",
          "2022-01-13",
          "2022-01-14",
          "2022-01-14",
          "2022-01-15",
          "2022-01-15",
          "2022-01-16",
          "2022-01-16",
          "2022-01-17",
          "2022-01-17",
          "2022-01-18",
          "2022-01-18",
          "2022-01-19",
          "2022-01-19",
          "2022-01-20",
          "2022-01-20",
          "2022-01-21",
          "2022-01-21",
          "2022-01-22",
          "2022-01-22",
          "2022-01-23",
          "2022-01-23",
          "2022-01-24",
          "2022-01-24",
          "2022-01-25",
          "2022-01-25",
          "2022-01-26",
          "2022-01-26",
          "2022-01-27",
          "2022-01-27",
          "2022-01-28",
          "2022-01-28"
         ],
         "xaxis": "x",
         "y": [
          90.12,
          234.47,
          118.25,
          304.89,
          132.54,
          325.32,
          144.88,
          257.19,
          152.78,
          249.48,
          153.55,
          250.16,
          154.84,
          248.35,
          153.85,
          252.06,
          151.81,
          305.38,
          156.11,
          276.12,
          158.34,
          270.29,
          164.97,
          283.53,
          172.25,
          274.64,
          219.73,
          265.93,
          283.38,
          258.57,
          315.22,
          220.62,
          330.86,
          202.29,
          332.37,
          170.57,
          334.73,
          150,
          350.34,
          146.08,
          313.4,
          131,
          251.11,
          110.21,
          216.4,
          95.57,
          197.81,
          82.5,
          171.66,
          82.84,
          176.85,
          79.13,
          155.6,
          56.19,
          136.87,
          52.37
         ],
         "yaxis": "y"
        },
        {
         "hovertemplate": "county=Franklin<br>date=%{x}<br>cases_avg_per_100k=%{y}<extra></extra>",
         "legendgroup": "Franklin",
         "line": {
          "color": "#FF6692",
          "dash": "solid"
         },
         "marker": {
          "symbol": "circle"
         },
         "mode": "lines",
         "name": "Franklin",
         "orientation": "v",
         "showlegend": true,
         "type": "scatter",
         "x": [
          "2022-01-01",
          "2022-01-02",
          "2022-01-03",
          "2022-01-04",
          "2022-01-05",
          "2022-01-06",
          "2022-01-07",
          "2022-01-08",
          "2022-01-09",
          "2022-01-10",
          "2022-01-11",
          "2022-01-12",
          "2022-01-13",
          "2022-01-14",
          "2022-01-15",
          "2022-01-16",
          "2022-01-17",
          "2022-01-18",
          "2022-01-19",
          "2022-01-20",
          "2022-01-21",
          "2022-01-22",
          "2022-01-23",
          "2022-01-24",
          "2022-01-25",
          "2022-01-26",
          "2022-01-27",
          "2022-01-28"
         ],
         "xaxis": "x",
         "y": [
          146.41,
          174.15,
          187.68,
          201.78,
          198.9,
          197.68,
          202.91,
          200.58,
          204.83,
          210.06,
          200.56,
          197.23,
          193.66,
          220.56,
          259.6,
          265.87,
          263.32,
          256.25,
          257.02,
          258.88,
          219.86,
          172.95,
          150.83,
          132.89,
          116.78,
          115.78,
          103.67,
          93.89
         ],
         "yaxis": "y"
        },
        {
         "hovertemplate": "county=Clermont<br>date=%{x}<br>cases_avg_per_100k=%{y}<extra></extra>",
         "legendgroup": "Clermont",
         "line": {
          "color": "#B6E880",
          "dash": "solid"
         },
         "marker": {
          "symbol": "circle"
         },
         "mode": "lines",
         "name": "Clermont",
         "orientation": "v",
         "showlegend": true,
         "type": "scatter",
         "x": [
          "2022-01-01",
          "2022-01-02",
          "2022-01-03",
          "2022-01-04",
          "2022-01-05",
          "2022-01-06",
          "2022-01-07",
          "2022-01-08",
          "2022-01-09",
          "2022-01-10",
          "2022-01-11",
          "2022-01-12",
          "2022-01-13",
          "2022-01-14",
          "2022-01-15",
          "2022-01-16",
          "2022-01-17",
          "2022-01-18",
          "2022-01-19",
          "2022-01-20",
          "2022-01-21",
          "2022-01-22",
          "2022-01-23",
          "2022-01-24",
          "2022-01-25",
          "2022-01-26",
          "2022-01-27",
          "2022-01-28"
         ],
         "xaxis": "x",
         "y": [
          91.63,
          117.79,
          125.4,
          124.84,
          130.45,
          130.87,
          139.38,
          142.73,
          154.6,
          156.47,
          170.38,
          178.13,
          184.98,
          248.86,
          309,
          325.33,
          333.5,
          338.89,
          348.31,
          361.94,
          314.26,
          265.61,
          240,
          234.4,
          205.19,
          216.89,
          198.69,
          179.93
         ],
         "yaxis": "y"
        },
        {
         "hovertemplate": "county=New York City<br>date=%{x}<br>cases_avg_per_100k=%{y}<extra></extra>",
         "legendgroup": "New York City",
         "line": {
          "color": "#FF97FF",
          "dash": "solid"
         },
         "marker": {
          "symbol": "circle"
         },
         "mode": "lines",
         "name": "New York City",
         "orientation": "v",
         "showlegend": true,
         "type": "scatter",
         "x": [
          "2022-01-01",
          "2022-01-02",
          "2022-01-03",
          "2022-01-04",
          "2022-01-05",
          "2022-01-06",
          "2022-01-07",
          "2022-01-08",
          "2022-01-09",
          "2022-01-10",
          "2022-01-11",
          "2022-01-12",
          "2022-01-13",
          "2022-01-14",
          "2022-01-15",
          "2022-01-16",
          "2022-01-17",
          "2022-01-18",
          "2022-01-19",
          "2022-01-20",
          "2022-01-21",
          "2022-01-22",
          "2022-01-23",
          "2022-01-24",
          "2022-01-25",
          "2022-01-26",
          "2022-01-27",
          "2022-01-28"
         ],
         "xaxis": "x",
         "y": [
          415.58,
          442.09,
          469.38,
          457.45,
          469.63,
          472.16,
          470.27,
          474.12,
          486.1,
          481.6,
          481.19,
          459.53,
          443.89,
          401.88,
          359.84,
          335.69,
          298.74,
          268.34,
          240.88,
          207.07,
          194.23,
          177.73,
          144.09,
          129.74,
          124.45,
          114.53,
          102.16,
          90.58
         ],
         "yaxis": "y"
        },
        {
         "hovertemplate": "county=Prince George's<br>date=%{x}<br>cases_avg_per_100k=%{y}<extra></extra>",
         "legendgroup": "Prince George's",
         "line": {
          "color": "#FECB52",
          "dash": "solid"
         },
         "marker": {
          "symbol": "circle"
         },
         "mode": "lines",
         "name": "Prince George's",
         "orientation": "v",
         "showlegend": true,
         "type": "scatter",
         "x": [
          "2022-01-01",
          "2022-01-02",
          "2022-01-03",
          "2022-01-04",
          "2022-01-05",
          "2022-01-06",
          "2022-01-07",
          "2022-01-08",
          "2022-01-09",
          "2022-01-10",
          "2022-01-11",
          "2022-01-12",
          "2022-01-13",
          "2022-01-14",
          "2022-01-15",
          "2022-01-16",
          "2022-01-17",
          "2022-01-18",
          "2022-01-19",
          "2022-01-20",
          "2022-01-21",
          "2022-01-22",
          "2022-01-23",
          "2022-01-24",
          "2022-01-25",
          "2022-01-26",
          "2022-01-27",
          "2022-01-28"
         ],
         "xaxis": "x",
         "y": [
          342.75,
          440.48,
          409.51,
          250,
          246.32,
          237.38,
          230.12,
          231.27,
          232.56,
          226.59,
          206.29,
          204.11,
          196.99,
          193.24,
          175.77,
          151.38,
          142.66,
          121.75,
          104.5,
          104.11,
          91.54,
          82.31,
          72.22,
          63.45,
          62.57,
          60.81,
          42.34,
          38.05
         ],
         "yaxis": "y"
        },
        {
         "hovertemplate": "county=Baltimore<br>date=%{x}<br>cases_avg_per_100k=%{y}<extra></extra>",
         "legendgroup": "Baltimore",
         "line": {
          "color": "#636efa",
          "dash": "solid"
         },
         "marker": {
          "symbol": "circle"
         },
         "mode": "lines",
         "name": "Baltimore",
         "orientation": "v",
         "showlegend": true,
         "type": "scatter",
         "x": [
          "2022-01-01",
          "2022-01-02",
          "2022-01-03",
          "2022-01-04",
          "2022-01-05",
          "2022-01-06",
          "2022-01-07",
          "2022-01-08",
          "2022-01-09",
          "2022-01-10",
          "2022-01-11",
          "2022-01-12",
          "2022-01-13",
          "2022-01-14",
          "2022-01-15",
          "2022-01-16",
          "2022-01-17",
          "2022-01-18",
          "2022-01-19",
          "2022-01-20",
          "2022-01-21",
          "2022-01-22",
          "2022-01-23",
          "2022-01-24",
          "2022-01-25",
          "2022-01-26",
          "2022-01-27",
          "2022-01-28"
         ],
         "xaxis": "x",
         "y": [
          248.15,
          324.13,
          306.59,
          207.75,
          208.42,
          208.04,
          208.28,
          206.13,
          209.39,
          201.57,
          184.03,
          175.94,
          166.07,
          154.79,
          143.88,
          123.52,
          117,
          106.08,
          91.89,
          88.51,
          79.39,
          71.28,
          67.22,
          60.04,
          57.34,
          53.84,
          42.18,
          37.85
         ],
         "yaxis": "y"
        },
        {
         "hovertemplate": "county=Cook<br>date=%{x}<br>cases_avg_per_100k=%{y}<extra></extra>",
         "legendgroup": "Cook",
         "line": {
          "color": "#EF553B",
          "dash": "solid"
         },
         "marker": {
          "symbol": "circle"
         },
         "mode": "lines",
         "name": "Cook",
         "orientation": "v",
         "showlegend": true,
         "type": "scatter",
         "x": [
          "2022-01-01",
          "2022-01-02",
          "2022-01-03",
          "2022-01-04",
          "2022-01-05",
          "2022-01-06",
          "2022-01-07",
          "2022-01-08",
          "2022-01-09",
          "2022-01-10",
          "2022-01-11",
          "2022-01-12",
          "2022-01-13",
          "2022-01-14",
          "2022-01-15",
          "2022-01-16",
          "2022-01-17",
          "2022-01-18",
          "2022-01-19",
          "2022-01-20",
          "2022-01-21",
          "2022-01-22",
          "2022-01-23",
          "2022-01-24",
          "2022-01-25",
          "2022-01-26",
          "2022-01-27",
          "2022-01-28"
         ],
         "xaxis": "x",
         "y": [
          171.58,
          171.58,
          203.68,
          201.61,
          207.03,
          220.58,
          232.77,
          232.77,
          232.77,
          234.15,
          232.52,
          230.09,
          212.38,
          192.72,
          192.72,
          192.72,
          192.72,
          167.44,
          154.06,
          139.61,
          157.14,
          157.14,
          157.14,
          148.64,
          138.86,
          130.87,
          122.3,
          88.31
         ],
         "yaxis": "y"
        },
        {
         "hovertemplate": "county=Manatee<br>date=%{x}<br>cases_avg_per_100k=%{y}<extra></extra>",
         "legendgroup": "Manatee",
         "line": {
          "color": "#00cc96",
          "dash": "solid"
         },
         "marker": {
          "symbol": "circle"
         },
         "mode": "lines",
         "name": "Manatee",
         "orientation": "v",
         "showlegend": true,
         "type": "scatter",
         "x": [
          "2022-01-01",
          "2022-01-02",
          "2022-01-03",
          "2022-01-04",
          "2022-01-05",
          "2022-01-06",
          "2022-01-07",
          "2022-01-08",
          "2022-01-09",
          "2022-01-10",
          "2022-01-11",
          "2022-01-12",
          "2022-01-13",
          "2022-01-14",
          "2022-01-15",
          "2022-01-16",
          "2022-01-17",
          "2022-01-18",
          "2022-01-19",
          "2022-01-20",
          "2022-01-21",
          "2022-01-22",
          "2022-01-23",
          "2022-01-24",
          "2022-01-25",
          "2022-01-26",
          "2022-01-27",
          "2022-01-28"
         ],
         "xaxis": "x",
         "y": [
          100.75,
          100.75,
          100.75,
          100.75,
          100.75,
          100.75,
          161.58,
          161.58,
          161.58,
          161.58,
          161.58,
          161.58,
          161.58,
          191.87,
          191.87,
          191.87,
          191.87,
          191.87,
          191.87,
          191.87,
          159.38,
          159.38,
          159.38,
          159.38,
          159.38,
          159.38,
          159.38,
          133.24
         ],
         "yaxis": "y"
        },
        {
         "hovertemplate": "county=District of Columbia<br>date=%{x}<br>cases_avg_per_100k=%{y}<extra></extra>",
         "legendgroup": "District of Columbia",
         "line": {
          "color": "#ab63fa",
          "dash": "solid"
         },
         "marker": {
          "symbol": "circle"
         },
         "mode": "lines",
         "name": "District of Columbia",
         "orientation": "v",
         "showlegend": true,
         "type": "scatter",
         "x": [
          "2022-01-01",
          "2022-01-02",
          "2022-01-03",
          "2022-01-04",
          "2022-01-05",
          "2022-01-06",
          "2022-01-07",
          "2022-01-08",
          "2022-01-09",
          "2022-01-10",
          "2022-01-11",
          "2022-01-12",
          "2022-01-13",
          "2022-01-14",
          "2022-01-15",
          "2022-01-16",
          "2022-01-17",
          "2022-01-18",
          "2022-01-19",
          "2022-01-20",
          "2022-01-21",
          "2022-01-22",
          "2022-01-23",
          "2022-01-24",
          "2022-01-25",
          "2022-01-26",
          "2022-01-27",
          "2022-01-28"
         ],
         "xaxis": "x",
         "y": [
          297.98,
          297.98,
          298,
          300.79,
          299.05,
          279.86,
          279.03,
          279.03,
          279.03,
          258.91,
          244.79,
          242.56,
          247.26,
          239.48,
          239.48,
          239.48,
          239.48,
          164.38,
          149.49,
          128.5,
          107.87,
          107.87,
          107.87,
          94.64,
          61.37,
          59.13,
          56.76,
          52.97
         ],
         "yaxis": "y"
        },
        {
         "hovertemplate": "county=Denver<br>date=%{x}<br>cases_avg_per_100k=%{y}<extra></extra>",
         "legendgroup": "Denver",
         "line": {
          "color": "#FFA15A",
          "dash": "solid"
         },
         "marker": {
          "symbol": "circle"
         },
         "mode": "lines",
         "name": "Denver",
         "orientation": "v",
         "showlegend": true,
         "type": "scatter",
         "x": [
          "2022-01-01",
          "2022-01-02",
          "2022-01-03",
          "2022-01-04",
          "2022-01-05",
          "2022-01-06",
          "2022-01-07",
          "2022-01-08",
          "2022-01-09",
          "2022-01-10",
          "2022-01-11",
          "2022-01-12",
          "2022-01-13",
          "2022-01-14",
          "2022-01-15",
          "2022-01-16",
          "2022-01-17",
          "2022-01-18",
          "2022-01-19",
          "2022-01-20",
          "2022-01-21",
          "2022-01-22",
          "2022-01-23",
          "2022-01-24",
          "2022-01-25",
          "2022-01-26",
          "2022-01-27",
          "2022-01-28"
         ],
         "xaxis": "x",
         "y": [
          149.38,
          149.38,
          193.48,
          189.12,
          191.59,
          194.91,
          179.71,
          179.71,
          179.71,
          256.32,
          289.7,
          295.12,
          299.68,
          314.17,
          314.17,
          314.17,
          226.07,
          198.1,
          186.58,
          186.49,
          179.43,
          179.43,
          179.43,
          153.54,
          140.42,
          138.32,
          128.22,
          128.22
         ],
         "yaxis": "y"
        },
        {
         "hovertemplate": "county=Boulder<br>date=%{x}<br>cases_avg_per_100k=%{y}<extra></extra>",
         "legendgroup": "Boulder",
         "line": {
          "color": "#19d3f3",
          "dash": "solid"
         },
         "marker": {
          "symbol": "circle"
         },
         "mode": "lines",
         "name": "Boulder",
         "orientation": "v",
         "showlegend": true,
         "type": "scatter",
         "x": [
          "2022-01-01",
          "2022-01-02",
          "2022-01-03",
          "2022-01-04",
          "2022-01-05",
          "2022-01-06",
          "2022-01-07",
          "2022-01-08",
          "2022-01-09",
          "2022-01-10",
          "2022-01-11",
          "2022-01-12",
          "2022-01-13",
          "2022-01-14",
          "2022-01-15",
          "2022-01-16",
          "2022-01-17",
          "2022-01-18",
          "2022-01-19",
          "2022-01-20",
          "2022-01-21",
          "2022-01-22",
          "2022-01-23",
          "2022-01-24",
          "2022-01-25",
          "2022-01-26",
          "2022-01-27",
          "2022-01-28"
         ],
         "xaxis": "x",
         "y": [
          99.48,
          99.48,
          135.94,
          127.75,
          119.56,
          118.16,
          133.01,
          133.01,
          133.01,
          182.54,
          236.32,
          251.12,
          267.67,
          267.72,
          267.72,
          267.72,
          217.79,
          210.78,
          201.94,
          194.89,
          212.1,
          212.1,
          212.1,
          211.44,
          173.73,
          164.67,
          162.35,
          129.72
         ],
         "yaxis": "y"
        },
        {
         "hovertemplate": "county=San Francisco<br>date=%{x}<br>cases_avg_per_100k=%{y}<extra></extra>",
         "legendgroup": "San Francisco",
         "line": {
          "color": "#FF6692",
          "dash": "solid"
         },
         "marker": {
          "symbol": "circle"
         },
         "mode": "lines",
         "name": "San Francisco",
         "orientation": "v",
         "showlegend": true,
         "type": "scatter",
         "x": [
          "2022-01-01",
          "2022-01-02",
          "2022-01-03",
          "2022-01-04",
          "2022-01-05",
          "2022-01-06",
          "2022-01-07",
          "2022-01-08",
          "2022-01-09",
          "2022-01-10",
          "2022-01-11",
          "2022-01-12",
          "2022-01-13",
          "2022-01-14",
          "2022-01-15",
          "2022-01-16",
          "2022-01-17",
          "2022-01-18",
          "2022-01-19",
          "2022-01-20",
          "2022-01-21",
          "2022-01-22",
          "2022-01-23",
          "2022-01-24",
          "2022-01-25",
          "2022-01-26",
          "2022-01-27",
          "2022-01-28"
         ],
         "xaxis": "x",
         "y": [
          107.1,
          107.1,
          107.1,
          141.55,
          150.08,
          151.55,
          165.71,
          165.71,
          165.71,
          193.17,
          226.19,
          228.1,
          270.21,
          271,
          271,
          271,
          260.18,
          250.57,
          246.42,
          254.5,
          242.87,
          242.87,
          242.87,
          212.27,
          208.71,
          202.6,
          164.81,
          156.79
         ],
         "yaxis": "y"
        },
        {
         "hovertemplate": "county=Los Angeles<br>date=%{x}<br>cases_avg_per_100k=%{y}<extra></extra>",
         "legendgroup": "Los Angeles",
         "line": {
          "color": "#B6E880",
          "dash": "solid"
         },
         "marker": {
          "symbol": "circle"
         },
         "mode": "lines",
         "name": "Los Angeles",
         "orientation": "v",
         "showlegend": true,
         "type": "scatter",
         "x": [
          "2022-01-01",
          "2022-01-02",
          "2022-01-03",
          "2022-01-04",
          "2022-01-05",
          "2022-01-06",
          "2022-01-07",
          "2022-01-08",
          "2022-01-09",
          "2022-01-10",
          "2022-01-11",
          "2022-01-12",
          "2022-01-13",
          "2022-01-14",
          "2022-01-15",
          "2022-01-16",
          "2022-01-17",
          "2022-01-18",
          "2022-01-19",
          "2022-01-20",
          "2022-01-21",
          "2022-01-22",
          "2022-01-23",
          "2022-01-24",
          "2022-01-25",
          "2022-01-26",
          "2022-01-27",
          "2022-01-28"
         ],
         "xaxis": "x",
         "y": [
          144.21,
          178.24,
          190.8,
          209.55,
          224.06,
          248.14,
          271.71,
          280.54,
          321.81,
          360.65,
          378.6,
          398.09,
          409.26,
          404.82,
          415.2,
          412.76,
          395.71,
          377.61,
          366.05,
          361.73,
          365.34,
          361.63,
          336.68,
          328.33,
          325.17,
          308.72,
          286.05,
          258.48
         ],
         "yaxis": "y"
        },
        {
         "hovertemplate": "county=Pima<br>date=%{x}<br>cases_avg_per_100k=%{y}<extra></extra>",
         "legendgroup": "Pima",
         "line": {
          "color": "#FF97FF",
          "dash": "solid"
         },
         "marker": {
          "symbol": "circle"
         },
         "mode": "lines",
         "name": "Pima",
         "orientation": "v",
         "showlegend": true,
         "type": "scatter",
         "x": [
          "2022-01-01",
          "2022-01-02",
          "2022-01-03",
          "2022-01-04",
          "2022-01-05",
          "2022-01-06",
          "2022-01-07",
          "2022-01-08",
          "2022-01-09",
          "2022-01-10",
          "2022-01-11",
          "2022-01-12",
          "2022-01-13",
          "2022-01-14",
          "2022-01-15",
          "2022-01-16",
          "2022-01-17",
          "2022-01-18",
          "2022-01-19",
          "2022-01-20",
          "2022-01-21",
          "2022-01-22",
          "2022-01-23",
          "2022-01-24",
          "2022-01-25",
          "2022-01-26",
          "2022-01-27",
          "2022-01-28"
         ],
         "xaxis": "x",
         "y": [
          55.85,
          50.48,
          68.82,
          73.01,
          80.77,
          88.37,
          99.5,
          111.45,
          142.31,
          148.15,
          154.96,
          166.95,
          178.64,
          189.38,
          200.51,
          211.05,
          211.56,
          231.32,
          236.82,
          238.36,
          241.07,
          249.91,
          249.74,
          249.53,
          237.61,
          238.25,
          230.41,
          222.82
         ],
         "yaxis": "y"
        }
       ],
       "layout": {
        "legend": {
         "title": {
          "text": "county"
         },
         "tracegroupgap": 0
        },
        "margin": {
         "t": 60
        },
        "template": {
         "data": {
          "bar": [
           {
            "error_x": {
             "color": "#2a3f5f"
            },
            "error_y": {
             "color": "#2a3f5f"
            },
            "marker": {
             "line": {
              "color": "#E5ECF6",
              "width": 0.5
             },
             "pattern": {
              "fillmode": "overlay",
              "size": 10,
              "solidity": 0.2
             }
            },
            "type": "bar"
           }
          ],
          "barpolar": [
           {
            "marker": {
             "line": {
              "color": "#E5ECF6",
              "width": 0.5
             },
             "pattern": {
              "fillmode": "overlay",
              "size": 10,
              "solidity": 0.2
             }
            },
            "type": "barpolar"
           }
          ],
          "carpet": [
           {
            "aaxis": {
             "endlinecolor": "#2a3f5f",
             "gridcolor": "white",
             "linecolor": "white",
             "minorgridcolor": "white",
             "startlinecolor": "#2a3f5f"
            },
            "baxis": {
             "endlinecolor": "#2a3f5f",
             "gridcolor": "white",
             "linecolor": "white",
             "minorgridcolor": "white",
             "startlinecolor": "#2a3f5f"
            },
            "type": "carpet"
           }
          ],
          "choropleth": [
           {
            "colorbar": {
             "outlinewidth": 0,
             "ticks": ""
            },
            "type": "choropleth"
           }
          ],
          "contour": [
           {
            "colorbar": {
             "outlinewidth": 0,
             "ticks": ""
            },
            "colorscale": [
             [
              0,
              "#0d0887"
             ],
             [
              0.1111111111111111,
              "#46039f"
             ],
             [
              0.2222222222222222,
              "#7201a8"
             ],
             [
              0.3333333333333333,
              "#9c179e"
             ],
             [
              0.4444444444444444,
              "#bd3786"
             ],
             [
              0.5555555555555556,
              "#d8576b"
             ],
             [
              0.6666666666666666,
              "#ed7953"
             ],
             [
              0.7777777777777778,
              "#fb9f3a"
             ],
             [
              0.8888888888888888,
              "#fdca26"
             ],
             [
              1,
              "#f0f921"
             ]
            ],
            "type": "contour"
           }
          ],
          "contourcarpet": [
           {
            "colorbar": {
             "outlinewidth": 0,
             "ticks": ""
            },
            "type": "contourcarpet"
           }
          ],
          "heatmap": [
           {
            "colorbar": {
             "outlinewidth": 0,
             "ticks": ""
            },
            "colorscale": [
             [
              0,
              "#0d0887"
             ],
             [
              0.1111111111111111,
              "#46039f"
             ],
             [
              0.2222222222222222,
              "#7201a8"
             ],
             [
              0.3333333333333333,
              "#9c179e"
             ],
             [
              0.4444444444444444,
              "#bd3786"
             ],
             [
              0.5555555555555556,
              "#d8576b"
             ],
             [
              0.6666666666666666,
              "#ed7953"
             ],
             [
              0.7777777777777778,
              "#fb9f3a"
             ],
             [
              0.8888888888888888,
              "#fdca26"
             ],
             [
              1,
              "#f0f921"
             ]
            ],
            "type": "heatmap"
           }
          ],
          "heatmapgl": [
           {
            "colorbar": {
             "outlinewidth": 0,
             "ticks": ""
            },
            "colorscale": [
             [
              0,
              "#0d0887"
             ],
             [
              0.1111111111111111,
              "#46039f"
             ],
             [
              0.2222222222222222,
              "#7201a8"
             ],
             [
              0.3333333333333333,
              "#9c179e"
             ],
             [
              0.4444444444444444,
              "#bd3786"
             ],
             [
              0.5555555555555556,
              "#d8576b"
             ],
             [
              0.6666666666666666,
              "#ed7953"
             ],
             [
              0.7777777777777778,
              "#fb9f3a"
             ],
             [
              0.8888888888888888,
              "#fdca26"
             ],
             [
              1,
              "#f0f921"
             ]
            ],
            "type": "heatmapgl"
           }
          ],
          "histogram": [
           {
            "marker": {
             "pattern": {
              "fillmode": "overlay",
              "size": 10,
              "solidity": 0.2
             }
            },
            "type": "histogram"
           }
          ],
          "histogram2d": [
           {
            "colorbar": {
             "outlinewidth": 0,
             "ticks": ""
            },
            "colorscale": [
             [
              0,
              "#0d0887"
             ],
             [
              0.1111111111111111,
              "#46039f"
             ],
             [
              0.2222222222222222,
              "#7201a8"
             ],
             [
              0.3333333333333333,
              "#9c179e"
             ],
             [
              0.4444444444444444,
              "#bd3786"
             ],
             [
              0.5555555555555556,
              "#d8576b"
             ],
             [
              0.6666666666666666,
              "#ed7953"
             ],
             [
              0.7777777777777778,
              "#fb9f3a"
             ],
             [
              0.8888888888888888,
              "#fdca26"
             ],
             [
              1,
              "#f0f921"
             ]
            ],
            "type": "histogram2d"
           }
          ],
          "histogram2dcontour": [
           {
            "colorbar": {
             "outlinewidth": 0,
             "ticks": ""
            },
            "colorscale": [
             [
              0,
              "#0d0887"
             ],
             [
              0.1111111111111111,
              "#46039f"
             ],
             [
              0.2222222222222222,
              "#7201a8"
             ],
             [
              0.3333333333333333,
              "#9c179e"
             ],
             [
              0.4444444444444444,
              "#bd3786"
             ],
             [
              0.5555555555555556,
              "#d8576b"
             ],
             [
              0.6666666666666666,
              "#ed7953"
             ],
             [
              0.7777777777777778,
              "#fb9f3a"
             ],
             [
              0.8888888888888888,
              "#fdca26"
             ],
             [
              1,
              "#f0f921"
             ]
            ],
            "type": "histogram2dcontour"
           }
          ],
          "mesh3d": [
           {
            "colorbar": {
             "outlinewidth": 0,
             "ticks": ""
            },
            "type": "mesh3d"
           }
          ],
          "parcoords": [
           {
            "line": {
             "colorbar": {
              "outlinewidth": 0,
              "ticks": ""
             }
            },
            "type": "parcoords"
           }
          ],
          "pie": [
           {
            "automargin": true,
            "type": "pie"
           }
          ],
          "scatter": [
           {
            "marker": {
             "colorbar": {
              "outlinewidth": 0,
              "ticks": ""
             }
            },
            "type": "scatter"
           }
          ],
          "scatter3d": [
           {
            "line": {
             "colorbar": {
              "outlinewidth": 0,
              "ticks": ""
             }
            },
            "marker": {
             "colorbar": {
              "outlinewidth": 0,
              "ticks": ""
             }
            },
            "type": "scatter3d"
           }
          ],
          "scattercarpet": [
           {
            "marker": {
             "colorbar": {
              "outlinewidth": 0,
              "ticks": ""
             }
            },
            "type": "scattercarpet"
           }
          ],
          "scattergeo": [
           {
            "marker": {
             "colorbar": {
              "outlinewidth": 0,
              "ticks": ""
             }
            },
            "type": "scattergeo"
           }
          ],
          "scattergl": [
           {
            "marker": {
             "colorbar": {
              "outlinewidth": 0,
              "ticks": ""
             }
            },
            "type": "scattergl"
           }
          ],
          "scattermapbox": [
           {
            "marker": {
             "colorbar": {
              "outlinewidth": 0,
              "ticks": ""
             }
            },
            "type": "scattermapbox"
           }
          ],
          "scatterpolar": [
           {
            "marker": {
             "colorbar": {
              "outlinewidth": 0,
              "ticks": ""
             }
            },
            "type": "scatterpolar"
           }
          ],
          "scatterpolargl": [
           {
            "marker": {
             "colorbar": {
              "outlinewidth": 0,
              "ticks": ""
             }
            },
            "type": "scatterpolargl"
           }
          ],
          "scatterternary": [
           {
            "marker": {
             "colorbar": {
              "outlinewidth": 0,
              "ticks": ""
             }
            },
            "type": "scatterternary"
           }
          ],
          "surface": [
           {
            "colorbar": {
             "outlinewidth": 0,
             "ticks": ""
            },
            "colorscale": [
             [
              0,
              "#0d0887"
             ],
             [
              0.1111111111111111,
              "#46039f"
             ],
             [
              0.2222222222222222,
              "#7201a8"
             ],
             [
              0.3333333333333333,
              "#9c179e"
             ],
             [
              0.4444444444444444,
              "#bd3786"
             ],
             [
              0.5555555555555556,
              "#d8576b"
             ],
             [
              0.6666666666666666,
              "#ed7953"
             ],
             [
              0.7777777777777778,
              "#fb9f3a"
             ],
             [
              0.8888888888888888,
              "#fdca26"
             ],
             [
              1,
              "#f0f921"
             ]
            ],
            "type": "surface"
           }
          ],
          "table": [
           {
            "cells": {
             "fill": {
              "color": "#EBF0F8"
             },
             "line": {
              "color": "white"
             }
            },
            "header": {
             "fill": {
              "color": "#C8D4E3"
             },
             "line": {
              "color": "white"
             }
            },
            "type": "table"
           }
          ]
         },
         "layout": {
          "annotationdefaults": {
           "arrowcolor": "#2a3f5f",
           "arrowhead": 0,
           "arrowwidth": 1
          },
          "autotypenumbers": "strict",
          "coloraxis": {
           "colorbar": {
            "outlinewidth": 0,
            "ticks": ""
           }
          },
          "colorscale": {
           "diverging": [
            [
             0,
             "#8e0152"
            ],
            [
             0.1,
             "#c51b7d"
            ],
            [
             0.2,
             "#de77ae"
            ],
            [
             0.3,
             "#f1b6da"
            ],
            [
             0.4,
             "#fde0ef"
            ],
            [
             0.5,
             "#f7f7f7"
            ],
            [
             0.6,
             "#e6f5d0"
            ],
            [
             0.7,
             "#b8e186"
            ],
            [
             0.8,
             "#7fbc41"
            ],
            [
             0.9,
             "#4d9221"
            ],
            [
             1,
             "#276419"
            ]
           ],
           "sequential": [
            [
             0,
             "#0d0887"
            ],
            [
             0.1111111111111111,
             "#46039f"
            ],
            [
             0.2222222222222222,
             "#7201a8"
            ],
            [
             0.3333333333333333,
             "#9c179e"
            ],
            [
             0.4444444444444444,
             "#bd3786"
            ],
            [
             0.5555555555555556,
             "#d8576b"
            ],
            [
             0.6666666666666666,
             "#ed7953"
            ],
            [
             0.7777777777777778,
             "#fb9f3a"
            ],
            [
             0.8888888888888888,
             "#fdca26"
            ],
            [
             1,
             "#f0f921"
            ]
           ],
           "sequentialminus": [
            [
             0,
             "#0d0887"
            ],
            [
             0.1111111111111111,
             "#46039f"
            ],
            [
             0.2222222222222222,
             "#7201a8"
            ],
            [
             0.3333333333333333,
             "#9c179e"
            ],
            [
             0.4444444444444444,
             "#bd3786"
            ],
            [
             0.5555555555555556,
             "#d8576b"
            ],
            [
             0.6666666666666666,
             "#ed7953"
            ],
            [
             0.7777777777777778,
             "#fb9f3a"
            ],
            [
             0.8888888888888888,
             "#fdca26"
            ],
            [
             1,
             "#f0f921"
            ]
           ]
          },
          "colorway": [
           "#636efa",
           "#EF553B",
           "#00cc96",
           "#ab63fa",
           "#FFA15A",
           "#19d3f3",
           "#FF6692",
           "#B6E880",
           "#FF97FF",
           "#FECB52"
          ],
          "font": {
           "color": "#2a3f5f"
          },
          "geo": {
           "bgcolor": "white",
           "lakecolor": "white",
           "landcolor": "#E5ECF6",
           "showlakes": true,
           "showland": true,
           "subunitcolor": "white"
          },
          "hoverlabel": {
           "align": "left"
          },
          "hovermode": "closest",
          "mapbox": {
           "style": "light"
          },
          "paper_bgcolor": "white",
          "plot_bgcolor": "#E5ECF6",
          "polar": {
           "angularaxis": {
            "gridcolor": "white",
            "linecolor": "white",
            "ticks": ""
           },
           "bgcolor": "#E5ECF6",
           "radialaxis": {
            "gridcolor": "white",
            "linecolor": "white",
            "ticks": ""
           }
          },
          "scene": {
           "xaxis": {
            "backgroundcolor": "#E5ECF6",
            "gridcolor": "white",
            "gridwidth": 2,
            "linecolor": "white",
            "showbackground": true,
            "ticks": "",
            "zerolinecolor": "white"
           },
           "yaxis": {
            "backgroundcolor": "#E5ECF6",
            "gridcolor": "white",
            "gridwidth": 2,
            "linecolor": "white",
            "showbackground": true,
            "ticks": "",
            "zerolinecolor": "white"
           },
           "zaxis": {
            "backgroundcolor": "#E5ECF6",
            "gridcolor": "white",
            "gridwidth": 2,
            "linecolor": "white",
            "showbackground": true,
            "ticks": "",
            "zerolinecolor": "white"
           }
          },
          "shapedefaults": {
           "line": {
            "color": "#2a3f5f"
           }
          },
          "ternary": {
           "aaxis": {
            "gridcolor": "white",
            "linecolor": "white",
            "ticks": ""
           },
           "baxis": {
            "gridcolor": "white",
            "linecolor": "white",
            "ticks": ""
           },
           "bgcolor": "#E5ECF6",
           "caxis": {
            "gridcolor": "white",
            "linecolor": "white",
            "ticks": ""
           }
          },
          "title": {
           "x": 0.05
          },
          "xaxis": {
           "automargin": true,
           "gridcolor": "white",
           "linecolor": "white",
           "ticks": "",
           "title": {
            "standoff": 15
           },
           "zerolinecolor": "white",
           "zerolinewidth": 2
          },
          "yaxis": {
           "automargin": true,
           "gridcolor": "white",
           "linecolor": "white",
           "ticks": "",
           "title": {
            "standoff": 15
           },
           "zerolinecolor": "white",
           "zerolinewidth": 2
          }
         }
        },
        "xaxis": {
         "anchor": "y",
         "domain": [
          0,
          1
         ],
         "title": {
          "text": "date"
         }
        },
        "yaxis": {
         "anchor": "x",
         "domain": [
          0,
          1
         ],
         "title": {
          "text": "cases_avg_per_100k"
         }
        }
       }
      }
     },
     "metadata": {},
     "output_type": "display_data"
    }
   ],
   "source": [
    "px.line(\n",
    "    df_2022_counties, x=df_2022_counties.index, y=\"cases_avg_per_100k\", color=\"county\"\n",
    ")\n"
   ]
  },
  {
   "cell_type": "markdown",
   "metadata": {},
   "source": [
    "Montgomery is kind of a mess"
   ]
  },
  {
   "cell_type": "markdown",
   "metadata": {},
   "source": [
    "7-day rolling average of cases as of yesterday's data"
   ]
  },
  {
   "cell_type": "code",
   "execution_count": null,
   "metadata": {},
   "outputs": [],
   "source": [
    "px.line(\n",
    "    df_2022_counties, x=df_2022_counties.index, y=\"cases_avg_per_100k\", color=\"county\"\n",
    ")"
   ]
  },
  {
   "cell_type": "code",
   "execution_count": null,
   "metadata": {},
   "outputs": [],
   "source": []
  },
  {
   "cell_type": "markdown",
   "metadata": {},
   "source": [
    "Read historic data and concatenate DataFrames"
   ]
  },
  {
   "cell_type": "markdown",
   "metadata": {},
   "source": [
    "## Map\n",
    "\n",
    "Most recent 7 day moving average.\n",
    "\n",
    "Scatter geo. \n",
    "\n",
    "Future direction: could make an animation over time. Could do choropleth too."
   ]
  },
  {
   "cell_type": "code",
   "execution_count": null,
   "metadata": {},
   "outputs": [],
   "source": [
    "px.scatter_geo("
   ]
  }
 ],
 "metadata": {
  "interpreter": {
   "hash": "997322c55b62044d17d68324b2353aa24fa87c7ec57cd3dff801aafb36bfa8a9"
  },
  "kernelspec": {
   "display_name": "Python 3.9.7 64-bit ('base': conda)",
   "language": "python",
   "name": "python3"
  },
  "language_info": {
   "codemirror_mode": {
    "name": "ipython",
    "version": 3
   },
   "file_extension": ".py",
   "mimetype": "text/x-python",
   "name": "python",
   "nbconvert_exporter": "python",
   "pygments_lexer": "ipython3",
   "version": "3.9.7"
  },
  "orig_nbformat": 4
 },
 "nbformat": 4,
 "nbformat_minor": 2
}
