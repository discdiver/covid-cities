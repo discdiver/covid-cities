{
 "cells": [
  {
   "cell_type": "markdown",
   "metadata": {},
   "source": [
    "## Covid data for the counties I care about\n",
    "\n",
    "The Washington Post has convenient data by state. I care about Washington DC, where I live, and how certain other locations are doing. The state-level data is not fine-grained enough for what I watn to see. MSA and county level covid data are available online, but overwelming and not easily filterable to what I want. I'm creating this tool to provide information at the county level. \n",
    "\n",
    "## Plan:\n",
    "\n",
    "Turn these into GitHub issues.\n",
    "\n",
    "- Use plotly for interactive visualizations \n",
    "- Serve the website via FastAPI or put into Streamlit. \n",
    "- Use GitHub actions to get data from NYT repo into a forked repo. I forked, updated, and release a GitHub action.\n",
    "- Use Prefect to run my script where I pull the data from NYT website and process it daily.\n",
    "- Use Great Expectations for data quality checking.\n",
    "- Use PyTest for code checking. \n",
    "- May use DVC to version data.\n",
    "- Could push the data to a database for fun/speed.\n",
    "\n",
    "- Make an app that allows other users to choose which counties they want to include. Have to make some design decisions about how to show users that information. "
   ]
  },
  {
   "cell_type": "markdown",
   "metadata": {},
   "source": [
    "Imports and config"
   ]
  },
  {
   "cell_type": "code",
   "execution_count": 1,
   "metadata": {},
   "outputs": [],
   "source": [
    "import pandas as pd\n",
    "import plotly.express as px\n",
    "\n",
    "pd.options.display.max_rows = 100\n"
   ]
  },
  {
   "cell_type": "markdown",
   "metadata": {},
   "source": [
    "Read in data"
   ]
  },
  {
   "cell_type": "code",
   "execution_count": 2,
   "metadata": {},
   "outputs": [
    {
     "data": {
      "text/html": [
       "<div>\n",
       "<style scoped>\n",
       "    .dataframe tbody tr th:only-of-type {\n",
       "        vertical-align: middle;\n",
       "    }\n",
       "\n",
       "    .dataframe tbody tr th {\n",
       "        vertical-align: top;\n",
       "    }\n",
       "\n",
       "    .dataframe thead th {\n",
       "        text-align: right;\n",
       "    }\n",
       "</style>\n",
       "<table border=\"1\" class=\"dataframe\">\n",
       "  <thead>\n",
       "    <tr style=\"text-align: right;\">\n",
       "      <th></th>\n",
       "      <th>geoid</th>\n",
       "      <th>county</th>\n",
       "      <th>state</th>\n",
       "      <th>cases</th>\n",
       "      <th>cases_avg</th>\n",
       "      <th>cases_avg_per_100k</th>\n",
       "      <th>deaths</th>\n",
       "      <th>deaths_avg</th>\n",
       "      <th>deaths_avg_per_100k</th>\n",
       "    </tr>\n",
       "    <tr>\n",
       "      <th>date</th>\n",
       "      <th></th>\n",
       "      <th></th>\n",
       "      <th></th>\n",
       "      <th></th>\n",
       "      <th></th>\n",
       "      <th></th>\n",
       "      <th></th>\n",
       "      <th></th>\n",
       "      <th></th>\n",
       "    </tr>\n",
       "  </thead>\n",
       "  <tbody>\n",
       "    <tr>\n",
       "      <th>2022-01-01</th>\n",
       "      <td>USA-72999</td>\n",
       "      <td>Unknown</td>\n",
       "      <td>Puerto Rico</td>\n",
       "      <td>0</td>\n",
       "      <td>328.14</td>\n",
       "      <td>NaN</td>\n",
       "      <td>0</td>\n",
       "      <td>0.00</td>\n",
       "      <td>NaN</td>\n",
       "    </tr>\n",
       "    <tr>\n",
       "      <th>2022-01-01</th>\n",
       "      <td>USA-72153</td>\n",
       "      <td>Yauco</td>\n",
       "      <td>Puerto Rico</td>\n",
       "      <td>0</td>\n",
       "      <td>66.50</td>\n",
       "      <td>196.40</td>\n",
       "      <td>0</td>\n",
       "      <td>0.00</td>\n",
       "      <td>0.00</td>\n",
       "    </tr>\n",
       "    <tr>\n",
       "      <th>2022-01-01</th>\n",
       "      <td>USA-72151</td>\n",
       "      <td>Yabucoa</td>\n",
       "      <td>Puerto Rico</td>\n",
       "      <td>0</td>\n",
       "      <td>63.13</td>\n",
       "      <td>196.30</td>\n",
       "      <td>0</td>\n",
       "      <td>0.00</td>\n",
       "      <td>0.00</td>\n",
       "    </tr>\n",
       "    <tr>\n",
       "      <th>2022-01-01</th>\n",
       "      <td>USA-72149</td>\n",
       "      <td>Villalba</td>\n",
       "      <td>Puerto Rico</td>\n",
       "      <td>0</td>\n",
       "      <td>47.50</td>\n",
       "      <td>221.18</td>\n",
       "      <td>0</td>\n",
       "      <td>0.00</td>\n",
       "      <td>0.00</td>\n",
       "    </tr>\n",
       "    <tr>\n",
       "      <th>2022-01-01</th>\n",
       "      <td>USA-72147</td>\n",
       "      <td>Vieques</td>\n",
       "      <td>Puerto Rico</td>\n",
       "      <td>0</td>\n",
       "      <td>7.63</td>\n",
       "      <td>91.16</td>\n",
       "      <td>0</td>\n",
       "      <td>0.00</td>\n",
       "      <td>0.00</td>\n",
       "    </tr>\n",
       "    <tr>\n",
       "      <th>...</th>\n",
       "      <td>...</td>\n",
       "      <td>...</td>\n",
       "      <td>...</td>\n",
       "      <td>...</td>\n",
       "      <td>...</td>\n",
       "      <td>...</td>\n",
       "      <td>...</td>\n",
       "      <td>...</td>\n",
       "      <td>...</td>\n",
       "    </tr>\n",
       "    <tr>\n",
       "      <th>2022-01-31</th>\n",
       "      <td>USA-69110</td>\n",
       "      <td>Saipan</td>\n",
       "      <td>Northern Mariana Islands</td>\n",
       "      <td>0</td>\n",
       "      <td>0.00</td>\n",
       "      <td>0.00</td>\n",
       "      <td>0</td>\n",
       "      <td>0.00</td>\n",
       "      <td>0.00</td>\n",
       "    </tr>\n",
       "    <tr>\n",
       "      <th>2022-01-31</th>\n",
       "      <td>USA-69100</td>\n",
       "      <td>Rota</td>\n",
       "      <td>Northern Mariana Islands</td>\n",
       "      <td>0</td>\n",
       "      <td>0.00</td>\n",
       "      <td>0.00</td>\n",
       "      <td>0</td>\n",
       "      <td>0.00</td>\n",
       "      <td>0.00</td>\n",
       "    </tr>\n",
       "    <tr>\n",
       "      <th>2022-01-31</th>\n",
       "      <td>USA-78030</td>\n",
       "      <td>St. Thomas</td>\n",
       "      <td>Virgin Islands</td>\n",
       "      <td>27</td>\n",
       "      <td>17.86</td>\n",
       "      <td>34.58</td>\n",
       "      <td>3</td>\n",
       "      <td>0.43</td>\n",
       "      <td>0.83</td>\n",
       "    </tr>\n",
       "    <tr>\n",
       "      <th>2022-01-31</th>\n",
       "      <td>USA-78020</td>\n",
       "      <td>St. John</td>\n",
       "      <td>Virgin Islands</td>\n",
       "      <td>8</td>\n",
       "      <td>2.71</td>\n",
       "      <td>65.09</td>\n",
       "      <td>0</td>\n",
       "      <td>0.00</td>\n",
       "      <td>0.00</td>\n",
       "    </tr>\n",
       "    <tr>\n",
       "      <th>2022-01-31</th>\n",
       "      <td>USA-78010</td>\n",
       "      <td>St. Croix</td>\n",
       "      <td>Virgin Islands</td>\n",
       "      <td>33</td>\n",
       "      <td>35.43</td>\n",
       "      <td>70.02</td>\n",
       "      <td>1</td>\n",
       "      <td>0.14</td>\n",
       "      <td>0.28</td>\n",
       "    </tr>\n",
       "  </tbody>\n",
       "</table>\n",
       "<p>100920 rows × 9 columns</p>\n",
       "</div>"
      ],
      "text/plain": [
       "                geoid      county                     state  cases  cases_avg  \\\n",
       "date                                                                            \n",
       "2022-01-01  USA-72999     Unknown               Puerto Rico      0     328.14   \n",
       "2022-01-01  USA-72153       Yauco               Puerto Rico      0      66.50   \n",
       "2022-01-01  USA-72151     Yabucoa               Puerto Rico      0      63.13   \n",
       "2022-01-01  USA-72149    Villalba               Puerto Rico      0      47.50   \n",
       "2022-01-01  USA-72147     Vieques               Puerto Rico      0       7.63   \n",
       "...               ...         ...                       ...    ...        ...   \n",
       "2022-01-31  USA-69110      Saipan  Northern Mariana Islands      0       0.00   \n",
       "2022-01-31  USA-69100        Rota  Northern Mariana Islands      0       0.00   \n",
       "2022-01-31  USA-78030  St. Thomas            Virgin Islands     27      17.86   \n",
       "2022-01-31  USA-78020    St. John            Virgin Islands      8       2.71   \n",
       "2022-01-31  USA-78010   St. Croix            Virgin Islands     33      35.43   \n",
       "\n",
       "            cases_avg_per_100k  deaths  deaths_avg  deaths_avg_per_100k  \n",
       "date                                                                     \n",
       "2022-01-01                 NaN       0        0.00                  NaN  \n",
       "2022-01-01              196.40       0        0.00                 0.00  \n",
       "2022-01-01              196.30       0        0.00                 0.00  \n",
       "2022-01-01              221.18       0        0.00                 0.00  \n",
       "2022-01-01               91.16       0        0.00                 0.00  \n",
       "...                        ...     ...         ...                  ...  \n",
       "2022-01-31                0.00       0        0.00                 0.00  \n",
       "2022-01-31                0.00       0        0.00                 0.00  \n",
       "2022-01-31               34.58       3        0.43                 0.83  \n",
       "2022-01-31               65.09       0        0.00                 0.00  \n",
       "2022-01-31               70.02       1        0.14                 0.28  \n",
       "\n",
       "[100920 rows x 9 columns]"
      ]
     },
     "execution_count": 2,
     "metadata": {},
     "output_type": "execute_result"
    }
   ],
   "source": [
    "df_2022 = pd.read_csv('https://raw.githubusercontent.com/nytimes/covid-19-data/master/rolling-averages/us-counties-2022.csv', index_col='date')\n",
    "\n",
    "df_2022\n"
   ]
  },
  {
   "cell_type": "code",
   "execution_count": 3,
   "metadata": {},
   "outputs": [
    {
     "name": "stdout",
     "output_type": "stream",
     "text": [
      "<class 'pandas.core.frame.DataFrame'>\n",
      "Index: 100920 entries, 2022-01-01 to 2022-01-31\n",
      "Data columns (total 9 columns):\n",
      " #   Column               Non-Null Count   Dtype  \n",
      "---  ------               --------------   -----  \n",
      " 0   geoid                100920 non-null  object \n",
      " 1   county               100920 non-null  object \n",
      " 2   state                100920 non-null  object \n",
      " 3   cases                100920 non-null  int64  \n",
      " 4   cases_avg            100920 non-null  float64\n",
      " 5   cases_avg_per_100k   99863 non-null   float64\n",
      " 6   deaths               100920 non-null  int64  \n",
      " 7   deaths_avg           100920 non-null  float64\n",
      " 8   deaths_avg_per_100k  99863 non-null   float64\n",
      "dtypes: float64(4), int64(2), object(3)\n",
      "memory usage: 7.7+ MB\n"
     ]
    }
   ],
   "source": [
    "df_2022.info()\n"
   ]
  },
  {
   "cell_type": "markdown",
   "metadata": {},
   "source": [
    "Finding counties that could be tricky to match spelling/format."
   ]
  },
  {
   "cell_type": "code",
   "execution_count": 4,
   "metadata": {},
   "outputs": [
    {
     "data": {
      "text/html": [
       "<div>\n",
       "<style scoped>\n",
       "    .dataframe tbody tr th:only-of-type {\n",
       "        vertical-align: middle;\n",
       "    }\n",
       "\n",
       "    .dataframe tbody tr th {\n",
       "        vertical-align: top;\n",
       "    }\n",
       "\n",
       "    .dataframe thead th {\n",
       "        text-align: right;\n",
       "    }\n",
       "</style>\n",
       "<table border=\"1\" class=\"dataframe\">\n",
       "  <thead>\n",
       "    <tr style=\"text-align: right;\">\n",
       "      <th></th>\n",
       "      <th>geoid</th>\n",
       "      <th>county</th>\n",
       "      <th>state</th>\n",
       "      <th>cases</th>\n",
       "      <th>cases_avg</th>\n",
       "      <th>cases_avg_per_100k</th>\n",
       "      <th>deaths</th>\n",
       "      <th>deaths_avg</th>\n",
       "      <th>deaths_avg_per_100k</th>\n",
       "    </tr>\n",
       "    <tr>\n",
       "      <th>date</th>\n",
       "      <th></th>\n",
       "      <th></th>\n",
       "      <th></th>\n",
       "      <th></th>\n",
       "      <th></th>\n",
       "      <th></th>\n",
       "      <th></th>\n",
       "      <th></th>\n",
       "      <th></th>\n",
       "    </tr>\n",
       "  </thead>\n",
       "  <tbody>\n",
       "    <tr>\n",
       "      <th>2022-01-01</th>\n",
       "      <td>USA-51510</td>\n",
       "      <td>Alexandria city</td>\n",
       "      <td>Virginia</td>\n",
       "      <td>0</td>\n",
       "      <td>281.14</td>\n",
       "      <td>176.34</td>\n",
       "      <td>0</td>\n",
       "      <td>0.38</td>\n",
       "      <td>0.24</td>\n",
       "    </tr>\n",
       "    <tr>\n",
       "      <th>2022-01-02</th>\n",
       "      <td>USA-51510</td>\n",
       "      <td>Alexandria city</td>\n",
       "      <td>Virginia</td>\n",
       "      <td>0</td>\n",
       "      <td>281.14</td>\n",
       "      <td>176.34</td>\n",
       "      <td>0</td>\n",
       "      <td>0.38</td>\n",
       "      <td>0.24</td>\n",
       "    </tr>\n",
       "  </tbody>\n",
       "</table>\n",
       "</div>"
      ],
      "text/plain": [
       "                geoid           county     state  cases  cases_avg  \\\n",
       "date                                                                 \n",
       "2022-01-01  USA-51510  Alexandria city  Virginia      0     281.14   \n",
       "2022-01-02  USA-51510  Alexandria city  Virginia      0     281.14   \n",
       "\n",
       "            cases_avg_per_100k  deaths  deaths_avg  deaths_avg_per_100k  \n",
       "date                                                                     \n",
       "2022-01-01              176.34       0        0.38                 0.24  \n",
       "2022-01-02              176.34       0        0.38                 0.24  "
      ]
     },
     "execution_count": 4,
     "metadata": {},
     "output_type": "execute_result"
    }
   ],
   "source": [
    "df_2022[df_2022[\"county\"].str.startswith(\"Alexandria\")].head(2)\n"
   ]
  },
  {
   "cell_type": "code",
   "execution_count": 5,
   "metadata": {},
   "outputs": [
    {
     "data": {
      "text/html": [
       "<div>\n",
       "<style scoped>\n",
       "    .dataframe tbody tr th:only-of-type {\n",
       "        vertical-align: middle;\n",
       "    }\n",
       "\n",
       "    .dataframe tbody tr th {\n",
       "        vertical-align: top;\n",
       "    }\n",
       "\n",
       "    .dataframe thead th {\n",
       "        text-align: right;\n",
       "    }\n",
       "</style>\n",
       "<table border=\"1\" class=\"dataframe\">\n",
       "  <thead>\n",
       "    <tr style=\"text-align: right;\">\n",
       "      <th></th>\n",
       "      <th>geoid</th>\n",
       "      <th>county</th>\n",
       "      <th>state</th>\n",
       "      <th>cases</th>\n",
       "      <th>cases_avg</th>\n",
       "      <th>cases_avg_per_100k</th>\n",
       "      <th>deaths</th>\n",
       "      <th>deaths_avg</th>\n",
       "      <th>deaths_avg_per_100k</th>\n",
       "    </tr>\n",
       "    <tr>\n",
       "      <th>date</th>\n",
       "      <th></th>\n",
       "      <th></th>\n",
       "      <th></th>\n",
       "      <th></th>\n",
       "      <th></th>\n",
       "      <th></th>\n",
       "      <th></th>\n",
       "      <th></th>\n",
       "      <th></th>\n",
       "    </tr>\n",
       "  </thead>\n",
       "  <tbody>\n",
       "    <tr>\n",
       "      <th>2022-01-01</th>\n",
       "      <td>USA-11001</td>\n",
       "      <td>District of Columbia</td>\n",
       "      <td>District of Columbia</td>\n",
       "      <td>0</td>\n",
       "      <td>2103.0</td>\n",
       "      <td>297.98</td>\n",
       "      <td>0</td>\n",
       "      <td>0.4</td>\n",
       "      <td>0.06</td>\n",
       "    </tr>\n",
       "    <tr>\n",
       "      <th>2022-01-02</th>\n",
       "      <td>USA-11001</td>\n",
       "      <td>District of Columbia</td>\n",
       "      <td>District of Columbia</td>\n",
       "      <td>0</td>\n",
       "      <td>2103.0</td>\n",
       "      <td>297.98</td>\n",
       "      <td>0</td>\n",
       "      <td>0.4</td>\n",
       "      <td>0.06</td>\n",
       "    </tr>\n",
       "  </tbody>\n",
       "</table>\n",
       "</div>"
      ],
      "text/plain": [
       "                geoid                county                 state  cases  \\\n",
       "date                                                                       \n",
       "2022-01-01  USA-11001  District of Columbia  District of Columbia      0   \n",
       "2022-01-02  USA-11001  District of Columbia  District of Columbia      0   \n",
       "\n",
       "            cases_avg  cases_avg_per_100k  deaths  deaths_avg  \\\n",
       "date                                                            \n",
       "2022-01-01     2103.0              297.98       0         0.4   \n",
       "2022-01-02     2103.0              297.98       0         0.4   \n",
       "\n",
       "            deaths_avg_per_100k  \n",
       "date                             \n",
       "2022-01-01                 0.06  \n",
       "2022-01-02                 0.06  "
      ]
     },
     "execution_count": 5,
     "metadata": {},
     "output_type": "execute_result"
    }
   ],
   "source": [
    "df_2022[df_2022[\"state\"].str.startswith(\"District\")].head(2)\n"
   ]
  },
  {
   "cell_type": "code",
   "execution_count": 6,
   "metadata": {},
   "outputs": [
    {
     "data": {
      "text/html": [
       "<div>\n",
       "<style scoped>\n",
       "    .dataframe tbody tr th:only-of-type {\n",
       "        vertical-align: middle;\n",
       "    }\n",
       "\n",
       "    .dataframe tbody tr th {\n",
       "        vertical-align: top;\n",
       "    }\n",
       "\n",
       "    .dataframe thead th {\n",
       "        text-align: right;\n",
       "    }\n",
       "</style>\n",
       "<table border=\"1\" class=\"dataframe\">\n",
       "  <thead>\n",
       "    <tr style=\"text-align: right;\">\n",
       "      <th></th>\n",
       "      <th>geoid</th>\n",
       "      <th>county</th>\n",
       "      <th>state</th>\n",
       "      <th>cases</th>\n",
       "      <th>cases_avg</th>\n",
       "      <th>cases_avg_per_100k</th>\n",
       "      <th>deaths</th>\n",
       "      <th>deaths_avg</th>\n",
       "      <th>deaths_avg_per_100k</th>\n",
       "    </tr>\n",
       "    <tr>\n",
       "      <th>date</th>\n",
       "      <th></th>\n",
       "      <th></th>\n",
       "      <th></th>\n",
       "      <th></th>\n",
       "      <th></th>\n",
       "      <th></th>\n",
       "      <th></th>\n",
       "      <th></th>\n",
       "      <th></th>\n",
       "    </tr>\n",
       "  </thead>\n",
       "  <tbody>\n",
       "    <tr>\n",
       "      <th>2022-01-01</th>\n",
       "      <td>USA-36998</td>\n",
       "      <td>New York City</td>\n",
       "      <td>New York</td>\n",
       "      <td>45341</td>\n",
       "      <td>34646.38</td>\n",
       "      <td>415.58</td>\n",
       "      <td>20</td>\n",
       "      <td>27.89</td>\n",
       "      <td>0.33</td>\n",
       "    </tr>\n",
       "    <tr>\n",
       "      <th>2022-01-01</th>\n",
       "      <td>USA-36123</td>\n",
       "      <td>Yates</td>\n",
       "      <td>New York</td>\n",
       "      <td>28</td>\n",
       "      <td>13.25</td>\n",
       "      <td>53.19</td>\n",
       "      <td>0</td>\n",
       "      <td>0.14</td>\n",
       "      <td>0.57</td>\n",
       "    </tr>\n",
       "  </tbody>\n",
       "</table>\n",
       "</div>"
      ],
      "text/plain": [
       "                geoid         county     state  cases  cases_avg  \\\n",
       "date                                                               \n",
       "2022-01-01  USA-36998  New York City  New York  45341   34646.38   \n",
       "2022-01-01  USA-36123          Yates  New York     28      13.25   \n",
       "\n",
       "            cases_avg_per_100k  deaths  deaths_avg  deaths_avg_per_100k  \n",
       "date                                                                     \n",
       "2022-01-01              415.58      20       27.89                 0.33  \n",
       "2022-01-01               53.19       0        0.14                 0.57  "
      ]
     },
     "execution_count": 6,
     "metadata": {},
     "output_type": "execute_result"
    }
   ],
   "source": [
    "df_2022[df_2022[\"state\"].str.contains(\"York\")].head(2)\n"
   ]
  },
  {
   "cell_type": "markdown",
   "metadata": {},
   "source": [
    "Filter to counties of interest"
   ]
  },
  {
   "cell_type": "code",
   "execution_count": 7,
   "metadata": {},
   "outputs": [],
   "source": [
    "counties = [\n",
    "    \"District of Columbia\",\n",
    "    \"Wood\",\n",
    "    \"Putnam\",\n",
    "    \"Montgomery\",\n",
    "    \"Prince George's\",\n",
    "    \"Arlington\",\n",
    "    \"Alexandria city\",\n",
    "    \"New York City\",  # README at NYT mentions some NE are city, not county\n",
    "    \"Allegheny\",\n",
    "    \"Cook\",\n",
    "    \"Baltimore\",\n",
    "    \"Franklin\",\n",
    "    \"Clermont\",\n",
    "    \"Somerset\",\n",
    "    \"Philadelphia\",\n",
    "    \"Denver\",\n",
    "    \"Boulder\",\n",
    "    \"San Francisco\",\n",
    "    \"Los Angeles\",\n",
    "    \"Pima\",\n",
    "    \"Manatee\",\n",
    "    \"Fairfax\"]\n"
   ]
  },
  {
   "cell_type": "code",
   "execution_count": 8,
   "metadata": {},
   "outputs": [],
   "source": [
    "cols = [\"county\", \"state\", \"geoid\", \"cases_avg_per_100k\"]\n"
   ]
  },
  {
   "cell_type": "markdown",
   "metadata": {},
   "source": [
    "See each state/county once."
   ]
  },
  {
   "cell_type": "code",
   "execution_count": 9,
   "metadata": {},
   "outputs": [
    {
     "ename": "NameError",
     "evalue": "name 'df_2022_smaller' is not defined",
     "output_type": "error",
     "traceback": [
      "\u001b[0;31m---------------------------------------------------------------------------\u001b[0m",
      "\u001b[0;31mNameError\u001b[0m                                 Traceback (most recent call last)",
      "\u001b[0;32m/var/folders/jt/19kddqbx06s0kvc4vjhc94qc0000gn/T/ipykernel_3711/4262309244.py\u001b[0m in \u001b[0;36m<module>\u001b[0;34m\u001b[0m\n\u001b[0;32m----> 1\u001b[0;31m \u001b[0mdf_2022_smaller\u001b[0m\u001b[0;34m.\u001b[0m\u001b[0mdrop_duplicates\u001b[0m\u001b[0;34m(\u001b[0m\u001b[0msubset\u001b[0m\u001b[0;34m=\u001b[0m\u001b[0;34m[\u001b[0m\u001b[0;34m\"county\"\u001b[0m\u001b[0;34m,\u001b[0m \u001b[0;34m\"state\"\u001b[0m\u001b[0;34m]\u001b[0m\u001b[0;34m)\u001b[0m\u001b[0;34m\u001b[0m\u001b[0;34m\u001b[0m\u001b[0m\n\u001b[0m",
      "\u001b[0;31mNameError\u001b[0m: name 'df_2022_smaller' is not defined"
     ]
    }
   ],
   "source": [
    "df_2022_smaller.drop_duplicates(subset=[\"county\", \"state\"])\n"
   ]
  },
  {
   "cell_type": "code",
   "execution_count": null,
   "metadata": {},
   "outputs": [
    {
     "data": {
      "text/html": [
       "<div>\n",
       "<style scoped>\n",
       "    .dataframe tbody tr th:only-of-type {\n",
       "        vertical-align: middle;\n",
       "    }\n",
       "\n",
       "    .dataframe tbody tr th {\n",
       "        vertical-align: top;\n",
       "    }\n",
       "\n",
       "    .dataframe thead th {\n",
       "        text-align: right;\n",
       "    }\n",
       "</style>\n",
       "<table border=\"1\" class=\"dataframe\">\n",
       "  <thead>\n",
       "    <tr style=\"text-align: right;\">\n",
       "      <th></th>\n",
       "      <th>county</th>\n",
       "      <th>state</th>\n",
       "      <th>geoid</th>\n",
       "      <th>cases_avg_per_100k</th>\n",
       "    </tr>\n",
       "    <tr>\n",
       "      <th>date</th>\n",
       "      <th></th>\n",
       "      <th></th>\n",
       "      <th></th>\n",
       "      <th></th>\n",
       "    </tr>\n",
       "  </thead>\n",
       "  <tbody>\n",
       "    <tr>\n",
       "      <th>2022-01-01</th>\n",
       "      <td>Wood</td>\n",
       "      <td>Wisconsin</td>\n",
       "      <td>USA-55141</td>\n",
       "      <td>82.19</td>\n",
       "    </tr>\n",
       "    <tr>\n",
       "      <th>2022-01-01</th>\n",
       "      <td>Wood</td>\n",
       "      <td>West Virginia</td>\n",
       "      <td>USA-54107</td>\n",
       "      <td>55.42</td>\n",
       "    </tr>\n",
       "    <tr>\n",
       "      <th>2022-01-01</th>\n",
       "      <td>Putnam</td>\n",
       "      <td>West Virginia</td>\n",
       "      <td>USA-54079</td>\n",
       "      <td>73.14</td>\n",
       "    </tr>\n",
       "    <tr>\n",
       "      <th>2022-01-01</th>\n",
       "      <td>Franklin</td>\n",
       "      <td>Washington</td>\n",
       "      <td>USA-53021</td>\n",
       "      <td>32.26</td>\n",
       "    </tr>\n",
       "    <tr>\n",
       "      <th>2022-01-01</th>\n",
       "      <td>Montgomery</td>\n",
       "      <td>Virginia</td>\n",
       "      <td>USA-51121</td>\n",
       "      <td>46.25</td>\n",
       "    </tr>\n",
       "    <tr>\n",
       "      <th>...</th>\n",
       "      <td>...</td>\n",
       "      <td>...</td>\n",
       "      <td>...</td>\n",
       "      <td>...</td>\n",
       "    </tr>\n",
       "    <tr>\n",
       "      <th>2022-01-30</th>\n",
       "      <td>Montgomery</td>\n",
       "      <td>Arkansas</td>\n",
       "      <td>USA-05097</td>\n",
       "      <td>104.93</td>\n",
       "    </tr>\n",
       "    <tr>\n",
       "      <th>2022-01-30</th>\n",
       "      <td>Franklin</td>\n",
       "      <td>Arkansas</td>\n",
       "      <td>USA-05047</td>\n",
       "      <td>152.41</td>\n",
       "    </tr>\n",
       "    <tr>\n",
       "      <th>2022-01-30</th>\n",
       "      <td>Pima</td>\n",
       "      <td>Arizona</td>\n",
       "      <td>USA-04019</td>\n",
       "      <td>187.36</td>\n",
       "    </tr>\n",
       "    <tr>\n",
       "      <th>2022-01-30</th>\n",
       "      <td>Montgomery</td>\n",
       "      <td>Alabama</td>\n",
       "      <td>USA-01101</td>\n",
       "      <td>199.57</td>\n",
       "    </tr>\n",
       "    <tr>\n",
       "      <th>2022-01-30</th>\n",
       "      <td>Franklin</td>\n",
       "      <td>Alabama</td>\n",
       "      <td>USA-01059</td>\n",
       "      <td>264.65</td>\n",
       "    </tr>\n",
       "  </tbody>\n",
       "</table>\n",
       "<p>2370 rows × 4 columns</p>\n",
       "</div>"
      ],
      "text/plain": [
       "                county          state      geoid  cases_avg_per_100k\n",
       "date                                                                \n",
       "2022-01-01        Wood      Wisconsin  USA-55141               82.19\n",
       "2022-01-01        Wood  West Virginia  USA-54107               55.42\n",
       "2022-01-01      Putnam  West Virginia  USA-54079               73.14\n",
       "2022-01-01    Franklin     Washington  USA-53021               32.26\n",
       "2022-01-01  Montgomery       Virginia  USA-51121               46.25\n",
       "...                ...            ...        ...                 ...\n",
       "2022-01-30  Montgomery       Arkansas  USA-05097              104.93\n",
       "2022-01-30    Franklin       Arkansas  USA-05047              152.41\n",
       "2022-01-30        Pima        Arizona  USA-04019              187.36\n",
       "2022-01-30  Montgomery        Alabama  USA-01101              199.57\n",
       "2022-01-30    Franklin        Alabama  USA-01059              264.65\n",
       "\n",
       "[2370 rows x 4 columns]"
      ]
     },
     "execution_count": 59,
     "metadata": {},
     "output_type": "execute_result"
    }
   ],
   "source": [
    "\n",
    "df_2022_smaller = df_2022.loc[df_2022[\"county\"].isin(counties), cols]\n",
    "df_2022_smaller\n"
   ]
  },
  {
   "cell_type": "markdown",
   "metadata": {},
   "source": [
    "Get 2021 data"
   ]
  },
  {
   "cell_type": "code",
   "execution_count": null,
   "metadata": {},
   "outputs": [
    {
     "data": {
      "text/plain": [
       "(1189116, 9)"
      ]
     },
     "execution_count": 60,
     "metadata": {},
     "output_type": "execute_result"
    }
   ],
   "source": [
    "df_2021 = pd.read_csv('https://raw.githubusercontent.com/nytimes/covid-19-data/master/rolling-averages/us-counties-2021.csv', index_col='date')\n",
    "df_2021.shape"
   ]
  },
  {
   "cell_type": "code",
   "execution_count": null,
   "metadata": {},
   "outputs": [
    {
     "data": {
      "text/html": [
       "<div>\n",
       "<style scoped>\n",
       "    .dataframe tbody tr th:only-of-type {\n",
       "        vertical-align: middle;\n",
       "    }\n",
       "\n",
       "    .dataframe tbody tr th {\n",
       "        vertical-align: top;\n",
       "    }\n",
       "\n",
       "    .dataframe thead th {\n",
       "        text-align: right;\n",
       "    }\n",
       "</style>\n",
       "<table border=\"1\" class=\"dataframe\">\n",
       "  <thead>\n",
       "    <tr style=\"text-align: right;\">\n",
       "      <th></th>\n",
       "      <th>county</th>\n",
       "      <th>state</th>\n",
       "      <th>geoid</th>\n",
       "      <th>cases_avg_per_100k</th>\n",
       "    </tr>\n",
       "    <tr>\n",
       "      <th>date</th>\n",
       "      <th></th>\n",
       "      <th></th>\n",
       "      <th></th>\n",
       "      <th></th>\n",
       "    </tr>\n",
       "  </thead>\n",
       "  <tbody>\n",
       "    <tr>\n",
       "      <th>2021-01-01</th>\n",
       "      <td>Wood</td>\n",
       "      <td>Wisconsin</td>\n",
       "      <td>USA-55141</td>\n",
       "      <td>48.73</td>\n",
       "    </tr>\n",
       "    <tr>\n",
       "      <th>2021-01-01</th>\n",
       "      <td>Wood</td>\n",
       "      <td>West Virginia</td>\n",
       "      <td>USA-54107</td>\n",
       "      <td>79.02</td>\n",
       "    </tr>\n",
       "    <tr>\n",
       "      <th>2021-01-01</th>\n",
       "      <td>Putnam</td>\n",
       "      <td>West Virginia</td>\n",
       "      <td>USA-54079</td>\n",
       "      <td>58.71</td>\n",
       "    </tr>\n",
       "    <tr>\n",
       "      <th>2021-01-01</th>\n",
       "      <td>Franklin</td>\n",
       "      <td>Washington</td>\n",
       "      <td>USA-53021</td>\n",
       "      <td>51.01</td>\n",
       "    </tr>\n",
       "    <tr>\n",
       "      <th>2021-01-01</th>\n",
       "      <td>Montgomery</td>\n",
       "      <td>Virginia</td>\n",
       "      <td>USA-51121</td>\n",
       "      <td>32.33</td>\n",
       "    </tr>\n",
       "    <tr>\n",
       "      <th>...</th>\n",
       "      <td>...</td>\n",
       "      <td>...</td>\n",
       "      <td>...</td>\n",
       "      <td>...</td>\n",
       "    </tr>\n",
       "    <tr>\n",
       "      <th>2021-12-31</th>\n",
       "      <td>Montgomery</td>\n",
       "      <td>Arkansas</td>\n",
       "      <td>USA-05097</td>\n",
       "      <td>12.72</td>\n",
       "    </tr>\n",
       "    <tr>\n",
       "      <th>2021-12-31</th>\n",
       "      <td>Franklin</td>\n",
       "      <td>Arkansas</td>\n",
       "      <td>USA-05047</td>\n",
       "      <td>20.97</td>\n",
       "    </tr>\n",
       "    <tr>\n",
       "      <th>2021-12-31</th>\n",
       "      <td>Pima</td>\n",
       "      <td>Arizona</td>\n",
       "      <td>USA-04019</td>\n",
       "      <td>47.44</td>\n",
       "    </tr>\n",
       "    <tr>\n",
       "      <th>2021-12-31</th>\n",
       "      <td>Montgomery</td>\n",
       "      <td>Alabama</td>\n",
       "      <td>USA-01101</td>\n",
       "      <td>148.42</td>\n",
       "    </tr>\n",
       "    <tr>\n",
       "      <th>2021-12-31</th>\n",
       "      <td>Franklin</td>\n",
       "      <td>Alabama</td>\n",
       "      <td>USA-01059</td>\n",
       "      <td>35.99</td>\n",
       "    </tr>\n",
       "  </tbody>\n",
       "</table>\n",
       "<p>28835 rows × 4 columns</p>\n",
       "</div>"
      ],
      "text/plain": [
       "                county          state      geoid  cases_avg_per_100k\n",
       "date                                                                \n",
       "2021-01-01        Wood      Wisconsin  USA-55141               48.73\n",
       "2021-01-01        Wood  West Virginia  USA-54107               79.02\n",
       "2021-01-01      Putnam  West Virginia  USA-54079               58.71\n",
       "2021-01-01    Franklin     Washington  USA-53021               51.01\n",
       "2021-01-01  Montgomery       Virginia  USA-51121               32.33\n",
       "...                ...            ...        ...                 ...\n",
       "2021-12-31  Montgomery       Arkansas  USA-05097               12.72\n",
       "2021-12-31    Franklin       Arkansas  USA-05047               20.97\n",
       "2021-12-31        Pima        Arizona  USA-04019               47.44\n",
       "2021-12-31  Montgomery        Alabama  USA-01101              148.42\n",
       "2021-12-31    Franklin        Alabama  USA-01059               35.99\n",
       "\n",
       "[28835 rows x 4 columns]"
      ]
     },
     "execution_count": 61,
     "metadata": {},
     "output_type": "execute_result"
    }
   ],
   "source": [
    "df_2021_smaller = df_2021.loc[df_2021[\"county\"].isin(counties), cols]\n",
    "df_2021_smaller"
   ]
  },
  {
   "cell_type": "code",
   "execution_count": null,
   "metadata": {},
   "outputs": [
    {
     "data": {
      "text/plain": [
       "(888907, 9)"
      ]
     },
     "execution_count": 62,
     "metadata": {},
     "output_type": "execute_result"
    }
   ],
   "source": [
    "df_2020 = pd.read_csv('https://raw.githubusercontent.com/nytimes/covid-19-data/master/rolling-averages/us-counties-2020.csv', index_col='date')\n",
    "df_2020.shape"
   ]
  },
  {
   "cell_type": "code",
   "execution_count": null,
   "metadata": {},
   "outputs": [
    {
     "data": {
      "text/html": [
       "<div>\n",
       "<style scoped>\n",
       "    .dataframe tbody tr th:only-of-type {\n",
       "        vertical-align: middle;\n",
       "    }\n",
       "\n",
       "    .dataframe tbody tr th {\n",
       "        vertical-align: top;\n",
       "    }\n",
       "\n",
       "    .dataframe thead th {\n",
       "        text-align: right;\n",
       "    }\n",
       "</style>\n",
       "<table border=\"1\" class=\"dataframe\">\n",
       "  <thead>\n",
       "    <tr style=\"text-align: right;\">\n",
       "      <th></th>\n",
       "      <th>county</th>\n",
       "      <th>state</th>\n",
       "      <th>geoid</th>\n",
       "      <th>cases_avg_per_100k</th>\n",
       "    </tr>\n",
       "    <tr>\n",
       "      <th>date</th>\n",
       "      <th></th>\n",
       "      <th></th>\n",
       "      <th></th>\n",
       "      <th></th>\n",
       "    </tr>\n",
       "  </thead>\n",
       "  <tbody>\n",
       "    <tr>\n",
       "      <th>2020-01-24</th>\n",
       "      <td>Cook</td>\n",
       "      <td>Illinois</td>\n",
       "      <td>USA-17031</td>\n",
       "      <td>0.00</td>\n",
       "    </tr>\n",
       "    <tr>\n",
       "      <th>2020-01-25</th>\n",
       "      <td>Cook</td>\n",
       "      <td>Illinois</td>\n",
       "      <td>USA-17031</td>\n",
       "      <td>0.00</td>\n",
       "    </tr>\n",
       "    <tr>\n",
       "      <th>2020-01-26</th>\n",
       "      <td>Cook</td>\n",
       "      <td>Illinois</td>\n",
       "      <td>USA-17031</td>\n",
       "      <td>0.00</td>\n",
       "    </tr>\n",
       "    <tr>\n",
       "      <th>2020-01-26</th>\n",
       "      <td>Los Angeles</td>\n",
       "      <td>California</td>\n",
       "      <td>USA-06037</td>\n",
       "      <td>0.00</td>\n",
       "    </tr>\n",
       "    <tr>\n",
       "      <th>2020-01-27</th>\n",
       "      <td>Cook</td>\n",
       "      <td>Illinois</td>\n",
       "      <td>USA-17031</td>\n",
       "      <td>0.00</td>\n",
       "    </tr>\n",
       "    <tr>\n",
       "      <th>...</th>\n",
       "      <td>...</td>\n",
       "      <td>...</td>\n",
       "      <td>...</td>\n",
       "      <td>...</td>\n",
       "    </tr>\n",
       "    <tr>\n",
       "      <th>2020-12-31</th>\n",
       "      <td>Montgomery</td>\n",
       "      <td>Arkansas</td>\n",
       "      <td>USA-05097</td>\n",
       "      <td>46.10</td>\n",
       "    </tr>\n",
       "    <tr>\n",
       "      <th>2020-12-31</th>\n",
       "      <td>Franklin</td>\n",
       "      <td>Arkansas</td>\n",
       "      <td>USA-05047</td>\n",
       "      <td>47.58</td>\n",
       "    </tr>\n",
       "    <tr>\n",
       "      <th>2020-12-31</th>\n",
       "      <td>Pima</td>\n",
       "      <td>Arizona</td>\n",
       "      <td>USA-04019</td>\n",
       "      <td>82.53</td>\n",
       "    </tr>\n",
       "    <tr>\n",
       "      <th>2020-12-31</th>\n",
       "      <td>Montgomery</td>\n",
       "      <td>Alabama</td>\n",
       "      <td>USA-01101</td>\n",
       "      <td>50.15</td>\n",
       "    </tr>\n",
       "    <tr>\n",
       "      <th>2020-12-31</th>\n",
       "      <td>Franklin</td>\n",
       "      <td>Alabama</td>\n",
       "      <td>USA-01059</td>\n",
       "      <td>74.70</td>\n",
       "    </tr>\n",
       "  </tbody>\n",
       "</table>\n",
       "<p>22476 rows × 4 columns</p>\n",
       "</div>"
      ],
      "text/plain": [
       "                 county       state      geoid  cases_avg_per_100k\n",
       "date                                                              \n",
       "2020-01-24         Cook    Illinois  USA-17031                0.00\n",
       "2020-01-25         Cook    Illinois  USA-17031                0.00\n",
       "2020-01-26         Cook    Illinois  USA-17031                0.00\n",
       "2020-01-26  Los Angeles  California  USA-06037                0.00\n",
       "2020-01-27         Cook    Illinois  USA-17031                0.00\n",
       "...                 ...         ...        ...                 ...\n",
       "2020-12-31   Montgomery    Arkansas  USA-05097               46.10\n",
       "2020-12-31     Franklin    Arkansas  USA-05047               47.58\n",
       "2020-12-31         Pima     Arizona  USA-04019               82.53\n",
       "2020-12-31   Montgomery     Alabama  USA-01101               50.15\n",
       "2020-12-31     Franklin     Alabama  USA-01059               74.70\n",
       "\n",
       "[22476 rows x 4 columns]"
      ]
     },
     "execution_count": 63,
     "metadata": {},
     "output_type": "execute_result"
    }
   ],
   "source": [
    "df_2020_smaller = df_2020.loc[df_2020[\"county\"].isin(counties), cols]\n",
    "df_2020_smaller"
   ]
  },
  {
   "cell_type": "code",
   "execution_count": null,
   "metadata": {},
   "outputs": [
    {
     "data": {
      "text/html": [
       "<div>\n",
       "<style scoped>\n",
       "    .dataframe tbody tr th:only-of-type {\n",
       "        vertical-align: middle;\n",
       "    }\n",
       "\n",
       "    .dataframe tbody tr th {\n",
       "        vertical-align: top;\n",
       "    }\n",
       "\n",
       "    .dataframe thead th {\n",
       "        text-align: right;\n",
       "    }\n",
       "</style>\n",
       "<table border=\"1\" class=\"dataframe\">\n",
       "  <thead>\n",
       "    <tr style=\"text-align: right;\">\n",
       "      <th></th>\n",
       "      <th>county</th>\n",
       "      <th>state</th>\n",
       "      <th>geoid</th>\n",
       "      <th>cases_avg_per_100k</th>\n",
       "    </tr>\n",
       "    <tr>\n",
       "      <th>date</th>\n",
       "      <th></th>\n",
       "      <th></th>\n",
       "      <th></th>\n",
       "      <th></th>\n",
       "    </tr>\n",
       "  </thead>\n",
       "  <tbody>\n",
       "    <tr>\n",
       "      <th>2020-01-24</th>\n",
       "      <td>Cook</td>\n",
       "      <td>Illinois</td>\n",
       "      <td>USA-17031</td>\n",
       "      <td>0.00</td>\n",
       "    </tr>\n",
       "    <tr>\n",
       "      <th>2020-01-25</th>\n",
       "      <td>Cook</td>\n",
       "      <td>Illinois</td>\n",
       "      <td>USA-17031</td>\n",
       "      <td>0.00</td>\n",
       "    </tr>\n",
       "    <tr>\n",
       "      <th>2020-01-26</th>\n",
       "      <td>Cook</td>\n",
       "      <td>Illinois</td>\n",
       "      <td>USA-17031</td>\n",
       "      <td>0.00</td>\n",
       "    </tr>\n",
       "    <tr>\n",
       "      <th>2020-01-26</th>\n",
       "      <td>Los Angeles</td>\n",
       "      <td>California</td>\n",
       "      <td>USA-06037</td>\n",
       "      <td>0.00</td>\n",
       "    </tr>\n",
       "    <tr>\n",
       "      <th>2020-01-27</th>\n",
       "      <td>Cook</td>\n",
       "      <td>Illinois</td>\n",
       "      <td>USA-17031</td>\n",
       "      <td>0.00</td>\n",
       "    </tr>\n",
       "    <tr>\n",
       "      <th>...</th>\n",
       "      <td>...</td>\n",
       "      <td>...</td>\n",
       "      <td>...</td>\n",
       "      <td>...</td>\n",
       "    </tr>\n",
       "    <tr>\n",
       "      <th>2022-01-30</th>\n",
       "      <td>Montgomery</td>\n",
       "      <td>Arkansas</td>\n",
       "      <td>USA-05097</td>\n",
       "      <td>104.93</td>\n",
       "    </tr>\n",
       "    <tr>\n",
       "      <th>2022-01-30</th>\n",
       "      <td>Franklin</td>\n",
       "      <td>Arkansas</td>\n",
       "      <td>USA-05047</td>\n",
       "      <td>152.41</td>\n",
       "    </tr>\n",
       "    <tr>\n",
       "      <th>2022-01-30</th>\n",
       "      <td>Pima</td>\n",
       "      <td>Arizona</td>\n",
       "      <td>USA-04019</td>\n",
       "      <td>187.36</td>\n",
       "    </tr>\n",
       "    <tr>\n",
       "      <th>2022-01-30</th>\n",
       "      <td>Montgomery</td>\n",
       "      <td>Alabama</td>\n",
       "      <td>USA-01101</td>\n",
       "      <td>199.57</td>\n",
       "    </tr>\n",
       "    <tr>\n",
       "      <th>2022-01-30</th>\n",
       "      <td>Franklin</td>\n",
       "      <td>Alabama</td>\n",
       "      <td>USA-01059</td>\n",
       "      <td>264.65</td>\n",
       "    </tr>\n",
       "  </tbody>\n",
       "</table>\n",
       "<p>53681 rows × 4 columns</p>\n",
       "</div>"
      ],
      "text/plain": [
       "                 county       state      geoid  cases_avg_per_100k\n",
       "date                                                              \n",
       "2020-01-24         Cook    Illinois  USA-17031                0.00\n",
       "2020-01-25         Cook    Illinois  USA-17031                0.00\n",
       "2020-01-26         Cook    Illinois  USA-17031                0.00\n",
       "2020-01-26  Los Angeles  California  USA-06037                0.00\n",
       "2020-01-27         Cook    Illinois  USA-17031                0.00\n",
       "...                 ...         ...        ...                 ...\n",
       "2022-01-30   Montgomery    Arkansas  USA-05097              104.93\n",
       "2022-01-30     Franklin    Arkansas  USA-05047              152.41\n",
       "2022-01-30         Pima     Arizona  USA-04019              187.36\n",
       "2022-01-30   Montgomery     Alabama  USA-01101              199.57\n",
       "2022-01-30     Franklin     Alabama  USA-01059              264.65\n",
       "\n",
       "[53681 rows x 4 columns]"
      ]
     },
     "execution_count": 64,
     "metadata": {},
     "output_type": "execute_result"
    }
   ],
   "source": [
    "df_combo = pd.concat([df_2020_smaller, df_2021_smaller, df_2022_smaller])\n",
    "df_combo"
   ]
  },
  {
   "cell_type": "markdown",
   "metadata": {},
   "source": [
    "Convert geoid to FIPS code for plotting"
   ]
  },
  {
   "cell_type": "code",
   "execution_count": null,
   "metadata": {},
   "outputs": [
    {
     "data": {
      "text/html": [
       "<div>\n",
       "<style scoped>\n",
       "    .dataframe tbody tr th:only-of-type {\n",
       "        vertical-align: middle;\n",
       "    }\n",
       "\n",
       "    .dataframe tbody tr th {\n",
       "        vertical-align: top;\n",
       "    }\n",
       "\n",
       "    .dataframe thead th {\n",
       "        text-align: right;\n",
       "    }\n",
       "</style>\n",
       "<table border=\"1\" class=\"dataframe\">\n",
       "  <thead>\n",
       "    <tr style=\"text-align: right;\">\n",
       "      <th></th>\n",
       "      <th>county</th>\n",
       "      <th>state</th>\n",
       "      <th>geoid</th>\n",
       "      <th>cases_avg_per_100k</th>\n",
       "      <th>fips</th>\n",
       "    </tr>\n",
       "    <tr>\n",
       "      <th>date</th>\n",
       "      <th></th>\n",
       "      <th></th>\n",
       "      <th></th>\n",
       "      <th></th>\n",
       "      <th></th>\n",
       "    </tr>\n",
       "  </thead>\n",
       "  <tbody>\n",
       "    <tr>\n",
       "      <th>2020-01-24</th>\n",
       "      <td>Cook</td>\n",
       "      <td>Illinois</td>\n",
       "      <td>USA-17031</td>\n",
       "      <td>0.00</td>\n",
       "      <td>17031</td>\n",
       "    </tr>\n",
       "    <tr>\n",
       "      <th>2020-01-25</th>\n",
       "      <td>Cook</td>\n",
       "      <td>Illinois</td>\n",
       "      <td>USA-17031</td>\n",
       "      <td>0.00</td>\n",
       "      <td>17031</td>\n",
       "    </tr>\n",
       "    <tr>\n",
       "      <th>2020-01-26</th>\n",
       "      <td>Cook</td>\n",
       "      <td>Illinois</td>\n",
       "      <td>USA-17031</td>\n",
       "      <td>0.00</td>\n",
       "      <td>17031</td>\n",
       "    </tr>\n",
       "    <tr>\n",
       "      <th>2020-01-26</th>\n",
       "      <td>Los Angeles</td>\n",
       "      <td>California</td>\n",
       "      <td>USA-06037</td>\n",
       "      <td>0.00</td>\n",
       "      <td>06037</td>\n",
       "    </tr>\n",
       "    <tr>\n",
       "      <th>2020-01-27</th>\n",
       "      <td>Cook</td>\n",
       "      <td>Illinois</td>\n",
       "      <td>USA-17031</td>\n",
       "      <td>0.00</td>\n",
       "      <td>17031</td>\n",
       "    </tr>\n",
       "    <tr>\n",
       "      <th>...</th>\n",
       "      <td>...</td>\n",
       "      <td>...</td>\n",
       "      <td>...</td>\n",
       "      <td>...</td>\n",
       "      <td>...</td>\n",
       "    </tr>\n",
       "    <tr>\n",
       "      <th>2022-01-30</th>\n",
       "      <td>Montgomery</td>\n",
       "      <td>Arkansas</td>\n",
       "      <td>USA-05097</td>\n",
       "      <td>104.93</td>\n",
       "      <td>05097</td>\n",
       "    </tr>\n",
       "    <tr>\n",
       "      <th>2022-01-30</th>\n",
       "      <td>Franklin</td>\n",
       "      <td>Arkansas</td>\n",
       "      <td>USA-05047</td>\n",
       "      <td>152.41</td>\n",
       "      <td>05047</td>\n",
       "    </tr>\n",
       "    <tr>\n",
       "      <th>2022-01-30</th>\n",
       "      <td>Pima</td>\n",
       "      <td>Arizona</td>\n",
       "      <td>USA-04019</td>\n",
       "      <td>187.36</td>\n",
       "      <td>04019</td>\n",
       "    </tr>\n",
       "    <tr>\n",
       "      <th>2022-01-30</th>\n",
       "      <td>Montgomery</td>\n",
       "      <td>Alabama</td>\n",
       "      <td>USA-01101</td>\n",
       "      <td>199.57</td>\n",
       "      <td>01101</td>\n",
       "    </tr>\n",
       "    <tr>\n",
       "      <th>2022-01-30</th>\n",
       "      <td>Franklin</td>\n",
       "      <td>Alabama</td>\n",
       "      <td>USA-01059</td>\n",
       "      <td>264.65</td>\n",
       "      <td>01059</td>\n",
       "    </tr>\n",
       "  </tbody>\n",
       "</table>\n",
       "<p>53681 rows × 5 columns</p>\n",
       "</div>"
      ],
      "text/plain": [
       "                 county       state      geoid  cases_avg_per_100k   fips\n",
       "date                                                                     \n",
       "2020-01-24         Cook    Illinois  USA-17031                0.00  17031\n",
       "2020-01-25         Cook    Illinois  USA-17031                0.00  17031\n",
       "2020-01-26         Cook    Illinois  USA-17031                0.00  17031\n",
       "2020-01-26  Los Angeles  California  USA-06037                0.00  06037\n",
       "2020-01-27         Cook    Illinois  USA-17031                0.00  17031\n",
       "...                 ...         ...        ...                 ...    ...\n",
       "2022-01-30   Montgomery    Arkansas  USA-05097              104.93  05097\n",
       "2022-01-30     Franklin    Arkansas  USA-05047              152.41  05047\n",
       "2022-01-30         Pima     Arizona  USA-04019              187.36  04019\n",
       "2022-01-30   Montgomery     Alabama  USA-01101              199.57  01101\n",
       "2022-01-30     Franklin     Alabama  USA-01059              264.65  01059\n",
       "\n",
       "[53681 rows x 5 columns]"
      ]
     },
     "execution_count": 65,
     "metadata": {},
     "output_type": "execute_result"
    }
   ],
   "source": [
    "df_combo[\"fips\"] = df_combo[\"geoid\"].str[-5:]\n",
    "df_combo\n"
   ]
  },
  {
   "cell_type": "code",
   "execution_count": null,
   "metadata": {},
   "outputs": [
    {
     "name": "stdout",
     "output_type": "stream",
     "text": [
      "<class 'pandas.core.frame.DataFrame'>\n",
      "Index: 97671 entries, 2022-01-01 to 2022-01-30\n",
      "Data columns (total 9 columns):\n",
      " #   Column               Non-Null Count  Dtype  \n",
      "---  ------               --------------  -----  \n",
      " 0   geoid                97671 non-null  object \n",
      " 1   county               97671 non-null  object \n",
      " 2   state                97671 non-null  object \n",
      " 3   cases                97671 non-null  int64  \n",
      " 4   cases_avg            97671 non-null  float64\n",
      " 5   cases_avg_per_100k   96641 non-null  float64\n",
      " 6   deaths               97671 non-null  int64  \n",
      " 7   deaths_avg           97671 non-null  float64\n",
      " 8   deaths_avg_per_100k  96641 non-null  float64\n",
      "dtypes: float64(4), int64(2), object(3)\n",
      "memory usage: 7.5+ MB\n"
     ]
    }
   ],
   "source": [
    "df_2022.info()"
   ]
  },
  {
   "cell_type": "markdown",
   "metadata": {},
   "source": [
    "Filter to fips codes of counties I want. \n",
    "\n",
    "If ever make into an app, will change to have folks choose State and then County from drop downs.\n"
   ]
  },
  {
   "cell_type": "code",
   "execution_count": null,
   "metadata": {},
   "outputs": [
    {
     "data": {
      "text/html": [
       "<div>\n",
       "<style scoped>\n",
       "    .dataframe tbody tr th:only-of-type {\n",
       "        vertical-align: middle;\n",
       "    }\n",
       "\n",
       "    .dataframe tbody tr th {\n",
       "        vertical-align: top;\n",
       "    }\n",
       "\n",
       "    .dataframe thead th {\n",
       "        text-align: right;\n",
       "    }\n",
       "</style>\n",
       "<table border=\"1\" class=\"dataframe\">\n",
       "  <thead>\n",
       "    <tr style=\"text-align: right;\">\n",
       "      <th></th>\n",
       "      <th>county</th>\n",
       "      <th>state</th>\n",
       "      <th>fips</th>\n",
       "      <th>cases_avg_per_100k</th>\n",
       "    </tr>\n",
       "    <tr>\n",
       "      <th>date</th>\n",
       "      <th></th>\n",
       "      <th></th>\n",
       "      <th></th>\n",
       "      <th></th>\n",
       "    </tr>\n",
       "  </thead>\n",
       "  <tbody>\n",
       "    <tr>\n",
       "      <th>2020-01-24</th>\n",
       "      <td>Cook</td>\n",
       "      <td>Illinois</td>\n",
       "      <td>17031</td>\n",
       "      <td>0.00</td>\n",
       "    </tr>\n",
       "    <tr>\n",
       "      <th>2020-01-25</th>\n",
       "      <td>Cook</td>\n",
       "      <td>Illinois</td>\n",
       "      <td>17031</td>\n",
       "      <td>0.00</td>\n",
       "    </tr>\n",
       "    <tr>\n",
       "      <th>2020-01-26</th>\n",
       "      <td>Cook</td>\n",
       "      <td>Illinois</td>\n",
       "      <td>17031</td>\n",
       "      <td>0.00</td>\n",
       "    </tr>\n",
       "    <tr>\n",
       "      <th>2020-01-26</th>\n",
       "      <td>Los Angeles</td>\n",
       "      <td>California</td>\n",
       "      <td>06037</td>\n",
       "      <td>0.00</td>\n",
       "    </tr>\n",
       "    <tr>\n",
       "      <th>2020-01-27</th>\n",
       "      <td>Cook</td>\n",
       "      <td>Illinois</td>\n",
       "      <td>17031</td>\n",
       "      <td>0.00</td>\n",
       "    </tr>\n",
       "    <tr>\n",
       "      <th>...</th>\n",
       "      <td>...</td>\n",
       "      <td>...</td>\n",
       "      <td>...</td>\n",
       "      <td>...</td>\n",
       "    </tr>\n",
       "    <tr>\n",
       "      <th>2022-01-30</th>\n",
       "      <td>Denver</td>\n",
       "      <td>Colorado</td>\n",
       "      <td>08031</td>\n",
       "      <td>84.17</td>\n",
       "    </tr>\n",
       "    <tr>\n",
       "      <th>2022-01-30</th>\n",
       "      <td>Boulder</td>\n",
       "      <td>Colorado</td>\n",
       "      <td>08013</td>\n",
       "      <td>129.72</td>\n",
       "    </tr>\n",
       "    <tr>\n",
       "      <th>2022-01-30</th>\n",
       "      <td>San Francisco</td>\n",
       "      <td>California</td>\n",
       "      <td>06075</td>\n",
       "      <td>156.79</td>\n",
       "    </tr>\n",
       "    <tr>\n",
       "      <th>2022-01-30</th>\n",
       "      <td>Los Angeles</td>\n",
       "      <td>California</td>\n",
       "      <td>06037</td>\n",
       "      <td>220.07</td>\n",
       "    </tr>\n",
       "    <tr>\n",
       "      <th>2022-01-30</th>\n",
       "      <td>Pima</td>\n",
       "      <td>Arizona</td>\n",
       "      <td>04019</td>\n",
       "      <td>187.36</td>\n",
       "    </tr>\n",
       "  </tbody>\n",
       "</table>\n",
       "<p>15311 rows × 4 columns</p>\n",
       "</div>"
      ],
      "text/plain": [
       "                   county       state   fips  cases_avg_per_100k\n",
       "date                                                            \n",
       "2020-01-24           Cook    Illinois  17031                0.00\n",
       "2020-01-25           Cook    Illinois  17031                0.00\n",
       "2020-01-26           Cook    Illinois  17031                0.00\n",
       "2020-01-26    Los Angeles  California  06037                0.00\n",
       "2020-01-27           Cook    Illinois  17031                0.00\n",
       "...                   ...         ...    ...                 ...\n",
       "2022-01-30         Denver    Colorado  08031               84.17\n",
       "2022-01-30        Boulder    Colorado  08013              129.72\n",
       "2022-01-30  San Francisco  California  06075              156.79\n",
       "2022-01-30    Los Angeles  California  06037              220.07\n",
       "2022-01-30           Pima     Arizona  04019              187.36\n",
       "\n",
       "[15311 rows x 4 columns]"
      ]
     },
     "execution_count": 67,
     "metadata": {},
     "output_type": "execute_result"
    }
   ],
   "source": [
    "fips_counties = [\n",
    "    \"11001\",\n",
    "    \"24033\",\n",
    "    \"24031\",\n",
    "    \"17031\",\n",
    "    \"39173\",\n",
    "    \"39137\",\n",
    "    \"39113\",\n",
    "    \"39049\",\n",
    "    \"51013\",\n",
    "    \"42101\",\n",
    "    \"42003\",\n",
    "    \"39025\",\n",
    "    \"08031\",\n",
    "    \"08013\",\n",
    "    \"04019\",\n",
    "    \"24005\",\n",
    "    \"06037\",\n",
    "    \"06075\",\n",
    "    \"36998\",\n",
    "    # \"36061\",\n",
    "    \"12081\",\n",
    "    \"51510\",\n",
    "    \"51059\",\n",
    "    \"55083\"\n",
    "]\n",
    "\n",
    "cols = [\"county\", \"state\", \"fips\", \"cases_avg_per_100k\"]\n",
    "\n",
    "df_combo_counties = df_combo.loc[df_combo[\"fips\"].isin(fips_counties), cols]\n",
    "df_combo_counties\n"
   ]
  },
  {
   "cell_type": "code",
   "execution_count": null,
   "metadata": {},
   "outputs": [
    {
     "ename": "NameError",
     "evalue": "name 'px' is not defined",
     "output_type": "error",
     "traceback": [
      "\u001b[0;31m---------------------------------------------------------------------------\u001b[0m",
      "\u001b[0;31mNameError\u001b[0m                                 Traceback (most recent call last)",
      "\u001b[0;32m/var/folders/jt/19kddqbx06s0kvc4vjhc94qc0000gn/T/ipykernel_3710/2332313074.py\u001b[0m in \u001b[0;36m<module>\u001b[0;34m\u001b[0m\n\u001b[0;32m----> 1\u001b[0;31m px.line(\n\u001b[0m\u001b[1;32m      2\u001b[0m     \u001b[0mdf_combo_counties\u001b[0m\u001b[0;34m,\u001b[0m \u001b[0mx\u001b[0m\u001b[0;34m=\u001b[0m\u001b[0mdf_combo_counties\u001b[0m\u001b[0;34m.\u001b[0m\u001b[0mindex\u001b[0m\u001b[0;34m,\u001b[0m \u001b[0my\u001b[0m\u001b[0;34m=\u001b[0m\u001b[0;34m\"cases_avg_per_100k\"\u001b[0m\u001b[0;34m,\u001b[0m \u001b[0mcolor\u001b[0m\u001b[0;34m=\u001b[0m\u001b[0;34m\"county\"\u001b[0m\u001b[0;34m\u001b[0m\u001b[0;34m\u001b[0m\u001b[0m\n\u001b[1;32m      3\u001b[0m )\n",
      "\u001b[0;31mNameError\u001b[0m: name 'px' is not defined"
     ]
    }
   ],
   "source": [
    "px.line(\n",
    "    df_combo_counties, x=df_combo_counties.index, y=\"cases_avg_per_100k\", color=\"county\"\n",
    ")"
   ]
  },
  {
   "cell_type": "markdown",
   "metadata": {},
   "source": [
    "Montgomery is kind of a mess"
   ]
  },
  {
   "cell_type": "markdown",
   "metadata": {},
   "source": [
    "7-day rolling average of cases as of yesterday's data"
   ]
  },
  {
   "cell_type": "markdown",
   "metadata": {},
   "source": [
    "TODO: Include older data.\n",
    "\n",
    "Read historic data and concatenate DataFrames."
   ]
  },
  {
   "cell_type": "markdown",
   "metadata": {},
   "source": [
    "## Map\n",
    "\n",
    "Most recent 7 day moving average.\n",
    "\n",
    "Scatter geo. \n",
    "\n",
    "Future direction: could make an animation over time. Could do choropleth too. Could show the DataFrame for just the most recent day in an app, too."
   ]
  },
  {
   "cell_type": "code",
   "execution_count": null,
   "metadata": {},
   "outputs": [],
   "source": [
    "most_recent_date = df_combo_counties.index.max()"
   ]
  },
  {
   "cell_type": "code",
   "execution_count": null,
   "metadata": {},
   "outputs": [
    {
     "data": {
      "text/plain": [
       "12"
      ]
     },
     "execution_count": 3,
     "metadata": {},
     "output_type": "execute_result"
    }
   ],
   "source": [
    "int('012'.zfill(5))"
   ]
  },
  {
   "cell_type": "code",
   "execution_count": null,
   "metadata": {},
   "outputs": [
    {
     "data": {
      "text/html": [
       "<div>\n",
       "<style scoped>\n",
       "    .dataframe tbody tr th:only-of-type {\n",
       "        vertical-align: middle;\n",
       "    }\n",
       "\n",
       "    .dataframe tbody tr th {\n",
       "        vertical-align: top;\n",
       "    }\n",
       "\n",
       "    .dataframe thead th {\n",
       "        text-align: right;\n",
       "    }\n",
       "</style>\n",
       "<table border=\"1\" class=\"dataframe\">\n",
       "  <thead>\n",
       "    <tr style=\"text-align: right;\">\n",
       "      <th></th>\n",
       "      <th>county</th>\n",
       "      <th>state</th>\n",
       "      <th>fips</th>\n",
       "      <th>cases_avg_per_100k</th>\n",
       "    </tr>\n",
       "    <tr>\n",
       "      <th>date</th>\n",
       "      <th></th>\n",
       "      <th></th>\n",
       "      <th></th>\n",
       "      <th></th>\n",
       "    </tr>\n",
       "  </thead>\n",
       "  <tbody>\n",
       "    <tr>\n",
       "      <th>2022-01-30</th>\n",
       "      <td>Baltimore</td>\n",
       "      <td>Maryland</td>\n",
       "      <td>24005</td>\n",
       "      <td>29.82</td>\n",
       "    </tr>\n",
       "    <tr>\n",
       "      <th>2022-01-30</th>\n",
       "      <td>Prince George's</td>\n",
       "      <td>Maryland</td>\n",
       "      <td>24033</td>\n",
       "      <td>31.00</td>\n",
       "    </tr>\n",
       "    <tr>\n",
       "      <th>2022-01-30</th>\n",
       "      <td>Montgomery</td>\n",
       "      <td>Maryland</td>\n",
       "      <td>24031</td>\n",
       "      <td>42.43</td>\n",
       "    </tr>\n",
       "    <tr>\n",
       "      <th>2022-01-30</th>\n",
       "      <td>Philadelphia</td>\n",
       "      <td>Pennsylvania</td>\n",
       "      <td>42101</td>\n",
       "      <td>50.77</td>\n",
       "    </tr>\n",
       "    <tr>\n",
       "      <th>2022-01-30</th>\n",
       "      <td>District of Columbia</td>\n",
       "      <td>District of Columbia</td>\n",
       "      <td>11001</td>\n",
       "      <td>52.97</td>\n",
       "    </tr>\n",
       "    <tr>\n",
       "      <th>2022-01-30</th>\n",
       "      <td>Fairfax</td>\n",
       "      <td>Virginia</td>\n",
       "      <td>51059</td>\n",
       "      <td>74.86</td>\n",
       "    </tr>\n",
       "    <tr>\n",
       "      <th>2022-01-30</th>\n",
       "      <td>New York City</td>\n",
       "      <td>New York</td>\n",
       "      <td>36998</td>\n",
       "      <td>75.46</td>\n",
       "    </tr>\n",
       "    <tr>\n",
       "      <th>2022-01-30</th>\n",
       "      <td>Putnam</td>\n",
       "      <td>Ohio</td>\n",
       "      <td>39137</td>\n",
       "      <td>75.94</td>\n",
       "    </tr>\n",
       "    <tr>\n",
       "      <th>2022-01-30</th>\n",
       "      <td>Franklin</td>\n",
       "      <td>Ohio</td>\n",
       "      <td>39049</td>\n",
       "      <td>79.72</td>\n",
       "    </tr>\n",
       "    <tr>\n",
       "      <th>2022-01-30</th>\n",
       "      <td>Arlington</td>\n",
       "      <td>Virginia</td>\n",
       "      <td>51013</td>\n",
       "      <td>84.14</td>\n",
       "    </tr>\n",
       "    <tr>\n",
       "      <th>2022-01-30</th>\n",
       "      <td>Denver</td>\n",
       "      <td>Colorado</td>\n",
       "      <td>08031</td>\n",
       "      <td>84.17</td>\n",
       "    </tr>\n",
       "    <tr>\n",
       "      <th>2022-01-30</th>\n",
       "      <td>Cook</td>\n",
       "      <td>Illinois</td>\n",
       "      <td>17031</td>\n",
       "      <td>88.31</td>\n",
       "    </tr>\n",
       "    <tr>\n",
       "      <th>2022-01-30</th>\n",
       "      <td>Alexandria city</td>\n",
       "      <td>Virginia</td>\n",
       "      <td>51510</td>\n",
       "      <td>91.67</td>\n",
       "    </tr>\n",
       "    <tr>\n",
       "      <th>2022-01-30</th>\n",
       "      <td>Wood</td>\n",
       "      <td>Ohio</td>\n",
       "      <td>39173</td>\n",
       "      <td>99.16</td>\n",
       "    </tr>\n",
       "    <tr>\n",
       "      <th>2022-01-30</th>\n",
       "      <td>Allegheny</td>\n",
       "      <td>Pennsylvania</td>\n",
       "      <td>42003</td>\n",
       "      <td>123.13</td>\n",
       "    </tr>\n",
       "    <tr>\n",
       "      <th>2022-01-30</th>\n",
       "      <td>Montgomery</td>\n",
       "      <td>Ohio</td>\n",
       "      <td>39113</td>\n",
       "      <td>124.05</td>\n",
       "    </tr>\n",
       "    <tr>\n",
       "      <th>2022-01-30</th>\n",
       "      <td>Boulder</td>\n",
       "      <td>Colorado</td>\n",
       "      <td>08013</td>\n",
       "      <td>129.72</td>\n",
       "    </tr>\n",
       "    <tr>\n",
       "      <th>2022-01-30</th>\n",
       "      <td>Manatee</td>\n",
       "      <td>Florida</td>\n",
       "      <td>12081</td>\n",
       "      <td>133.24</td>\n",
       "    </tr>\n",
       "    <tr>\n",
       "      <th>2022-01-30</th>\n",
       "      <td>Clermont</td>\n",
       "      <td>Ohio</td>\n",
       "      <td>39025</td>\n",
       "      <td>153.84</td>\n",
       "    </tr>\n",
       "    <tr>\n",
       "      <th>2022-01-30</th>\n",
       "      <td>San Francisco</td>\n",
       "      <td>California</td>\n",
       "      <td>06075</td>\n",
       "      <td>156.79</td>\n",
       "    </tr>\n",
       "    <tr>\n",
       "      <th>2022-01-30</th>\n",
       "      <td>Pima</td>\n",
       "      <td>Arizona</td>\n",
       "      <td>04019</td>\n",
       "      <td>187.36</td>\n",
       "    </tr>\n",
       "    <tr>\n",
       "      <th>2022-01-30</th>\n",
       "      <td>Los Angeles</td>\n",
       "      <td>California</td>\n",
       "      <td>06037</td>\n",
       "      <td>220.07</td>\n",
       "    </tr>\n",
       "  </tbody>\n",
       "</table>\n",
       "</div>"
      ],
      "text/plain": [
       "                          county                 state   fips  \\\n",
       "date                                                            \n",
       "2022-01-30             Baltimore              Maryland  24005   \n",
       "2022-01-30       Prince George's              Maryland  24033   \n",
       "2022-01-30            Montgomery              Maryland  24031   \n",
       "2022-01-30          Philadelphia          Pennsylvania  42101   \n",
       "2022-01-30  District of Columbia  District of Columbia  11001   \n",
       "2022-01-30               Fairfax              Virginia  51059   \n",
       "2022-01-30         New York City              New York  36998   \n",
       "2022-01-30                Putnam                  Ohio  39137   \n",
       "2022-01-30              Franklin                  Ohio  39049   \n",
       "2022-01-30             Arlington              Virginia  51013   \n",
       "2022-01-30                Denver              Colorado  08031   \n",
       "2022-01-30                  Cook              Illinois  17031   \n",
       "2022-01-30       Alexandria city              Virginia  51510   \n",
       "2022-01-30                  Wood                  Ohio  39173   \n",
       "2022-01-30             Allegheny          Pennsylvania  42003   \n",
       "2022-01-30            Montgomery                  Ohio  39113   \n",
       "2022-01-30               Boulder              Colorado  08013   \n",
       "2022-01-30               Manatee               Florida  12081   \n",
       "2022-01-30              Clermont                  Ohio  39025   \n",
       "2022-01-30         San Francisco            California  06075   \n",
       "2022-01-30                  Pima               Arizona  04019   \n",
       "2022-01-30           Los Angeles            California  06037   \n",
       "\n",
       "            cases_avg_per_100k  \n",
       "date                            \n",
       "2022-01-30               29.82  \n",
       "2022-01-30               31.00  \n",
       "2022-01-30               42.43  \n",
       "2022-01-30               50.77  \n",
       "2022-01-30               52.97  \n",
       "2022-01-30               74.86  \n",
       "2022-01-30               75.46  \n",
       "2022-01-30               75.94  \n",
       "2022-01-30               79.72  \n",
       "2022-01-30               84.14  \n",
       "2022-01-30               84.17  \n",
       "2022-01-30               88.31  \n",
       "2022-01-30               91.67  \n",
       "2022-01-30               99.16  \n",
       "2022-01-30              123.13  \n",
       "2022-01-30              124.05  \n",
       "2022-01-30              129.72  \n",
       "2022-01-30              133.24  \n",
       "2022-01-30              153.84  \n",
       "2022-01-30              156.79  \n",
       "2022-01-30              187.36  \n",
       "2022-01-30              220.07  "
      ]
     },
     "execution_count": 71,
     "metadata": {},
     "output_type": "execute_result"
    }
   ],
   "source": [
    "df_newest = df_combo_counties[df_combo_counties.index == most_recent_date].sort_values(\n",
    "    by=\"cases_avg_per_100k\"\n",
    ")\n",
    "df_newest\n",
    "\n",
    "# could add % change from week earlier\n"
   ]
  },
  {
   "cell_type": "code",
   "execution_count": null,
   "metadata": {},
   "outputs": [],
   "source": [
    "# Need a shape file or to  get lat lon for each of the counties\n",
    "# harder to find then expected. Found a mapping here: https://simplemaps.com/data/us-counties.\n"
   ]
  },
  {
   "cell_type": "code",
   "execution_count": null,
   "metadata": {},
   "outputs": [
    {
     "data": {
      "text/html": [
       "<div>\n",
       "<style scoped>\n",
       "    .dataframe tbody tr th:only-of-type {\n",
       "        vertical-align: middle;\n",
       "    }\n",
       "\n",
       "    .dataframe tbody tr th {\n",
       "        vertical-align: top;\n",
       "    }\n",
       "\n",
       "    .dataframe thead th {\n",
       "        text-align: right;\n",
       "    }\n",
       "</style>\n",
       "<table border=\"1\" class=\"dataframe\">\n",
       "  <thead>\n",
       "    <tr style=\"text-align: right;\">\n",
       "      <th></th>\n",
       "      <th>county</th>\n",
       "      <th>county_ascii</th>\n",
       "      <th>county_full</th>\n",
       "      <th>county_fips</th>\n",
       "      <th>state_id</th>\n",
       "      <th>state_name</th>\n",
       "      <th>lat</th>\n",
       "      <th>lng</th>\n",
       "      <th>population</th>\n",
       "    </tr>\n",
       "  </thead>\n",
       "  <tbody>\n",
       "    <tr>\n",
       "      <th>0</th>\n",
       "      <td>Los Angeles</td>\n",
       "      <td>Los Angeles</td>\n",
       "      <td>Los Angeles County</td>\n",
       "      <td>6037</td>\n",
       "      <td>CA</td>\n",
       "      <td>California</td>\n",
       "      <td>34.3207</td>\n",
       "      <td>-118.2248</td>\n",
       "      <td>10081570</td>\n",
       "    </tr>\n",
       "    <tr>\n",
       "      <th>1</th>\n",
       "      <td>Cook</td>\n",
       "      <td>Cook</td>\n",
       "      <td>Cook County</td>\n",
       "      <td>17031</td>\n",
       "      <td>IL</td>\n",
       "      <td>Illinois</td>\n",
       "      <td>41.8401</td>\n",
       "      <td>-87.8168</td>\n",
       "      <td>5198275</td>\n",
       "    </tr>\n",
       "    <tr>\n",
       "      <th>2</th>\n",
       "      <td>Harris</td>\n",
       "      <td>Harris</td>\n",
       "      <td>Harris County</td>\n",
       "      <td>48201</td>\n",
       "      <td>TX</td>\n",
       "      <td>Texas</td>\n",
       "      <td>29.8577</td>\n",
       "      <td>-95.3936</td>\n",
       "      <td>4646630</td>\n",
       "    </tr>\n",
       "    <tr>\n",
       "      <th>3</th>\n",
       "      <td>Maricopa</td>\n",
       "      <td>Maricopa</td>\n",
       "      <td>Maricopa County</td>\n",
       "      <td>4013</td>\n",
       "      <td>AZ</td>\n",
       "      <td>Arizona</td>\n",
       "      <td>33.3490</td>\n",
       "      <td>-112.4915</td>\n",
       "      <td>4328810</td>\n",
       "    </tr>\n",
       "    <tr>\n",
       "      <th>4</th>\n",
       "      <td>San Diego</td>\n",
       "      <td>San Diego</td>\n",
       "      <td>San Diego County</td>\n",
       "      <td>6073</td>\n",
       "      <td>CA</td>\n",
       "      <td>California</td>\n",
       "      <td>33.0341</td>\n",
       "      <td>-116.7353</td>\n",
       "      <td>3316073</td>\n",
       "    </tr>\n",
       "    <tr>\n",
       "      <th>...</th>\n",
       "      <td>...</td>\n",
       "      <td>...</td>\n",
       "      <td>...</td>\n",
       "      <td>...</td>\n",
       "      <td>...</td>\n",
       "      <td>...</td>\n",
       "      <td>...</td>\n",
       "      <td>...</td>\n",
       "      <td>...</td>\n",
       "    </tr>\n",
       "    <tr>\n",
       "      <th>3137</th>\n",
       "      <td>Arthur</td>\n",
       "      <td>Arthur</td>\n",
       "      <td>Arthur County</td>\n",
       "      <td>31005</td>\n",
       "      <td>NE</td>\n",
       "      <td>Nebraska</td>\n",
       "      <td>41.5689</td>\n",
       "      <td>-101.6958</td>\n",
       "      <td>427</td>\n",
       "    </tr>\n",
       "    <tr>\n",
       "      <th>3138</th>\n",
       "      <td>McPherson</td>\n",
       "      <td>McPherson</td>\n",
       "      <td>McPherson County</td>\n",
       "      <td>31117</td>\n",
       "      <td>NE</td>\n",
       "      <td>Nebraska</td>\n",
       "      <td>41.5682</td>\n",
       "      <td>-101.0605</td>\n",
       "      <td>395</td>\n",
       "    </tr>\n",
       "    <tr>\n",
       "      <th>3139</th>\n",
       "      <td>King</td>\n",
       "      <td>King</td>\n",
       "      <td>King County</td>\n",
       "      <td>48269</td>\n",
       "      <td>TX</td>\n",
       "      <td>Texas</td>\n",
       "      <td>33.6166</td>\n",
       "      <td>-100.2558</td>\n",
       "      <td>237</td>\n",
       "    </tr>\n",
       "    <tr>\n",
       "      <th>3140</th>\n",
       "      <td>Loving</td>\n",
       "      <td>Loving</td>\n",
       "      <td>Loving County</td>\n",
       "      <td>48301</td>\n",
       "      <td>TX</td>\n",
       "      <td>Texas</td>\n",
       "      <td>31.8493</td>\n",
       "      <td>-103.5799</td>\n",
       "      <td>98</td>\n",
       "    </tr>\n",
       "    <tr>\n",
       "      <th>3141</th>\n",
       "      <td>Kalawao</td>\n",
       "      <td>Kalawao</td>\n",
       "      <td>Kalawao County</td>\n",
       "      <td>15005</td>\n",
       "      <td>HI</td>\n",
       "      <td>Hawaii</td>\n",
       "      <td>21.1709</td>\n",
       "      <td>-156.9475</td>\n",
       "      <td>66</td>\n",
       "    </tr>\n",
       "  </tbody>\n",
       "</table>\n",
       "<p>3142 rows × 9 columns</p>\n",
       "</div>"
      ],
      "text/plain": [
       "           county county_ascii         county_full  county_fips state_id  \\\n",
       "0     Los Angeles  Los Angeles  Los Angeles County         6037       CA   \n",
       "1            Cook         Cook         Cook County        17031       IL   \n",
       "2          Harris       Harris       Harris County        48201       TX   \n",
       "3        Maricopa     Maricopa     Maricopa County         4013       AZ   \n",
       "4       San Diego    San Diego    San Diego County         6073       CA   \n",
       "...           ...          ...                 ...          ...      ...   \n",
       "3137       Arthur       Arthur       Arthur County        31005       NE   \n",
       "3138    McPherson    McPherson    McPherson County        31117       NE   \n",
       "3139         King         King         King County        48269       TX   \n",
       "3140       Loving       Loving       Loving County        48301       TX   \n",
       "3141      Kalawao      Kalawao      Kalawao County        15005       HI   \n",
       "\n",
       "      state_name      lat       lng  population  \n",
       "0     California  34.3207 -118.2248    10081570  \n",
       "1       Illinois  41.8401  -87.8168     5198275  \n",
       "2          Texas  29.8577  -95.3936     4646630  \n",
       "3        Arizona  33.3490 -112.4915     4328810  \n",
       "4     California  33.0341 -116.7353     3316073  \n",
       "...          ...      ...       ...         ...  \n",
       "3137    Nebraska  41.5689 -101.6958         427  \n",
       "3138    Nebraska  41.5682 -101.0605         395  \n",
       "3139       Texas  33.6166 -100.2558         237  \n",
       "3140       Texas  31.8493 -103.5799          98  \n",
       "3141      Hawaii  21.1709 -156.9475          66  \n",
       "\n",
       "[3142 rows x 9 columns]"
      ]
     },
     "execution_count": 72,
     "metadata": {},
     "output_type": "execute_result"
    }
   ],
   "source": [
    "df_mapping = pd.read_csv('uscounties.csv')\n",
    "df_mapping"
   ]
  },
  {
   "cell_type": "markdown",
   "metadata": {},
   "source": [
    "Need to add a 0 in front for the mapping county fips."
   ]
  },
  {
   "cell_type": "code",
   "execution_count": null,
   "metadata": {},
   "outputs": [
    {
     "data": {
      "text/html": [
       "<div>\n",
       "<style scoped>\n",
       "    .dataframe tbody tr th:only-of-type {\n",
       "        vertical-align: middle;\n",
       "    }\n",
       "\n",
       "    .dataframe tbody tr th {\n",
       "        vertical-align: top;\n",
       "    }\n",
       "\n",
       "    .dataframe thead th {\n",
       "        text-align: right;\n",
       "    }\n",
       "</style>\n",
       "<table border=\"1\" class=\"dataframe\">\n",
       "  <thead>\n",
       "    <tr style=\"text-align: right;\">\n",
       "      <th></th>\n",
       "      <th>county</th>\n",
       "      <th>county_ascii</th>\n",
       "      <th>county_full</th>\n",
       "      <th>county_fips</th>\n",
       "      <th>state_id</th>\n",
       "      <th>state_name</th>\n",
       "      <th>lat</th>\n",
       "      <th>lng</th>\n",
       "      <th>population</th>\n",
       "      <th>county_fips_str</th>\n",
       "    </tr>\n",
       "  </thead>\n",
       "  <tbody>\n",
       "    <tr>\n",
       "      <th>0</th>\n",
       "      <td>Los Angeles</td>\n",
       "      <td>Los Angeles</td>\n",
       "      <td>Los Angeles County</td>\n",
       "      <td>6037</td>\n",
       "      <td>CA</td>\n",
       "      <td>California</td>\n",
       "      <td>34.3207</td>\n",
       "      <td>-118.2248</td>\n",
       "      <td>10081570</td>\n",
       "      <td>06037</td>\n",
       "    </tr>\n",
       "    <tr>\n",
       "      <th>1</th>\n",
       "      <td>Cook</td>\n",
       "      <td>Cook</td>\n",
       "      <td>Cook County</td>\n",
       "      <td>17031</td>\n",
       "      <td>IL</td>\n",
       "      <td>Illinois</td>\n",
       "      <td>41.8401</td>\n",
       "      <td>-87.8168</td>\n",
       "      <td>5198275</td>\n",
       "      <td>17031</td>\n",
       "    </tr>\n",
       "    <tr>\n",
       "      <th>2</th>\n",
       "      <td>Harris</td>\n",
       "      <td>Harris</td>\n",
       "      <td>Harris County</td>\n",
       "      <td>48201</td>\n",
       "      <td>TX</td>\n",
       "      <td>Texas</td>\n",
       "      <td>29.8577</td>\n",
       "      <td>-95.3936</td>\n",
       "      <td>4646630</td>\n",
       "      <td>48201</td>\n",
       "    </tr>\n",
       "    <tr>\n",
       "      <th>3</th>\n",
       "      <td>Maricopa</td>\n",
       "      <td>Maricopa</td>\n",
       "      <td>Maricopa County</td>\n",
       "      <td>4013</td>\n",
       "      <td>AZ</td>\n",
       "      <td>Arizona</td>\n",
       "      <td>33.3490</td>\n",
       "      <td>-112.4915</td>\n",
       "      <td>4328810</td>\n",
       "      <td>04013</td>\n",
       "    </tr>\n",
       "    <tr>\n",
       "      <th>4</th>\n",
       "      <td>San Diego</td>\n",
       "      <td>San Diego</td>\n",
       "      <td>San Diego County</td>\n",
       "      <td>6073</td>\n",
       "      <td>CA</td>\n",
       "      <td>California</td>\n",
       "      <td>33.0341</td>\n",
       "      <td>-116.7353</td>\n",
       "      <td>3316073</td>\n",
       "      <td>06073</td>\n",
       "    </tr>\n",
       "    <tr>\n",
       "      <th>...</th>\n",
       "      <td>...</td>\n",
       "      <td>...</td>\n",
       "      <td>...</td>\n",
       "      <td>...</td>\n",
       "      <td>...</td>\n",
       "      <td>...</td>\n",
       "      <td>...</td>\n",
       "      <td>...</td>\n",
       "      <td>...</td>\n",
       "      <td>...</td>\n",
       "    </tr>\n",
       "    <tr>\n",
       "      <th>3137</th>\n",
       "      <td>Arthur</td>\n",
       "      <td>Arthur</td>\n",
       "      <td>Arthur County</td>\n",
       "      <td>31005</td>\n",
       "      <td>NE</td>\n",
       "      <td>Nebraska</td>\n",
       "      <td>41.5689</td>\n",
       "      <td>-101.6958</td>\n",
       "      <td>427</td>\n",
       "      <td>31005</td>\n",
       "    </tr>\n",
       "    <tr>\n",
       "      <th>3138</th>\n",
       "      <td>McPherson</td>\n",
       "      <td>McPherson</td>\n",
       "      <td>McPherson County</td>\n",
       "      <td>31117</td>\n",
       "      <td>NE</td>\n",
       "      <td>Nebraska</td>\n",
       "      <td>41.5682</td>\n",
       "      <td>-101.0605</td>\n",
       "      <td>395</td>\n",
       "      <td>31117</td>\n",
       "    </tr>\n",
       "    <tr>\n",
       "      <th>3139</th>\n",
       "      <td>King</td>\n",
       "      <td>King</td>\n",
       "      <td>King County</td>\n",
       "      <td>48269</td>\n",
       "      <td>TX</td>\n",
       "      <td>Texas</td>\n",
       "      <td>33.6166</td>\n",
       "      <td>-100.2558</td>\n",
       "      <td>237</td>\n",
       "      <td>48269</td>\n",
       "    </tr>\n",
       "    <tr>\n",
       "      <th>3140</th>\n",
       "      <td>Loving</td>\n",
       "      <td>Loving</td>\n",
       "      <td>Loving County</td>\n",
       "      <td>48301</td>\n",
       "      <td>TX</td>\n",
       "      <td>Texas</td>\n",
       "      <td>31.8493</td>\n",
       "      <td>-103.5799</td>\n",
       "      <td>98</td>\n",
       "      <td>48301</td>\n",
       "    </tr>\n",
       "    <tr>\n",
       "      <th>3141</th>\n",
       "      <td>Kalawao</td>\n",
       "      <td>Kalawao</td>\n",
       "      <td>Kalawao County</td>\n",
       "      <td>15005</td>\n",
       "      <td>HI</td>\n",
       "      <td>Hawaii</td>\n",
       "      <td>21.1709</td>\n",
       "      <td>-156.9475</td>\n",
       "      <td>66</td>\n",
       "      <td>15005</td>\n",
       "    </tr>\n",
       "  </tbody>\n",
       "</table>\n",
       "<p>3142 rows × 10 columns</p>\n",
       "</div>"
      ],
      "text/plain": [
       "           county county_ascii         county_full  county_fips state_id  \\\n",
       "0     Los Angeles  Los Angeles  Los Angeles County         6037       CA   \n",
       "1            Cook         Cook         Cook County        17031       IL   \n",
       "2          Harris       Harris       Harris County        48201       TX   \n",
       "3        Maricopa     Maricopa     Maricopa County         4013       AZ   \n",
       "4       San Diego    San Diego    San Diego County         6073       CA   \n",
       "...           ...          ...                 ...          ...      ...   \n",
       "3137       Arthur       Arthur       Arthur County        31005       NE   \n",
       "3138    McPherson    McPherson    McPherson County        31117       NE   \n",
       "3139         King         King         King County        48269       TX   \n",
       "3140       Loving       Loving       Loving County        48301       TX   \n",
       "3141      Kalawao      Kalawao      Kalawao County        15005       HI   \n",
       "\n",
       "      state_name      lat       lng  population county_fips_str  \n",
       "0     California  34.3207 -118.2248    10081570           06037  \n",
       "1       Illinois  41.8401  -87.8168     5198275           17031  \n",
       "2          Texas  29.8577  -95.3936     4646630           48201  \n",
       "3        Arizona  33.3490 -112.4915     4328810           04013  \n",
       "4     California  33.0341 -116.7353     3316073           06073  \n",
       "...          ...      ...       ...         ...             ...  \n",
       "3137    Nebraska  41.5689 -101.6958         427           31005  \n",
       "3138    Nebraska  41.5682 -101.0605         395           31117  \n",
       "3139       Texas  33.6166 -100.2558         237           48269  \n",
       "3140       Texas  31.8493 -103.5799          98           48301  \n",
       "3141      Hawaii  21.1709 -156.9475          66           15005  \n",
       "\n",
       "[3142 rows x 10 columns]"
      ]
     },
     "execution_count": 73,
     "metadata": {},
     "output_type": "execute_result"
    }
   ],
   "source": [
    "df_mapping['county_fips_str'] = df_mapping['county_fips'].astype(str).str.zfill(5)\n",
    "df_mapping"
   ]
  },
  {
   "cell_type": "code",
   "execution_count": null,
   "metadata": {},
   "outputs": [
    {
     "data": {
      "text/html": [
       "<div>\n",
       "<style scoped>\n",
       "    .dataframe tbody tr th:only-of-type {\n",
       "        vertical-align: middle;\n",
       "    }\n",
       "\n",
       "    .dataframe tbody tr th {\n",
       "        vertical-align: top;\n",
       "    }\n",
       "\n",
       "    .dataframe thead th {\n",
       "        text-align: right;\n",
       "    }\n",
       "</style>\n",
       "<table border=\"1\" class=\"dataframe\">\n",
       "  <thead>\n",
       "    <tr style=\"text-align: right;\">\n",
       "      <th></th>\n",
       "      <th>county_x</th>\n",
       "      <th>state</th>\n",
       "      <th>fips</th>\n",
       "      <th>cases_avg_per_100k</th>\n",
       "      <th>county_y</th>\n",
       "      <th>county_ascii</th>\n",
       "      <th>county_full</th>\n",
       "      <th>county_fips</th>\n",
       "      <th>state_id</th>\n",
       "      <th>state_name</th>\n",
       "      <th>lat</th>\n",
       "      <th>lng</th>\n",
       "      <th>population</th>\n",
       "      <th>county_fips_str</th>\n",
       "    </tr>\n",
       "  </thead>\n",
       "  <tbody>\n",
       "    <tr>\n",
       "      <th>0</th>\n",
       "      <td>Baltimore</td>\n",
       "      <td>Maryland</td>\n",
       "      <td>24005</td>\n",
       "      <td>29.82</td>\n",
       "      <td>Baltimore</td>\n",
       "      <td>Baltimore</td>\n",
       "      <td>Baltimore County</td>\n",
       "      <td>24005.0</td>\n",
       "      <td>MD</td>\n",
       "      <td>Maryland</td>\n",
       "      <td>39.4627</td>\n",
       "      <td>-76.6393</td>\n",
       "      <td>828018.0</td>\n",
       "      <td>24005</td>\n",
       "    </tr>\n",
       "    <tr>\n",
       "      <th>1</th>\n",
       "      <td>Prince George's</td>\n",
       "      <td>Maryland</td>\n",
       "      <td>24033</td>\n",
       "      <td>31.00</td>\n",
       "      <td>Prince George's</td>\n",
       "      <td>Prince George's</td>\n",
       "      <td>Prince George's County</td>\n",
       "      <td>24033.0</td>\n",
       "      <td>MD</td>\n",
       "      <td>Maryland</td>\n",
       "      <td>38.8295</td>\n",
       "      <td>-76.8473</td>\n",
       "      <td>908670.0</td>\n",
       "      <td>24033</td>\n",
       "    </tr>\n",
       "    <tr>\n",
       "      <th>2</th>\n",
       "      <td>Montgomery</td>\n",
       "      <td>Maryland</td>\n",
       "      <td>24031</td>\n",
       "      <td>42.43</td>\n",
       "      <td>Montgomery</td>\n",
       "      <td>Montgomery</td>\n",
       "      <td>Montgomery County</td>\n",
       "      <td>24031.0</td>\n",
       "      <td>MD</td>\n",
       "      <td>Maryland</td>\n",
       "      <td>39.1363</td>\n",
       "      <td>-77.2042</td>\n",
       "      <td>1043530.0</td>\n",
       "      <td>24031</td>\n",
       "    </tr>\n",
       "    <tr>\n",
       "      <th>3</th>\n",
       "      <td>Philadelphia</td>\n",
       "      <td>Pennsylvania</td>\n",
       "      <td>42101</td>\n",
       "      <td>50.77</td>\n",
       "      <td>Philadelphia</td>\n",
       "      <td>Philadelphia</td>\n",
       "      <td>Philadelphia County</td>\n",
       "      <td>42101.0</td>\n",
       "      <td>PA</td>\n",
       "      <td>Pennsylvania</td>\n",
       "      <td>40.0077</td>\n",
       "      <td>-75.1339</td>\n",
       "      <td>1579075.0</td>\n",
       "      <td>42101</td>\n",
       "    </tr>\n",
       "    <tr>\n",
       "      <th>4</th>\n",
       "      <td>District of Columbia</td>\n",
       "      <td>District of Columbia</td>\n",
       "      <td>11001</td>\n",
       "      <td>52.97</td>\n",
       "      <td>District of Columbia</td>\n",
       "      <td>District of Columbia</td>\n",
       "      <td>District of Columbia</td>\n",
       "      <td>11001.0</td>\n",
       "      <td>DC</td>\n",
       "      <td>District of Columbia</td>\n",
       "      <td>38.9047</td>\n",
       "      <td>-77.0163</td>\n",
       "      <td>692683.0</td>\n",
       "      <td>11001</td>\n",
       "    </tr>\n",
       "    <tr>\n",
       "      <th>5</th>\n",
       "      <td>Fairfax</td>\n",
       "      <td>Virginia</td>\n",
       "      <td>51059</td>\n",
       "      <td>74.86</td>\n",
       "      <td>Fairfax</td>\n",
       "      <td>Fairfax</td>\n",
       "      <td>Fairfax County</td>\n",
       "      <td>51059.0</td>\n",
       "      <td>VA</td>\n",
       "      <td>Virginia</td>\n",
       "      <td>38.8368</td>\n",
       "      <td>-77.2770</td>\n",
       "      <td>1145862.0</td>\n",
       "      <td>51059</td>\n",
       "    </tr>\n",
       "    <tr>\n",
       "      <th>6</th>\n",
       "      <td>New York City</td>\n",
       "      <td>New York</td>\n",
       "      <td>36998</td>\n",
       "      <td>75.46</td>\n",
       "      <td>NaN</td>\n",
       "      <td>NaN</td>\n",
       "      <td>NaN</td>\n",
       "      <td>NaN</td>\n",
       "      <td>NaN</td>\n",
       "      <td>NaN</td>\n",
       "      <td>NaN</td>\n",
       "      <td>NaN</td>\n",
       "      <td>NaN</td>\n",
       "      <td>NaN</td>\n",
       "    </tr>\n",
       "    <tr>\n",
       "      <th>7</th>\n",
       "      <td>Putnam</td>\n",
       "      <td>Ohio</td>\n",
       "      <td>39137</td>\n",
       "      <td>75.94</td>\n",
       "      <td>Putnam</td>\n",
       "      <td>Putnam</td>\n",
       "      <td>Putnam County</td>\n",
       "      <td>39137.0</td>\n",
       "      <td>OH</td>\n",
       "      <td>Ohio</td>\n",
       "      <td>41.0221</td>\n",
       "      <td>-84.1317</td>\n",
       "      <td>33911.0</td>\n",
       "      <td>39137</td>\n",
       "    </tr>\n",
       "    <tr>\n",
       "      <th>8</th>\n",
       "      <td>Franklin</td>\n",
       "      <td>Ohio</td>\n",
       "      <td>39049</td>\n",
       "      <td>79.72</td>\n",
       "      <td>Franklin</td>\n",
       "      <td>Franklin</td>\n",
       "      <td>Franklin County</td>\n",
       "      <td>39049.0</td>\n",
       "      <td>OH</td>\n",
       "      <td>Ohio</td>\n",
       "      <td>39.9695</td>\n",
       "      <td>-83.0093</td>\n",
       "      <td>1290360.0</td>\n",
       "      <td>39049</td>\n",
       "    </tr>\n",
       "    <tr>\n",
       "      <th>9</th>\n",
       "      <td>Arlington</td>\n",
       "      <td>Virginia</td>\n",
       "      <td>51013</td>\n",
       "      <td>84.14</td>\n",
       "      <td>Arlington</td>\n",
       "      <td>Arlington</td>\n",
       "      <td>Arlington County</td>\n",
       "      <td>51013.0</td>\n",
       "      <td>VA</td>\n",
       "      <td>Virginia</td>\n",
       "      <td>38.8786</td>\n",
       "      <td>-77.1011</td>\n",
       "      <td>233464.0</td>\n",
       "      <td>51013</td>\n",
       "    </tr>\n",
       "    <tr>\n",
       "      <th>10</th>\n",
       "      <td>Denver</td>\n",
       "      <td>Colorado</td>\n",
       "      <td>08031</td>\n",
       "      <td>84.17</td>\n",
       "      <td>Denver</td>\n",
       "      <td>Denver</td>\n",
       "      <td>Denver County</td>\n",
       "      <td>8031.0</td>\n",
       "      <td>CO</td>\n",
       "      <td>Colorado</td>\n",
       "      <td>39.7621</td>\n",
       "      <td>-104.8759</td>\n",
       "      <td>705576.0</td>\n",
       "      <td>08031</td>\n",
       "    </tr>\n",
       "    <tr>\n",
       "      <th>11</th>\n",
       "      <td>Cook</td>\n",
       "      <td>Illinois</td>\n",
       "      <td>17031</td>\n",
       "      <td>88.31</td>\n",
       "      <td>Cook</td>\n",
       "      <td>Cook</td>\n",
       "      <td>Cook County</td>\n",
       "      <td>17031.0</td>\n",
       "      <td>IL</td>\n",
       "      <td>Illinois</td>\n",
       "      <td>41.8401</td>\n",
       "      <td>-87.8168</td>\n",
       "      <td>5198275.0</td>\n",
       "      <td>17031</td>\n",
       "    </tr>\n",
       "    <tr>\n",
       "      <th>12</th>\n",
       "      <td>Alexandria city</td>\n",
       "      <td>Virginia</td>\n",
       "      <td>51510</td>\n",
       "      <td>91.67</td>\n",
       "      <td>Alexandria</td>\n",
       "      <td>Alexandria</td>\n",
       "      <td>Alexandria City</td>\n",
       "      <td>51510.0</td>\n",
       "      <td>VA</td>\n",
       "      <td>Virginia</td>\n",
       "      <td>38.8185</td>\n",
       "      <td>-77.0861</td>\n",
       "      <td>157613.0</td>\n",
       "      <td>51510</td>\n",
       "    </tr>\n",
       "    <tr>\n",
       "      <th>13</th>\n",
       "      <td>Wood</td>\n",
       "      <td>Ohio</td>\n",
       "      <td>39173</td>\n",
       "      <td>99.16</td>\n",
       "      <td>Wood</td>\n",
       "      <td>Wood</td>\n",
       "      <td>Wood County</td>\n",
       "      <td>39173.0</td>\n",
       "      <td>OH</td>\n",
       "      <td>Ohio</td>\n",
       "      <td>41.3617</td>\n",
       "      <td>-83.6230</td>\n",
       "      <td>130150.0</td>\n",
       "      <td>39173</td>\n",
       "    </tr>\n",
       "    <tr>\n",
       "      <th>14</th>\n",
       "      <td>Allegheny</td>\n",
       "      <td>Pennsylvania</td>\n",
       "      <td>42003</td>\n",
       "      <td>123.13</td>\n",
       "      <td>Allegheny</td>\n",
       "      <td>Allegheny</td>\n",
       "      <td>Allegheny County</td>\n",
       "      <td>42003.0</td>\n",
       "      <td>PA</td>\n",
       "      <td>Pennsylvania</td>\n",
       "      <td>40.4688</td>\n",
       "      <td>-79.9812</td>\n",
       "      <td>1221744.0</td>\n",
       "      <td>42003</td>\n",
       "    </tr>\n",
       "    <tr>\n",
       "      <th>15</th>\n",
       "      <td>Montgomery</td>\n",
       "      <td>Ohio</td>\n",
       "      <td>39113</td>\n",
       "      <td>124.05</td>\n",
       "      <td>Montgomery</td>\n",
       "      <td>Montgomery</td>\n",
       "      <td>Montgomery County</td>\n",
       "      <td>39113.0</td>\n",
       "      <td>OH</td>\n",
       "      <td>Ohio</td>\n",
       "      <td>39.7546</td>\n",
       "      <td>-84.2906</td>\n",
       "      <td>531670.0</td>\n",
       "      <td>39113</td>\n",
       "    </tr>\n",
       "    <tr>\n",
       "      <th>16</th>\n",
       "      <td>Boulder</td>\n",
       "      <td>Colorado</td>\n",
       "      <td>08013</td>\n",
       "      <td>129.72</td>\n",
       "      <td>Boulder</td>\n",
       "      <td>Boulder</td>\n",
       "      <td>Boulder County</td>\n",
       "      <td>8013.0</td>\n",
       "      <td>CO</td>\n",
       "      <td>Colorado</td>\n",
       "      <td>40.0925</td>\n",
       "      <td>-105.3577</td>\n",
       "      <td>322510.0</td>\n",
       "      <td>08013</td>\n",
       "    </tr>\n",
       "    <tr>\n",
       "      <th>17</th>\n",
       "      <td>Manatee</td>\n",
       "      <td>Florida</td>\n",
       "      <td>12081</td>\n",
       "      <td>133.24</td>\n",
       "      <td>Manatee</td>\n",
       "      <td>Manatee</td>\n",
       "      <td>Manatee County</td>\n",
       "      <td>12081.0</td>\n",
       "      <td>FL</td>\n",
       "      <td>Florida</td>\n",
       "      <td>27.4719</td>\n",
       "      <td>-82.3153</td>\n",
       "      <td>384213.0</td>\n",
       "      <td>12081</td>\n",
       "    </tr>\n",
       "    <tr>\n",
       "      <th>18</th>\n",
       "      <td>Clermont</td>\n",
       "      <td>Ohio</td>\n",
       "      <td>39025</td>\n",
       "      <td>153.84</td>\n",
       "      <td>Clermont</td>\n",
       "      <td>Clermont</td>\n",
       "      <td>Clermont County</td>\n",
       "      <td>39025.0</td>\n",
       "      <td>OH</td>\n",
       "      <td>Ohio</td>\n",
       "      <td>39.0475</td>\n",
       "      <td>-84.1519</td>\n",
       "      <td>204275.0</td>\n",
       "      <td>39025</td>\n",
       "    </tr>\n",
       "    <tr>\n",
       "      <th>19</th>\n",
       "      <td>San Francisco</td>\n",
       "      <td>California</td>\n",
       "      <td>06075</td>\n",
       "      <td>156.79</td>\n",
       "      <td>San Francisco</td>\n",
       "      <td>San Francisco</td>\n",
       "      <td>San Francisco County</td>\n",
       "      <td>6075.0</td>\n",
       "      <td>CA</td>\n",
       "      <td>California</td>\n",
       "      <td>37.7562</td>\n",
       "      <td>-122.4430</td>\n",
       "      <td>874961.0</td>\n",
       "      <td>06075</td>\n",
       "    </tr>\n",
       "    <tr>\n",
       "      <th>20</th>\n",
       "      <td>Pima</td>\n",
       "      <td>Arizona</td>\n",
       "      <td>04019</td>\n",
       "      <td>187.36</td>\n",
       "      <td>Pima</td>\n",
       "      <td>Pima</td>\n",
       "      <td>Pima County</td>\n",
       "      <td>4019.0</td>\n",
       "      <td>AZ</td>\n",
       "      <td>Arizona</td>\n",
       "      <td>32.0974</td>\n",
       "      <td>-111.7899</td>\n",
       "      <td>1027207.0</td>\n",
       "      <td>04019</td>\n",
       "    </tr>\n",
       "    <tr>\n",
       "      <th>21</th>\n",
       "      <td>Los Angeles</td>\n",
       "      <td>California</td>\n",
       "      <td>06037</td>\n",
       "      <td>220.07</td>\n",
       "      <td>Los Angeles</td>\n",
       "      <td>Los Angeles</td>\n",
       "      <td>Los Angeles County</td>\n",
       "      <td>6037.0</td>\n",
       "      <td>CA</td>\n",
       "      <td>California</td>\n",
       "      <td>34.3207</td>\n",
       "      <td>-118.2248</td>\n",
       "      <td>10081570.0</td>\n",
       "      <td>06037</td>\n",
       "    </tr>\n",
       "  </tbody>\n",
       "</table>\n",
       "</div>"
      ],
      "text/plain": [
       "                county_x                 state   fips  cases_avg_per_100k  \\\n",
       "0              Baltimore              Maryland  24005               29.82   \n",
       "1        Prince George's              Maryland  24033               31.00   \n",
       "2             Montgomery              Maryland  24031               42.43   \n",
       "3           Philadelphia          Pennsylvania  42101               50.77   \n",
       "4   District of Columbia  District of Columbia  11001               52.97   \n",
       "5                Fairfax              Virginia  51059               74.86   \n",
       "6          New York City              New York  36998               75.46   \n",
       "7                 Putnam                  Ohio  39137               75.94   \n",
       "8               Franklin                  Ohio  39049               79.72   \n",
       "9              Arlington              Virginia  51013               84.14   \n",
       "10                Denver              Colorado  08031               84.17   \n",
       "11                  Cook              Illinois  17031               88.31   \n",
       "12       Alexandria city              Virginia  51510               91.67   \n",
       "13                  Wood                  Ohio  39173               99.16   \n",
       "14             Allegheny          Pennsylvania  42003              123.13   \n",
       "15            Montgomery                  Ohio  39113              124.05   \n",
       "16               Boulder              Colorado  08013              129.72   \n",
       "17               Manatee               Florida  12081              133.24   \n",
       "18              Clermont                  Ohio  39025              153.84   \n",
       "19         San Francisco            California  06075              156.79   \n",
       "20                  Pima               Arizona  04019              187.36   \n",
       "21           Los Angeles            California  06037              220.07   \n",
       "\n",
       "                county_y          county_ascii             county_full  \\\n",
       "0              Baltimore             Baltimore        Baltimore County   \n",
       "1        Prince George's       Prince George's  Prince George's County   \n",
       "2             Montgomery            Montgomery       Montgomery County   \n",
       "3           Philadelphia          Philadelphia     Philadelphia County   \n",
       "4   District of Columbia  District of Columbia    District of Columbia   \n",
       "5                Fairfax               Fairfax          Fairfax County   \n",
       "6                    NaN                   NaN                     NaN   \n",
       "7                 Putnam                Putnam           Putnam County   \n",
       "8               Franklin              Franklin         Franklin County   \n",
       "9              Arlington             Arlington        Arlington County   \n",
       "10                Denver                Denver           Denver County   \n",
       "11                  Cook                  Cook             Cook County   \n",
       "12            Alexandria            Alexandria         Alexandria City   \n",
       "13                  Wood                  Wood             Wood County   \n",
       "14             Allegheny             Allegheny        Allegheny County   \n",
       "15            Montgomery            Montgomery       Montgomery County   \n",
       "16               Boulder               Boulder          Boulder County   \n",
       "17               Manatee               Manatee          Manatee County   \n",
       "18              Clermont              Clermont         Clermont County   \n",
       "19         San Francisco         San Francisco    San Francisco County   \n",
       "20                  Pima                  Pima             Pima County   \n",
       "21           Los Angeles           Los Angeles      Los Angeles County   \n",
       "\n",
       "    county_fips state_id            state_name      lat       lng  population  \\\n",
       "0       24005.0       MD              Maryland  39.4627  -76.6393    828018.0   \n",
       "1       24033.0       MD              Maryland  38.8295  -76.8473    908670.0   \n",
       "2       24031.0       MD              Maryland  39.1363  -77.2042   1043530.0   \n",
       "3       42101.0       PA          Pennsylvania  40.0077  -75.1339   1579075.0   \n",
       "4       11001.0       DC  District of Columbia  38.9047  -77.0163    692683.0   \n",
       "5       51059.0       VA              Virginia  38.8368  -77.2770   1145862.0   \n",
       "6           NaN      NaN                   NaN      NaN       NaN         NaN   \n",
       "7       39137.0       OH                  Ohio  41.0221  -84.1317     33911.0   \n",
       "8       39049.0       OH                  Ohio  39.9695  -83.0093   1290360.0   \n",
       "9       51013.0       VA              Virginia  38.8786  -77.1011    233464.0   \n",
       "10       8031.0       CO              Colorado  39.7621 -104.8759    705576.0   \n",
       "11      17031.0       IL              Illinois  41.8401  -87.8168   5198275.0   \n",
       "12      51510.0       VA              Virginia  38.8185  -77.0861    157613.0   \n",
       "13      39173.0       OH                  Ohio  41.3617  -83.6230    130150.0   \n",
       "14      42003.0       PA          Pennsylvania  40.4688  -79.9812   1221744.0   \n",
       "15      39113.0       OH                  Ohio  39.7546  -84.2906    531670.0   \n",
       "16       8013.0       CO              Colorado  40.0925 -105.3577    322510.0   \n",
       "17      12081.0       FL               Florida  27.4719  -82.3153    384213.0   \n",
       "18      39025.0       OH                  Ohio  39.0475  -84.1519    204275.0   \n",
       "19       6075.0       CA            California  37.7562 -122.4430    874961.0   \n",
       "20       4019.0       AZ               Arizona  32.0974 -111.7899   1027207.0   \n",
       "21       6037.0       CA            California  34.3207 -118.2248  10081570.0   \n",
       "\n",
       "   county_fips_str  \n",
       "0            24005  \n",
       "1            24033  \n",
       "2            24031  \n",
       "3            42101  \n",
       "4            11001  \n",
       "5            51059  \n",
       "6              NaN  \n",
       "7            39137  \n",
       "8            39049  \n",
       "9            51013  \n",
       "10           08031  \n",
       "11           17031  \n",
       "12           51510  \n",
       "13           39173  \n",
       "14           42003  \n",
       "15           39113  \n",
       "16           08013  \n",
       "17           12081  \n",
       "18           39025  \n",
       "19           06075  \n",
       "20           04019  \n",
       "21           06037  "
      ]
     },
     "execution_count": 74,
     "metadata": {},
     "output_type": "execute_result"
    }
   ],
   "source": [
    "df_ll = pd.merge(left=df_newest, right=df_mapping, how='left', left_on='fips', right_on='county_fips_str')\n",
    "df_ll\n"
   ]
  },
  {
   "cell_type": "code",
   "execution_count": null,
   "metadata": {},
   "outputs": [],
   "source": [
    "df_ll.set_index('county_x', inplace=True)\n"
   ]
  },
  {
   "cell_type": "code",
   "execution_count": null,
   "metadata": {},
   "outputs": [
    {
     "data": {
      "text/html": [
       "<div>\n",
       "<style scoped>\n",
       "    .dataframe tbody tr th:only-of-type {\n",
       "        vertical-align: middle;\n",
       "    }\n",
       "\n",
       "    .dataframe tbody tr th {\n",
       "        vertical-align: top;\n",
       "    }\n",
       "\n",
       "    .dataframe thead th {\n",
       "        text-align: right;\n",
       "    }\n",
       "</style>\n",
       "<table border=\"1\" class=\"dataframe\">\n",
       "  <thead>\n",
       "    <tr style=\"text-align: right;\">\n",
       "      <th></th>\n",
       "      <th>state</th>\n",
       "      <th>fips</th>\n",
       "      <th>cases_avg_per_100k</th>\n",
       "      <th>county_y</th>\n",
       "      <th>county_ascii</th>\n",
       "      <th>county_full</th>\n",
       "      <th>county_fips</th>\n",
       "      <th>state_id</th>\n",
       "      <th>state_name</th>\n",
       "      <th>lat</th>\n",
       "      <th>lng</th>\n",
       "      <th>population</th>\n",
       "      <th>county_fips_str</th>\n",
       "    </tr>\n",
       "    <tr>\n",
       "      <th>county_x</th>\n",
       "      <th></th>\n",
       "      <th></th>\n",
       "      <th></th>\n",
       "      <th></th>\n",
       "      <th></th>\n",
       "      <th></th>\n",
       "      <th></th>\n",
       "      <th></th>\n",
       "      <th></th>\n",
       "      <th></th>\n",
       "      <th></th>\n",
       "      <th></th>\n",
       "      <th></th>\n",
       "    </tr>\n",
       "  </thead>\n",
       "  <tbody>\n",
       "    <tr>\n",
       "      <th>Baltimore</th>\n",
       "      <td>Maryland</td>\n",
       "      <td>24005</td>\n",
       "      <td>29.82</td>\n",
       "      <td>Baltimore</td>\n",
       "      <td>Baltimore</td>\n",
       "      <td>Baltimore County</td>\n",
       "      <td>24005.0</td>\n",
       "      <td>MD</td>\n",
       "      <td>Maryland</td>\n",
       "      <td>39.4627</td>\n",
       "      <td>-76.6393</td>\n",
       "      <td>828018.0</td>\n",
       "      <td>24005</td>\n",
       "    </tr>\n",
       "    <tr>\n",
       "      <th>Prince George's</th>\n",
       "      <td>Maryland</td>\n",
       "      <td>24033</td>\n",
       "      <td>31.00</td>\n",
       "      <td>Prince George's</td>\n",
       "      <td>Prince George's</td>\n",
       "      <td>Prince George's County</td>\n",
       "      <td>24033.0</td>\n",
       "      <td>MD</td>\n",
       "      <td>Maryland</td>\n",
       "      <td>38.8295</td>\n",
       "      <td>-76.8473</td>\n",
       "      <td>908670.0</td>\n",
       "      <td>24033</td>\n",
       "    </tr>\n",
       "    <tr>\n",
       "      <th>Montgomery</th>\n",
       "      <td>Maryland</td>\n",
       "      <td>24031</td>\n",
       "      <td>42.43</td>\n",
       "      <td>Montgomery</td>\n",
       "      <td>Montgomery</td>\n",
       "      <td>Montgomery County</td>\n",
       "      <td>24031.0</td>\n",
       "      <td>MD</td>\n",
       "      <td>Maryland</td>\n",
       "      <td>39.1363</td>\n",
       "      <td>-77.2042</td>\n",
       "      <td>1043530.0</td>\n",
       "      <td>24031</td>\n",
       "    </tr>\n",
       "    <tr>\n",
       "      <th>Philadelphia</th>\n",
       "      <td>Pennsylvania</td>\n",
       "      <td>42101</td>\n",
       "      <td>50.77</td>\n",
       "      <td>Philadelphia</td>\n",
       "      <td>Philadelphia</td>\n",
       "      <td>Philadelphia County</td>\n",
       "      <td>42101.0</td>\n",
       "      <td>PA</td>\n",
       "      <td>Pennsylvania</td>\n",
       "      <td>40.0077</td>\n",
       "      <td>-75.1339</td>\n",
       "      <td>1579075.0</td>\n",
       "      <td>42101</td>\n",
       "    </tr>\n",
       "    <tr>\n",
       "      <th>District of Columbia</th>\n",
       "      <td>District of Columbia</td>\n",
       "      <td>11001</td>\n",
       "      <td>52.97</td>\n",
       "      <td>District of Columbia</td>\n",
       "      <td>District of Columbia</td>\n",
       "      <td>District of Columbia</td>\n",
       "      <td>11001.0</td>\n",
       "      <td>DC</td>\n",
       "      <td>District of Columbia</td>\n",
       "      <td>38.9047</td>\n",
       "      <td>-77.0163</td>\n",
       "      <td>692683.0</td>\n",
       "      <td>11001</td>\n",
       "    </tr>\n",
       "    <tr>\n",
       "      <th>Fairfax</th>\n",
       "      <td>Virginia</td>\n",
       "      <td>51059</td>\n",
       "      <td>74.86</td>\n",
       "      <td>Fairfax</td>\n",
       "      <td>Fairfax</td>\n",
       "      <td>Fairfax County</td>\n",
       "      <td>51059.0</td>\n",
       "      <td>VA</td>\n",
       "      <td>Virginia</td>\n",
       "      <td>38.8368</td>\n",
       "      <td>-77.2770</td>\n",
       "      <td>1145862.0</td>\n",
       "      <td>51059</td>\n",
       "    </tr>\n",
       "    <tr>\n",
       "      <th>New York City</th>\n",
       "      <td>New York</td>\n",
       "      <td>36998</td>\n",
       "      <td>75.46</td>\n",
       "      <td>NaN</td>\n",
       "      <td>NaN</td>\n",
       "      <td>NaN</td>\n",
       "      <td>NaN</td>\n",
       "      <td>NaN</td>\n",
       "      <td>NaN</td>\n",
       "      <td>NaN</td>\n",
       "      <td>NaN</td>\n",
       "      <td>NaN</td>\n",
       "      <td>NaN</td>\n",
       "    </tr>\n",
       "    <tr>\n",
       "      <th>Putnam</th>\n",
       "      <td>Ohio</td>\n",
       "      <td>39137</td>\n",
       "      <td>75.94</td>\n",
       "      <td>Putnam</td>\n",
       "      <td>Putnam</td>\n",
       "      <td>Putnam County</td>\n",
       "      <td>39137.0</td>\n",
       "      <td>OH</td>\n",
       "      <td>Ohio</td>\n",
       "      <td>41.0221</td>\n",
       "      <td>-84.1317</td>\n",
       "      <td>33911.0</td>\n",
       "      <td>39137</td>\n",
       "    </tr>\n",
       "    <tr>\n",
       "      <th>Franklin</th>\n",
       "      <td>Ohio</td>\n",
       "      <td>39049</td>\n",
       "      <td>79.72</td>\n",
       "      <td>Franklin</td>\n",
       "      <td>Franklin</td>\n",
       "      <td>Franklin County</td>\n",
       "      <td>39049.0</td>\n",
       "      <td>OH</td>\n",
       "      <td>Ohio</td>\n",
       "      <td>39.9695</td>\n",
       "      <td>-83.0093</td>\n",
       "      <td>1290360.0</td>\n",
       "      <td>39049</td>\n",
       "    </tr>\n",
       "    <tr>\n",
       "      <th>Arlington</th>\n",
       "      <td>Virginia</td>\n",
       "      <td>51013</td>\n",
       "      <td>84.14</td>\n",
       "      <td>Arlington</td>\n",
       "      <td>Arlington</td>\n",
       "      <td>Arlington County</td>\n",
       "      <td>51013.0</td>\n",
       "      <td>VA</td>\n",
       "      <td>Virginia</td>\n",
       "      <td>38.8786</td>\n",
       "      <td>-77.1011</td>\n",
       "      <td>233464.0</td>\n",
       "      <td>51013</td>\n",
       "    </tr>\n",
       "    <tr>\n",
       "      <th>Denver</th>\n",
       "      <td>Colorado</td>\n",
       "      <td>08031</td>\n",
       "      <td>84.17</td>\n",
       "      <td>Denver</td>\n",
       "      <td>Denver</td>\n",
       "      <td>Denver County</td>\n",
       "      <td>8031.0</td>\n",
       "      <td>CO</td>\n",
       "      <td>Colorado</td>\n",
       "      <td>39.7621</td>\n",
       "      <td>-104.8759</td>\n",
       "      <td>705576.0</td>\n",
       "      <td>08031</td>\n",
       "    </tr>\n",
       "    <tr>\n",
       "      <th>Cook</th>\n",
       "      <td>Illinois</td>\n",
       "      <td>17031</td>\n",
       "      <td>88.31</td>\n",
       "      <td>Cook</td>\n",
       "      <td>Cook</td>\n",
       "      <td>Cook County</td>\n",
       "      <td>17031.0</td>\n",
       "      <td>IL</td>\n",
       "      <td>Illinois</td>\n",
       "      <td>41.8401</td>\n",
       "      <td>-87.8168</td>\n",
       "      <td>5198275.0</td>\n",
       "      <td>17031</td>\n",
       "    </tr>\n",
       "    <tr>\n",
       "      <th>Alexandria city</th>\n",
       "      <td>Virginia</td>\n",
       "      <td>51510</td>\n",
       "      <td>91.67</td>\n",
       "      <td>Alexandria</td>\n",
       "      <td>Alexandria</td>\n",
       "      <td>Alexandria City</td>\n",
       "      <td>51510.0</td>\n",
       "      <td>VA</td>\n",
       "      <td>Virginia</td>\n",
       "      <td>38.8185</td>\n",
       "      <td>-77.0861</td>\n",
       "      <td>157613.0</td>\n",
       "      <td>51510</td>\n",
       "    </tr>\n",
       "    <tr>\n",
       "      <th>Wood</th>\n",
       "      <td>Ohio</td>\n",
       "      <td>39173</td>\n",
       "      <td>99.16</td>\n",
       "      <td>Wood</td>\n",
       "      <td>Wood</td>\n",
       "      <td>Wood County</td>\n",
       "      <td>39173.0</td>\n",
       "      <td>OH</td>\n",
       "      <td>Ohio</td>\n",
       "      <td>41.3617</td>\n",
       "      <td>-83.6230</td>\n",
       "      <td>130150.0</td>\n",
       "      <td>39173</td>\n",
       "    </tr>\n",
       "    <tr>\n",
       "      <th>Allegheny</th>\n",
       "      <td>Pennsylvania</td>\n",
       "      <td>42003</td>\n",
       "      <td>123.13</td>\n",
       "      <td>Allegheny</td>\n",
       "      <td>Allegheny</td>\n",
       "      <td>Allegheny County</td>\n",
       "      <td>42003.0</td>\n",
       "      <td>PA</td>\n",
       "      <td>Pennsylvania</td>\n",
       "      <td>40.4688</td>\n",
       "      <td>-79.9812</td>\n",
       "      <td>1221744.0</td>\n",
       "      <td>42003</td>\n",
       "    </tr>\n",
       "    <tr>\n",
       "      <th>Montgomery</th>\n",
       "      <td>Ohio</td>\n",
       "      <td>39113</td>\n",
       "      <td>124.05</td>\n",
       "      <td>Montgomery</td>\n",
       "      <td>Montgomery</td>\n",
       "      <td>Montgomery County</td>\n",
       "      <td>39113.0</td>\n",
       "      <td>OH</td>\n",
       "      <td>Ohio</td>\n",
       "      <td>39.7546</td>\n",
       "      <td>-84.2906</td>\n",
       "      <td>531670.0</td>\n",
       "      <td>39113</td>\n",
       "    </tr>\n",
       "    <tr>\n",
       "      <th>Boulder</th>\n",
       "      <td>Colorado</td>\n",
       "      <td>08013</td>\n",
       "      <td>129.72</td>\n",
       "      <td>Boulder</td>\n",
       "      <td>Boulder</td>\n",
       "      <td>Boulder County</td>\n",
       "      <td>8013.0</td>\n",
       "      <td>CO</td>\n",
       "      <td>Colorado</td>\n",
       "      <td>40.0925</td>\n",
       "      <td>-105.3577</td>\n",
       "      <td>322510.0</td>\n",
       "      <td>08013</td>\n",
       "    </tr>\n",
       "    <tr>\n",
       "      <th>Manatee</th>\n",
       "      <td>Florida</td>\n",
       "      <td>12081</td>\n",
       "      <td>133.24</td>\n",
       "      <td>Manatee</td>\n",
       "      <td>Manatee</td>\n",
       "      <td>Manatee County</td>\n",
       "      <td>12081.0</td>\n",
       "      <td>FL</td>\n",
       "      <td>Florida</td>\n",
       "      <td>27.4719</td>\n",
       "      <td>-82.3153</td>\n",
       "      <td>384213.0</td>\n",
       "      <td>12081</td>\n",
       "    </tr>\n",
       "    <tr>\n",
       "      <th>Clermont</th>\n",
       "      <td>Ohio</td>\n",
       "      <td>39025</td>\n",
       "      <td>153.84</td>\n",
       "      <td>Clermont</td>\n",
       "      <td>Clermont</td>\n",
       "      <td>Clermont County</td>\n",
       "      <td>39025.0</td>\n",
       "      <td>OH</td>\n",
       "      <td>Ohio</td>\n",
       "      <td>39.0475</td>\n",
       "      <td>-84.1519</td>\n",
       "      <td>204275.0</td>\n",
       "      <td>39025</td>\n",
       "    </tr>\n",
       "    <tr>\n",
       "      <th>San Francisco</th>\n",
       "      <td>California</td>\n",
       "      <td>06075</td>\n",
       "      <td>156.79</td>\n",
       "      <td>San Francisco</td>\n",
       "      <td>San Francisco</td>\n",
       "      <td>San Francisco County</td>\n",
       "      <td>6075.0</td>\n",
       "      <td>CA</td>\n",
       "      <td>California</td>\n",
       "      <td>37.7562</td>\n",
       "      <td>-122.4430</td>\n",
       "      <td>874961.0</td>\n",
       "      <td>06075</td>\n",
       "    </tr>\n",
       "    <tr>\n",
       "      <th>Pima</th>\n",
       "      <td>Arizona</td>\n",
       "      <td>04019</td>\n",
       "      <td>187.36</td>\n",
       "      <td>Pima</td>\n",
       "      <td>Pima</td>\n",
       "      <td>Pima County</td>\n",
       "      <td>4019.0</td>\n",
       "      <td>AZ</td>\n",
       "      <td>Arizona</td>\n",
       "      <td>32.0974</td>\n",
       "      <td>-111.7899</td>\n",
       "      <td>1027207.0</td>\n",
       "      <td>04019</td>\n",
       "    </tr>\n",
       "    <tr>\n",
       "      <th>Los Angeles</th>\n",
       "      <td>California</td>\n",
       "      <td>06037</td>\n",
       "      <td>220.07</td>\n",
       "      <td>Los Angeles</td>\n",
       "      <td>Los Angeles</td>\n",
       "      <td>Los Angeles County</td>\n",
       "      <td>6037.0</td>\n",
       "      <td>CA</td>\n",
       "      <td>California</td>\n",
       "      <td>34.3207</td>\n",
       "      <td>-118.2248</td>\n",
       "      <td>10081570.0</td>\n",
       "      <td>06037</td>\n",
       "    </tr>\n",
       "  </tbody>\n",
       "</table>\n",
       "</div>"
      ],
      "text/plain": [
       "                                     state   fips  cases_avg_per_100k  \\\n",
       "county_x                                                                \n",
       "Baltimore                         Maryland  24005               29.82   \n",
       "Prince George's                   Maryland  24033               31.00   \n",
       "Montgomery                        Maryland  24031               42.43   \n",
       "Philadelphia                  Pennsylvania  42101               50.77   \n",
       "District of Columbia  District of Columbia  11001               52.97   \n",
       "Fairfax                           Virginia  51059               74.86   \n",
       "New York City                     New York  36998               75.46   \n",
       "Putnam                                Ohio  39137               75.94   \n",
       "Franklin                              Ohio  39049               79.72   \n",
       "Arlington                         Virginia  51013               84.14   \n",
       "Denver                            Colorado  08031               84.17   \n",
       "Cook                              Illinois  17031               88.31   \n",
       "Alexandria city                   Virginia  51510               91.67   \n",
       "Wood                                  Ohio  39173               99.16   \n",
       "Allegheny                     Pennsylvania  42003              123.13   \n",
       "Montgomery                            Ohio  39113              124.05   \n",
       "Boulder                           Colorado  08013              129.72   \n",
       "Manatee                            Florida  12081              133.24   \n",
       "Clermont                              Ohio  39025              153.84   \n",
       "San Francisco                   California  06075              156.79   \n",
       "Pima                               Arizona  04019              187.36   \n",
       "Los Angeles                     California  06037              220.07   \n",
       "\n",
       "                                  county_y          county_ascii  \\\n",
       "county_x                                                           \n",
       "Baltimore                        Baltimore             Baltimore   \n",
       "Prince George's            Prince George's       Prince George's   \n",
       "Montgomery                      Montgomery            Montgomery   \n",
       "Philadelphia                  Philadelphia          Philadelphia   \n",
       "District of Columbia  District of Columbia  District of Columbia   \n",
       "Fairfax                            Fairfax               Fairfax   \n",
       "New York City                          NaN                   NaN   \n",
       "Putnam                              Putnam                Putnam   \n",
       "Franklin                          Franklin              Franklin   \n",
       "Arlington                        Arlington             Arlington   \n",
       "Denver                              Denver                Denver   \n",
       "Cook                                  Cook                  Cook   \n",
       "Alexandria city                 Alexandria            Alexandria   \n",
       "Wood                                  Wood                  Wood   \n",
       "Allegheny                        Allegheny             Allegheny   \n",
       "Montgomery                      Montgomery            Montgomery   \n",
       "Boulder                            Boulder               Boulder   \n",
       "Manatee                            Manatee               Manatee   \n",
       "Clermont                          Clermont              Clermont   \n",
       "San Francisco                San Francisco         San Francisco   \n",
       "Pima                                  Pima                  Pima   \n",
       "Los Angeles                    Los Angeles           Los Angeles   \n",
       "\n",
       "                                 county_full  county_fips state_id  \\\n",
       "county_x                                                             \n",
       "Baltimore                   Baltimore County      24005.0       MD   \n",
       "Prince George's       Prince George's County      24033.0       MD   \n",
       "Montgomery                 Montgomery County      24031.0       MD   \n",
       "Philadelphia             Philadelphia County      42101.0       PA   \n",
       "District of Columbia    District of Columbia      11001.0       DC   \n",
       "Fairfax                       Fairfax County      51059.0       VA   \n",
       "New York City                            NaN          NaN      NaN   \n",
       "Putnam                         Putnam County      39137.0       OH   \n",
       "Franklin                     Franklin County      39049.0       OH   \n",
       "Arlington                   Arlington County      51013.0       VA   \n",
       "Denver                         Denver County       8031.0       CO   \n",
       "Cook                             Cook County      17031.0       IL   \n",
       "Alexandria city              Alexandria City      51510.0       VA   \n",
       "Wood                             Wood County      39173.0       OH   \n",
       "Allegheny                   Allegheny County      42003.0       PA   \n",
       "Montgomery                 Montgomery County      39113.0       OH   \n",
       "Boulder                       Boulder County       8013.0       CO   \n",
       "Manatee                       Manatee County      12081.0       FL   \n",
       "Clermont                     Clermont County      39025.0       OH   \n",
       "San Francisco           San Francisco County       6075.0       CA   \n",
       "Pima                             Pima County       4019.0       AZ   \n",
       "Los Angeles               Los Angeles County       6037.0       CA   \n",
       "\n",
       "                                state_name      lat       lng  population  \\\n",
       "county_x                                                                    \n",
       "Baltimore                         Maryland  39.4627  -76.6393    828018.0   \n",
       "Prince George's                   Maryland  38.8295  -76.8473    908670.0   \n",
       "Montgomery                        Maryland  39.1363  -77.2042   1043530.0   \n",
       "Philadelphia                  Pennsylvania  40.0077  -75.1339   1579075.0   \n",
       "District of Columbia  District of Columbia  38.9047  -77.0163    692683.0   \n",
       "Fairfax                           Virginia  38.8368  -77.2770   1145862.0   \n",
       "New York City                          NaN      NaN       NaN         NaN   \n",
       "Putnam                                Ohio  41.0221  -84.1317     33911.0   \n",
       "Franklin                              Ohio  39.9695  -83.0093   1290360.0   \n",
       "Arlington                         Virginia  38.8786  -77.1011    233464.0   \n",
       "Denver                            Colorado  39.7621 -104.8759    705576.0   \n",
       "Cook                              Illinois  41.8401  -87.8168   5198275.0   \n",
       "Alexandria city                   Virginia  38.8185  -77.0861    157613.0   \n",
       "Wood                                  Ohio  41.3617  -83.6230    130150.0   \n",
       "Allegheny                     Pennsylvania  40.4688  -79.9812   1221744.0   \n",
       "Montgomery                            Ohio  39.7546  -84.2906    531670.0   \n",
       "Boulder                           Colorado  40.0925 -105.3577    322510.0   \n",
       "Manatee                            Florida  27.4719  -82.3153    384213.0   \n",
       "Clermont                              Ohio  39.0475  -84.1519    204275.0   \n",
       "San Francisco                   California  37.7562 -122.4430    874961.0   \n",
       "Pima                               Arizona  32.0974 -111.7899   1027207.0   \n",
       "Los Angeles                     California  34.3207 -118.2248  10081570.0   \n",
       "\n",
       "                     county_fips_str  \n",
       "county_x                              \n",
       "Baltimore                      24005  \n",
       "Prince George's                24033  \n",
       "Montgomery                     24031  \n",
       "Philadelphia                   42101  \n",
       "District of Columbia           11001  \n",
       "Fairfax                        51059  \n",
       "New York City                    NaN  \n",
       "Putnam                         39137  \n",
       "Franklin                       39049  \n",
       "Arlington                      51013  \n",
       "Denver                         08031  \n",
       "Cook                           17031  \n",
       "Alexandria city                51510  \n",
       "Wood                           39173  \n",
       "Allegheny                      42003  \n",
       "Montgomery                     39113  \n",
       "Boulder                        08013  \n",
       "Manatee                        12081  \n",
       "Clermont                       39025  \n",
       "San Francisco                  06075  \n",
       "Pima                           04019  \n",
       "Los Angeles                    06037  "
      ]
     },
     "execution_count": 76,
     "metadata": {},
     "output_type": "execute_result"
    }
   ],
   "source": [
    "df_ll"
   ]
  },
  {
   "cell_type": "markdown",
   "metadata": {},
   "source": [
    "Get New York's lat/lon manually - fips for Manhattan is 36998, NYT aggregates data for the city"
   ]
  },
  {
   "cell_type": "code",
   "execution_count": null,
   "metadata": {},
   "outputs": [
    {
     "data": {
      "text/html": [
       "<div>\n",
       "<style scoped>\n",
       "    .dataframe tbody tr th:only-of-type {\n",
       "        vertical-align: middle;\n",
       "    }\n",
       "\n",
       "    .dataframe tbody tr th {\n",
       "        vertical-align: top;\n",
       "    }\n",
       "\n",
       "    .dataframe thead th {\n",
       "        text-align: right;\n",
       "    }\n",
       "</style>\n",
       "<table border=\"1\" class=\"dataframe\">\n",
       "  <thead>\n",
       "    <tr style=\"text-align: right;\">\n",
       "      <th></th>\n",
       "      <th>county</th>\n",
       "      <th>county_ascii</th>\n",
       "      <th>county_full</th>\n",
       "      <th>county_fips</th>\n",
       "      <th>state_id</th>\n",
       "      <th>state_name</th>\n",
       "      <th>lat</th>\n",
       "      <th>lng</th>\n",
       "      <th>population</th>\n",
       "      <th>county_fips_str</th>\n",
       "    </tr>\n",
       "  </thead>\n",
       "  <tbody>\n",
       "    <tr>\n",
       "      <th>0</th>\n",
       "      <td>Los Angeles</td>\n",
       "      <td>Los Angeles</td>\n",
       "      <td>Los Angeles County</td>\n",
       "      <td>6037</td>\n",
       "      <td>CA</td>\n",
       "      <td>California</td>\n",
       "      <td>34.3207</td>\n",
       "      <td>-118.2248</td>\n",
       "      <td>10081570</td>\n",
       "      <td>06037</td>\n",
       "    </tr>\n",
       "    <tr>\n",
       "      <th>1</th>\n",
       "      <td>Cook</td>\n",
       "      <td>Cook</td>\n",
       "      <td>Cook County</td>\n",
       "      <td>17031</td>\n",
       "      <td>IL</td>\n",
       "      <td>Illinois</td>\n",
       "      <td>41.8401</td>\n",
       "      <td>-87.8168</td>\n",
       "      <td>5198275</td>\n",
       "      <td>17031</td>\n",
       "    </tr>\n",
       "    <tr>\n",
       "      <th>2</th>\n",
       "      <td>Harris</td>\n",
       "      <td>Harris</td>\n",
       "      <td>Harris County</td>\n",
       "      <td>48201</td>\n",
       "      <td>TX</td>\n",
       "      <td>Texas</td>\n",
       "      <td>29.8577</td>\n",
       "      <td>-95.3936</td>\n",
       "      <td>4646630</td>\n",
       "      <td>48201</td>\n",
       "    </tr>\n",
       "    <tr>\n",
       "      <th>3</th>\n",
       "      <td>Maricopa</td>\n",
       "      <td>Maricopa</td>\n",
       "      <td>Maricopa County</td>\n",
       "      <td>4013</td>\n",
       "      <td>AZ</td>\n",
       "      <td>Arizona</td>\n",
       "      <td>33.3490</td>\n",
       "      <td>-112.4915</td>\n",
       "      <td>4328810</td>\n",
       "      <td>04013</td>\n",
       "    </tr>\n",
       "    <tr>\n",
       "      <th>4</th>\n",
       "      <td>San Diego</td>\n",
       "      <td>San Diego</td>\n",
       "      <td>San Diego County</td>\n",
       "      <td>6073</td>\n",
       "      <td>CA</td>\n",
       "      <td>California</td>\n",
       "      <td>33.0341</td>\n",
       "      <td>-116.7353</td>\n",
       "      <td>3316073</td>\n",
       "      <td>06073</td>\n",
       "    </tr>\n",
       "    <tr>\n",
       "      <th>5</th>\n",
       "      <td>Orange</td>\n",
       "      <td>Orange</td>\n",
       "      <td>Orange County</td>\n",
       "      <td>6059</td>\n",
       "      <td>CA</td>\n",
       "      <td>California</td>\n",
       "      <td>33.7030</td>\n",
       "      <td>-117.7611</td>\n",
       "      <td>3168044</td>\n",
       "      <td>06059</td>\n",
       "    </tr>\n",
       "    <tr>\n",
       "      <th>6</th>\n",
       "      <td>Miami-Dade</td>\n",
       "      <td>Miami-Dade</td>\n",
       "      <td>Miami-Dade County</td>\n",
       "      <td>12086</td>\n",
       "      <td>FL</td>\n",
       "      <td>Florida</td>\n",
       "      <td>25.6150</td>\n",
       "      <td>-80.5623</td>\n",
       "      <td>2699428</td>\n",
       "      <td>12086</td>\n",
       "    </tr>\n",
       "    <tr>\n",
       "      <th>7</th>\n",
       "      <td>Dallas</td>\n",
       "      <td>Dallas</td>\n",
       "      <td>Dallas County</td>\n",
       "      <td>48113</td>\n",
       "      <td>TX</td>\n",
       "      <td>Texas</td>\n",
       "      <td>32.7666</td>\n",
       "      <td>-96.7779</td>\n",
       "      <td>2606868</td>\n",
       "      <td>48113</td>\n",
       "    </tr>\n",
       "    <tr>\n",
       "      <th>8</th>\n",
       "      <td>Kings</td>\n",
       "      <td>Kings</td>\n",
       "      <td>Kings County</td>\n",
       "      <td>36047</td>\n",
       "      <td>NY</td>\n",
       "      <td>New York</td>\n",
       "      <td>40.6395</td>\n",
       "      <td>-73.9385</td>\n",
       "      <td>2589974</td>\n",
       "      <td>36047</td>\n",
       "    </tr>\n",
       "    <tr>\n",
       "      <th>9</th>\n",
       "      <td>Riverside</td>\n",
       "      <td>Riverside</td>\n",
       "      <td>Riverside County</td>\n",
       "      <td>6065</td>\n",
       "      <td>CA</td>\n",
       "      <td>California</td>\n",
       "      <td>33.7437</td>\n",
       "      <td>-115.9938</td>\n",
       "      <td>2411439</td>\n",
       "      <td>06065</td>\n",
       "    </tr>\n",
       "    <tr>\n",
       "      <th>10</th>\n",
       "      <td>Queens</td>\n",
       "      <td>Queens</td>\n",
       "      <td>Queens County</td>\n",
       "      <td>36081</td>\n",
       "      <td>NY</td>\n",
       "      <td>New York</td>\n",
       "      <td>40.7023</td>\n",
       "      <td>-73.8203</td>\n",
       "      <td>2287388</td>\n",
       "      <td>36081</td>\n",
       "    </tr>\n",
       "    <tr>\n",
       "      <th>11</th>\n",
       "      <td>King</td>\n",
       "      <td>King</td>\n",
       "      <td>King County</td>\n",
       "      <td>53033</td>\n",
       "      <td>WA</td>\n",
       "      <td>Washington</td>\n",
       "      <td>47.4902</td>\n",
       "      <td>-121.8052</td>\n",
       "      <td>2195502</td>\n",
       "      <td>53033</td>\n",
       "    </tr>\n",
       "    <tr>\n",
       "      <th>12</th>\n",
       "      <td>Clark</td>\n",
       "      <td>Clark</td>\n",
       "      <td>Clark County</td>\n",
       "      <td>32003</td>\n",
       "      <td>NV</td>\n",
       "      <td>Nevada</td>\n",
       "      <td>36.2152</td>\n",
       "      <td>-115.0135</td>\n",
       "      <td>2182004</td>\n",
       "      <td>32003</td>\n",
       "    </tr>\n",
       "    <tr>\n",
       "      <th>13</th>\n",
       "      <td>San Bernardino</td>\n",
       "      <td>San Bernardino</td>\n",
       "      <td>San Bernardino County</td>\n",
       "      <td>6071</td>\n",
       "      <td>CA</td>\n",
       "      <td>California</td>\n",
       "      <td>34.8414</td>\n",
       "      <td>-116.1784</td>\n",
       "      <td>2149031</td>\n",
       "      <td>06071</td>\n",
       "    </tr>\n",
       "    <tr>\n",
       "      <th>14</th>\n",
       "      <td>Tarrant</td>\n",
       "      <td>Tarrant</td>\n",
       "      <td>Tarrant County</td>\n",
       "      <td>48439</td>\n",
       "      <td>TX</td>\n",
       "      <td>Texas</td>\n",
       "      <td>32.7716</td>\n",
       "      <td>-97.2912</td>\n",
       "      <td>2049770</td>\n",
       "      <td>48439</td>\n",
       "    </tr>\n",
       "    <tr>\n",
       "      <th>15</th>\n",
       "      <td>Bexar</td>\n",
       "      <td>Bexar</td>\n",
       "      <td>Bexar County</td>\n",
       "      <td>48029</td>\n",
       "      <td>TX</td>\n",
       "      <td>Texas</td>\n",
       "      <td>29.4489</td>\n",
       "      <td>-98.5200</td>\n",
       "      <td>1952843</td>\n",
       "      <td>48029</td>\n",
       "    </tr>\n",
       "    <tr>\n",
       "      <th>16</th>\n",
       "      <td>Santa Clara</td>\n",
       "      <td>Santa Clara</td>\n",
       "      <td>Santa Clara County</td>\n",
       "      <td>6085</td>\n",
       "      <td>CA</td>\n",
       "      <td>California</td>\n",
       "      <td>37.2318</td>\n",
       "      <td>-121.6951</td>\n",
       "      <td>1927470</td>\n",
       "      <td>06085</td>\n",
       "    </tr>\n",
       "    <tr>\n",
       "      <th>17</th>\n",
       "      <td>Broward</td>\n",
       "      <td>Broward</td>\n",
       "      <td>Broward County</td>\n",
       "      <td>12011</td>\n",
       "      <td>FL</td>\n",
       "      <td>Florida</td>\n",
       "      <td>26.1523</td>\n",
       "      <td>-80.4871</td>\n",
       "      <td>1926205</td>\n",
       "      <td>12011</td>\n",
       "    </tr>\n",
       "    <tr>\n",
       "      <th>18</th>\n",
       "      <td>Wayne</td>\n",
       "      <td>Wayne</td>\n",
       "      <td>Wayne County</td>\n",
       "      <td>26163</td>\n",
       "      <td>MI</td>\n",
       "      <td>Michigan</td>\n",
       "      <td>42.2819</td>\n",
       "      <td>-83.2821</td>\n",
       "      <td>1757299</td>\n",
       "      <td>26163</td>\n",
       "    </tr>\n",
       "    <tr>\n",
       "      <th>19</th>\n",
       "      <td>Alameda</td>\n",
       "      <td>Alameda</td>\n",
       "      <td>Alameda County</td>\n",
       "      <td>6001</td>\n",
       "      <td>CA</td>\n",
       "      <td>California</td>\n",
       "      <td>37.6469</td>\n",
       "      <td>-121.8889</td>\n",
       "      <td>1656754</td>\n",
       "      <td>06001</td>\n",
       "    </tr>\n",
       "    <tr>\n",
       "      <th>20</th>\n",
       "      <td>New York</td>\n",
       "      <td>New York</td>\n",
       "      <td>New York County</td>\n",
       "      <td>36061</td>\n",
       "      <td>NY</td>\n",
       "      <td>New York</td>\n",
       "      <td>40.7781</td>\n",
       "      <td>-73.9675</td>\n",
       "      <td>1631993</td>\n",
       "      <td>36061</td>\n",
       "    </tr>\n",
       "    <tr>\n",
       "      <th>21</th>\n",
       "      <td>Middlesex</td>\n",
       "      <td>Middlesex</td>\n",
       "      <td>Middlesex County</td>\n",
       "      <td>25017</td>\n",
       "      <td>MA</td>\n",
       "      <td>Massachusetts</td>\n",
       "      <td>42.4856</td>\n",
       "      <td>-71.3918</td>\n",
       "      <td>1600842</td>\n",
       "      <td>25017</td>\n",
       "    </tr>\n",
       "    <tr>\n",
       "      <th>22</th>\n",
       "      <td>Philadelphia</td>\n",
       "      <td>Philadelphia</td>\n",
       "      <td>Philadelphia County</td>\n",
       "      <td>42101</td>\n",
       "      <td>PA</td>\n",
       "      <td>Pennsylvania</td>\n",
       "      <td>40.0077</td>\n",
       "      <td>-75.1339</td>\n",
       "      <td>1579075</td>\n",
       "      <td>42101</td>\n",
       "    </tr>\n",
       "    <tr>\n",
       "      <th>23</th>\n",
       "      <td>Sacramento</td>\n",
       "      <td>Sacramento</td>\n",
       "      <td>Sacramento County</td>\n",
       "      <td>6067</td>\n",
       "      <td>CA</td>\n",
       "      <td>California</td>\n",
       "      <td>38.4493</td>\n",
       "      <td>-121.3443</td>\n",
       "      <td>1524553</td>\n",
       "      <td>06067</td>\n",
       "    </tr>\n",
       "    <tr>\n",
       "      <th>24</th>\n",
       "      <td>Suffolk</td>\n",
       "      <td>Suffolk</td>\n",
       "      <td>Suffolk County</td>\n",
       "      <td>36103</td>\n",
       "      <td>NY</td>\n",
       "      <td>New York</td>\n",
       "      <td>40.8686</td>\n",
       "      <td>-72.8448</td>\n",
       "      <td>1483832</td>\n",
       "      <td>36103</td>\n",
       "    </tr>\n",
       "    <tr>\n",
       "      <th>25</th>\n",
       "      <td>Palm Beach</td>\n",
       "      <td>Palm Beach</td>\n",
       "      <td>Palm Beach County</td>\n",
       "      <td>12099</td>\n",
       "      <td>FL</td>\n",
       "      <td>Florida</td>\n",
       "      <td>26.6476</td>\n",
       "      <td>-80.4655</td>\n",
       "      <td>1465027</td>\n",
       "      <td>12099</td>\n",
       "    </tr>\n",
       "    <tr>\n",
       "      <th>26</th>\n",
       "      <td>Bronx</td>\n",
       "      <td>Bronx</td>\n",
       "      <td>Bronx County</td>\n",
       "      <td>36005</td>\n",
       "      <td>NY</td>\n",
       "      <td>New York</td>\n",
       "      <td>40.8500</td>\n",
       "      <td>-73.8660</td>\n",
       "      <td>1435068</td>\n",
       "      <td>36005</td>\n",
       "    </tr>\n",
       "    <tr>\n",
       "      <th>27</th>\n",
       "      <td>Hillsborough</td>\n",
       "      <td>Hillsborough</td>\n",
       "      <td>Hillsborough County</td>\n",
       "      <td>12057</td>\n",
       "      <td>FL</td>\n",
       "      <td>Florida</td>\n",
       "      <td>27.9291</td>\n",
       "      <td>-82.3092</td>\n",
       "      <td>1422278</td>\n",
       "      <td>12057</td>\n",
       "    </tr>\n",
       "    <tr>\n",
       "      <th>28</th>\n",
       "      <td>Nassau</td>\n",
       "      <td>Nassau</td>\n",
       "      <td>Nassau County</td>\n",
       "      <td>36059</td>\n",
       "      <td>NY</td>\n",
       "      <td>New York</td>\n",
       "      <td>40.7328</td>\n",
       "      <td>-73.5864</td>\n",
       "      <td>1356509</td>\n",
       "      <td>36059</td>\n",
       "    </tr>\n",
       "    <tr>\n",
       "      <th>29</th>\n",
       "      <td>Orange</td>\n",
       "      <td>Orange</td>\n",
       "      <td>Orange County</td>\n",
       "      <td>12095</td>\n",
       "      <td>FL</td>\n",
       "      <td>Florida</td>\n",
       "      <td>28.5144</td>\n",
       "      <td>-81.3235</td>\n",
       "      <td>1349746</td>\n",
       "      <td>12095</td>\n",
       "    </tr>\n",
       "  </tbody>\n",
       "</table>\n",
       "</div>"
      ],
      "text/plain": [
       "            county    county_ascii            county_full  county_fips  \\\n",
       "0      Los Angeles     Los Angeles     Los Angeles County         6037   \n",
       "1             Cook            Cook            Cook County        17031   \n",
       "2           Harris          Harris          Harris County        48201   \n",
       "3         Maricopa        Maricopa        Maricopa County         4013   \n",
       "4        San Diego       San Diego       San Diego County         6073   \n",
       "5           Orange          Orange          Orange County         6059   \n",
       "6       Miami-Dade      Miami-Dade      Miami-Dade County        12086   \n",
       "7           Dallas          Dallas          Dallas County        48113   \n",
       "8            Kings           Kings           Kings County        36047   \n",
       "9        Riverside       Riverside       Riverside County         6065   \n",
       "10          Queens          Queens          Queens County        36081   \n",
       "11            King            King            King County        53033   \n",
       "12           Clark           Clark           Clark County        32003   \n",
       "13  San Bernardino  San Bernardino  San Bernardino County         6071   \n",
       "14         Tarrant         Tarrant         Tarrant County        48439   \n",
       "15           Bexar           Bexar           Bexar County        48029   \n",
       "16     Santa Clara     Santa Clara     Santa Clara County         6085   \n",
       "17         Broward         Broward         Broward County        12011   \n",
       "18           Wayne           Wayne           Wayne County        26163   \n",
       "19         Alameda         Alameda         Alameda County         6001   \n",
       "20        New York        New York        New York County        36061   \n",
       "21       Middlesex       Middlesex       Middlesex County        25017   \n",
       "22    Philadelphia    Philadelphia    Philadelphia County        42101   \n",
       "23      Sacramento      Sacramento      Sacramento County         6067   \n",
       "24         Suffolk         Suffolk         Suffolk County        36103   \n",
       "25      Palm Beach      Palm Beach      Palm Beach County        12099   \n",
       "26           Bronx           Bronx           Bronx County        36005   \n",
       "27    Hillsborough    Hillsborough    Hillsborough County        12057   \n",
       "28          Nassau          Nassau          Nassau County        36059   \n",
       "29          Orange          Orange          Orange County        12095   \n",
       "\n",
       "   state_id     state_name      lat       lng  population county_fips_str  \n",
       "0        CA     California  34.3207 -118.2248    10081570           06037  \n",
       "1        IL       Illinois  41.8401  -87.8168     5198275           17031  \n",
       "2        TX          Texas  29.8577  -95.3936     4646630           48201  \n",
       "3        AZ        Arizona  33.3490 -112.4915     4328810           04013  \n",
       "4        CA     California  33.0341 -116.7353     3316073           06073  \n",
       "5        CA     California  33.7030 -117.7611     3168044           06059  \n",
       "6        FL        Florida  25.6150  -80.5623     2699428           12086  \n",
       "7        TX          Texas  32.7666  -96.7779     2606868           48113  \n",
       "8        NY       New York  40.6395  -73.9385     2589974           36047  \n",
       "9        CA     California  33.7437 -115.9938     2411439           06065  \n",
       "10       NY       New York  40.7023  -73.8203     2287388           36081  \n",
       "11       WA     Washington  47.4902 -121.8052     2195502           53033  \n",
       "12       NV         Nevada  36.2152 -115.0135     2182004           32003  \n",
       "13       CA     California  34.8414 -116.1784     2149031           06071  \n",
       "14       TX          Texas  32.7716  -97.2912     2049770           48439  \n",
       "15       TX          Texas  29.4489  -98.5200     1952843           48029  \n",
       "16       CA     California  37.2318 -121.6951     1927470           06085  \n",
       "17       FL        Florida  26.1523  -80.4871     1926205           12011  \n",
       "18       MI       Michigan  42.2819  -83.2821     1757299           26163  \n",
       "19       CA     California  37.6469 -121.8889     1656754           06001  \n",
       "20       NY       New York  40.7781  -73.9675     1631993           36061  \n",
       "21       MA  Massachusetts  42.4856  -71.3918     1600842           25017  \n",
       "22       PA   Pennsylvania  40.0077  -75.1339     1579075           42101  \n",
       "23       CA     California  38.4493 -121.3443     1524553           06067  \n",
       "24       NY       New York  40.8686  -72.8448     1483832           36103  \n",
       "25       FL        Florida  26.6476  -80.4655     1465027           12099  \n",
       "26       NY       New York  40.8500  -73.8660     1435068           36005  \n",
       "27       FL        Florida  27.9291  -82.3092     1422278           12057  \n",
       "28       NY       New York  40.7328  -73.5864     1356509           36059  \n",
       "29       FL        Florida  28.5144  -81.3235     1349746           12095  "
      ]
     },
     "execution_count": 77,
     "metadata": {},
     "output_type": "execute_result"
    }
   ],
   "source": [
    "df_mapping.head(30)\n"
   ]
  },
  {
   "cell_type": "code",
   "execution_count": null,
   "metadata": {},
   "outputs": [
    {
     "data": {
      "text/html": [
       "<div>\n",
       "<style scoped>\n",
       "    .dataframe tbody tr th:only-of-type {\n",
       "        vertical-align: middle;\n",
       "    }\n",
       "\n",
       "    .dataframe tbody tr th {\n",
       "        vertical-align: top;\n",
       "    }\n",
       "\n",
       "    .dataframe thead th {\n",
       "        text-align: right;\n",
       "    }\n",
       "</style>\n",
       "<table border=\"1\" class=\"dataframe\">\n",
       "  <thead>\n",
       "    <tr style=\"text-align: right;\">\n",
       "      <th></th>\n",
       "      <th>county</th>\n",
       "      <th>county_ascii</th>\n",
       "      <th>county_full</th>\n",
       "      <th>county_fips</th>\n",
       "      <th>state_id</th>\n",
       "      <th>state_name</th>\n",
       "      <th>lat</th>\n",
       "      <th>lng</th>\n",
       "      <th>population</th>\n",
       "      <th>county_fips_str</th>\n",
       "    </tr>\n",
       "  </thead>\n",
       "  <tbody>\n",
       "    <tr>\n",
       "      <th>20</th>\n",
       "      <td>New York</td>\n",
       "      <td>New York</td>\n",
       "      <td>New York County</td>\n",
       "      <td>36061</td>\n",
       "      <td>NY</td>\n",
       "      <td>New York</td>\n",
       "      <td>40.7781</td>\n",
       "      <td>-73.9675</td>\n",
       "      <td>1631993</td>\n",
       "      <td>36061</td>\n",
       "    </tr>\n",
       "  </tbody>\n",
       "</table>\n",
       "</div>"
      ],
      "text/plain": [
       "      county county_ascii      county_full  county_fips state_id state_name  \\\n",
       "20  New York     New York  New York County        36061       NY   New York   \n",
       "\n",
       "        lat      lng  population county_fips_str  \n",
       "20  40.7781 -73.9675     1631993           36061  "
      ]
     },
     "execution_count": 78,
     "metadata": {},
     "output_type": "execute_result"
    }
   ],
   "source": [
    "df_mapping[df_mapping['county_fips'] == 36061]\n"
   ]
  },
  {
   "cell_type": "code",
   "execution_count": null,
   "metadata": {},
   "outputs": [
    {
     "data": {
      "text/plain": [
       "20   -73.9675\n",
       "Name: lng, dtype: float64"
      ]
     },
     "execution_count": 79,
     "metadata": {},
     "output_type": "execute_result"
    }
   ],
   "source": [
    "df_mapping.loc[df_mapping['county_fips'] == 36061, 'lng']"
   ]
  },
  {
   "cell_type": "code",
   "execution_count": null,
   "metadata": {},
   "outputs": [],
   "source": [
    "df_ll.loc['New York City', 'lat'] = 40.7781\n",
    "df_ll.loc['New York City', 'lng'] = -73.9675"
   ]
  },
  {
   "cell_type": "code",
   "execution_count": null,
   "metadata": {},
   "outputs": [
    {
     "data": {
      "text/html": [
       "<div>\n",
       "<style scoped>\n",
       "    .dataframe tbody tr th:only-of-type {\n",
       "        vertical-align: middle;\n",
       "    }\n",
       "\n",
       "    .dataframe tbody tr th {\n",
       "        vertical-align: top;\n",
       "    }\n",
       "\n",
       "    .dataframe thead th {\n",
       "        text-align: right;\n",
       "    }\n",
       "</style>\n",
       "<table border=\"1\" class=\"dataframe\">\n",
       "  <thead>\n",
       "    <tr style=\"text-align: right;\">\n",
       "      <th></th>\n",
       "      <th>state</th>\n",
       "      <th>fips</th>\n",
       "      <th>cases_avg_per_100k</th>\n",
       "      <th>county_y</th>\n",
       "      <th>county_ascii</th>\n",
       "      <th>county_full</th>\n",
       "      <th>county_fips</th>\n",
       "      <th>state_id</th>\n",
       "      <th>state_name</th>\n",
       "      <th>lat</th>\n",
       "      <th>lng</th>\n",
       "      <th>population</th>\n",
       "      <th>county_fips_str</th>\n",
       "    </tr>\n",
       "    <tr>\n",
       "      <th>county_x</th>\n",
       "      <th></th>\n",
       "      <th></th>\n",
       "      <th></th>\n",
       "      <th></th>\n",
       "      <th></th>\n",
       "      <th></th>\n",
       "      <th></th>\n",
       "      <th></th>\n",
       "      <th></th>\n",
       "      <th></th>\n",
       "      <th></th>\n",
       "      <th></th>\n",
       "      <th></th>\n",
       "    </tr>\n",
       "  </thead>\n",
       "  <tbody>\n",
       "    <tr>\n",
       "      <th>Baltimore</th>\n",
       "      <td>Maryland</td>\n",
       "      <td>24005</td>\n",
       "      <td>29.82</td>\n",
       "      <td>Baltimore</td>\n",
       "      <td>Baltimore</td>\n",
       "      <td>Baltimore County</td>\n",
       "      <td>24005.0</td>\n",
       "      <td>MD</td>\n",
       "      <td>Maryland</td>\n",
       "      <td>39.4627</td>\n",
       "      <td>-76.6393</td>\n",
       "      <td>828018.0</td>\n",
       "      <td>24005</td>\n",
       "    </tr>\n",
       "    <tr>\n",
       "      <th>Prince George's</th>\n",
       "      <td>Maryland</td>\n",
       "      <td>24033</td>\n",
       "      <td>31.00</td>\n",
       "      <td>Prince George's</td>\n",
       "      <td>Prince George's</td>\n",
       "      <td>Prince George's County</td>\n",
       "      <td>24033.0</td>\n",
       "      <td>MD</td>\n",
       "      <td>Maryland</td>\n",
       "      <td>38.8295</td>\n",
       "      <td>-76.8473</td>\n",
       "      <td>908670.0</td>\n",
       "      <td>24033</td>\n",
       "    </tr>\n",
       "    <tr>\n",
       "      <th>Montgomery</th>\n",
       "      <td>Maryland</td>\n",
       "      <td>24031</td>\n",
       "      <td>42.43</td>\n",
       "      <td>Montgomery</td>\n",
       "      <td>Montgomery</td>\n",
       "      <td>Montgomery County</td>\n",
       "      <td>24031.0</td>\n",
       "      <td>MD</td>\n",
       "      <td>Maryland</td>\n",
       "      <td>39.1363</td>\n",
       "      <td>-77.2042</td>\n",
       "      <td>1043530.0</td>\n",
       "      <td>24031</td>\n",
       "    </tr>\n",
       "    <tr>\n",
       "      <th>Philadelphia</th>\n",
       "      <td>Pennsylvania</td>\n",
       "      <td>42101</td>\n",
       "      <td>50.77</td>\n",
       "      <td>Philadelphia</td>\n",
       "      <td>Philadelphia</td>\n",
       "      <td>Philadelphia County</td>\n",
       "      <td>42101.0</td>\n",
       "      <td>PA</td>\n",
       "      <td>Pennsylvania</td>\n",
       "      <td>40.0077</td>\n",
       "      <td>-75.1339</td>\n",
       "      <td>1579075.0</td>\n",
       "      <td>42101</td>\n",
       "    </tr>\n",
       "    <tr>\n",
       "      <th>District of Columbia</th>\n",
       "      <td>District of Columbia</td>\n",
       "      <td>11001</td>\n",
       "      <td>52.97</td>\n",
       "      <td>District of Columbia</td>\n",
       "      <td>District of Columbia</td>\n",
       "      <td>District of Columbia</td>\n",
       "      <td>11001.0</td>\n",
       "      <td>DC</td>\n",
       "      <td>District of Columbia</td>\n",
       "      <td>38.9047</td>\n",
       "      <td>-77.0163</td>\n",
       "      <td>692683.0</td>\n",
       "      <td>11001</td>\n",
       "    </tr>\n",
       "    <tr>\n",
       "      <th>Fairfax</th>\n",
       "      <td>Virginia</td>\n",
       "      <td>51059</td>\n",
       "      <td>74.86</td>\n",
       "      <td>Fairfax</td>\n",
       "      <td>Fairfax</td>\n",
       "      <td>Fairfax County</td>\n",
       "      <td>51059.0</td>\n",
       "      <td>VA</td>\n",
       "      <td>Virginia</td>\n",
       "      <td>38.8368</td>\n",
       "      <td>-77.2770</td>\n",
       "      <td>1145862.0</td>\n",
       "      <td>51059</td>\n",
       "    </tr>\n",
       "    <tr>\n",
       "      <th>New York City</th>\n",
       "      <td>New York</td>\n",
       "      <td>36998</td>\n",
       "      <td>75.46</td>\n",
       "      <td>NaN</td>\n",
       "      <td>NaN</td>\n",
       "      <td>NaN</td>\n",
       "      <td>NaN</td>\n",
       "      <td>NaN</td>\n",
       "      <td>NaN</td>\n",
       "      <td>40.7781</td>\n",
       "      <td>-73.9675</td>\n",
       "      <td>NaN</td>\n",
       "      <td>NaN</td>\n",
       "    </tr>\n",
       "    <tr>\n",
       "      <th>Putnam</th>\n",
       "      <td>Ohio</td>\n",
       "      <td>39137</td>\n",
       "      <td>75.94</td>\n",
       "      <td>Putnam</td>\n",
       "      <td>Putnam</td>\n",
       "      <td>Putnam County</td>\n",
       "      <td>39137.0</td>\n",
       "      <td>OH</td>\n",
       "      <td>Ohio</td>\n",
       "      <td>41.0221</td>\n",
       "      <td>-84.1317</td>\n",
       "      <td>33911.0</td>\n",
       "      <td>39137</td>\n",
       "    </tr>\n",
       "    <tr>\n",
       "      <th>Franklin</th>\n",
       "      <td>Ohio</td>\n",
       "      <td>39049</td>\n",
       "      <td>79.72</td>\n",
       "      <td>Franklin</td>\n",
       "      <td>Franklin</td>\n",
       "      <td>Franklin County</td>\n",
       "      <td>39049.0</td>\n",
       "      <td>OH</td>\n",
       "      <td>Ohio</td>\n",
       "      <td>39.9695</td>\n",
       "      <td>-83.0093</td>\n",
       "      <td>1290360.0</td>\n",
       "      <td>39049</td>\n",
       "    </tr>\n",
       "    <tr>\n",
       "      <th>Arlington</th>\n",
       "      <td>Virginia</td>\n",
       "      <td>51013</td>\n",
       "      <td>84.14</td>\n",
       "      <td>Arlington</td>\n",
       "      <td>Arlington</td>\n",
       "      <td>Arlington County</td>\n",
       "      <td>51013.0</td>\n",
       "      <td>VA</td>\n",
       "      <td>Virginia</td>\n",
       "      <td>38.8786</td>\n",
       "      <td>-77.1011</td>\n",
       "      <td>233464.0</td>\n",
       "      <td>51013</td>\n",
       "    </tr>\n",
       "    <tr>\n",
       "      <th>Denver</th>\n",
       "      <td>Colorado</td>\n",
       "      <td>08031</td>\n",
       "      <td>84.17</td>\n",
       "      <td>Denver</td>\n",
       "      <td>Denver</td>\n",
       "      <td>Denver County</td>\n",
       "      <td>8031.0</td>\n",
       "      <td>CO</td>\n",
       "      <td>Colorado</td>\n",
       "      <td>39.7621</td>\n",
       "      <td>-104.8759</td>\n",
       "      <td>705576.0</td>\n",
       "      <td>08031</td>\n",
       "    </tr>\n",
       "    <tr>\n",
       "      <th>Cook</th>\n",
       "      <td>Illinois</td>\n",
       "      <td>17031</td>\n",
       "      <td>88.31</td>\n",
       "      <td>Cook</td>\n",
       "      <td>Cook</td>\n",
       "      <td>Cook County</td>\n",
       "      <td>17031.0</td>\n",
       "      <td>IL</td>\n",
       "      <td>Illinois</td>\n",
       "      <td>41.8401</td>\n",
       "      <td>-87.8168</td>\n",
       "      <td>5198275.0</td>\n",
       "      <td>17031</td>\n",
       "    </tr>\n",
       "    <tr>\n",
       "      <th>Alexandria city</th>\n",
       "      <td>Virginia</td>\n",
       "      <td>51510</td>\n",
       "      <td>91.67</td>\n",
       "      <td>Alexandria</td>\n",
       "      <td>Alexandria</td>\n",
       "      <td>Alexandria City</td>\n",
       "      <td>51510.0</td>\n",
       "      <td>VA</td>\n",
       "      <td>Virginia</td>\n",
       "      <td>38.8185</td>\n",
       "      <td>-77.0861</td>\n",
       "      <td>157613.0</td>\n",
       "      <td>51510</td>\n",
       "    </tr>\n",
       "    <tr>\n",
       "      <th>Wood</th>\n",
       "      <td>Ohio</td>\n",
       "      <td>39173</td>\n",
       "      <td>99.16</td>\n",
       "      <td>Wood</td>\n",
       "      <td>Wood</td>\n",
       "      <td>Wood County</td>\n",
       "      <td>39173.0</td>\n",
       "      <td>OH</td>\n",
       "      <td>Ohio</td>\n",
       "      <td>41.3617</td>\n",
       "      <td>-83.6230</td>\n",
       "      <td>130150.0</td>\n",
       "      <td>39173</td>\n",
       "    </tr>\n",
       "    <tr>\n",
       "      <th>Allegheny</th>\n",
       "      <td>Pennsylvania</td>\n",
       "      <td>42003</td>\n",
       "      <td>123.13</td>\n",
       "      <td>Allegheny</td>\n",
       "      <td>Allegheny</td>\n",
       "      <td>Allegheny County</td>\n",
       "      <td>42003.0</td>\n",
       "      <td>PA</td>\n",
       "      <td>Pennsylvania</td>\n",
       "      <td>40.4688</td>\n",
       "      <td>-79.9812</td>\n",
       "      <td>1221744.0</td>\n",
       "      <td>42003</td>\n",
       "    </tr>\n",
       "    <tr>\n",
       "      <th>Montgomery</th>\n",
       "      <td>Ohio</td>\n",
       "      <td>39113</td>\n",
       "      <td>124.05</td>\n",
       "      <td>Montgomery</td>\n",
       "      <td>Montgomery</td>\n",
       "      <td>Montgomery County</td>\n",
       "      <td>39113.0</td>\n",
       "      <td>OH</td>\n",
       "      <td>Ohio</td>\n",
       "      <td>39.7546</td>\n",
       "      <td>-84.2906</td>\n",
       "      <td>531670.0</td>\n",
       "      <td>39113</td>\n",
       "    </tr>\n",
       "    <tr>\n",
       "      <th>Boulder</th>\n",
       "      <td>Colorado</td>\n",
       "      <td>08013</td>\n",
       "      <td>129.72</td>\n",
       "      <td>Boulder</td>\n",
       "      <td>Boulder</td>\n",
       "      <td>Boulder County</td>\n",
       "      <td>8013.0</td>\n",
       "      <td>CO</td>\n",
       "      <td>Colorado</td>\n",
       "      <td>40.0925</td>\n",
       "      <td>-105.3577</td>\n",
       "      <td>322510.0</td>\n",
       "      <td>08013</td>\n",
       "    </tr>\n",
       "    <tr>\n",
       "      <th>Manatee</th>\n",
       "      <td>Florida</td>\n",
       "      <td>12081</td>\n",
       "      <td>133.24</td>\n",
       "      <td>Manatee</td>\n",
       "      <td>Manatee</td>\n",
       "      <td>Manatee County</td>\n",
       "      <td>12081.0</td>\n",
       "      <td>FL</td>\n",
       "      <td>Florida</td>\n",
       "      <td>27.4719</td>\n",
       "      <td>-82.3153</td>\n",
       "      <td>384213.0</td>\n",
       "      <td>12081</td>\n",
       "    </tr>\n",
       "    <tr>\n",
       "      <th>Clermont</th>\n",
       "      <td>Ohio</td>\n",
       "      <td>39025</td>\n",
       "      <td>153.84</td>\n",
       "      <td>Clermont</td>\n",
       "      <td>Clermont</td>\n",
       "      <td>Clermont County</td>\n",
       "      <td>39025.0</td>\n",
       "      <td>OH</td>\n",
       "      <td>Ohio</td>\n",
       "      <td>39.0475</td>\n",
       "      <td>-84.1519</td>\n",
       "      <td>204275.0</td>\n",
       "      <td>39025</td>\n",
       "    </tr>\n",
       "    <tr>\n",
       "      <th>San Francisco</th>\n",
       "      <td>California</td>\n",
       "      <td>06075</td>\n",
       "      <td>156.79</td>\n",
       "      <td>San Francisco</td>\n",
       "      <td>San Francisco</td>\n",
       "      <td>San Francisco County</td>\n",
       "      <td>6075.0</td>\n",
       "      <td>CA</td>\n",
       "      <td>California</td>\n",
       "      <td>37.7562</td>\n",
       "      <td>-122.4430</td>\n",
       "      <td>874961.0</td>\n",
       "      <td>06075</td>\n",
       "    </tr>\n",
       "    <tr>\n",
       "      <th>Pima</th>\n",
       "      <td>Arizona</td>\n",
       "      <td>04019</td>\n",
       "      <td>187.36</td>\n",
       "      <td>Pima</td>\n",
       "      <td>Pima</td>\n",
       "      <td>Pima County</td>\n",
       "      <td>4019.0</td>\n",
       "      <td>AZ</td>\n",
       "      <td>Arizona</td>\n",
       "      <td>32.0974</td>\n",
       "      <td>-111.7899</td>\n",
       "      <td>1027207.0</td>\n",
       "      <td>04019</td>\n",
       "    </tr>\n",
       "    <tr>\n",
       "      <th>Los Angeles</th>\n",
       "      <td>California</td>\n",
       "      <td>06037</td>\n",
       "      <td>220.07</td>\n",
       "      <td>Los Angeles</td>\n",
       "      <td>Los Angeles</td>\n",
       "      <td>Los Angeles County</td>\n",
       "      <td>6037.0</td>\n",
       "      <td>CA</td>\n",
       "      <td>California</td>\n",
       "      <td>34.3207</td>\n",
       "      <td>-118.2248</td>\n",
       "      <td>10081570.0</td>\n",
       "      <td>06037</td>\n",
       "    </tr>\n",
       "  </tbody>\n",
       "</table>\n",
       "</div>"
      ],
      "text/plain": [
       "                                     state   fips  cases_avg_per_100k  \\\n",
       "county_x                                                                \n",
       "Baltimore                         Maryland  24005               29.82   \n",
       "Prince George's                   Maryland  24033               31.00   \n",
       "Montgomery                        Maryland  24031               42.43   \n",
       "Philadelphia                  Pennsylvania  42101               50.77   \n",
       "District of Columbia  District of Columbia  11001               52.97   \n",
       "Fairfax                           Virginia  51059               74.86   \n",
       "New York City                     New York  36998               75.46   \n",
       "Putnam                                Ohio  39137               75.94   \n",
       "Franklin                              Ohio  39049               79.72   \n",
       "Arlington                         Virginia  51013               84.14   \n",
       "Denver                            Colorado  08031               84.17   \n",
       "Cook                              Illinois  17031               88.31   \n",
       "Alexandria city                   Virginia  51510               91.67   \n",
       "Wood                                  Ohio  39173               99.16   \n",
       "Allegheny                     Pennsylvania  42003              123.13   \n",
       "Montgomery                            Ohio  39113              124.05   \n",
       "Boulder                           Colorado  08013              129.72   \n",
       "Manatee                            Florida  12081              133.24   \n",
       "Clermont                              Ohio  39025              153.84   \n",
       "San Francisco                   California  06075              156.79   \n",
       "Pima                               Arizona  04019              187.36   \n",
       "Los Angeles                     California  06037              220.07   \n",
       "\n",
       "                                  county_y          county_ascii  \\\n",
       "county_x                                                           \n",
       "Baltimore                        Baltimore             Baltimore   \n",
       "Prince George's            Prince George's       Prince George's   \n",
       "Montgomery                      Montgomery            Montgomery   \n",
       "Philadelphia                  Philadelphia          Philadelphia   \n",
       "District of Columbia  District of Columbia  District of Columbia   \n",
       "Fairfax                            Fairfax               Fairfax   \n",
       "New York City                          NaN                   NaN   \n",
       "Putnam                              Putnam                Putnam   \n",
       "Franklin                          Franklin              Franklin   \n",
       "Arlington                        Arlington             Arlington   \n",
       "Denver                              Denver                Denver   \n",
       "Cook                                  Cook                  Cook   \n",
       "Alexandria city                 Alexandria            Alexandria   \n",
       "Wood                                  Wood                  Wood   \n",
       "Allegheny                        Allegheny             Allegheny   \n",
       "Montgomery                      Montgomery            Montgomery   \n",
       "Boulder                            Boulder               Boulder   \n",
       "Manatee                            Manatee               Manatee   \n",
       "Clermont                          Clermont              Clermont   \n",
       "San Francisco                San Francisco         San Francisco   \n",
       "Pima                                  Pima                  Pima   \n",
       "Los Angeles                    Los Angeles           Los Angeles   \n",
       "\n",
       "                                 county_full  county_fips state_id  \\\n",
       "county_x                                                             \n",
       "Baltimore                   Baltimore County      24005.0       MD   \n",
       "Prince George's       Prince George's County      24033.0       MD   \n",
       "Montgomery                 Montgomery County      24031.0       MD   \n",
       "Philadelphia             Philadelphia County      42101.0       PA   \n",
       "District of Columbia    District of Columbia      11001.0       DC   \n",
       "Fairfax                       Fairfax County      51059.0       VA   \n",
       "New York City                            NaN          NaN      NaN   \n",
       "Putnam                         Putnam County      39137.0       OH   \n",
       "Franklin                     Franklin County      39049.0       OH   \n",
       "Arlington                   Arlington County      51013.0       VA   \n",
       "Denver                         Denver County       8031.0       CO   \n",
       "Cook                             Cook County      17031.0       IL   \n",
       "Alexandria city              Alexandria City      51510.0       VA   \n",
       "Wood                             Wood County      39173.0       OH   \n",
       "Allegheny                   Allegheny County      42003.0       PA   \n",
       "Montgomery                 Montgomery County      39113.0       OH   \n",
       "Boulder                       Boulder County       8013.0       CO   \n",
       "Manatee                       Manatee County      12081.0       FL   \n",
       "Clermont                     Clermont County      39025.0       OH   \n",
       "San Francisco           San Francisco County       6075.0       CA   \n",
       "Pima                             Pima County       4019.0       AZ   \n",
       "Los Angeles               Los Angeles County       6037.0       CA   \n",
       "\n",
       "                                state_name      lat       lng  population  \\\n",
       "county_x                                                                    \n",
       "Baltimore                         Maryland  39.4627  -76.6393    828018.0   \n",
       "Prince George's                   Maryland  38.8295  -76.8473    908670.0   \n",
       "Montgomery                        Maryland  39.1363  -77.2042   1043530.0   \n",
       "Philadelphia                  Pennsylvania  40.0077  -75.1339   1579075.0   \n",
       "District of Columbia  District of Columbia  38.9047  -77.0163    692683.0   \n",
       "Fairfax                           Virginia  38.8368  -77.2770   1145862.0   \n",
       "New York City                          NaN  40.7781  -73.9675         NaN   \n",
       "Putnam                                Ohio  41.0221  -84.1317     33911.0   \n",
       "Franklin                              Ohio  39.9695  -83.0093   1290360.0   \n",
       "Arlington                         Virginia  38.8786  -77.1011    233464.0   \n",
       "Denver                            Colorado  39.7621 -104.8759    705576.0   \n",
       "Cook                              Illinois  41.8401  -87.8168   5198275.0   \n",
       "Alexandria city                   Virginia  38.8185  -77.0861    157613.0   \n",
       "Wood                                  Ohio  41.3617  -83.6230    130150.0   \n",
       "Allegheny                     Pennsylvania  40.4688  -79.9812   1221744.0   \n",
       "Montgomery                            Ohio  39.7546  -84.2906    531670.0   \n",
       "Boulder                           Colorado  40.0925 -105.3577    322510.0   \n",
       "Manatee                            Florida  27.4719  -82.3153    384213.0   \n",
       "Clermont                              Ohio  39.0475  -84.1519    204275.0   \n",
       "San Francisco                   California  37.7562 -122.4430    874961.0   \n",
       "Pima                               Arizona  32.0974 -111.7899   1027207.0   \n",
       "Los Angeles                     California  34.3207 -118.2248  10081570.0   \n",
       "\n",
       "                     county_fips_str  \n",
       "county_x                              \n",
       "Baltimore                      24005  \n",
       "Prince George's                24033  \n",
       "Montgomery                     24031  \n",
       "Philadelphia                   42101  \n",
       "District of Columbia           11001  \n",
       "Fairfax                        51059  \n",
       "New York City                    NaN  \n",
       "Putnam                         39137  \n",
       "Franklin                       39049  \n",
       "Arlington                      51013  \n",
       "Denver                         08031  \n",
       "Cook                           17031  \n",
       "Alexandria city                51510  \n",
       "Wood                           39173  \n",
       "Allegheny                      42003  \n",
       "Montgomery                     39113  \n",
       "Boulder                        08013  \n",
       "Manatee                        12081  \n",
       "Clermont                       39025  \n",
       "San Francisco                  06075  \n",
       "Pima                           04019  \n",
       "Los Angeles                    06037  "
      ]
     },
     "execution_count": 81,
     "metadata": {},
     "output_type": "execute_result"
    }
   ],
   "source": [
    "df_ll"
   ]
  },
  {
   "cell_type": "code",
   "execution_count": null,
   "metadata": {},
   "outputs": [
    {
     "data": {
      "application/vnd.plotly.v1+json": {
       "config": {
        "plotlyServerURL": "https://plot.ly"
       },
       "data": [
        {
         "geo": "geo",
         "hovertemplate": "<b>%{hovertext}</b><br><br>cases_avg_per_100k=%{marker.color}<br>lat=%{lat}<br>lng=%{lon}<extra></extra>",
         "hovertext": [
          "Baltimore",
          "Prince George's",
          "Montgomery",
          "Philadelphia",
          "District of Columbia",
          "Fairfax",
          "nan",
          "Putnam",
          "Franklin",
          "Arlington",
          "Denver",
          "Cook",
          "Alexandria",
          "Wood",
          "Allegheny",
          "Montgomery",
          "Boulder",
          "Manatee",
          "Clermont",
          "San Francisco",
          "Pima",
          "Los Angeles"
         ],
         "lat": [
          39.4627,
          38.8295,
          39.1363,
          40.0077,
          38.9047,
          38.8368,
          40.7781,
          41.0221,
          39.9695,
          38.8786,
          39.7621,
          41.8401,
          38.8185,
          41.3617,
          40.4688,
          39.7546,
          40.0925,
          27.4719,
          39.0475,
          37.7562,
          32.0974,
          34.3207
         ],
         "legendgroup": "",
         "lon": [
          -76.6393,
          -76.8473,
          -77.2042,
          -75.1339,
          -77.0163,
          -77.277,
          -73.9675,
          -84.1317,
          -83.0093,
          -77.1011,
          -104.8759,
          -87.8168,
          -77.0861,
          -83.623,
          -79.9812,
          -84.2906,
          -105.3577,
          -82.3153,
          -84.1519,
          -122.443,
          -111.7899,
          -118.2248
         ],
         "marker": {
          "color": [
           29.82,
           31,
           42.43,
           50.77,
           52.97,
           74.86,
           75.46,
           75.94,
           79.72,
           84.14,
           84.17,
           88.31,
           91.67,
           99.16,
           123.13,
           124.05,
           129.72,
           133.24,
           153.84,
           156.79,
           187.36,
           220.07
          ],
          "coloraxis": "coloraxis",
          "size": [
           29.82,
           31,
           42.43,
           50.77,
           52.97,
           74.86,
           75.46,
           75.94,
           79.72,
           84.14,
           84.17,
           88.31,
           91.67,
           99.16,
           123.13,
           124.05,
           129.72,
           133.24,
           153.84,
           156.79,
           187.36,
           220.07
          ],
          "sizemode": "area",
          "sizeref": 0.550175,
          "symbol": "circle"
         },
         "mode": "markers",
         "name": "",
         "showlegend": false,
         "type": "scattergeo"
        }
       ],
       "layout": {
        "coloraxis": {
         "colorbar": {
          "title": {
           "text": "cases_avg_per_100k"
          }
         },
         "colorscale": [
          [
           0,
           "rgb(0, 147, 146)"
          ],
          [
           0.16666666666666666,
           "rgb(57, 177, 133)"
          ],
          [
           0.3333333333333333,
           "rgb(156, 203, 134)"
          ],
          [
           0.5,
           "rgb(233, 226, 156)"
          ],
          [
           0.6666666666666666,
           "rgb(238, 180, 121)"
          ],
          [
           0.8333333333333334,
           "rgb(232, 132, 113)"
          ],
          [
           1,
           "rgb(207, 89, 126)"
          ]
         ]
        },
        "geo": {
         "center": {},
         "domain": {
          "x": [
           0,
           1
          ],
          "y": [
           0,
           1
          ]
         },
         "scope": "usa"
        },
        "legend": {
         "itemsizing": "constant",
         "tracegroupgap": 0
        },
        "margin": {
         "t": 60
        },
        "template": {
         "data": {
          "bar": [
           {
            "error_x": {
             "color": "#2a3f5f"
            },
            "error_y": {
             "color": "#2a3f5f"
            },
            "marker": {
             "line": {
              "color": "#E5ECF6",
              "width": 0.5
             },
             "pattern": {
              "fillmode": "overlay",
              "size": 10,
              "solidity": 0.2
             }
            },
            "type": "bar"
           }
          ],
          "barpolar": [
           {
            "marker": {
             "line": {
              "color": "#E5ECF6",
              "width": 0.5
             },
             "pattern": {
              "fillmode": "overlay",
              "size": 10,
              "solidity": 0.2
             }
            },
            "type": "barpolar"
           }
          ],
          "carpet": [
           {
            "aaxis": {
             "endlinecolor": "#2a3f5f",
             "gridcolor": "white",
             "linecolor": "white",
             "minorgridcolor": "white",
             "startlinecolor": "#2a3f5f"
            },
            "baxis": {
             "endlinecolor": "#2a3f5f",
             "gridcolor": "white",
             "linecolor": "white",
             "minorgridcolor": "white",
             "startlinecolor": "#2a3f5f"
            },
            "type": "carpet"
           }
          ],
          "choropleth": [
           {
            "colorbar": {
             "outlinewidth": 0,
             "ticks": ""
            },
            "type": "choropleth"
           }
          ],
          "contour": [
           {
            "colorbar": {
             "outlinewidth": 0,
             "ticks": ""
            },
            "colorscale": [
             [
              0,
              "#0d0887"
             ],
             [
              0.1111111111111111,
              "#46039f"
             ],
             [
              0.2222222222222222,
              "#7201a8"
             ],
             [
              0.3333333333333333,
              "#9c179e"
             ],
             [
              0.4444444444444444,
              "#bd3786"
             ],
             [
              0.5555555555555556,
              "#d8576b"
             ],
             [
              0.6666666666666666,
              "#ed7953"
             ],
             [
              0.7777777777777778,
              "#fb9f3a"
             ],
             [
              0.8888888888888888,
              "#fdca26"
             ],
             [
              1,
              "#f0f921"
             ]
            ],
            "type": "contour"
           }
          ],
          "contourcarpet": [
           {
            "colorbar": {
             "outlinewidth": 0,
             "ticks": ""
            },
            "type": "contourcarpet"
           }
          ],
          "heatmap": [
           {
            "colorbar": {
             "outlinewidth": 0,
             "ticks": ""
            },
            "colorscale": [
             [
              0,
              "#0d0887"
             ],
             [
              0.1111111111111111,
              "#46039f"
             ],
             [
              0.2222222222222222,
              "#7201a8"
             ],
             [
              0.3333333333333333,
              "#9c179e"
             ],
             [
              0.4444444444444444,
              "#bd3786"
             ],
             [
              0.5555555555555556,
              "#d8576b"
             ],
             [
              0.6666666666666666,
              "#ed7953"
             ],
             [
              0.7777777777777778,
              "#fb9f3a"
             ],
             [
              0.8888888888888888,
              "#fdca26"
             ],
             [
              1,
              "#f0f921"
             ]
            ],
            "type": "heatmap"
           }
          ],
          "heatmapgl": [
           {
            "colorbar": {
             "outlinewidth": 0,
             "ticks": ""
            },
            "colorscale": [
             [
              0,
              "#0d0887"
             ],
             [
              0.1111111111111111,
              "#46039f"
             ],
             [
              0.2222222222222222,
              "#7201a8"
             ],
             [
              0.3333333333333333,
              "#9c179e"
             ],
             [
              0.4444444444444444,
              "#bd3786"
             ],
             [
              0.5555555555555556,
              "#d8576b"
             ],
             [
              0.6666666666666666,
              "#ed7953"
             ],
             [
              0.7777777777777778,
              "#fb9f3a"
             ],
             [
              0.8888888888888888,
              "#fdca26"
             ],
             [
              1,
              "#f0f921"
             ]
            ],
            "type": "heatmapgl"
           }
          ],
          "histogram": [
           {
            "marker": {
             "pattern": {
              "fillmode": "overlay",
              "size": 10,
              "solidity": 0.2
             }
            },
            "type": "histogram"
           }
          ],
          "histogram2d": [
           {
            "colorbar": {
             "outlinewidth": 0,
             "ticks": ""
            },
            "colorscale": [
             [
              0,
              "#0d0887"
             ],
             [
              0.1111111111111111,
              "#46039f"
             ],
             [
              0.2222222222222222,
              "#7201a8"
             ],
             [
              0.3333333333333333,
              "#9c179e"
             ],
             [
              0.4444444444444444,
              "#bd3786"
             ],
             [
              0.5555555555555556,
              "#d8576b"
             ],
             [
              0.6666666666666666,
              "#ed7953"
             ],
             [
              0.7777777777777778,
              "#fb9f3a"
             ],
             [
              0.8888888888888888,
              "#fdca26"
             ],
             [
              1,
              "#f0f921"
             ]
            ],
            "type": "histogram2d"
           }
          ],
          "histogram2dcontour": [
           {
            "colorbar": {
             "outlinewidth": 0,
             "ticks": ""
            },
            "colorscale": [
             [
              0,
              "#0d0887"
             ],
             [
              0.1111111111111111,
              "#46039f"
             ],
             [
              0.2222222222222222,
              "#7201a8"
             ],
             [
              0.3333333333333333,
              "#9c179e"
             ],
             [
              0.4444444444444444,
              "#bd3786"
             ],
             [
              0.5555555555555556,
              "#d8576b"
             ],
             [
              0.6666666666666666,
              "#ed7953"
             ],
             [
              0.7777777777777778,
              "#fb9f3a"
             ],
             [
              0.8888888888888888,
              "#fdca26"
             ],
             [
              1,
              "#f0f921"
             ]
            ],
            "type": "histogram2dcontour"
           }
          ],
          "mesh3d": [
           {
            "colorbar": {
             "outlinewidth": 0,
             "ticks": ""
            },
            "type": "mesh3d"
           }
          ],
          "parcoords": [
           {
            "line": {
             "colorbar": {
              "outlinewidth": 0,
              "ticks": ""
             }
            },
            "type": "parcoords"
           }
          ],
          "pie": [
           {
            "automargin": true,
            "type": "pie"
           }
          ],
          "scatter": [
           {
            "marker": {
             "colorbar": {
              "outlinewidth": 0,
              "ticks": ""
             }
            },
            "type": "scatter"
           }
          ],
          "scatter3d": [
           {
            "line": {
             "colorbar": {
              "outlinewidth": 0,
              "ticks": ""
             }
            },
            "marker": {
             "colorbar": {
              "outlinewidth": 0,
              "ticks": ""
             }
            },
            "type": "scatter3d"
           }
          ],
          "scattercarpet": [
           {
            "marker": {
             "colorbar": {
              "outlinewidth": 0,
              "ticks": ""
             }
            },
            "type": "scattercarpet"
           }
          ],
          "scattergeo": [
           {
            "marker": {
             "colorbar": {
              "outlinewidth": 0,
              "ticks": ""
             }
            },
            "type": "scattergeo"
           }
          ],
          "scattergl": [
           {
            "marker": {
             "colorbar": {
              "outlinewidth": 0,
              "ticks": ""
             }
            },
            "type": "scattergl"
           }
          ],
          "scattermapbox": [
           {
            "marker": {
             "colorbar": {
              "outlinewidth": 0,
              "ticks": ""
             }
            },
            "type": "scattermapbox"
           }
          ],
          "scatterpolar": [
           {
            "marker": {
             "colorbar": {
              "outlinewidth": 0,
              "ticks": ""
             }
            },
            "type": "scatterpolar"
           }
          ],
          "scatterpolargl": [
           {
            "marker": {
             "colorbar": {
              "outlinewidth": 0,
              "ticks": ""
             }
            },
            "type": "scatterpolargl"
           }
          ],
          "scatterternary": [
           {
            "marker": {
             "colorbar": {
              "outlinewidth": 0,
              "ticks": ""
             }
            },
            "type": "scatterternary"
           }
          ],
          "surface": [
           {
            "colorbar": {
             "outlinewidth": 0,
             "ticks": ""
            },
            "colorscale": [
             [
              0,
              "#0d0887"
             ],
             [
              0.1111111111111111,
              "#46039f"
             ],
             [
              0.2222222222222222,
              "#7201a8"
             ],
             [
              0.3333333333333333,
              "#9c179e"
             ],
             [
              0.4444444444444444,
              "#bd3786"
             ],
             [
              0.5555555555555556,
              "#d8576b"
             ],
             [
              0.6666666666666666,
              "#ed7953"
             ],
             [
              0.7777777777777778,
              "#fb9f3a"
             ],
             [
              0.8888888888888888,
              "#fdca26"
             ],
             [
              1,
              "#f0f921"
             ]
            ],
            "type": "surface"
           }
          ],
          "table": [
           {
            "cells": {
             "fill": {
              "color": "#EBF0F8"
             },
             "line": {
              "color": "white"
             }
            },
            "header": {
             "fill": {
              "color": "#C8D4E3"
             },
             "line": {
              "color": "white"
             }
            },
            "type": "table"
           }
          ]
         },
         "layout": {
          "annotationdefaults": {
           "arrowcolor": "#2a3f5f",
           "arrowhead": 0,
           "arrowwidth": 1
          },
          "autotypenumbers": "strict",
          "coloraxis": {
           "colorbar": {
            "outlinewidth": 0,
            "ticks": ""
           }
          },
          "colorscale": {
           "diverging": [
            [
             0,
             "#8e0152"
            ],
            [
             0.1,
             "#c51b7d"
            ],
            [
             0.2,
             "#de77ae"
            ],
            [
             0.3,
             "#f1b6da"
            ],
            [
             0.4,
             "#fde0ef"
            ],
            [
             0.5,
             "#f7f7f7"
            ],
            [
             0.6,
             "#e6f5d0"
            ],
            [
             0.7,
             "#b8e186"
            ],
            [
             0.8,
             "#7fbc41"
            ],
            [
             0.9,
             "#4d9221"
            ],
            [
             1,
             "#276419"
            ]
           ],
           "sequential": [
            [
             0,
             "#0d0887"
            ],
            [
             0.1111111111111111,
             "#46039f"
            ],
            [
             0.2222222222222222,
             "#7201a8"
            ],
            [
             0.3333333333333333,
             "#9c179e"
            ],
            [
             0.4444444444444444,
             "#bd3786"
            ],
            [
             0.5555555555555556,
             "#d8576b"
            ],
            [
             0.6666666666666666,
             "#ed7953"
            ],
            [
             0.7777777777777778,
             "#fb9f3a"
            ],
            [
             0.8888888888888888,
             "#fdca26"
            ],
            [
             1,
             "#f0f921"
            ]
           ],
           "sequentialminus": [
            [
             0,
             "#0d0887"
            ],
            [
             0.1111111111111111,
             "#46039f"
            ],
            [
             0.2222222222222222,
             "#7201a8"
            ],
            [
             0.3333333333333333,
             "#9c179e"
            ],
            [
             0.4444444444444444,
             "#bd3786"
            ],
            [
             0.5555555555555556,
             "#d8576b"
            ],
            [
             0.6666666666666666,
             "#ed7953"
            ],
            [
             0.7777777777777778,
             "#fb9f3a"
            ],
            [
             0.8888888888888888,
             "#fdca26"
            ],
            [
             1,
             "#f0f921"
            ]
           ]
          },
          "colorway": [
           "#636efa",
           "#EF553B",
           "#00cc96",
           "#ab63fa",
           "#FFA15A",
           "#19d3f3",
           "#FF6692",
           "#B6E880",
           "#FF97FF",
           "#FECB52"
          ],
          "font": {
           "color": "#2a3f5f"
          },
          "geo": {
           "bgcolor": "white",
           "lakecolor": "white",
           "landcolor": "#E5ECF6",
           "showlakes": true,
           "showland": true,
           "subunitcolor": "white"
          },
          "hoverlabel": {
           "align": "left"
          },
          "hovermode": "closest",
          "mapbox": {
           "style": "light"
          },
          "paper_bgcolor": "white",
          "plot_bgcolor": "#E5ECF6",
          "polar": {
           "angularaxis": {
            "gridcolor": "white",
            "linecolor": "white",
            "ticks": ""
           },
           "bgcolor": "#E5ECF6",
           "radialaxis": {
            "gridcolor": "white",
            "linecolor": "white",
            "ticks": ""
           }
          },
          "scene": {
           "xaxis": {
            "backgroundcolor": "#E5ECF6",
            "gridcolor": "white",
            "gridwidth": 2,
            "linecolor": "white",
            "showbackground": true,
            "ticks": "",
            "zerolinecolor": "white"
           },
           "yaxis": {
            "backgroundcolor": "#E5ECF6",
            "gridcolor": "white",
            "gridwidth": 2,
            "linecolor": "white",
            "showbackground": true,
            "ticks": "",
            "zerolinecolor": "white"
           },
           "zaxis": {
            "backgroundcolor": "#E5ECF6",
            "gridcolor": "white",
            "gridwidth": 2,
            "linecolor": "white",
            "showbackground": true,
            "ticks": "",
            "zerolinecolor": "white"
           }
          },
          "shapedefaults": {
           "line": {
            "color": "#2a3f5f"
           }
          },
          "ternary": {
           "aaxis": {
            "gridcolor": "white",
            "linecolor": "white",
            "ticks": ""
           },
           "baxis": {
            "gridcolor": "white",
            "linecolor": "white",
            "ticks": ""
           },
           "bgcolor": "#E5ECF6",
           "caxis": {
            "gridcolor": "white",
            "linecolor": "white",
            "ticks": ""
           }
          },
          "title": {
           "x": 0.05
          },
          "xaxis": {
           "automargin": true,
           "gridcolor": "white",
           "linecolor": "white",
           "ticks": "",
           "title": {
            "standoff": 15
           },
           "zerolinecolor": "white",
           "zerolinewidth": 2
          },
          "yaxis": {
           "automargin": true,
           "gridcolor": "white",
           "linecolor": "white",
           "ticks": "",
           "title": {
            "standoff": 15
           },
           "zerolinecolor": "white",
           "zerolinewidth": 2
          }
         }
        }
       }
      }
     },
     "metadata": {},
     "output_type": "display_data"
    }
   ],
   "source": [
    "px.scatter_geo(\n",
    "    df_ll,\n",
    "    lat=\"lat\",\n",
    "    lon=\"lng\",\n",
    "    size=\"cases_avg_per_100k\",\n",
    "    scope=\"usa\",\n",
    "    color=\"cases_avg_per_100k\",\n",
    "    color_continuous_scale='Temps',\n",
    "    hover_name='county_y'\n",
    ")\n"
   ]
  },
  {
   "cell_type": "markdown",
   "metadata": {},
   "source": [
    "Scatter geo circle sizes are often population, I don't think I want to do that here. Maybe if this was MSA data. Things could get tricky in places where the NYT data isn't broken out by county (e.g. NYC)."
   ]
  },
  {
   "cell_type": "markdown",
   "metadata": {},
   "source": [
    "Let's change the labels."
   ]
  },
  {
   "cell_type": "code",
   "execution_count": null,
   "metadata": {},
   "outputs": [],
   "source": []
  },
  {
   "cell_type": "markdown",
   "metadata": {},
   "source": [
    "Could display guages/indicators/KPI-type information, but might just do directly in Streamlit if decide to use Streamlit."
   ]
  },
  {
   "cell_type": "code",
   "execution_count": null,
   "metadata": {},
   "outputs": [],
   "source": []
  },
  {
   "cell_type": "markdown",
   "metadata": {},
   "source": [
    "Could explore sparklines.\n",
    "\n",
    "Subplots are possible. Probably need to drop down to vanilla plotting."
   ]
  },
  {
   "cell_type": "code",
   "execution_count": null,
   "metadata": {},
   "outputs": [
    {
     "data": {
      "application/vnd.plotly.v1+json": {
       "config": {
        "plotlyServerURL": "https://plot.ly"
       },
       "data": [
        {
         "hovertemplate": "country=Australia<br>year=%{x}<br>gdpPercap=%{y}<extra></extra>",
         "legendgroup": "",
         "line": {
          "color": "#636efa",
          "dash": "solid"
         },
         "mode": "lines",
         "name": "",
         "orientation": "v",
         "showlegend": false,
         "type": "scatter",
         "x": [
          1952,
          1957,
          1962,
          1967,
          1972,
          1977,
          1982,
          1987,
          1992,
          1997,
          2002,
          2007
         ],
         "xaxis": "x2",
         "y": [
          10039.59564,
          10949.64959,
          12217.22686,
          14526.12465,
          16788.62948,
          18334.19751,
          19477.00928,
          21888.88903,
          23424.76683,
          26997.93657,
          30687.75473,
          34435.36744
         ],
         "yaxis": "y2"
        },
        {
         "hovertemplate": "country=New Zealand<br>year=%{x}<br>gdpPercap=%{y}<extra></extra>",
         "legendgroup": "",
         "line": {
          "color": "#636efa",
          "dash": "solid"
         },
         "mode": "lines",
         "name": "",
         "orientation": "v",
         "showlegend": false,
         "type": "scatter",
         "x": [
          1952,
          1957,
          1962,
          1967,
          1972,
          1977,
          1982,
          1987,
          1992,
          1997,
          2002,
          2007
         ],
         "xaxis": "x",
         "y": [
          10556.57566,
          12247.39532,
          13175.678,
          14463.91893,
          16046.03728,
          16233.7177,
          17632.4104,
          19007.19129,
          18363.32494,
          21050.41377,
          23189.80135,
          25185.00911
         ],
         "yaxis": "y"
        }
       ],
       "layout": {
        "annotations": [
         {
          "font": {},
          "showarrow": false,
          "text": "country=New Zealand",
          "textangle": 90,
          "x": 0.98,
          "xanchor": "left",
          "xref": "paper",
          "y": 0.2425,
          "yanchor": "middle",
          "yref": "paper"
         },
         {
          "font": {},
          "showarrow": false,
          "text": "country=Australia",
          "textangle": 90,
          "x": 0.98,
          "xanchor": "left",
          "xref": "paper",
          "y": 0.7575000000000001,
          "yanchor": "middle",
          "yref": "paper"
         }
        ],
        "legend": {
         "tracegroupgap": 0
        },
        "margin": {
         "t": 60
        },
        "template": {
         "data": {
          "bar": [
           {
            "error_x": {
             "color": "#2a3f5f"
            },
            "error_y": {
             "color": "#2a3f5f"
            },
            "marker": {
             "line": {
              "color": "#E5ECF6",
              "width": 0.5
             },
             "pattern": {
              "fillmode": "overlay",
              "size": 10,
              "solidity": 0.2
             }
            },
            "type": "bar"
           }
          ],
          "barpolar": [
           {
            "marker": {
             "line": {
              "color": "#E5ECF6",
              "width": 0.5
             },
             "pattern": {
              "fillmode": "overlay",
              "size": 10,
              "solidity": 0.2
             }
            },
            "type": "barpolar"
           }
          ],
          "carpet": [
           {
            "aaxis": {
             "endlinecolor": "#2a3f5f",
             "gridcolor": "white",
             "linecolor": "white",
             "minorgridcolor": "white",
             "startlinecolor": "#2a3f5f"
            },
            "baxis": {
             "endlinecolor": "#2a3f5f",
             "gridcolor": "white",
             "linecolor": "white",
             "minorgridcolor": "white",
             "startlinecolor": "#2a3f5f"
            },
            "type": "carpet"
           }
          ],
          "choropleth": [
           {
            "colorbar": {
             "outlinewidth": 0,
             "ticks": ""
            },
            "type": "choropleth"
           }
          ],
          "contour": [
           {
            "colorbar": {
             "outlinewidth": 0,
             "ticks": ""
            },
            "colorscale": [
             [
              0,
              "#0d0887"
             ],
             [
              0.1111111111111111,
              "#46039f"
             ],
             [
              0.2222222222222222,
              "#7201a8"
             ],
             [
              0.3333333333333333,
              "#9c179e"
             ],
             [
              0.4444444444444444,
              "#bd3786"
             ],
             [
              0.5555555555555556,
              "#d8576b"
             ],
             [
              0.6666666666666666,
              "#ed7953"
             ],
             [
              0.7777777777777778,
              "#fb9f3a"
             ],
             [
              0.8888888888888888,
              "#fdca26"
             ],
             [
              1,
              "#f0f921"
             ]
            ],
            "type": "contour"
           }
          ],
          "contourcarpet": [
           {
            "colorbar": {
             "outlinewidth": 0,
             "ticks": ""
            },
            "type": "contourcarpet"
           }
          ],
          "heatmap": [
           {
            "colorbar": {
             "outlinewidth": 0,
             "ticks": ""
            },
            "colorscale": [
             [
              0,
              "#0d0887"
             ],
             [
              0.1111111111111111,
              "#46039f"
             ],
             [
              0.2222222222222222,
              "#7201a8"
             ],
             [
              0.3333333333333333,
              "#9c179e"
             ],
             [
              0.4444444444444444,
              "#bd3786"
             ],
             [
              0.5555555555555556,
              "#d8576b"
             ],
             [
              0.6666666666666666,
              "#ed7953"
             ],
             [
              0.7777777777777778,
              "#fb9f3a"
             ],
             [
              0.8888888888888888,
              "#fdca26"
             ],
             [
              1,
              "#f0f921"
             ]
            ],
            "type": "heatmap"
           }
          ],
          "heatmapgl": [
           {
            "colorbar": {
             "outlinewidth": 0,
             "ticks": ""
            },
            "colorscale": [
             [
              0,
              "#0d0887"
             ],
             [
              0.1111111111111111,
              "#46039f"
             ],
             [
              0.2222222222222222,
              "#7201a8"
             ],
             [
              0.3333333333333333,
              "#9c179e"
             ],
             [
              0.4444444444444444,
              "#bd3786"
             ],
             [
              0.5555555555555556,
              "#d8576b"
             ],
             [
              0.6666666666666666,
              "#ed7953"
             ],
             [
              0.7777777777777778,
              "#fb9f3a"
             ],
             [
              0.8888888888888888,
              "#fdca26"
             ],
             [
              1,
              "#f0f921"
             ]
            ],
            "type": "heatmapgl"
           }
          ],
          "histogram": [
           {
            "marker": {
             "pattern": {
              "fillmode": "overlay",
              "size": 10,
              "solidity": 0.2
             }
            },
            "type": "histogram"
           }
          ],
          "histogram2d": [
           {
            "colorbar": {
             "outlinewidth": 0,
             "ticks": ""
            },
            "colorscale": [
             [
              0,
              "#0d0887"
             ],
             [
              0.1111111111111111,
              "#46039f"
             ],
             [
              0.2222222222222222,
              "#7201a8"
             ],
             [
              0.3333333333333333,
              "#9c179e"
             ],
             [
              0.4444444444444444,
              "#bd3786"
             ],
             [
              0.5555555555555556,
              "#d8576b"
             ],
             [
              0.6666666666666666,
              "#ed7953"
             ],
             [
              0.7777777777777778,
              "#fb9f3a"
             ],
             [
              0.8888888888888888,
              "#fdca26"
             ],
             [
              1,
              "#f0f921"
             ]
            ],
            "type": "histogram2d"
           }
          ],
          "histogram2dcontour": [
           {
            "colorbar": {
             "outlinewidth": 0,
             "ticks": ""
            },
            "colorscale": [
             [
              0,
              "#0d0887"
             ],
             [
              0.1111111111111111,
              "#46039f"
             ],
             [
              0.2222222222222222,
              "#7201a8"
             ],
             [
              0.3333333333333333,
              "#9c179e"
             ],
             [
              0.4444444444444444,
              "#bd3786"
             ],
             [
              0.5555555555555556,
              "#d8576b"
             ],
             [
              0.6666666666666666,
              "#ed7953"
             ],
             [
              0.7777777777777778,
              "#fb9f3a"
             ],
             [
              0.8888888888888888,
              "#fdca26"
             ],
             [
              1,
              "#f0f921"
             ]
            ],
            "type": "histogram2dcontour"
           }
          ],
          "mesh3d": [
           {
            "colorbar": {
             "outlinewidth": 0,
             "ticks": ""
            },
            "type": "mesh3d"
           }
          ],
          "parcoords": [
           {
            "line": {
             "colorbar": {
              "outlinewidth": 0,
              "ticks": ""
             }
            },
            "type": "parcoords"
           }
          ],
          "pie": [
           {
            "automargin": true,
            "type": "pie"
           }
          ],
          "scatter": [
           {
            "marker": {
             "colorbar": {
              "outlinewidth": 0,
              "ticks": ""
             }
            },
            "type": "scatter"
           }
          ],
          "scatter3d": [
           {
            "line": {
             "colorbar": {
              "outlinewidth": 0,
              "ticks": ""
             }
            },
            "marker": {
             "colorbar": {
              "outlinewidth": 0,
              "ticks": ""
             }
            },
            "type": "scatter3d"
           }
          ],
          "scattercarpet": [
           {
            "marker": {
             "colorbar": {
              "outlinewidth": 0,
              "ticks": ""
             }
            },
            "type": "scattercarpet"
           }
          ],
          "scattergeo": [
           {
            "marker": {
             "colorbar": {
              "outlinewidth": 0,
              "ticks": ""
             }
            },
            "type": "scattergeo"
           }
          ],
          "scattergl": [
           {
            "marker": {
             "colorbar": {
              "outlinewidth": 0,
              "ticks": ""
             }
            },
            "type": "scattergl"
           }
          ],
          "scattermapbox": [
           {
            "marker": {
             "colorbar": {
              "outlinewidth": 0,
              "ticks": ""
             }
            },
            "type": "scattermapbox"
           }
          ],
          "scatterpolar": [
           {
            "marker": {
             "colorbar": {
              "outlinewidth": 0,
              "ticks": ""
             }
            },
            "type": "scatterpolar"
           }
          ],
          "scatterpolargl": [
           {
            "marker": {
             "colorbar": {
              "outlinewidth": 0,
              "ticks": ""
             }
            },
            "type": "scatterpolargl"
           }
          ],
          "scatterternary": [
           {
            "marker": {
             "colorbar": {
              "outlinewidth": 0,
              "ticks": ""
             }
            },
            "type": "scatterternary"
           }
          ],
          "surface": [
           {
            "colorbar": {
             "outlinewidth": 0,
             "ticks": ""
            },
            "colorscale": [
             [
              0,
              "#0d0887"
             ],
             [
              0.1111111111111111,
              "#46039f"
             ],
             [
              0.2222222222222222,
              "#7201a8"
             ],
             [
              0.3333333333333333,
              "#9c179e"
             ],
             [
              0.4444444444444444,
              "#bd3786"
             ],
             [
              0.5555555555555556,
              "#d8576b"
             ],
             [
              0.6666666666666666,
              "#ed7953"
             ],
             [
              0.7777777777777778,
              "#fb9f3a"
             ],
             [
              0.8888888888888888,
              "#fdca26"
             ],
             [
              1,
              "#f0f921"
             ]
            ],
            "type": "surface"
           }
          ],
          "table": [
           {
            "cells": {
             "fill": {
              "color": "#EBF0F8"
             },
             "line": {
              "color": "white"
             }
            },
            "header": {
             "fill": {
              "color": "#C8D4E3"
             },
             "line": {
              "color": "white"
             }
            },
            "type": "table"
           }
          ]
         },
         "layout": {
          "annotationdefaults": {
           "arrowcolor": "#2a3f5f",
           "arrowhead": 0,
           "arrowwidth": 1
          },
          "autotypenumbers": "strict",
          "coloraxis": {
           "colorbar": {
            "outlinewidth": 0,
            "ticks": ""
           }
          },
          "colorscale": {
           "diverging": [
            [
             0,
             "#8e0152"
            ],
            [
             0.1,
             "#c51b7d"
            ],
            [
             0.2,
             "#de77ae"
            ],
            [
             0.3,
             "#f1b6da"
            ],
            [
             0.4,
             "#fde0ef"
            ],
            [
             0.5,
             "#f7f7f7"
            ],
            [
             0.6,
             "#e6f5d0"
            ],
            [
             0.7,
             "#b8e186"
            ],
            [
             0.8,
             "#7fbc41"
            ],
            [
             0.9,
             "#4d9221"
            ],
            [
             1,
             "#276419"
            ]
           ],
           "sequential": [
            [
             0,
             "#0d0887"
            ],
            [
             0.1111111111111111,
             "#46039f"
            ],
            [
             0.2222222222222222,
             "#7201a8"
            ],
            [
             0.3333333333333333,
             "#9c179e"
            ],
            [
             0.4444444444444444,
             "#bd3786"
            ],
            [
             0.5555555555555556,
             "#d8576b"
            ],
            [
             0.6666666666666666,
             "#ed7953"
            ],
            [
             0.7777777777777778,
             "#fb9f3a"
            ],
            [
             0.8888888888888888,
             "#fdca26"
            ],
            [
             1,
             "#f0f921"
            ]
           ],
           "sequentialminus": [
            [
             0,
             "#0d0887"
            ],
            [
             0.1111111111111111,
             "#46039f"
            ],
            [
             0.2222222222222222,
             "#7201a8"
            ],
            [
             0.3333333333333333,
             "#9c179e"
            ],
            [
             0.4444444444444444,
             "#bd3786"
            ],
            [
             0.5555555555555556,
             "#d8576b"
            ],
            [
             0.6666666666666666,
             "#ed7953"
            ],
            [
             0.7777777777777778,
             "#fb9f3a"
            ],
            [
             0.8888888888888888,
             "#fdca26"
            ],
            [
             1,
             "#f0f921"
            ]
           ]
          },
          "colorway": [
           "#636efa",
           "#EF553B",
           "#00cc96",
           "#ab63fa",
           "#FFA15A",
           "#19d3f3",
           "#FF6692",
           "#B6E880",
           "#FF97FF",
           "#FECB52"
          ],
          "font": {
           "color": "#2a3f5f"
          },
          "geo": {
           "bgcolor": "white",
           "lakecolor": "white",
           "landcolor": "#E5ECF6",
           "showlakes": true,
           "showland": true,
           "subunitcolor": "white"
          },
          "hoverlabel": {
           "align": "left"
          },
          "hovermode": "closest",
          "mapbox": {
           "style": "light"
          },
          "paper_bgcolor": "white",
          "plot_bgcolor": "#E5ECF6",
          "polar": {
           "angularaxis": {
            "gridcolor": "white",
            "linecolor": "white",
            "ticks": ""
           },
           "bgcolor": "#E5ECF6",
           "radialaxis": {
            "gridcolor": "white",
            "linecolor": "white",
            "ticks": ""
           }
          },
          "scene": {
           "xaxis": {
            "backgroundcolor": "#E5ECF6",
            "gridcolor": "white",
            "gridwidth": 2,
            "linecolor": "white",
            "showbackground": true,
            "ticks": "",
            "zerolinecolor": "white"
           },
           "yaxis": {
            "backgroundcolor": "#E5ECF6",
            "gridcolor": "white",
            "gridwidth": 2,
            "linecolor": "white",
            "showbackground": true,
            "ticks": "",
            "zerolinecolor": "white"
           },
           "zaxis": {
            "backgroundcolor": "#E5ECF6",
            "gridcolor": "white",
            "gridwidth": 2,
            "linecolor": "white",
            "showbackground": true,
            "ticks": "",
            "zerolinecolor": "white"
           }
          },
          "shapedefaults": {
           "line": {
            "color": "#2a3f5f"
           }
          },
          "ternary": {
           "aaxis": {
            "gridcolor": "white",
            "linecolor": "white",
            "ticks": ""
           },
           "baxis": {
            "gridcolor": "white",
            "linecolor": "white",
            "ticks": ""
           },
           "bgcolor": "#E5ECF6",
           "caxis": {
            "gridcolor": "white",
            "linecolor": "white",
            "ticks": ""
           }
          },
          "title": {
           "x": 0.05
          },
          "xaxis": {
           "automargin": true,
           "gridcolor": "white",
           "linecolor": "white",
           "ticks": "",
           "title": {
            "standoff": 15
           },
           "zerolinecolor": "white",
           "zerolinewidth": 2
          },
          "yaxis": {
           "automargin": true,
           "gridcolor": "white",
           "linecolor": "white",
           "ticks": "",
           "title": {
            "standoff": 15
           },
           "zerolinecolor": "white",
           "zerolinewidth": 2
          }
         }
        },
        "xaxis": {
         "anchor": "y",
         "domain": [
          0,
          0.98
         ],
         "showgrid": false,
         "title": {
          "text": "year"
         }
        },
        "xaxis2": {
         "anchor": "y2",
         "domain": [
          0,
          0.98
         ],
         "matches": "x",
         "showgrid": false,
         "showticklabels": false
        },
        "yaxis": {
         "anchor": "x",
         "domain": [
          0,
          0.485
         ],
         "showgrid": false,
         "title": {}
        },
        "yaxis2": {
         "anchor": "x2",
         "domain": [
          0.515,
          1
         ],
         "matches": "y",
         "showgrid": false,
         "title": {
          "text": "gdpPercap"
         }
        }
       }
      }
     },
     "metadata": {},
     "output_type": "display_data"
    }
   ],
   "source": [
    "\n",
    "df = px.data.gapminder().query(\"continent == 'Oceania'\")\n",
    "fig = px.line(df, x='year', y='gdpPercap', facet_row='country')\n",
    "fig.update_layout(yaxis_title=None) # only removes final y title\n",
    "fig.update_xaxes(showgrid=False)\n",
    "fig.update_yaxes(showgrid=False)\n",
    "\n",
    "\n",
    "fig.show()\n",
    "\n",
    "# example with lower level api example on https://community.plotly.com/t/sparklines-from-dataframe/38174\n",
    "\n",
    "# maybe make a template for subplots if possible\n",
    "\n",
    "# move the country label to the left and make it just the name"
   ]
  },
  {
   "cell_type": "markdown",
   "metadata": {},
   "source": [
    "The following are adapted from answers [here](https://stackoverflow.com/questions/64462790/how-to-plot-plotly-gauge-charts-next-to-each-other-with-python). The method of making traces seems to work better in terms of spacing between the plots.\n"
   ]
  },
  {
   "cell_type": "code",
   "execution_count": null,
   "metadata": {},
   "outputs": [],
   "source": [
    "\n",
    "import plotly.graph_objs as go\n",
    "from plotly.subplots import make_subplots\n",
    "\n",
    "trace1 = go.Indicator(mode=\"gauge+number\",    value=400,    domain={'row' : 1, 'column' : 1}, title={'text': \"Speed 1\"})\n",
    "trace2 = go.Indicator(mode=\"gauge+number\",    value=250,    domain={'row' : 1, 'column' : 2}, title={'text': \"Speed 2\"})\n",
    "\n",
    "fig = make_subplots(\n",
    "    rows=1,\n",
    "    cols=2,\n",
    "    specs=[[{'type' : 'indicator'}, {'type' : 'indicator'}]],\n",
    "    )\n",
    "\n",
    "fig.append_trace(trace1, row=1, col=1)\n",
    "fig.append_trace(trace2, row=1, col=2)\n",
    "\n",
    "fig"
   ]
  },
  {
   "cell_type": "code",
   "execution_count": null,
   "metadata": {},
   "outputs": [
    {
     "data": {
      "application/vnd.plotly.v1+json": {
       "config": {
        "plotlyServerURL": "https://plot.ly"
       },
       "data": [
        {
         "domain": {
          "x": [
           0,
           0.4
          ],
          "y": [
           0,
           1
          ]
         },
         "mode": "gauge+number",
         "title": {
          "text": "Speed 1"
         },
         "type": "indicator",
         "value": 400
        },
        {
         "domain": {
          "x": [
           0.6,
           1
          ],
          "y": [
           0,
           1
          ]
         },
         "mode": "gauge+number",
         "title": {
          "text": "Speed 2"
         },
         "type": "indicator",
         "value": 250
        }
       ],
       "layout": {
        "autosize": false,
        "height": 600,
        "template": {
         "data": {
          "bar": [
           {
            "error_x": {
             "color": "#2a3f5f"
            },
            "error_y": {
             "color": "#2a3f5f"
            },
            "marker": {
             "line": {
              "color": "#E5ECF6",
              "width": 0.5
             },
             "pattern": {
              "fillmode": "overlay",
              "size": 10,
              "solidity": 0.2
             }
            },
            "type": "bar"
           }
          ],
          "barpolar": [
           {
            "marker": {
             "line": {
              "color": "#E5ECF6",
              "width": 0.5
             },
             "pattern": {
              "fillmode": "overlay",
              "size": 10,
              "solidity": 0.2
             }
            },
            "type": "barpolar"
           }
          ],
          "carpet": [
           {
            "aaxis": {
             "endlinecolor": "#2a3f5f",
             "gridcolor": "white",
             "linecolor": "white",
             "minorgridcolor": "white",
             "startlinecolor": "#2a3f5f"
            },
            "baxis": {
             "endlinecolor": "#2a3f5f",
             "gridcolor": "white",
             "linecolor": "white",
             "minorgridcolor": "white",
             "startlinecolor": "#2a3f5f"
            },
            "type": "carpet"
           }
          ],
          "choropleth": [
           {
            "colorbar": {
             "outlinewidth": 0,
             "ticks": ""
            },
            "type": "choropleth"
           }
          ],
          "contour": [
           {
            "colorbar": {
             "outlinewidth": 0,
             "ticks": ""
            },
            "colorscale": [
             [
              0,
              "#0d0887"
             ],
             [
              0.1111111111111111,
              "#46039f"
             ],
             [
              0.2222222222222222,
              "#7201a8"
             ],
             [
              0.3333333333333333,
              "#9c179e"
             ],
             [
              0.4444444444444444,
              "#bd3786"
             ],
             [
              0.5555555555555556,
              "#d8576b"
             ],
             [
              0.6666666666666666,
              "#ed7953"
             ],
             [
              0.7777777777777778,
              "#fb9f3a"
             ],
             [
              0.8888888888888888,
              "#fdca26"
             ],
             [
              1,
              "#f0f921"
             ]
            ],
            "type": "contour"
           }
          ],
          "contourcarpet": [
           {
            "colorbar": {
             "outlinewidth": 0,
             "ticks": ""
            },
            "type": "contourcarpet"
           }
          ],
          "heatmap": [
           {
            "colorbar": {
             "outlinewidth": 0,
             "ticks": ""
            },
            "colorscale": [
             [
              0,
              "#0d0887"
             ],
             [
              0.1111111111111111,
              "#46039f"
             ],
             [
              0.2222222222222222,
              "#7201a8"
             ],
             [
              0.3333333333333333,
              "#9c179e"
             ],
             [
              0.4444444444444444,
              "#bd3786"
             ],
             [
              0.5555555555555556,
              "#d8576b"
             ],
             [
              0.6666666666666666,
              "#ed7953"
             ],
             [
              0.7777777777777778,
              "#fb9f3a"
             ],
             [
              0.8888888888888888,
              "#fdca26"
             ],
             [
              1,
              "#f0f921"
             ]
            ],
            "type": "heatmap"
           }
          ],
          "heatmapgl": [
           {
            "colorbar": {
             "outlinewidth": 0,
             "ticks": ""
            },
            "colorscale": [
             [
              0,
              "#0d0887"
             ],
             [
              0.1111111111111111,
              "#46039f"
             ],
             [
              0.2222222222222222,
              "#7201a8"
             ],
             [
              0.3333333333333333,
              "#9c179e"
             ],
             [
              0.4444444444444444,
              "#bd3786"
             ],
             [
              0.5555555555555556,
              "#d8576b"
             ],
             [
              0.6666666666666666,
              "#ed7953"
             ],
             [
              0.7777777777777778,
              "#fb9f3a"
             ],
             [
              0.8888888888888888,
              "#fdca26"
             ],
             [
              1,
              "#f0f921"
             ]
            ],
            "type": "heatmapgl"
           }
          ],
          "histogram": [
           {
            "marker": {
             "pattern": {
              "fillmode": "overlay",
              "size": 10,
              "solidity": 0.2
             }
            },
            "type": "histogram"
           }
          ],
          "histogram2d": [
           {
            "colorbar": {
             "outlinewidth": 0,
             "ticks": ""
            },
            "colorscale": [
             [
              0,
              "#0d0887"
             ],
             [
              0.1111111111111111,
              "#46039f"
             ],
             [
              0.2222222222222222,
              "#7201a8"
             ],
             [
              0.3333333333333333,
              "#9c179e"
             ],
             [
              0.4444444444444444,
              "#bd3786"
             ],
             [
              0.5555555555555556,
              "#d8576b"
             ],
             [
              0.6666666666666666,
              "#ed7953"
             ],
             [
              0.7777777777777778,
              "#fb9f3a"
             ],
             [
              0.8888888888888888,
              "#fdca26"
             ],
             [
              1,
              "#f0f921"
             ]
            ],
            "type": "histogram2d"
           }
          ],
          "histogram2dcontour": [
           {
            "colorbar": {
             "outlinewidth": 0,
             "ticks": ""
            },
            "colorscale": [
             [
              0,
              "#0d0887"
             ],
             [
              0.1111111111111111,
              "#46039f"
             ],
             [
              0.2222222222222222,
              "#7201a8"
             ],
             [
              0.3333333333333333,
              "#9c179e"
             ],
             [
              0.4444444444444444,
              "#bd3786"
             ],
             [
              0.5555555555555556,
              "#d8576b"
             ],
             [
              0.6666666666666666,
              "#ed7953"
             ],
             [
              0.7777777777777778,
              "#fb9f3a"
             ],
             [
              0.8888888888888888,
              "#fdca26"
             ],
             [
              1,
              "#f0f921"
             ]
            ],
            "type": "histogram2dcontour"
           }
          ],
          "mesh3d": [
           {
            "colorbar": {
             "outlinewidth": 0,
             "ticks": ""
            },
            "type": "mesh3d"
           }
          ],
          "parcoords": [
           {
            "line": {
             "colorbar": {
              "outlinewidth": 0,
              "ticks": ""
             }
            },
            "type": "parcoords"
           }
          ],
          "pie": [
           {
            "automargin": true,
            "type": "pie"
           }
          ],
          "scatter": [
           {
            "marker": {
             "colorbar": {
              "outlinewidth": 0,
              "ticks": ""
             }
            },
            "type": "scatter"
           }
          ],
          "scatter3d": [
           {
            "line": {
             "colorbar": {
              "outlinewidth": 0,
              "ticks": ""
             }
            },
            "marker": {
             "colorbar": {
              "outlinewidth": 0,
              "ticks": ""
             }
            },
            "type": "scatter3d"
           }
          ],
          "scattercarpet": [
           {
            "marker": {
             "colorbar": {
              "outlinewidth": 0,
              "ticks": ""
             }
            },
            "type": "scattercarpet"
           }
          ],
          "scattergeo": [
           {
            "marker": {
             "colorbar": {
              "outlinewidth": 0,
              "ticks": ""
             }
            },
            "type": "scattergeo"
           }
          ],
          "scattergl": [
           {
            "marker": {
             "colorbar": {
              "outlinewidth": 0,
              "ticks": ""
             }
            },
            "type": "scattergl"
           }
          ],
          "scattermapbox": [
           {
            "marker": {
             "colorbar": {
              "outlinewidth": 0,
              "ticks": ""
             }
            },
            "type": "scattermapbox"
           }
          ],
          "scatterpolar": [
           {
            "marker": {
             "colorbar": {
              "outlinewidth": 0,
              "ticks": ""
             }
            },
            "type": "scatterpolar"
           }
          ],
          "scatterpolargl": [
           {
            "marker": {
             "colorbar": {
              "outlinewidth": 0,
              "ticks": ""
             }
            },
            "type": "scatterpolargl"
           }
          ],
          "scatterternary": [
           {
            "marker": {
             "colorbar": {
              "outlinewidth": 0,
              "ticks": ""
             }
            },
            "type": "scatterternary"
           }
          ],
          "surface": [
           {
            "colorbar": {
             "outlinewidth": 0,
             "ticks": ""
            },
            "colorscale": [
             [
              0,
              "#0d0887"
             ],
             [
              0.1111111111111111,
              "#46039f"
             ],
             [
              0.2222222222222222,
              "#7201a8"
             ],
             [
              0.3333333333333333,
              "#9c179e"
             ],
             [
              0.4444444444444444,
              "#bd3786"
             ],
             [
              0.5555555555555556,
              "#d8576b"
             ],
             [
              0.6666666666666666,
              "#ed7953"
             ],
             [
              0.7777777777777778,
              "#fb9f3a"
             ],
             [
              0.8888888888888888,
              "#fdca26"
             ],
             [
              1,
              "#f0f921"
             ]
            ],
            "type": "surface"
           }
          ],
          "table": [
           {
            "cells": {
             "fill": {
              "color": "#EBF0F8"
             },
             "line": {
              "color": "white"
             }
            },
            "header": {
             "fill": {
              "color": "#C8D4E3"
             },
             "line": {
              "color": "white"
             }
            },
            "type": "table"
           }
          ]
         },
         "layout": {
          "annotationdefaults": {
           "arrowcolor": "#2a3f5f",
           "arrowhead": 0,
           "arrowwidth": 1
          },
          "autotypenumbers": "strict",
          "coloraxis": {
           "colorbar": {
            "outlinewidth": 0,
            "ticks": ""
           }
          },
          "colorscale": {
           "diverging": [
            [
             0,
             "#8e0152"
            ],
            [
             0.1,
             "#c51b7d"
            ],
            [
             0.2,
             "#de77ae"
            ],
            [
             0.3,
             "#f1b6da"
            ],
            [
             0.4,
             "#fde0ef"
            ],
            [
             0.5,
             "#f7f7f7"
            ],
            [
             0.6,
             "#e6f5d0"
            ],
            [
             0.7,
             "#b8e186"
            ],
            [
             0.8,
             "#7fbc41"
            ],
            [
             0.9,
             "#4d9221"
            ],
            [
             1,
             "#276419"
            ]
           ],
           "sequential": [
            [
             0,
             "#0d0887"
            ],
            [
             0.1111111111111111,
             "#46039f"
            ],
            [
             0.2222222222222222,
             "#7201a8"
            ],
            [
             0.3333333333333333,
             "#9c179e"
            ],
            [
             0.4444444444444444,
             "#bd3786"
            ],
            [
             0.5555555555555556,
             "#d8576b"
            ],
            [
             0.6666666666666666,
             "#ed7953"
            ],
            [
             0.7777777777777778,
             "#fb9f3a"
            ],
            [
             0.8888888888888888,
             "#fdca26"
            ],
            [
             1,
             "#f0f921"
            ]
           ],
           "sequentialminus": [
            [
             0,
             "#0d0887"
            ],
            [
             0.1111111111111111,
             "#46039f"
            ],
            [
             0.2222222222222222,
             "#7201a8"
            ],
            [
             0.3333333333333333,
             "#9c179e"
            ],
            [
             0.4444444444444444,
             "#bd3786"
            ],
            [
             0.5555555555555556,
             "#d8576b"
            ],
            [
             0.6666666666666666,
             "#ed7953"
            ],
            [
             0.7777777777777778,
             "#fb9f3a"
            ],
            [
             0.8888888888888888,
             "#fdca26"
            ],
            [
             1,
             "#f0f921"
            ]
           ]
          },
          "colorway": [
           "#636efa",
           "#EF553B",
           "#00cc96",
           "#ab63fa",
           "#FFA15A",
           "#19d3f3",
           "#FF6692",
           "#B6E880",
           "#FF97FF",
           "#FECB52"
          ],
          "font": {
           "color": "#2a3f5f"
          },
          "geo": {
           "bgcolor": "white",
           "lakecolor": "white",
           "landcolor": "#E5ECF6",
           "showlakes": true,
           "showland": true,
           "subunitcolor": "white"
          },
          "hoverlabel": {
           "align": "left"
          },
          "hovermode": "closest",
          "mapbox": {
           "style": "light"
          },
          "paper_bgcolor": "white",
          "plot_bgcolor": "#E5ECF6",
          "polar": {
           "angularaxis": {
            "gridcolor": "white",
            "linecolor": "white",
            "ticks": ""
           },
           "bgcolor": "#E5ECF6",
           "radialaxis": {
            "gridcolor": "white",
            "linecolor": "white",
            "ticks": ""
           }
          },
          "scene": {
           "xaxis": {
            "backgroundcolor": "#E5ECF6",
            "gridcolor": "white",
            "gridwidth": 2,
            "linecolor": "white",
            "showbackground": true,
            "ticks": "",
            "zerolinecolor": "white"
           },
           "yaxis": {
            "backgroundcolor": "#E5ECF6",
            "gridcolor": "white",
            "gridwidth": 2,
            "linecolor": "white",
            "showbackground": true,
            "ticks": "",
            "zerolinecolor": "white"
           },
           "zaxis": {
            "backgroundcolor": "#E5ECF6",
            "gridcolor": "white",
            "gridwidth": 2,
            "linecolor": "white",
            "showbackground": true,
            "ticks": "",
            "zerolinecolor": "white"
           }
          },
          "shapedefaults": {
           "line": {
            "color": "#2a3f5f"
           }
          },
          "ternary": {
           "aaxis": {
            "gridcolor": "white",
            "linecolor": "white",
            "ticks": ""
           },
           "baxis": {
            "gridcolor": "white",
            "linecolor": "white",
            "ticks": ""
           },
           "bgcolor": "#E5ECF6",
           "caxis": {
            "gridcolor": "white",
            "linecolor": "white",
            "ticks": ""
           }
          },
          "title": {
           "x": 0.05
          },
          "xaxis": {
           "automargin": true,
           "gridcolor": "white",
           "linecolor": "white",
           "ticks": "",
           "title": {
            "standoff": 15
           },
           "zerolinecolor": "white",
           "zerolinewidth": 2
          },
          "yaxis": {
           "automargin": true,
           "gridcolor": "white",
           "linecolor": "white",
           "ticks": "",
           "title": {
            "standoff": 15
           },
           "zerolinecolor": "white",
           "zerolinewidth": 2
          }
         }
        },
        "title": {
         "text": "Side by side gauge diagrams"
        },
        "width": 600
       }
      }
     },
     "metadata": {},
     "output_type": "display_data"
    }
   ],
   "source": [
    "import plotly.graph_objs as go\n",
    "\n",
    "# traces with separate domains to form a subplot\n",
    "trace1 = go.Indicator(mode=\"gauge+number\",    value=400,    domain={'x': [0.0, 0.4], 'y': [0.0, 1]},    title={'text': \"Speed 1\"})\n",
    "\n",
    "trace2 = go.Indicator(mode=\"gauge+number\",    value=250,    domain={'x': [0.6, 1.0], 'y': [0., 1.00]},    title={'text': \"Speed 2\"})\n",
    "\n",
    "# layout and figure production\n",
    "layout = go.Layout(height = 600,\n",
    "                   width = 600,\n",
    "                   autosize = False,\n",
    "                   title = 'Side by side gauge diagrams')\n",
    "fig = go.Figure(data = [trace1, trace2], layout = layout)\n",
    "fig"
   ]
  },
  {
   "cell_type": "markdown",
   "metadata": {},
   "source": [
    "Geopandas with plotly with Jupyter with conda with Python 3.10 is currently an impossibility. 3.9 seems like probably an impossibility, too. At least with conda, via conda-forge of conda channels or pip. Tried several fresh environments."
   ]
  },
  {
   "cell_type": "code",
   "execution_count": null,
   "metadata": {},
   "outputs": [],
   "source": [
    "# px.choropleth(df_newest,  locations='fips', color='cases_avg_per_100k', scope='usa'  )\n",
    "# %pip install plotly-geo pyshp\n",
    "# %pip install shapely"
   ]
  },
  {
   "cell_type": "code",
   "execution_count": null,
   "metadata": {},
   "outputs": [],
   "source": [
    "# import plotly.figure_factory as ff\n",
    "\n",
    "# ff.create_choropleth(fips=df_newest['fips'], values=df_newest['cases_avg_per_100k'])"
   ]
  },
  {
   "cell_type": "code",
   "execution_count": null,
   "metadata": {},
   "outputs": [],
   "source": [
    "# %conda install plotly -c conda-forge\n",
    "# %conda install -c plotly plotly-geo\n",
    "# %conda install geopandas -c conda-forge "
   ]
  },
  {
   "cell_type": "markdown",
   "metadata": {},
   "source": []
  }
 ],
 "metadata": {
  "interpreter": {
   "hash": "997322c55b62044d17d68324b2353aa24fa87c7ec57cd3dff801aafb36bfa8a9"
  },
  "kernelspec": {
   "display_name": "Python 3.9.7 64-bit ('base': conda)",
   "language": "python",
   "name": "python3"
  },
  "language_info": {
   "codemirror_mode": {
    "name": "ipython",
    "version": 3
   },
   "file_extension": ".py",
   "mimetype": "text/x-python",
   "name": "python",
   "nbconvert_exporter": "python",
   "pygments_lexer": "ipython3",
   "version": "3.9.7"
  },
  "orig_nbformat": 4
 },
 "nbformat": 4,
 "nbformat_minor": 2
}
