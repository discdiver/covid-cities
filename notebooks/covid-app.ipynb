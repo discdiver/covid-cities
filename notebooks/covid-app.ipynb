{
 "cells": [
  {
   "cell_type": "markdown",
   "metadata": {},
   "source": [
    "# Covid App\n",
    "## Notebook 2\n",
    "Jeff Hale\n",
    "\n",
    "- Read in the data from file (could be db in past)\n",
    "- Gonna make sure we have just the data we need and push this into a Streamlit app.\n",
    "- The app will show a map and a line plot with default values.\n",
    "- The user can choose a number of counties (cities in a few New England cases) \n",
    "- Will convert into a script when working.\n"
   ]
  },
  {
   "cell_type": "markdown",
   "metadata": {},
   "source": [
    "Imports"
   ]
  },
  {
   "cell_type": "code",
   "execution_count": 2,
   "metadata": {},
   "outputs": [],
   "source": [
    "import pandas as pd"
   ]
  },
  {
   "cell_type": "code",
   "execution_count": 3,
   "metadata": {},
   "outputs": [
    {
     "data": {
      "text/html": [
       "<div>\n",
       "<style scoped>\n",
       "    .dataframe tbody tr th:only-of-type {\n",
       "        vertical-align: middle;\n",
       "    }\n",
       "\n",
       "    .dataframe tbody tr th {\n",
       "        vertical-align: top;\n",
       "    }\n",
       "\n",
       "    .dataframe thead th {\n",
       "        text-align: right;\n",
       "    }\n",
       "</style>\n",
       "<table border=\"1\" class=\"dataframe\">\n",
       "  <thead>\n",
       "    <tr style=\"text-align: right;\">\n",
       "      <th></th>\n",
       "      <th>date</th>\n",
       "      <th>geoid</th>\n",
       "      <th>county</th>\n",
       "      <th>state</th>\n",
       "      <th>cases</th>\n",
       "      <th>cases_avg</th>\n",
       "      <th>cases_avg_per_100k</th>\n",
       "      <th>deaths</th>\n",
       "      <th>deaths_avg</th>\n",
       "      <th>deaths_avg_per_100k</th>\n",
       "      <th>fips</th>\n",
       "    </tr>\n",
       "  </thead>\n",
       "  <tbody>\n",
       "    <tr>\n",
       "      <th>0</th>\n",
       "      <td>2021-01-01</td>\n",
       "      <td>USA-72999</td>\n",
       "      <td>Unknown</td>\n",
       "      <td>Puerto Rico</td>\n",
       "      <td>-17</td>\n",
       "      <td>35.29</td>\n",
       "      <td>NaN</td>\n",
       "      <td>0</td>\n",
       "      <td>0.00</td>\n",
       "      <td>NaN</td>\n",
       "      <td>72999</td>\n",
       "    </tr>\n",
       "    <tr>\n",
       "      <th>1</th>\n",
       "      <td>2021-01-01</td>\n",
       "      <td>USA-72153</td>\n",
       "      <td>Yauco</td>\n",
       "      <td>Puerto Rico</td>\n",
       "      <td>4</td>\n",
       "      <td>3.00</td>\n",
       "      <td>8.86</td>\n",
       "      <td>0</td>\n",
       "      <td>0.00</td>\n",
       "      <td>0.00</td>\n",
       "      <td>72153</td>\n",
       "    </tr>\n",
       "    <tr>\n",
       "      <th>2</th>\n",
       "      <td>2021-01-01</td>\n",
       "      <td>USA-72151</td>\n",
       "      <td>Yabucoa</td>\n",
       "      <td>Puerto Rico</td>\n",
       "      <td>10</td>\n",
       "      <td>7.29</td>\n",
       "      <td>22.66</td>\n",
       "      <td>0</td>\n",
       "      <td>0.00</td>\n",
       "      <td>0.00</td>\n",
       "      <td>72151</td>\n",
       "    </tr>\n",
       "    <tr>\n",
       "      <th>3</th>\n",
       "      <td>2021-01-01</td>\n",
       "      <td>USA-72149</td>\n",
       "      <td>Villalba</td>\n",
       "      <td>Puerto Rico</td>\n",
       "      <td>8</td>\n",
       "      <td>2.43</td>\n",
       "      <td>11.31</td>\n",
       "      <td>0</td>\n",
       "      <td>0.00</td>\n",
       "      <td>0.00</td>\n",
       "      <td>72149</td>\n",
       "    </tr>\n",
       "    <tr>\n",
       "      <th>4</th>\n",
       "      <td>2021-01-01</td>\n",
       "      <td>USA-72147</td>\n",
       "      <td>Vieques</td>\n",
       "      <td>Puerto Rico</td>\n",
       "      <td>0</td>\n",
       "      <td>1.00</td>\n",
       "      <td>11.96</td>\n",
       "      <td>0</td>\n",
       "      <td>0.00</td>\n",
       "      <td>0.00</td>\n",
       "      <td>72147</td>\n",
       "    </tr>\n",
       "    <tr>\n",
       "      <th>...</th>\n",
       "      <td>...</td>\n",
       "      <td>...</td>\n",
       "      <td>...</td>\n",
       "      <td>...</td>\n",
       "      <td>...</td>\n",
       "      <td>...</td>\n",
       "      <td>...</td>\n",
       "      <td>...</td>\n",
       "      <td>...</td>\n",
       "      <td>...</td>\n",
       "      <td>...</td>\n",
       "    </tr>\n",
       "    <tr>\n",
       "      <th>1355314</th>\n",
       "      <td>2022-02-20</td>\n",
       "      <td>USA-69110</td>\n",
       "      <td>Saipan</td>\n",
       "      <td>Northern Mariana Islands</td>\n",
       "      <td>0</td>\n",
       "      <td>0.00</td>\n",
       "      <td>0.00</td>\n",
       "      <td>0</td>\n",
       "      <td>0.00</td>\n",
       "      <td>0.00</td>\n",
       "      <td>69110</td>\n",
       "    </tr>\n",
       "    <tr>\n",
       "      <th>1355315</th>\n",
       "      <td>2022-02-20</td>\n",
       "      <td>USA-69100</td>\n",
       "      <td>Rota</td>\n",
       "      <td>Northern Mariana Islands</td>\n",
       "      <td>0</td>\n",
       "      <td>0.00</td>\n",
       "      <td>0.00</td>\n",
       "      <td>0</td>\n",
       "      <td>0.00</td>\n",
       "      <td>0.00</td>\n",
       "      <td>69100</td>\n",
       "    </tr>\n",
       "    <tr>\n",
       "      <th>1355316</th>\n",
       "      <td>2022-02-20</td>\n",
       "      <td>USA-78030</td>\n",
       "      <td>St. Thomas</td>\n",
       "      <td>Virgin Islands</td>\n",
       "      <td>0</td>\n",
       "      <td>9.11</td>\n",
       "      <td>17.65</td>\n",
       "      <td>0</td>\n",
       "      <td>0.57</td>\n",
       "      <td>1.11</td>\n",
       "      <td>78030</td>\n",
       "    </tr>\n",
       "    <tr>\n",
       "      <th>1355317</th>\n",
       "      <td>2022-02-20</td>\n",
       "      <td>USA-78020</td>\n",
       "      <td>St. John</td>\n",
       "      <td>Virgin Islands</td>\n",
       "      <td>0</td>\n",
       "      <td>0.00</td>\n",
       "      <td>0.00</td>\n",
       "      <td>0</td>\n",
       "      <td>0.00</td>\n",
       "      <td>0.00</td>\n",
       "      <td>78020</td>\n",
       "    </tr>\n",
       "    <tr>\n",
       "      <th>1355318</th>\n",
       "      <td>2022-02-20</td>\n",
       "      <td>USA-78010</td>\n",
       "      <td>St. Croix</td>\n",
       "      <td>Virgin Islands</td>\n",
       "      <td>0</td>\n",
       "      <td>14.22</td>\n",
       "      <td>28.11</td>\n",
       "      <td>0</td>\n",
       "      <td>0.29</td>\n",
       "      <td>0.56</td>\n",
       "      <td>78010</td>\n",
       "    </tr>\n",
       "  </tbody>\n",
       "</table>\n",
       "<p>1355319 rows × 11 columns</p>\n",
       "</div>"
      ],
      "text/plain": [
       "               date      geoid      county                     state  cases  \\\n",
       "0        2021-01-01  USA-72999     Unknown               Puerto Rico    -17   \n",
       "1        2021-01-01  USA-72153       Yauco               Puerto Rico      4   \n",
       "2        2021-01-01  USA-72151     Yabucoa               Puerto Rico     10   \n",
       "3        2021-01-01  USA-72149    Villalba               Puerto Rico      8   \n",
       "4        2021-01-01  USA-72147     Vieques               Puerto Rico      0   \n",
       "...             ...        ...         ...                       ...    ...   \n",
       "1355314  2022-02-20  USA-69110      Saipan  Northern Mariana Islands      0   \n",
       "1355315  2022-02-20  USA-69100        Rota  Northern Mariana Islands      0   \n",
       "1355316  2022-02-20  USA-78030  St. Thomas            Virgin Islands      0   \n",
       "1355317  2022-02-20  USA-78020    St. John            Virgin Islands      0   \n",
       "1355318  2022-02-20  USA-78010   St. Croix            Virgin Islands      0   \n",
       "\n",
       "         cases_avg  cases_avg_per_100k  deaths  deaths_avg  \\\n",
       "0            35.29                 NaN       0        0.00   \n",
       "1             3.00                8.86       0        0.00   \n",
       "2             7.29               22.66       0        0.00   \n",
       "3             2.43               11.31       0        0.00   \n",
       "4             1.00               11.96       0        0.00   \n",
       "...            ...                 ...     ...         ...   \n",
       "1355314       0.00                0.00       0        0.00   \n",
       "1355315       0.00                0.00       0        0.00   \n",
       "1355316       9.11               17.65       0        0.57   \n",
       "1355317       0.00                0.00       0        0.00   \n",
       "1355318      14.22               28.11       0        0.29   \n",
       "\n",
       "         deaths_avg_per_100k   fips  \n",
       "0                        NaN  72999  \n",
       "1                       0.00  72153  \n",
       "2                       0.00  72151  \n",
       "3                       0.00  72149  \n",
       "4                       0.00  72147  \n",
       "...                      ...    ...  \n",
       "1355314                 0.00  69110  \n",
       "1355315                 0.00  69100  \n",
       "1355316                 1.11  78030  \n",
       "1355317                 0.00  78020  \n",
       "1355318                 0.56  78010  \n",
       "\n",
       "[1355319 rows x 11 columns]"
      ]
     },
     "execution_count": 3,
     "metadata": {},
     "output_type": "execute_result"
    }
   ],
   "source": [
    "df = pd.read_feather('2021-2022-all-covid-data-through2022-02-20.feather') # read over 1.2ish years of data in .5sec\n",
    "df "
   ]
  },
  {
   "cell_type": "code",
   "execution_count": 4,
   "metadata": {},
   "outputs": [
    {
     "data": {
      "text/plain": [
       "55"
      ]
     },
     "execution_count": 4,
     "metadata": {},
     "output_type": "execute_result"
    }
   ],
   "source": [
    "df['state'].nunique()"
   ]
  },
  {
   "cell_type": "markdown",
   "metadata": {},
   "source": [
    "Get list of states"
   ]
  },
  {
   "cell_type": "code",
   "execution_count": null,
   "metadata": {},
   "outputs": [],
   "source": [
    "states = list(df['state'].unique())\n",
    "states.sort()\n",
    "states"
   ]
  },
  {
   "cell_type": "markdown",
   "metadata": {},
   "source": [
    "Make list of counties for each state \n",
    "\n",
    "Save it as json and read it in via function and cache the read. Let's do that."
   ]
  },
  {
   "cell_type": "code",
   "execution_count": null,
   "metadata": {},
   "outputs": [],
   "source": [
    "# example for a single state\n",
    "# df_ca = df.loc[df['state']=='California']\n",
    "\n",
    "# ca_counties = list(df_ca['county'].unique())\n",
    "# ca_counties"
   ]
  },
  {
   "cell_type": "code",
   "execution_count": null,
   "metadata": {},
   "outputs": [],
   "source": [
    "state_counties = {}\n",
    "\n",
    "for state in states:\n",
    "    temp_df = df.loc[df['state']==state]\n",
    "    state_counties[state] = list(temp_df['county'].unique())\n",
    "\n",
    "state_counties"
   ]
  },
  {
   "cell_type": "code",
   "execution_count": 29,
   "metadata": {},
   "outputs": [],
   "source": [
    "import json\n",
    "\n",
    "with open('../data/state_counties.json', 'w') as f:\n",
    "    f = json.dump(state_counties, f)"
   ]
  },
  {
   "cell_type": "markdown",
   "metadata": {},
   "source": [
    "Read the data back in with a function so we can cache it in Streamlit"
   ]
  },
  {
   "cell_type": "code",
   "execution_count": 31,
   "metadata": {},
   "outputs": [],
   "source": [
    "def read_counties():\n",
    "    \"\"\"\n",
    "    Read the counties information into a dictionary\n",
    "\n",
    "    \"\"\"\n",
    "\n",
    "    with open(\"../data/state_counties.json\", \"r\") as f:\n",
    "        counties_dict = json.load(f)\n"
   ]
  },
  {
   "cell_type": "code",
   "execution_count": null,
   "metadata": {},
   "outputs": [],
   "source": [
    "counties_dict"
   ]
  },
  {
   "cell_type": "code",
   "execution_count": null,
   "metadata": {},
   "outputs": [],
   "source": [
    "counties_dict.keys()"
   ]
  }
 ],
 "metadata": {
  "interpreter": {
   "hash": "395615aa8af8d2f26e3de1799e0cd2997ff9e592f664303a0516f5cfcca7b61a"
  },
  "kernelspec": {
   "display_name": "Python 3.9.7 ('base')",
   "language": "python",
   "name": "python3"
  },
  "language_info": {
   "codemirror_mode": {
    "name": "ipython",
    "version": 3
   },
   "file_extension": ".py",
   "mimetype": "text/x-python",
   "name": "python",
   "nbconvert_exporter": "python",
   "pygments_lexer": "ipython3",
   "version": "3.9.7"
  },
  "orig_nbformat": 4
 },
 "nbformat": 4,
 "nbformat_minor": 2
}
